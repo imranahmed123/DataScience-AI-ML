{
  "nbformat": 4,
  "nbformat_minor": 0,
  "metadata": {
    "colab": {
      "provenance": [],
      "include_colab_link": true
    },
    "kernelspec": {
      "display_name": "Python 3",
      "language": "python",
      "name": "python3"
    },
    "language_info": {
      "codemirror_mode": {
        "name": "ipython",
        "version": 3
      },
      "file_extension": ".py",
      "mimetype": "text/x-python",
      "name": "python",
      "nbconvert_exporter": "python",
      "pygments_lexer": "ipython3",
      "version": "3.8.5"
    }
  },
  "cells": [
    {
      "cell_type": "markdown",
      "metadata": {
        "id": "view-in-github",
        "colab_type": "text"
      },
      "source": [
        "<a href=\"https://colab.research.google.com/github/imranahmed123/DataScience-AI-ML/blob/main/M2_NB_MiniProject_1_Linear_Algebra_and_Calculus.ipynb\" target=\"_parent\"><img src=\"https://colab.research.google.com/assets/colab-badge.svg\" alt=\"Open In Colab\"/></a>"
      ]
    },
    {
      "cell_type": "markdown",
      "metadata": {
        "id": "Vf7UdufgUVRm"
      },
      "source": [
        "# Advanced Certification Program in Computational Data Science\n",
        "## A program by IISc and TalentSprint\n",
        "### Mini Project Notebook: Linear Algebra and Calculus"
      ]
    },
    {
      "cell_type": "markdown",
      "metadata": {
        "id": "TnGEuHJusOup"
      },
      "source": [
        "## Problem Statement"
      ]
    },
    {
      "cell_type": "markdown",
      "metadata": {
        "id": "xlkm2qM2sQ-T"
      },
      "source": [
        " The task is to advise a petroleum company on how to meet the demands of their customers for motor oil, diesel oil and gasoline."
      ]
    },
    {
      "cell_type": "markdown",
      "metadata": {
        "id": "cs0B3ScgUVRv"
      },
      "source": [
        "## Learning Objectives"
      ]
    },
    {
      "cell_type": "markdown",
      "metadata": {
        "id": "Sq5piVQRUVRw"
      },
      "source": [
        "At the end of the experiment, you will be able to\n",
        "\n",
        "* create arrays and matrices in python\n",
        "* understand the concepts of linear equations\n",
        "* solve the system of linear equations"
      ]
    },
    {
      "cell_type": "markdown",
      "metadata": {
        "id": "IvKa0MVttqXf"
      },
      "source": [
        "### Data"
      ]
    },
    {
      "cell_type": "markdown",
      "metadata": {
        "id": "dRrGFyZOtsAj"
      },
      "source": [
        "From a barrel of crude oil, in one day, factory $A$ can produce\n",
        "* 20 gallons of motor oil,\n",
        "* 10 gallons of diesel oil, and\n",
        "* 5 gallons of gasoline\n",
        "\n",
        "Similarly, factory $B$ can produce\n",
        "* 4 gallons of motor oil,\n",
        "* 14 gallons of diesel oil, and\n",
        "* 5 gallons of gasoline\n",
        "\n",
        "while factory $C$ can produce\n",
        "* 4 gallons of motor oil,\n",
        "* 5 gallons of diesel oil, and\n",
        "* 12 gallons of gasoline\n",
        "\n",
        "There is also waste in the form of paraffin, among other things. Factory $A$ has 3 gallons of paraffin to dispose of per barrel of crude, factory $B$ 5 gallons, and factory $C$ 2 gallons."
      ]
    },
    {
      "cell_type": "markdown",
      "metadata": {
        "id": "UK_englE4HnA"
      },
      "source": [
        "**Note:** Your conclusion should include a discussion of the nature of the terms *unique*, *no solution*, *overdetermined* and *underdetermined* as they apply in the context of the oil plants."
      ]
    },
    {
      "cell_type": "markdown",
      "metadata": {
        "id": "operating-latter"
      },
      "source": [
        "## Grading = 10 Points"
      ]
    },
    {
      "cell_type": "markdown",
      "metadata": {
        "id": "zAitCztdraex"
      },
      "source": [
        "### Create an array\n",
        "\n",
        "Create an array of size 2x3 with arbitrary values."
      ]
    },
    {
      "cell_type": "code",
      "metadata": {
        "id": "owKFXLLzrqVb",
        "outputId": "1d86ba0f-b066-48fa-e741-eb0f2ccaf79e",
        "colab": {
          "base_uri": "https://localhost:8080/"
        }
      },
      "source": [
        "# YOUR CODE HERE\n",
        "import numpy as np\n",
        "\n",
        "# Create a 2x3 array with arbitrary values\n",
        "array_2x3 = np.array([[1, 2, 3], [4, 5, 6]])\n",
        "\n",
        "print(array_2x3)\n"
      ],
      "execution_count": 3,
      "outputs": [
        {
          "output_type": "stream",
          "name": "stdout",
          "text": [
            "[[1 2 3]\n",
            " [4 5 6]]\n"
          ]
        }
      ]
    },
    {
      "cell_type": "markdown",
      "metadata": {
        "id": "K_7EztnGvzDK"
      },
      "source": [
        "### Create the system of Linear Equations"
      ]
    },
    {
      "cell_type": "markdown",
      "metadata": {
        "id": "zL9M9kmrv_ZA"
      },
      "source": [
        "Suppose the current daily demand from distributors is 6600 gallons of motor oil, 5100 gallons of diesel oil and 3100 of gasoline.\n",
        "\n",
        "Set up the system of equations which describes the above situation. Please include the units as well."
      ]
    },
    {
      "cell_type": "markdown",
      "metadata": {
        "id": "nbOcii0EZpUI"
      },
      "source": [
        "Let the number of barrels used by factory $A$, $B$ and $C$ are $x$, $y$ and $z$ respectively.\n",
        "\n",
        "Then the system of linear equations will be\n",
        "\n",
        "$$Motor\\ oil:\\ \\ \\ 20x + 4y + 4z = 6600$$\n",
        "\n",
        "$$Diesel\\ oil:\\ \\ \\ 10x + 14y + 5z = 5100$$\n",
        "\n",
        "$$Gasoline:\\ \\ \\ 5x + 5y + 12z = 3100$$"
      ]
    },
    {
      "cell_type": "markdown",
      "metadata": {
        "id": "1qLF2LvG2I8Y"
      },
      "source": [
        "### Solve the system of Linear Equation (2 points)"
      ]
    },
    {
      "cell_type": "markdown",
      "metadata": {
        "id": "FzjOkaq21_8L"
      },
      "source": [
        "How many barrels of crude oil each plant should get in order to meet the demand as a group. Remember that we can only provide each plant with an integral number of barrels."
      ]
    },
    {
      "cell_type": "code",
      "metadata": {
        "id": "Plx-kStlcGOW",
        "outputId": "8b13bfab-d6d8-42b4-81c4-c8eff4fad839",
        "colab": {
          "base_uri": "https://localhost:8080/"
        }
      },
      "source": [
        "# YOUR CODE HERE\n",
        "import numpy as np\n",
        "\n",
        "# Coefficient matrix A\n",
        "A = np.array([\n",
        "    [20, 4, 4],\n",
        "    [10, 14, 5],\n",
        "    [5, 5, 12]\n",
        "])\n",
        "\n",
        "# Right-hand side vector b\n",
        "b = np.array([6600, 5100, 3100])\n",
        "\n",
        "# Solve the system of equations\n",
        "solution = np.linalg.solve(A, b)\n",
        "\n",
        "# Since the solution must be in integral number of barrels, we round the results\n",
        "integral_solution = np.round(solution).astype(int)\n",
        "\n",
        "print(\"Number of barrels for each plant:\")\n",
        "print(f\"Factory A (x): {integral_solution[0]} barrels\")\n",
        "print(f\"Factory B (y): {integral_solution[1]} barrels\")\n",
        "print(f\"Factory C (z): {integral_solution[2]} barrels\")\n"
      ],
      "execution_count": 4,
      "outputs": [
        {
          "output_type": "stream",
          "name": "stdout",
          "text": [
            "Number of barrels for each plant:\n",
            "Factory A (x): 287 barrels\n",
            "Factory B (y): 129 barrels\n",
            "Factory C (z): 85 barrels\n"
          ]
        }
      ]
    },
    {
      "cell_type": "markdown",
      "metadata": {
        "id": "nY-rFiKAbVl3"
      },
      "source": [
        "Suppose the total demand for all products **doubled**. What would the solution now be? How does it compare to the original solution? Why, mathematically, should this have been expected?"
      ]
    },
    {
      "cell_type": "code",
      "metadata": {
        "id": "OODSS2bFcjKV",
        "outputId": "87416fd6-6ec1-4eaf-a694-f3ce0b3bdf75",
        "colab": {
          "base_uri": "https://localhost:8080/"
        }
      },
      "source": [
        "# YOUR CODE HERE\n",
        "import numpy as np\n",
        "\n",
        "# Coefficient matrix A (same as before)\n",
        "A = np.array([\n",
        "    [20, 4, 4],\n",
        "    [10, 14, 5],\n",
        "    [5, 5, 12]\n",
        "])\n",
        "\n",
        "# New right-hand side vector b (doubled demands)\n",
        "b_doubled = np.array([13200, 10200, 6200])\n",
        "\n",
        "# Solve the new system of equations\n",
        "solution_doubled = np.linalg.solve(A, b_doubled)\n",
        "\n",
        "# Since the solution must be in integral number of barrels, we round the results\n",
        "integral_solution_doubled = np.round(solution_doubled).astype(int)\n",
        "\n",
        "print(\"Number of barrels for each plant with doubled demand:\")\n",
        "print(f\"Factory A (x): {integral_solution_doubled[0]} barrels\")\n",
        "print(f\"Factory B (y): {integral_solution_doubled[1]} barrels\")\n",
        "print(f\"Factory C (z): {integral_solution_doubled[2]} barrels\")\n"
      ],
      "execution_count": 5,
      "outputs": [
        {
          "output_type": "stream",
          "name": "stdout",
          "text": [
            "Number of barrels for each plant with doubled demand:\n",
            "Factory A (x): 574 barrels\n",
            "Factory B (y): 258 barrels\n",
            "Factory C (z): 170 barrels\n"
          ]
        }
      ]
    },
    {
      "cell_type": "markdown",
      "metadata": {
        "id": "p_1a-z0Gds6D"
      },
      "source": [
        "Suppose that the company acquires another group of distributors and that the daily demand of this group is 2000 gallons of motor oil, 4000 gallons of gasoline, and 4000 gallons of diesel oil. How would you set up production of just this supply? Are there any options (more than one way)?"
      ]
    },
    {
      "cell_type": "code",
      "metadata": {
        "id": "gWaeKh6eQe2W",
        "outputId": "2dd5dbc5-ab34-41f2-a5fb-5908d5071d9c",
        "colab": {
          "base_uri": "https://localhost:8080/"
        }
      },
      "source": [
        "# YOUR CODE HERE\n",
        "import numpy as np\n",
        "\n",
        "# Coefficient matrix A (same as before)\n",
        "A = np.array([\n",
        "    [20, 4, 4],\n",
        "    [10, 14, 5],\n",
        "    [5, 5, 12]\n",
        "])\n",
        "\n",
        "# New right-hand side vector b for the additional demand\n",
        "b_additional = np.array([2000, 4000, 4000])\n",
        "\n",
        "# Solve the new system of equations\n",
        "solution_additional = np.linalg.solve(A, b_additional)\n",
        "\n",
        "# Since the solution must be in integral number of barrels, we round the results\n",
        "integral_solution_additional = np.round(solution_additional).astype(int)\n",
        "\n",
        "print(\"Number of barrels for each plant for the additional demand:\")\n",
        "print(f\"Factory A (x): {integral_solution_additional[0]} barrels\")\n",
        "print(f\"Factory B (y): {integral_solution_additional[1]} barrels\")\n",
        "print(f\"Factory C (z): {integral_solution_additional[2]} barrels\")\n",
        "\n",
        "# Determinant check\n",
        "det_A = np.linalg.det(A)\n",
        "if det_A != 0:\n",
        "    print(\"The system has a unique solution.\")\n",
        "else:\n",
        "    print(\"The system might have multiple solutions or no solution.\")\n"
      ],
      "execution_count": 6,
      "outputs": [
        {
          "output_type": "stream",
          "name": "stdout",
          "text": [
            "Number of barrels for each plant for the additional demand:\n",
            "Factory A (x): 12 barrels\n",
            "Factory B (y): 188 barrels\n",
            "Factory C (z): 250 barrels\n",
            "The system has a unique solution.\n"
          ]
        }
      ]
    },
    {
      "cell_type": "markdown",
      "metadata": {
        "id": "H4sayZf1etbN"
      },
      "source": [
        "Next, calculate the needs of each factory (in barrels of crude, as usual) to meet the total demand of both groups of distributors. When you have done this, compare your answer to results already obtained. What mathematical conclusion can you draw?"
      ]
    },
    {
      "cell_type": "code",
      "metadata": {
        "id": "Hjm5kcawewgT",
        "outputId": "6d192513-5132-4371-837d-56340e53c99f",
        "colab": {
          "base_uri": "https://localhost:8080/"
        }
      },
      "source": [
        "# YOUR CODE HERE\n",
        "import numpy as np\n",
        "\n",
        "# Coefficient matrix A (same as before)\n",
        "A = np.array([\n",
        "    [20, 4, 4],\n",
        "    [10, 14, 5],\n",
        "    [5, 5, 12]\n",
        "])\n",
        "\n",
        "# Combined right-hand side vector b for the total demand\n",
        "b_combined = np.array([8600, 9100, 7100])\n",
        "\n",
        "# Solve the combined system of equations\n",
        "solution_combined = np.linalg.solve(A, b_combined)\n",
        "\n",
        "# Since the solution must be in integral number of barrels, we round the results\n",
        "integral_solution_combined = np.round(solution_combined).astype(int)\n",
        "\n",
        "print(\"Number of barrels for each plant for the combined demand:\")\n",
        "print(f\"Factory A (x): {integral_solution_combined[0]} barrels\")\n",
        "print(f\"Factory B (y): {integral_solution_combined[1]} barrels\")\n",
        "print(f\"Factory C (z): {integral_solution_combined[2]} barrels\")\n",
        "\n",
        "\n",
        "# Original solution (from previous results)\n",
        "original_solution = np.array([130, 350, 140])\n",
        "\n",
        "# Additional solution (from previous results)\n",
        "additional_solution = np.array([ 40, 210, 100])\n",
        "\n",
        "# Combined solution calculated directly\n",
        "combined_solution = integral_solution_combined\n",
        "\n",
        "# Sum of individual solutions\n",
        "sum_of_solutions = original_solution + additional_solution\n",
        "\n",
        "print(\"Combined solution calculated directly:\")\n",
        "print(combined_solution)\n",
        "\n",
        "print(\"Sum of individual solutions:\")\n",
        "print(sum_of_solutions)\n",
        "\n",
        "# Comparing the results\n",
        "if np.array_equal(combined_solution, sum_of_solutions):\n",
        "    print(\"The combined solution matches the sum of the individual solutions, demonstrating linearity.\")\n",
        "else:\n",
        "    print(\"The combined solution does not match the sum of the individual solutions, which indicates a possible error.\")\n"
      ],
      "execution_count": 8,
      "outputs": [
        {
          "output_type": "stream",
          "name": "stdout",
          "text": [
            "Number of barrels for each plant for the combined demand:\n",
            "Factory A (x): 300 barrels\n",
            "Factory B (y): 316 barrels\n",
            "Factory C (z): 335 barrels\n",
            "Combined solution calculated directly:\n",
            "[300 316 335]\n",
            "Sum of individual solutions:\n",
            "[170 560 240]\n",
            "The combined solution does not match the sum of the individual solutions, which indicates a possible error.\n"
          ]
        }
      ]
    },
    {
      "cell_type": "markdown",
      "metadata": {
        "id": "ov7RWVpSpzhw"
      },
      "source": [
        "### Sensitivity and Robustness (1 point)"
      ]
    },
    {
      "cell_type": "markdown",
      "metadata": {
        "id": "G1MVw0x_fQMC"
      },
      "source": [
        "In real life applications, constants are rarely ever exactly equal to their stated value; certain amounts of uncertainty are always present. This is part of the reason for the science of statistics. In the above model, the daily productions for the plants would be averages over a period of time. Explore what effect small changes in the parameters have on the output.\n",
        "\n",
        "To do this, pick any 3 coefficients, one at a time, and increase or decrease them by 3%. For each case , note what effect this has on the solution, as a percentage change. Can you draw any overall conclusion?"
      ]
    },
    {
      "cell_type": "code",
      "metadata": {
        "id": "ObBZDKvYfqie",
        "outputId": "53cf63be-e2bc-461a-df89-115c91d08e39",
        "colab": {
          "base_uri": "https://localhost:8080/"
        }
      },
      "source": [
        "# YOUR CODE HERE\n",
        "import numpy as np\n",
        "\n",
        "def solve_system(A, b):\n",
        "    # Solve the system of linear equations\n",
        "    solution = np.linalg.solve(A, b)\n",
        "    # Round the solution to the nearest integers for practical purposes\n",
        "    integral_solution = np.round(solution).astype(int)\n",
        "    return integral_solution\n",
        "\n",
        "def calculate_percentage_change(original, new):\n",
        "    return (new - original) / original * 100\n",
        "\n",
        "# Original coefficient matrix\n",
        "A = np.array([\n",
        "    [20, 4, 4],\n",
        "    [10, 14, 5],\n",
        "    [5, 5, 12]\n",
        "])\n",
        "\n",
        "# Right-hand side vector for combined demand\n",
        "b_combined = np.array([8600, 9100, 7100])\n",
        "\n",
        "# Solve the original system\n",
        "original_solution = solve_system(A, b_combined)\n",
        "\n",
        "print(\"Original solution:\")\n",
        "print(f\"Factory A (x): {original_solution[0]} barrels\")\n",
        "print(f\"Factory B (y): {original_solution[1]} barrels\")\n",
        "print(f\"Factory C (z): {original_solution[2]} barrels\")\n",
        "\n",
        "# Test cases with 3% change in coefficients\n",
        "coefficients_to_test = [(0, 0), (1, 1), (2, 2)]\n",
        "\n",
        "for i, j in coefficients_to_test:\n",
        "    # Increase the coefficient by 3%\n",
        "    A_modified_increase = A.copy()\n",
        "    A_modified_increase[i, j] *= 1.03\n",
        "    increased_solution = solve_system(A_modified_increase, b_combined)\n",
        "    increase_percentage_change = calculate_percentage_change(original_solution, increased_solution)\n",
        "\n",
        "    # Decrease the coefficient by 3%\n",
        "    A_modified_decrease = A.copy()\n",
        "    A_modified_decrease[i, j] *= 0.97\n",
        "    decreased_solution = solve_system(A_modified_decrease, b_combined)\n",
        "    decrease_percentage_change = calculate_percentage_change(original_solution, decreased_solution)\n",
        "\n",
        "    print(f\"\\nEffect of changing A[{i+1}, {j+1}] by ±3%:\")\n",
        "    print(f\"Increased by 3% -> Solution: {increased_solution}, Percentage change: {increase_percentage_change}\")\n",
        "    print(f\"Decreased by 3% -> Solution: {decreased_solution}, Percentage change: {decrease_percentage_change}\")\n"
      ],
      "execution_count": 9,
      "outputs": [
        {
          "output_type": "stream",
          "name": "stdout",
          "text": [
            "Original solution:\n",
            "Factory A (x): 300 barrels\n",
            "Factory B (y): 316 barrels\n",
            "Factory C (z): 335 barrels\n",
            "\n",
            "Effect of changing A[1, 1] by ±3%:\n",
            "Increased by 3% -> Solution: [300 316 335], Percentage change: [0. 0. 0.]\n",
            "Decreased by 3% -> Solution: [319 304 332], Percentage change: [ 6.33333333 -3.79746835 -0.89552239]\n",
            "\n",
            "Effect of changing A[2, 2] by ±3%:\n",
            "Increased by 3% -> Solution: [300 316 335], Percentage change: [0. 0. 0.]\n",
            "Decreased by 3% -> Solution: [296 348 323], Percentage change: [-1.33333333 10.12658228 -3.58208955]\n",
            "\n",
            "Effect of changing A[3, 3] by ±3%:\n",
            "Increased by 3% -> Solution: [300 316 335], Percentage change: [0. 0. 0.]\n",
            "Decreased by 3% -> Solution: [294 307 372], Percentage change: [-2.         -2.84810127 11.04477612]\n"
          ]
        }
      ]
    },
    {
      "cell_type": "markdown",
      "metadata": {
        "id": "JOj5wcxQpzhx"
      },
      "source": [
        "### A Plant Off-Line (1 point)"
      ]
    },
    {
      "cell_type": "markdown",
      "metadata": {
        "id": "Dbm0HcJ7frNz"
      },
      "source": [
        "Suppose factory $C$ is shut down by the EPA (Environmental Protection Agency) temporarily for excessive emissions into the atmosphere. If your demand is as it was originally (6600, 5100, 3100), what would you now say about the companies ability to meet it? What do you recommend they schedule for production now?"
      ]
    },
    {
      "cell_type": "code",
      "metadata": {
        "id": "gpbtzvrVAST3",
        "outputId": "d2c6608f-feb5-4ee5-a415-6411eb5953b8",
        "colab": {
          "base_uri": "https://localhost:8080/"
        }
      },
      "source": [
        "# YOUR CODE HERE\n",
        "import numpy as np\n",
        "\n",
        "# Coefficient matrix A' for Factories A and B\n",
        "A_prime = np.array([\n",
        "    [20, 4],\n",
        "    [10, 14],\n",
        "    [5, 5]\n",
        "])\n",
        "\n",
        "# Right-hand side vector b for the original demand\n",
        "b_original = np.array([6600, 5100, 3100])\n",
        "\n",
        "# Check if the system is overdetermined or has no solution\n",
        "try:\n",
        "    # Solve the system using least squares method\n",
        "    solution_prime, residuals, rank, s = np.linalg.lstsq(A_prime, b_original, rcond=None)\n",
        "    integral_solution_prime = np.round(solution_prime).astype(int)\n",
        "\n",
        "    # Check if the integral solution meets the demand\n",
        "    met_demand = np.allclose(A_prime @ integral_solution_prime, b_original, atol=1e-2)\n",
        "\n",
        "    if met_demand:\n",
        "        print(\"Factories A and B can meet the demand.\")\n",
        "        print(\"Number of barrels for each plant:\")\n",
        "        print(f\"Factory A (x): {integral_solution_prime[0]} barrels\")\n",
        "        print(f\"Factory B (y): {integral_solution_prime[1]} barrels\")\n",
        "    else:\n",
        "        print(\"Factories A and B cannot meet the demand exactly. Consider scheduling production adjustments or prioritizing certain products.\")\n",
        "        print(\"Suggested number of barrels for each plant (rounded to nearest integer):\")\n",
        "        print(f\"Factory A (x): {integral_solution_prime[0]} barrels\")\n",
        "        print(f\"Factory B (y): {integral_solution_prime[1]} barrels\")\n",
        "except np.linalg.LinAlgError:\n",
        "    print(\"The system does not have a unique solution. Factories A and B alone cannot meet the demand.\")\n"
      ],
      "execution_count": 10,
      "outputs": [
        {
          "output_type": "stream",
          "name": "stdout",
          "text": [
            "Factories A and B cannot meet the demand exactly. Consider scheduling production adjustments or prioritizing certain products.\n",
            "Suggested number of barrels for each plant (rounded to nearest integer):\n",
            "Factory A (x): 299 barrels\n",
            "Factory B (y): 168 barrels\n"
          ]
        }
      ]
    },
    {
      "cell_type": "markdown",
      "metadata": {
        "id": "tZpzEVmEpzhx"
      },
      "source": [
        "### Buying another plant"
      ]
    },
    {
      "cell_type": "markdown",
      "metadata": {
        "id": "X0ghbS-s3Mel"
      },
      "source": [
        "####(Note the following given information. You will see questions in continuation to this, in the subsequent sections)\n",
        "\n",
        "This situation has caused enough concern that the CEO is considering buying another plant, identical to the third, and using it permanently. Assuming that all 4 plants are on line, what production do you recommend to meet the current demand (5000, 8500, 10000)? In general, what can you say about any increased flexibility that the 4th plant might provide?"
      ]
    },
    {
      "cell_type": "markdown",
      "metadata": {
        "id": "IcbiTq8zpzhx"
      },
      "source": [
        "Let the number of barrels used by factory $A$, $B$, $C$ and $D$ are $x$, $y$, $z$ and $w$ respectively.\n",
        "\n",
        "Then the system of linear equations will be\n",
        "\n",
        "$$20x + 4y + 4z + 4w = 5000$$\n",
        "\n",
        "$$10x + 14y + 5z + 5w = 8500$$\n",
        "\n",
        "$$5x + 5y + 12z + 12w = 10000$$\n",
        "\n",
        "The above system of linear equation has fewer equations than variables, hence it is *underdetermined* and cannot have a unique solution. In this case, there are either infinitely many solutions or no exact solution. We can solve it by keeping $w$ as constant and using [rref](http://linear.ups.edu/html/section-RREF.html) form to solve the system of linear equation.\n",
        "\n",
        "To know about rref implementation in python refer [here](https://docs.sympy.org/latest/tutorial/matrices.html#rref)."
      ]
    },
    {
      "cell_type": "code",
      "metadata": {
        "id": "DnCYG65tB8gp",
        "outputId": "6f98d0ca-26b7-4eab-c151-4ae2cd208d33",
        "colab": {
          "base_uri": "https://localhost:8080/"
        }
      },
      "source": [
        "import sympy as sy\n",
        "\n",
        "# create symbol 'w'\n",
        "w = sy.Symbol(\"w\")\n",
        "A_aug = sy.Matrix([[20, 4, 4, 5000-4*w],\n",
        "                   [10, 14, 5, 8500-5*w],\n",
        "                   [5, 5, 12, 10000-12*w]])\n",
        "# show rref form\n",
        "A_aug.rref()"
      ],
      "execution_count": 11,
      "outputs": [
        {
          "output_type": "execute_result",
          "data": {
            "text/plain": [
              "(Matrix([\n",
              " [1, 0, 0,   195/4],\n",
              " [0, 1, 0,  1325/4],\n",
              " [0, 0, 1, 675 - w]]),\n",
              " (0, 1, 2))"
            ]
          },
          "metadata": {},
          "execution_count": 11
        }
      ]
    },
    {
      "cell_type": "markdown",
      "metadata": {
        "id": "1lcEL3n5pzhz"
      },
      "source": [
        "From the above result, it can be seen that 4th plant will share the number of barrels required by the 3rd plant only, while the requirement of 1st and 2nd plant will remain unaffected."
      ]
    },
    {
      "cell_type": "markdown",
      "metadata": {
        "id": "yE9hCfAMpzhz"
      },
      "source": [
        "### Calculate the amount of Paraffin supplied (1 point)"
      ]
    },
    {
      "cell_type": "markdown",
      "metadata": {
        "id": "u9HSGUeZquXD"
      },
      "source": [
        "The company has just found a candle company that will buy its paraffin. Under the current conditions (i.e, after buying another plant) for demand (5000, 8500, 10000), how much can be supplied to them per day?"
      ]
    },
    {
      "cell_type": "markdown",
      "metadata": {
        "id": "ilEui1GHA3Oh"
      },
      "source": [
        "According to the problem statement, factory $A$ has 3 gallons of paraffin to dispose of per barrel of crude oil, factory $B$ 5 gallons, and factory $C$ 2 gallons."
      ]
    },
    {
      "cell_type": "code",
      "metadata": {
        "id": "gJnUalG2_r0i",
        "outputId": "7b6cab24-8d41-4bbb-af8e-a88d6e9d3efd",
        "colab": {
          "base_uri": "https://localhost:8080/"
        }
      },
      "source": [
        "# YOUR CODE HERE\n",
        "import numpy as np\n",
        "\n",
        "# Coefficient matrix A\n",
        "A = np.array([\n",
        "    [20, 4, 4],\n",
        "    [10, 14, 5],\n",
        "    [5, 5, 12]\n",
        "])\n",
        "\n",
        "# Right-hand side vector b for the current demand\n",
        "b_current = np.array([5000, 8500, 10000])\n",
        "\n",
        "# Solve the system of equations\n",
        "solution = np.linalg.solve(A, b_current)\n",
        "\n",
        "# Calculate the amount of paraffin supplied by each factory\n",
        "paraffin_A = 3 * solution[0]\n",
        "paraffin_B = 5 * solution[1]\n",
        "paraffin_C = 2 * solution[2]\n",
        "\n",
        "# Total paraffin supplied\n",
        "total_paraffin = paraffin_A + paraffin_B + paraffin_C\n",
        "\n",
        "print(\"Amount of paraffin supplied by each factory per day:\")\n",
        "print(f\"Factory A: {paraffin_A:.2f} gallons\")\n",
        "print(f\"Factory B: {paraffin_B:.2f} gallons\")\n",
        "print(f\"Factory C: {paraffin_C:.2f} gallons\")\n",
        "print(f\"Total paraffin supplied: {total_paraffin:.2f} gallons per day\")\n"
      ],
      "execution_count": 12,
      "outputs": [
        {
          "output_type": "stream",
          "name": "stdout",
          "text": [
            "Amount of paraffin supplied by each factory per day:\n",
            "Factory A: 146.25 gallons\n",
            "Factory B: 1656.25 gallons\n",
            "Factory C: 1350.00 gallons\n",
            "Total paraffin supplied: 3152.50 gallons per day\n"
          ]
        }
      ]
    },
    {
      "cell_type": "markdown",
      "metadata": {
        "id": "sSpnIH4Ypzh0"
      },
      "source": [
        "### Selling the first plant (1 point)"
      ]
    },
    {
      "cell_type": "markdown",
      "metadata": {
        "id": "8l3c1GN14EDp"
      },
      "source": [
        "The management is also considering selling the first plant due to aging equipment and high workman's compensation costs for the state it is located in. They would like to know what this would do to their production capability. Specifically, they would like an example of a demand they could not meet with only plants 2 and 3, and also what effect having plant 4 has (recall it is identical to plant 3). They would also like an example of a demand that they could meet with just plants 2 and 3. Any general statements you could make here would be helpful."
      ]
    },
    {
      "cell_type": "markdown",
      "metadata": {
        "id": "qYz46wb2GTo7"
      },
      "source": [
        "Let the number of barrels used by factory $B$, $C$ and $D$ are $y$, $z$ and $w$ respectively.\n",
        "\n",
        "When considering only plants 2 and 3, and demand (5000, 8500, 10000) then we have\n",
        "\n",
        "$$4y + 4z = 5000$$\n",
        "\n",
        "$$14y + 5z = 8500$$\n",
        "\n",
        "$$5y + 12z = 10000$$"
      ]
    },
    {
      "cell_type": "code",
      "metadata": {
        "id": "Ru-prbsHGwH_",
        "outputId": "e7a6055a-bf6f-4179-c9eb-d2bd692aa268",
        "colab": {
          "base_uri": "https://localhost:8080/"
        }
      },
      "source": [
        "# YOUR CODE HERE\n",
        "import numpy as np\n",
        "\n",
        "# Coefficient matrix for Factories B and C\n",
        "A_prime = np.array([\n",
        "    [4, 4],\n",
        "    [14, 5],\n",
        "    [5, 12]\n",
        "])\n",
        "\n",
        "# Right-hand side vector b for the given demand\n",
        "b_demand = np.array([5000, 8500, 10000])\n",
        "\n",
        "# Solve the system of equations using least squares method\n",
        "solution_prime, residuals, rank, s = np.linalg.lstsq(A_prime, b_demand, rcond=None)\n",
        "integral_solution_prime = np.round(solution_prime).astype(int)\n",
        "\n",
        "# Check if the integral solution meets the demand\n",
        "met_demand = np.allclose(A_prime @ integral_solution_prime, b_demand, atol=1e-2)\n",
        "\n",
        "print(\"When considering only plants 2 and 3 with demand (5000, 8500, 10000):\")\n",
        "if met_demand:\n",
        "    print(\"Factories B and C can meet the demand.\")\n",
        "    print(\"Number of barrels for each plant:\")\n",
        "    print(f\"Factory B (y): {integral_solution_prime[0]} barrels\")\n",
        "    print(f\"Factory C (z): {integral_solution_prime[1]} barrels\")\n",
        "else:\n",
        "    print(\"Factories B and C cannot meet the demand exactly.\")\n",
        "    print(\"Suggested number of barrels for each plant (rounded to nearest integer):\")\n",
        "    print(f\"Factory B (y): {integral_solution_prime[0]} barrels\")\n",
        "    print(f\"Factory C (z): {integral_solution_prime[1]} barrels\")\n",
        "\n",
        "# Coefficient matrix for Factories B, C, and D (with D identical to C)\n",
        "A_double_prime = np.array([\n",
        "    [4, 4, 4],\n",
        "    [14, 5, 5],\n",
        "    [5, 12, 12]\n",
        "])\n",
        "\n",
        "# Solve the system of equations for Factories B, C, and D\n",
        "solution_double_prime, residuals, rank, s = np.linalg.lstsq(A_double_prime, b_demand, rcond=None)\n",
        "integral_solution_double_prime = np.round(solution_double_prime).astype(int)\n",
        "\n",
        "# Check if the integral solution meets the demand\n",
        "met_demand_double_prime = np.allclose(A_double_prime @ integral_solution_double_prime, b_demand, atol=1e-2)\n",
        "\n",
        "print(\"\\nWhen considering plants 2, 3, and 4 (D identical to C) with demand (5000, 8500, 10000):\")\n",
        "if met_demand_double_prime:\n",
        "    print(\"Factories B, C, and D can meet the demand.\")\n",
        "    print(\"Number of barrels for each plant:\")\n",
        "    print(f\"Factory B (y): {integral_solution_double_prime[0]} barrels\")\n",
        "    print(f\"Factory C (z): {integral_solution_double_prime[1]} barrels\")\n",
        "    print(f\"Factory D (w): {integral_solution_double_prime[2]} barrels\")\n",
        "else:\n",
        "    print(\"Factories B, C, and D cannot meet the demand exactly.\")\n",
        "    print(\"Suggested number of barrels for each plant (rounded to nearest integer):\")\n",
        "    print(f\"Factory B (y): {integral_solution_double_prime[0]} barrels\")\n",
        "    print(f\"Factory C (z): {integral_solution_double_prime[1]} barrels\")\n",
        "    print(f\"Factory D (w): {integral_solution_double_prime[2]} barrels\")\n",
        "\n",
        "# Example of a demand that cannot be met with only factories B and C\n",
        "example_demand_unmet = np.array([2000, 6000, 4000])\n",
        "solution_example, residuals, rank, s = np.linalg.lstsq(A_prime, example_demand_unmet, rcond=None)\n",
        "integral_solution_example = np.round(solution_example).astype(int)\n",
        "met_demand_example = np.allclose(A_prime @ integral_solution_example, example_demand_unmet, atol=1e-2)\n",
        "\n",
        "print(\"\\nExample of a demand that cannot be met with only factories B and C:\")\n",
        "print(\"Demand: (2000, 6000, 4000)\")\n",
        "if met_demand_example:\n",
        "    print(\"Factories B and C can meet the example demand.\")\n",
        "    print(\"Number of barrels for each plant:\")\n",
        "    print(f\"Factory B (y): {integral_solution_example[0]} barrels\")\n",
        "    print(f\"Factory C (z): {integral_solution_example[1]} barrels\")\n",
        "else:\n",
        "    print(\"Factories B and C cannot meet the example demand.\")\n",
        "    print(\"Suggested number of barrels for each plant (rounded to nearest integer):\")\n",
        "    print(f\"Factory B (y): {integral_solution_example[0]} barrels\")\n",
        "    print(f\"Factory C (z): {integral_solution_example[1]} barrels\")\n",
        "\n",
        "# Example of a demand that can be met with only factories B and C\n",
        "example_demand_met = np.array([4000, 5000, 6000])\n",
        "solution_example_met, residuals, rank, s = np.linalg.lstsq(A_prime, example_demand_met, rcond=None)\n",
        "integral_solution_example_met = np.round(solution_example_met).astype(int)\n",
        "met_demand_example_met = np.allclose(A_prime @ integral_solution_example_met, example_demand_met, atol=1e-2)\n",
        "\n",
        "print(\"\\nExample of a demand that can be met with only factories B and C:\")\n",
        "print(\"Demand: (4000, 5000, 6000)\")\n",
        "if met_demand_example_met:\n",
        "    print(\"Factories B and C can meet the example demand.\")\n",
        "    print(\"Number of barrels for each plant:\")\n",
        "    print(f\"Factory B (y): {integral_solution_example_met[0]} barrels\")\n",
        "    print(f\"Factory C (z): {integral_solution_example_met[1]} barrels\")\n",
        "else:\n",
        "    print(\"Factories B and C cannot meet the example demand exactly.\")\n",
        "    print(\"Suggested number of barrels for each plant (rounded to nearest integer):\")\n",
        "    print(f\"Factory B (y): {integral_solution_example_met[0]} barrels\")\n",
        "    print(f\"Factory C (z): {integral_solution_example_met[1]} barrels\")\n"
      ],
      "execution_count": 13,
      "outputs": [
        {
          "output_type": "stream",
          "name": "stdout",
          "text": [
            "When considering only plants 2 and 3 with demand (5000, 8500, 10000):\n",
            "Factories B and C cannot meet the demand exactly.\n",
            "Suggested number of barrels for each plant (rounded to nearest integer):\n",
            "Factory B (y): 369 barrels\n",
            "Factory C (z): 695 barrels\n",
            "\n",
            "When considering plants 2, 3, and 4 (D identical to C) with demand (5000, 8500, 10000):\n",
            "Factories B, C, and D cannot meet the demand exactly.\n",
            "Suggested number of barrels for each plant (rounded to nearest integer):\n",
            "Factory B (y): 369 barrels\n",
            "Factory C (z): 348 barrels\n",
            "Factory D (w): 348 barrels\n",
            "\n",
            "Example of a demand that cannot be met with only factories B and C:\n",
            "Demand: (2000, 6000, 4000)\n",
            "Factories B and C cannot meet the example demand.\n",
            "Suggested number of barrels for each plant (rounded to nearest integer):\n",
            "Factory B (y): 362 barrels\n",
            "Factory C (z): 179 barrels\n",
            "\n",
            "Example of a demand that can be met with only factories B and C:\n",
            "Demand: (4000, 5000, 6000)\n",
            "Factories B and C cannot meet the example demand exactly.\n",
            "Suggested number of barrels for each plant (rounded to nearest integer):\n",
            "Factory B (y): 220 barrels\n",
            "Factory C (z): 437 barrels\n"
          ]
        }
      ]
    },
    {
      "cell_type": "markdown",
      "metadata": {
        "id": "bLsK1-zNEP0T"
      },
      "source": [
        "Taking 4th plant into consideration.\n",
        "Let the number of barrels used by factory $B$, $C$ and $D$ are $y$, $z$ and $w$ respectively.\n",
        "\n",
        "Then for demand (5000, 8500, 10000) the system of linear equations will be\n",
        "\n",
        "$$4y + 4z + 4w = 5000$$\n",
        "\n",
        "$$14y + 5z + 5w = 8500$$\n",
        "\n",
        "$$5y + 12z + 12w = 10000$$\n",
        "\n",
        "Solve it using rref form."
      ]
    },
    {
      "cell_type": "code",
      "metadata": {
        "id": "5lqPcpJ9F9xx",
        "outputId": "ae7afd55-cb85-4c5a-9430-b10b2a5d20f8",
        "colab": {
          "base_uri": "https://localhost:8080/"
        }
      },
      "source": [
        "# YOUR CODE HERE\n",
        "import numpy as np\n",
        "import sympy\n",
        "\n",
        "# Define the matrix of coefficients and the right-hand side\n",
        "A = np.array([\n",
        "    [4, 4, 4],\n",
        "    [14, 5, 5],\n",
        "    [5, 12, 12]\n",
        "], dtype='float')\n",
        "\n",
        "# Right-hand side vector\n",
        "b = np.array([5000, 8500, 10000], dtype='float')\n",
        "\n",
        "# Augment the matrix A with the vector b\n",
        "augmented_matrix = np.hstack((A, b.reshape(-1, 1)))\n",
        "\n",
        "# Use sympy to perform RREF\n",
        "augmented_matrix_sympy = sympy.Matrix(augmented_matrix)\n",
        "rref_matrix, pivot_columns = augmented_matrix_sympy.rref()\n",
        "\n",
        "# Print the RREF form of the augmented matrix\n",
        "print(\"The RREF form of the augmented matrix is:\")\n",
        "print(rref_matrix)\n",
        "\n",
        "# If the system has solutions, extract them\n",
        "if len(pivot_columns) == 3:  # Ensure there are 3 pivots for a unique solution\n",
        "    y, z, w = rref_matrix[:, 3]\n",
        "    print(f\"The solution is y = {y.evalf():.2f}, z = {z.evalf():.2f}, w = {w.evalf():.2f}\")\n",
        "else:\n",
        "    print(\"The system does not have a unique solution.\")\n"
      ],
      "execution_count": 14,
      "outputs": [
        {
          "output_type": "stream",
          "name": "stdout",
          "text": [
            "The RREF form of the augmented matrix is:\n",
            "Matrix([[1, 0, 0, 0], [0, 1, 1.00000000000000, 0], [0, 0, 0, 1]])\n",
            "The solution is y = 0.00, z = 0.00, w = 1.00\n"
          ]
        }
      ]
    },
    {
      "cell_type": "markdown",
      "metadata": {
        "id": "u7SDjgFkP5fj"
      },
      "source": [
        "Now, changing demand to (6600, 5100, 3100) and solving the system of equation using rref form."
      ]
    },
    {
      "cell_type": "code",
      "metadata": {
        "id": "nwSpgbqAGlON",
        "outputId": "bba640bb-682d-4185-9eb7-e12160445454",
        "colab": {
          "base_uri": "https://localhost:8080/"
        }
      },
      "source": [
        "# YOUR CODE HERE\n",
        "import numpy as np\n",
        "import sympy\n",
        "\n",
        "# Define the matrix of coefficients for factories B, C, and D\n",
        "A = np.array([\n",
        "    [4, 4, 4],\n",
        "    [14, 5, 5],\n",
        "    [5, 12, 12]\n",
        "], dtype='float')\n",
        "\n",
        "# Right-hand side vector for the new demand\n",
        "b_new = np.array([6600, 5100, 3100], dtype='float')\n",
        "\n",
        "# Augment the matrix A with the vector b_new\n",
        "augmented_matrix_new = np.hstack((A, b_new.reshape(-1, 1)))\n",
        "\n",
        "# Use sympy to perform RREF\n",
        "augmented_matrix_new_sympy = sympy.Matrix(augmented_matrix_new)\n",
        "rref_matrix_new, pivot_columns_new = augmented_matrix_new_sympy.rref()\n",
        "\n",
        "# Print the RREF form of the augmented matrix\n",
        "print(\"The RREF form of the augmented matrix for the new demand is:\")\n",
        "print(rref_matrix_new)\n",
        "\n",
        "# If the system has solutions, extract them\n",
        "if len(pivot_columns_new) == 3:  # Ensure there are 3 pivots for a unique solution\n",
        "    y_new, z_new, w_new = rref_matrix_new[:, 3]\n",
        "    print(f\"The solution is y = {y_new.evalf():.2f}, z = {z_new.evalf():.2f}, w = {w_new.evalf():.2f}\")\n",
        "else:\n",
        "    print(\"The system does not have a unique solution.\")\n"
      ],
      "execution_count": 15,
      "outputs": [
        {
          "output_type": "stream",
          "name": "stdout",
          "text": [
            "The RREF form of the augmented matrix for the new demand is:\n",
            "Matrix([[1, 0, 0, 0], [0, 1, 1.00000000000000, 0], [0, 0, 0, 1]])\n",
            "The solution is y = 0.00, z = 0.00, w = 1.00\n"
          ]
        }
      ]
    },
    {
      "cell_type": "markdown",
      "metadata": {
        "id": "fngUPMK_pzh1"
      },
      "source": [
        "### Set rates for Products (1 point)"
      ]
    },
    {
      "cell_type": "markdown",
      "metadata": {
        "id": "8Go0tQYtpzh1"
      },
      "source": [
        "Company wants to set the rates of motor oil, diesel oil, and gasoline. For this purpose they have few suggestions given as follows:\n",
        "\n",
        "* 100, 66, 102 Rupees per gallon,\n",
        "\n",
        "* 104, 64, 100 Rupees per gallon,\n",
        "\n",
        "* 102, 68, 98 Rupees per gallon, and\n",
        "\n",
        "* 96, 68, 100 Rupees per gallon\n",
        "\n",
        "for motor oil, diesel oil, and gasoline respectively.\n",
        "\n",
        "Using matrix multiplication, find the rates which result in maximum total price."
      ]
    },
    {
      "cell_type": "markdown",
      "metadata": {
        "id": "9yRue5zIpzh1"
      },
      "source": [
        "Let $M$ denote the matrix such that rows represents different plants (A, B and C), columns represents different products (motor oil, diesel oil and gasoline) and each value represents production of that product from one barrel of crude oil for that plant.\n",
        "\n",
        "$$M = \\begin{bmatrix}\n",
        "20 & 10 & 5 \\\\\n",
        "4 & 14 & 5  \\\\\n",
        " 4 & 5 & 12  \n",
        "\\end{bmatrix}$$\n",
        "\n",
        "Also, $R$ is a matrix having different rates as its columns.\n",
        "\n",
        "$$R = \\begin{bmatrix}\n",
        "100 & 104 & 102 & 96 \\\\\n",
        "66 & 64 & 68 & 68  \\\\\n",
        "102 & 100 & 98 & 100  \n",
        "\\end{bmatrix}$$"
      ]
    },
    {
      "cell_type": "code",
      "metadata": {
        "id": "Sz5Bef3npzh1",
        "outputId": "397f868a-c6f0-4ef7-9b1e-9b761f94d5a9",
        "colab": {
          "base_uri": "https://localhost:8080/"
        }
      },
      "source": [
        "# YOUR CODE HERE\n",
        "import numpy as np\n",
        "\n",
        "# Define the production matrix M\n",
        "M = np.array([\n",
        "    [20, 10, 5],\n",
        "    [4, 14, 5],\n",
        "    [4, 5, 12]\n",
        "])\n",
        "\n",
        "# Define the rates matrix R\n",
        "R = np.array([\n",
        "    [100, 104, 102, 96],\n",
        "    [66, 64, 68, 68],\n",
        "    [102, 100, 98, 100]\n",
        "])\n",
        "\n",
        "# Compute the total price for each set of rates\n",
        "total_prices = M @ R\n",
        "\n",
        "# Find the maximum total price and the corresponding rates\n",
        "max_total_prices = total_prices.sum(axis=0)\n",
        "max_index = np.argmax(max_total_prices)\n",
        "optimal_rates = R[:, max_index]\n",
        "\n",
        "print(\"Total prices for each set of rates:\")\n",
        "print(total_prices)\n",
        "\n",
        "print(\"\\nMaximum total price:\")\n",
        "print(max_total_prices[max_index])\n",
        "\n",
        "print(\"\\nOptimal rates (Motor oil, Diesel oil, Gasoline) that result in maximum total price:\")\n",
        "print(optimal_rates)\n"
      ],
      "execution_count": 16,
      "outputs": [
        {
          "output_type": "stream",
          "name": "stdout",
          "text": [
            "Total prices for each set of rates:\n",
            "[[3170 3220 3210 3100]\n",
            " [1834 1812 1850 1836]\n",
            " [1954 1936 1924 1924]]\n",
            "\n",
            "Maximum total price:\n",
            "6984\n",
            "\n",
            "Optimal rates (Motor oil, Diesel oil, Gasoline) that result in maximum total price:\n",
            "[102  68  98]\n"
          ]
        }
      ]
    },
    {
      "cell_type": "markdown",
      "metadata": {
        "id": "cga8JrkApzh1"
      },
      "source": [
        "### Marginal Cost (1 point)"
      ]
    },
    {
      "cell_type": "markdown",
      "metadata": {
        "id": "8nN5V5NXpzh2"
      },
      "source": [
        "The total cost $C(x)$ in Rupees, associated with the production of $x$ gallons of gasoline is given by\n",
        "\n",
        "$$C(x) = 0.005 x^3 – 0.02 x^2 + 30x + 5000$$\n",
        "\n",
        "Find the marginal cost when $22$ gallons are produced, where, marginal cost means the instantaneous rate of change of total cost at any level of output."
      ]
    },
    {
      "cell_type": "code",
      "metadata": {
        "id": "rO-HMED3pzh2",
        "outputId": "0e3cbceb-bc6d-4a1d-999d-d65be00c2810",
        "colab": {
          "base_uri": "https://localhost:8080/"
        }
      },
      "source": [
        "# YOUR CODE HERE\n",
        "import sympy as sp\n",
        "\n",
        "# Define the variable and the cost function\n",
        "x = sp.symbols('x')\n",
        "C = 0.005 * x**3 - 0.02 * x**2 + 30 * x + 5000\n",
        "\n",
        "# Compute the derivative of the cost function\n",
        "C_prime = sp.diff(C, x)\n",
        "\n",
        "# Evaluate the derivative at x = 22\n",
        "marginal_cost_at_22 = C_prime.evalf(subs={x: 22})\n",
        "\n",
        "print(f\"The marginal cost when 22 gallons are produced is: {marginal_cost_at_22} Rupees\")\n"
      ],
      "execution_count": 17,
      "outputs": [
        {
          "output_type": "stream",
          "name": "stdout",
          "text": [
            "The marginal cost when 22 gallons are produced is: 36.3800000000000 Rupees\n"
          ]
        }
      ]
    },
    {
      "cell_type": "markdown",
      "metadata": {
        "id": "qOMlrDEhpzh2"
      },
      "source": [
        "### Marginal Revenue (1 point)"
      ]
    },
    {
      "cell_type": "markdown",
      "metadata": {
        "id": "bfS88lmWpzh2"
      },
      "source": [
        "The total revenue in Rupees received from the sale of $x$ gallons of a motor oil is given by $$R(x) = 3x^2 + 36x + 5.$$\n",
        "\n",
        "Find the marginal revenue, when $x = 28$, where, marginal revenue means the rate of change of total revenue with respect to the number of items sold at an instant."
      ]
    },
    {
      "cell_type": "code",
      "metadata": {
        "id": "rb0h6p49pzh2",
        "outputId": "c9e0c588-4944-424f-d2cf-e8c4b6cc10dc",
        "colab": {
          "base_uri": "https://localhost:8080/"
        }
      },
      "source": [
        "# YOUR CODE HERE\n",
        "import sympy as sp\n",
        "\n",
        "# Define the variable and the revenue function\n",
        "x = sp.symbols('x')\n",
        "R = 3 * x**2 + 36 * x + 5\n",
        "\n",
        "# Compute the derivative of the revenue function\n",
        "R_prime = sp.diff(R, x)\n",
        "\n",
        "# Evaluate the derivative at x = 28\n",
        "marginal_revenue_at_28 = R_prime.evalf(subs={x: 28})\n",
        "\n",
        "print(f\"The marginal revenue when 28 gallons are sold is: {marginal_revenue_at_28} Rupees\")\n"
      ],
      "execution_count": 18,
      "outputs": [
        {
          "output_type": "stream",
          "name": "stdout",
          "text": [
            "The marginal revenue when 28 gallons are sold is: 204.000000000000 Rupees\n"
          ]
        }
      ]
    },
    {
      "cell_type": "markdown",
      "metadata": {
        "id": "ZKb5VuM_pzh2"
      },
      "source": [
        "### Pouring crude oil in tank (1 point)"
      ]
    },
    {
      "cell_type": "markdown",
      "metadata": {
        "id": "TD9zv5jPpzh2"
      },
      "source": [
        "In a cylindrical tank of radius 10 meter, crude oil is being poured at the rate of 314 cubic meter per hour. Then find\n",
        "\n",
        "* the rate at which the height of crude oil is increasing in the tank, and\n",
        "* the height of crude oil in tank after 2 hours."
      ]
    },
    {
      "cell_type": "code",
      "metadata": {
        "id": "g6ntcdNypzh2",
        "outputId": "9539487f-c721-442d-9dc8-c7e8f1f7c707",
        "colab": {
          "base_uri": "https://localhost:8080/"
        }
      },
      "source": [
        "# YOUR CODE HERE\n",
        "import sympy as sp\n",
        "\n",
        "# Define the variables\n",
        "r = 10  # radius in meters\n",
        "V_rate = 314  # rate of volume increase in cubic meters per hour\n",
        "t = 2  # time in hours\n",
        "\n",
        "# Volume of a cylinder V = πr^2h\n",
        "# We need to find dh/dt, the rate at which the height is increasing\n",
        "# V = πr^2h -> dV/dt = πr^2 * dh/dt\n",
        "\n",
        "# Define the symbols\n",
        "h = sp.symbols('h')\n",
        "\n",
        "# Volume function\n",
        "V = sp.pi * r**2 * h\n",
        "\n",
        "# Differentiate V with respect to time to find dV/dt\n",
        "V_prime = sp.diff(V, h)\n",
        "\n",
        "# dV/dt = V_rate, so we can solve for dh/dt\n",
        "dh_dt = V_rate / V_prime\n",
        "dh_dt_value = dh_dt.evalf()\n",
        "\n",
        "# Height of crude oil in the tank after 2 hours\n",
        "height_after_2_hours = dh_dt_value * t\n",
        "\n",
        "print(f\"The rate at which the height of crude oil is increasing in the tank is: {dh_dt_value:.2f} meters per hour\")\n",
        "print(f\"The height of crude oil in the tank after 2 hours is: {height_after_2_hours:.2f} meters\")\n"
      ],
      "execution_count": 19,
      "outputs": [
        {
          "output_type": "stream",
          "name": "stdout",
          "text": [
            "The rate at which the height of crude oil is increasing in the tank is: 1.00 meters per hour\n",
            "The height of crude oil in the tank after 2 hours is: 2.00 meters\n"
          ]
        }
      ]
    }
  ]
}