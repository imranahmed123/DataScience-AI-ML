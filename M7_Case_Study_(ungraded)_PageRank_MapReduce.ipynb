{
  "cells": [
    {
      "cell_type": "markdown",
      "metadata": {
        "id": "view-in-github",
        "colab_type": "text"
      },
      "source": [
        "<a href=\"https://colab.research.google.com/github/imranahmed123/DataScience-AI-ML/blob/main/M7_Case_Study_(ungraded)_PageRank_MapReduce.ipynb\" target=\"_parent\"><img src=\"https://colab.research.google.com/assets/colab-badge.svg\" alt=\"Open In Colab\"/></a>"
      ]
    },
    {
      "cell_type": "markdown",
      "metadata": {
        "id": "j2LG7BITuc6w"
      },
      "source": [
        "# Advanced Certification Program in Computational Data Science\n",
        "## A program by IISc and TalentSprint\n",
        "## Case Study : PageRank on MapReduce (ungraded)"
      ]
    },
    {
      "cell_type": "markdown",
      "metadata": {
        "id": "DdhpaVdWuwOd"
      },
      "source": [
        "## Learning Objectives\n"
      ]
    },
    {
      "cell_type": "markdown",
      "metadata": {
        "id": "Z1lVwUv6v6fU"
      },
      "source": [
        "At the end of the case study, you will be able to\n",
        "\n",
        "* Obtain a brief overview of MapReduce\n",
        "* Understand the concept of Page Rank used by Google\n",
        "* Implement Page Rank algorithm by using the approach of MapReduce:\n",
        "  * Perform transformation operations using MapReduce\n",
        "  * Calculate the rank of a webpage using pyspark and MapReduce"
      ]
    },
    {
      "cell_type": "markdown",
      "metadata": {
        "id": "Tfiy2tTkwAMv"
      },
      "source": [
        "## Information"
      ]
    },
    {
      "cell_type": "markdown",
      "metadata": {
        "id": "eogRxAMH1rcJ"
      },
      "source": [
        "**Parallel Processing:-** To deal with massive data or Big data as it is popularly known. The idea is to reduce the run time, cost and memory constraints while dealing with this huge data.\n",
        "\n",
        "In this process, the task is broken down into multiple parts with a help of a tool. Each part is assigned to a different computational unit for processing.\n",
        "Once the computation is done by different units, the solution is re-assembled to give a final solution."
      ]
    },
    {
      "cell_type": "markdown",
      "metadata": {
        "id": "drRvh-_bEceM"
      },
      "source": [
        "**Map Reduce:-** This is a programming model that allows the user to perform parallel processing on Big data.\n",
        "\n",
        "To read more about MapReduce [Click Here](https://taylankabbani96.medium.com/mapreduce-programming-model-a7534aca599b)"
      ]
    },
    {
      "cell_type": "markdown",
      "metadata": {
        "id": "4jY-pTPdGJy_"
      },
      "source": [
        "### **Page Rank**"
      ]
    },
    {
      "cell_type": "markdown",
      "metadata": {
        "id": "VeQLYEXQGQSl"
      },
      "source": [
        "**A brief history:-** Early searching engines used to search through the web and create an inverted index of all the terms found in each page. While querying, an old search engine would return the pages that contain the term the user entered and rank the pages based on the frequency of occurrence of the term entered by the user, in each page.\n",
        "\n",
        "The naivety of this simple approach, gave spammers an opportunity to exploit the searching engines. By exploiting it, they could lead people to their pages (spam).\n",
        "\n",
        "  - **For example:-** A spammer would write an irrelevant term multiple times, say \"movie\", where the page actually sells clothes!!\n",
        "To prevent the term \"movie\" from appearing on the spam page, they could give it the same color as the background.\n",
        "By using this technique, spammers managed to put their pages on the top of the search results of the search engine.This paralyzed Web searching engines and made them almost useless.\n",
        "\n",
        "  To prevent those spam pages from having so much influence, Google proposed **Page Rank** as a way to define the importance of a page. It is not wrong to say that this algorithm is what made **Google** then a very powerful engine."
      ]
    },
    {
      "cell_type": "markdown",
      "metadata": {
        "id": "No-RTVZ7I8BK"
      },
      "source": [
        "### What is Page Rank?"
      ]
    },
    {
      "cell_type": "markdown",
      "metadata": {
        "id": "AFpkTtRhGMTJ"
      },
      "source": [
        "**Page rank or PR**, is a recursive algorithm developed by Google, founded by Larry Page to assign a real number to each page in the web so that they can be ranked based on this score.\n",
        "The higher the score of a page, the more importance assigned to it."
      ]
    },
    {
      "cell_type": "markdown",
      "metadata": {
        "id": "prqVXPuHWZf6"
      },
      "source": [
        "**Importance:-** The importance score of a page directly depends on the number of other pages pointing to it.\n",
        "\n",
        "To understand the concept of pointing, suppose if a movie-page’s link is being displayed on many other pages, it is said that these pages are pointing or voting to that particular movie-page, and thus:"
      ]
    },
    {
      "cell_type": "markdown",
      "metadata": {
        "id": "7ZRCRcS_Xgha"
      },
      "source": [
        "**Understanding \"Importance\" with the help of an example:-**\n"
      ]
    },
    {
      "cell_type": "markdown",
      "metadata": {
        "id": "lPdGaeheXtHK"
      },
      "source": [
        "How does somebody decide if a person on twitter is important or not?\n",
        "  1. The first thing to check is the number of followers, the more followers a particular person has, the higher likelihood of that person being famous.\n",
        "  2. The second step is to check the importance of that person’s followers, if the president for example is following him/her, the higher the importance of that person."
      ]
    },
    {
      "cell_type": "markdown",
      "metadata": {
        "id": "wvGI9Du3ZBj0"
      },
      "source": [
        "### **Page Rank Algorithm**"
      ]
    },
    {
      "cell_type": "markdown",
      "metadata": {
        "id": "33SXTWJAZhqM"
      },
      "source": [
        "Consider a tiny version of the web with only five pages. To rank these pages based on their importance using page rank algorithm. Consider the graph to understand the concept, where nodes represent pages and arrows represent links between pages.\n",
        "\n",
        "\n",
        "To calculate the importance score of page C, let R denote the importance score of a page, then the importance score of the page C can be calculated as:\n",
        "$R_{c} = R_{B}/3 + R_{A}/4$\n",
        "\n",
        "Page C’s own importance is the sum of the votes on its in-links, and if page $A$ with importance $R_{A}$ has $n$ out-links, each link gets $R_{A}/n$ votes."
      ]
    },
    {
      "cell_type": "markdown",
      "metadata": {
        "id": "3QJdQFnga9U3"
      },
      "source": [
        "![img](https://miro.medium.com/max/526/1*Mgnh6M7DUhJIuO1_btIU1A.png)"
      ]
    },
    {
      "cell_type": "markdown",
      "metadata": {
        "id": "SQeFOibEakoa"
      },
      "source": [
        "**Steps Involved**"
      ]
    },
    {
      "cell_type": "markdown",
      "metadata": {
        "id": "VVygt7jIaolo"
      },
      "source": [
        "1. Initialize each page’s importance or rank as 1/number of pages.\n",
        "2. Update each page’s rank according to the following formulation:\n",
        "   $$R_j = \\sum_{i}^{j} \\frac{r_i}{d_i}$$\n",
        "   \n",
        "\n",
        "3. Repeat above steps until the page ranks stabilize."
      ]
    },
    {
      "cell_type": "markdown",
      "metadata": {
        "id": "HspQ0A_LgGmJ"
      },
      "source": [
        "### Implementation of Page Rank using MapReduce\n",
        "\n",
        "\n",
        "The number of pages on the Web is enormously huge and using a simple approach to recursively update ranking of millions of pages will be very expensive and time consuming as as well. MapReduce tackles the problem by taking the advantage of running on a cluster (parallelization)"
      ]
    },
    {
      "cell_type": "markdown",
      "metadata": {
        "id": "lEHmdHG1dEt6"
      },
      "source": [
        "### Installing the pyspark package"
      ]
    },
    {
      "cell_type": "code",
      "execution_count": 1,
      "metadata": {
        "id": "f968njsRtt4g",
        "outputId": "ddc453c1-e266-4805-d37c-909e666d2970",
        "colab": {
          "base_uri": "https://localhost:8080/"
        }
      },
      "outputs": [
        {
          "output_type": "stream",
          "name": "stdout",
          "text": [
            "Requirement already satisfied: pyspark in /usr/local/lib/python3.11/dist-packages (3.5.4)\n",
            "Requirement already satisfied: py4j==0.10.9.7 in /usr/local/lib/python3.11/dist-packages (from pyspark) (0.10.9.7)\n"
          ]
        }
      ],
      "source": [
        "!pip install pyspark"
      ]
    },
    {
      "cell_type": "markdown",
      "metadata": {
        "id": "M7poK8AddKQM"
      },
      "source": [
        "### Creating a spark session"
      ]
    },
    {
      "cell_type": "code",
      "execution_count": 2,
      "metadata": {
        "id": "h3MZeCKddM-t",
        "outputId": "16fd84d3-bf51-475c-8c03-6727946672f1",
        "colab": {
          "base_uri": "https://localhost:8080/",
          "height": 219
        }
      },
      "outputs": [
        {
          "output_type": "execute_result",
          "data": {
            "text/plain": [
              "<pyspark.sql.session.SparkSession at 0x7e7c05779550>"
            ],
            "text/html": [
              "\n",
              "            <div>\n",
              "                <p><b>SparkSession - in-memory</b></p>\n",
              "                \n",
              "        <div>\n",
              "            <p><b>SparkContext</b></p>\n",
              "\n",
              "            <p><a href=\"http://60e2f044c8b9:4040\">Spark UI</a></p>\n",
              "\n",
              "            <dl>\n",
              "              <dt>Version</dt>\n",
              "                <dd><code>v3.5.4</code></dd>\n",
              "              <dt>Master</dt>\n",
              "                <dd><code>local[*]</code></dd>\n",
              "              <dt>AppName</dt>\n",
              "                <dd><code>MapReduce</code></dd>\n",
              "            </dl>\n",
              "        </div>\n",
              "        \n",
              "            </div>\n",
              "        "
            ]
          },
          "metadata": {},
          "execution_count": 2
        }
      ],
      "source": [
        "from pyspark.sql import SparkSession\n",
        "from pyspark.sql.functions import col, udf  # User Defined Functions\n",
        "from pyspark.sql.types import StringType\n",
        "spark = SparkSession.builder.appName('MapReduce').getOrCreate()\n",
        "spark"
      ]
    },
    {
      "cell_type": "code",
      "execution_count": 4,
      "metadata": {
        "id": "bf5yxPDkdSdl"
      },
      "outputs": [],
      "source": [
        "# Accessing sparkContext from sparkSession instance.\n",
        "sc = spark.sparkContext"
      ]
    },
    {
      "cell_type": "markdown",
      "metadata": {
        "id": "un5ebKq2dVlW"
      },
      "source": [
        "### Creating links.txt file"
      ]
    },
    {
      "cell_type": "markdown",
      "metadata": {
        "id": "Jx3csMmudY_V"
      },
      "source": [
        "An adjacency list representation, info: where ‘A B C’ means that A node (page) out-links to B & C.\n",
        "\n",
        "\n"
      ]
    },
    {
      "cell_type": "markdown",
      "metadata": {
        "id": "OQEx_nEb3ylH"
      },
      "source": [
        "Consider this as a mini internet where A, B, C, D are web pages.\n",
        "\n",
        "![img](https://miro.medium.com/max/344/1*7C9YQPLxjVk_oGlnOq185w.png)"
      ]
    },
    {
      "cell_type": "code",
      "execution_count": 5,
      "metadata": {
        "id": "nDfAoR7cdWL1"
      },
      "outputs": [],
      "source": [
        "# Create/Open the text file\n",
        "f = open(\"links.txt\",\"w+\")\n",
        "\n",
        "# Enter data into the file\n",
        "lst = [\"A B C\", \"B C D\", \"C D\", \"D A\"]          # links\n",
        "for i in lst:\n",
        "    f.write(i + \"\\r\\n\")\n",
        "\n",
        "# Close the file instance\n",
        "f.close()"
      ]
    },
    {
      "cell_type": "markdown",
      "metadata": {
        "id": "kdnLwcuhdgIq"
      },
      "source": [
        "### Open the links.txt file back and read the contents"
      ]
    },
    {
      "cell_type": "code",
      "execution_count": 6,
      "metadata": {
        "id": "ulK5jTd4dgr_",
        "outputId": "d71e8e18-0e75-45e2-a6ab-2c81a1728b0e",
        "colab": {
          "base_uri": "https://localhost:8080/"
        }
      },
      "outputs": [
        {
          "output_type": "stream",
          "name": "stdout",
          "text": [
            "A B C\n",
            "B C D\n",
            "C D\n",
            "D A\n",
            "\n"
          ]
        }
      ],
      "source": [
        "f = open(\"links.txt\", \"r\")\n",
        "if f.mode == 'r':\n",
        "    contents = f.read()\n",
        "    print(contents)"
      ]
    },
    {
      "cell_type": "code",
      "execution_count": 7,
      "metadata": {
        "id": "6iDOru8Ldle1",
        "outputId": "2cac9337-dc73-4795-be69-2230226e18a3",
        "colab": {
          "base_uri": "https://localhost:8080/"
        }
      },
      "outputs": [
        {
          "output_type": "execute_result",
          "data": {
            "text/plain": [
              "['A B C', 'B C D', 'C D', 'D A']"
            ]
          },
          "metadata": {},
          "execution_count": 7
        }
      ],
      "source": [
        "# Adjacency list\n",
        "links = sc.textFile('links.txt')\n",
        "links.collect()"
      ]
    },
    {
      "cell_type": "code",
      "execution_count": 8,
      "metadata": {
        "id": "R62ttcudd3zm",
        "outputId": "755eb0c5-443c-445c-8e60-50817cc1e89c",
        "colab": {
          "base_uri": "https://localhost:8080/"
        }
      },
      "outputs": [
        {
          "output_type": "stream",
          "name": "stdout",
          "text": [
            "[('A', ['B', 'C']), ('B', ['C', 'D']), ('C', ['D']), ('D', ['A'])]\n",
            "4\n",
            "[('A', 0.25), ('B', 0.25), ('C', 0.25), ('D', 0.25)]\n"
          ]
        }
      ],
      "source": [
        "# Key/value pairs: the key is the name of the page and the value consists of out-links from the page\n",
        "links = links.map(lambda x: (x.split(' ')[0], x.split(' ')[1:]))\n",
        "print(links.collect())\n",
        "\n",
        "# Find node count\n",
        "N = links.count()\n",
        "print(N)\n",
        "\n",
        "# İnitiate PageRank values (ranks) as 1/(number of pages).\n",
        "ranks = links.map(lambda node: (node[0],1.0/N))\n",
        "print(ranks.collect())"
      ]
    },
    {
      "cell_type": "markdown",
      "metadata": {
        "id": "gBJlW2SWd-jJ"
      },
      "source": [
        "### Perform Map and Reduce steps"
      ]
    },
    {
      "cell_type": "code",
      "execution_count": null,
      "metadata": {
        "colab": {
          "background_save": true,
          "base_uri": "https://localhost:8080/"
        },
        "id": "ei_u_owgd_NE",
        "outputId": "f0d8e2b3-c2e4-4c06-93e1-d1c9b7ebefc6"
      },
      "outputs": [
        {
          "output_type": "stream",
          "name": "stdout",
          "text": [
            "[('A', 0.25), ('B', 0.125), ('C', 0.25), ('D', 0.375)]\n",
            "[('A', 0.375), ('B', 0.125), ('C', 0.1875), ('D', 0.3125)]\n",
            "[('A', 0.3125), ('B', 0.1875), ('C', 0.25), ('D', 0.25)]\n",
            "[('A', 0.25), ('B', 0.15625), ('C', 0.25), ('D', 0.34375)]\n",
            "[('A', 0.34375), ('B', 0.125), ('C', 0.203125), ('D', 0.328125)]\n",
            "[('A', 0.328125), ('B', 0.171875), ('C', 0.234375), ('D', 0.265625)]\n",
            "[('A', 0.265625), ('B', 0.1640625), ('C', 0.25), ('D', 0.3203125)]\n",
            "[('A', 0.3203125), ('B', 0.1328125), ('C', 0.21484375), ('D', 0.33203125)]\n",
            "[('A', 0.33203125), ('B', 0.16015625), ('C', 0.2265625), ('D', 0.28125)]\n",
            "[('A', 0.28125), ('B', 0.166015625), ('C', 0.24609375), ('D', 0.306640625)]\n",
            "[('A', 0.306640625), ('B', 0.140625), ('C', 0.2236328125), ('D', 0.3291015625)]\n",
            "[('A', 0.3291015625), ('B', 0.1533203125), ('C', 0.2236328125), ('D', 0.2939453125)]\n",
            "[('A', 0.2939453125), ('B', 0.16455078125), ('C', 0.2412109375), ('D', 0.30029296875)]\n",
            "[('A', 0.30029296875), ('B', 0.14697265625), ('C', 0.229248046875), ('D', 0.323486328125)]\n",
            "[('A', 0.323486328125), ('B', 0.150146484375), ('C', 0.2236328125), ('D', 0.302734375)]\n",
            "[('A', 0.302734375), ('B', 0.1617431640625), ('C', 0.23681640625), ('D', 0.2987060546875)]\n",
            "[('A', 0.2987060546875), ('B', 0.1513671875), ('C', 0.23223876953125), ('D', 0.31768798828125)]\n",
            "[('A', 0.31768798828125), ('B', 0.14935302734375), ('C', 0.22503662109375), ('D', 0.30792236328125)]\n"
          ]
        }
      ],
      "source": [
        "# Map: For each node i, calculate vote for each out-link of i and propagate to adjacent nodes\n",
        "# Reduce: For each node i, sum the upcoming votes and update the Rank value\n",
        "# Repeat this map reduce step until rank values converge\n",
        "\n",
        "ITERATIONS=20\n",
        "for i in range(ITERATIONS):\n",
        "    # Join graph info with rank info and propogate to all neighbors rank scores (rank/(number of neighbors)\n",
        "    # And add up ranks from all in-coming edges\n",
        "    ranks = links.join(ranks).flatMap(lambda x : [(i, float(x[1][1])/len(x[1][0])) for i in x[1][0]])\\\n",
        "    .reduceByKey(lambda x,y: x+y)\n",
        "    print(ranks.sortByKey().collect())"
      ]
    },
    {
      "cell_type": "markdown",
      "metadata": {
        "id": "XFcOYGY-326f"
      },
      "source": [
        "* It is evident that out of four dummy web pages under consideration, D has the highest importance or rank.\n",
        "* Web page B has the lowest rank.\n",
        "* It will be best to trust web page D rather than B, for information on it"
      ]
    },
    {
      "cell_type": "markdown",
      "metadata": {
        "id": "hp-2_n4_IWZt"
      },
      "source": [
        "**References**:\n",
        "1. Taylan Kabbani, 2020. PageRank on MapReduce. *Medium*."
      ]
    }
  ],
  "metadata": {
    "colab": {
      "provenance": [],
      "include_colab_link": true
    },
    "kernelspec": {
      "display_name": "Python 3",
      "name": "python3"
    },
    "language_info": {
      "name": "python"
    }
  },
  "nbformat": 4,
  "nbformat_minor": 0
}