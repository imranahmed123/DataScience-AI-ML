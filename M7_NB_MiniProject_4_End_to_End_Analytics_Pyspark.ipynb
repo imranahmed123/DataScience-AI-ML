{
  "nbformat": 4,
  "nbformat_minor": 5,
  "metadata": {
    "kernelspec": {
      "display_name": "Python 3",
      "name": "python3"
    },
    "language_info": {
      "codemirror_mode": {
        "name": "ipython",
        "version": 3
      },
      "file_extension": ".py",
      "mimetype": "text/x-python",
      "name": "python",
      "nbconvert_exporter": "python",
      "pygments_lexer": "ipython3",
      "version": "3.9.2"
    },
    "colab": {
      "provenance": [],
      "machine_shape": "hm",
      "include_colab_link": true
    }
  },
  "cells": [
    {
      "cell_type": "markdown",
      "metadata": {
        "id": "view-in-github",
        "colab_type": "text"
      },
      "source": [
        "<a href=\"https://colab.research.google.com/github/imranahmed123/datascience-ai-ml/blob/main/M7_NB_MiniProject_4_End_to_End_Analytics_Pyspark.ipynb\" target=\"_parent\"><img src=\"https://colab.research.google.com/assets/colab-badge.svg\" alt=\"Open In Colab\"/></a>"
      ]
    },
    {
      "cell_type": "markdown",
      "metadata": {
        "id": "intensive-feature"
      },
      "source": [
        "# Advanced Certification Program in Computational Data Science\n",
        "## A program by IISc and TalentSprint\n",
        "### Mini-Project: End-to-end analytics application using Pyspark"
      ],
      "id": "intensive-feature"
    },
    {
      "cell_type": "markdown",
      "metadata": {
        "id": "buried-qualification"
      },
      "source": [
        "## Problem Statement"
      ],
      "id": "buried-qualification"
    },
    {
      "cell_type": "markdown",
      "metadata": {
        "id": "smaller-diana"
      },
      "source": [
        "Perform sentiment classification by analyzing the tweets data with Pyspark"
      ],
      "id": "smaller-diana"
    },
    {
      "cell_type": "markdown",
      "metadata": {
        "id": "opposite-defense"
      },
      "source": [
        "## Learning Objectives"
      ],
      "id": "opposite-defense"
    },
    {
      "cell_type": "markdown",
      "metadata": {
        "id": "incoming-professor"
      },
      "source": [
        "At the end of the mini-project, you will be able to :\n",
        "\n",
        "* analyze the text data using pyspark\n",
        "* derive the insights and visualize the data\n",
        "* implement feature extraction and classify the data\n",
        "* train the classification model and deploy"
      ],
      "id": "incoming-professor"
    },
    {
      "cell_type": "markdown",
      "metadata": {
        "id": "varied-emission"
      },
      "source": [
        "### Dataset"
      ],
      "id": "varied-emission"
    },
    {
      "cell_type": "markdown",
      "metadata": {
        "id": "usual-suffering"
      },
      "source": [
        "The dataset chosen for this mini-project is **[Twitter US Airline Sentiment](https://data.world/socialmediadata/twitter-us-airline-sentiment)**. It is a record of tweets about airlines in the US. It was created by scraping Twitter data from February 2015. Contributors were asked to first classify positive, negative, and neutral tweets, followed by categorizing negative reasons (such as \"late flight\" or \"rude service\").  Along with other information, it contains ID of a Tweet, the sentiment of a tweet ( neutral, negative and positive), reason for a negative tweet, name of airline and text of a tweet."
      ],
      "id": "usual-suffering"
    },
    {
      "cell_type": "markdown",
      "metadata": {
        "id": "original-tsunami"
      },
      "source": [
        "## Information"
      ],
      "id": "original-tsunami"
    },
    {
      "cell_type": "markdown",
      "metadata": {
        "id": "premier-northeast"
      },
      "source": [
        "The airline industry is a very competitive market that has grown rapidly in the past 2 decades. Airline companies resort to traditional customer feedback forms which in turn are very tedious and time consuming. This is where Twitter data serves as a good source to gather customer feedback tweets and perform sentiment analysis. This dataset comprises of tweets for 6 major US Airlines and a multi-class classification can be performed to categorize the sentiment (neutral, negative, positive). For this mini-project we will start with pre-processing techniques to clean the tweets and then represent these tweets as vectors. A classification algorithm will be used to predict the sentiment for unseen tweets data. The end-to-end analytics will be performed using Pyspark."
      ],
      "id": "premier-northeast"
    },
    {
      "cell_type": "markdown",
      "metadata": {
        "id": "BewwTjZaJojg"
      },
      "source": [
        "## Grading = 10 Points"
      ],
      "id": "BewwTjZaJojg"
    },
    {
      "cell_type": "markdown",
      "source": [
        "Install Spark"
      ],
      "metadata": {
        "id": "t15hsIfsCv4S"
      },
      "id": "t15hsIfsCv4S"
    },
    {
      "cell_type": "code",
      "source": [
        "# install java\n",
        "#!apt-get install openjdk-8-jdk-headless -qq > /dev/null\n",
        "!apt-get install openjdk-11-jdk-headless -qq > /dev/null\n",
        "\n",
        "# install spark (change the version number if needed)\n",
        "!wget -q https://archive.apache.org/dist/spark/spark-3.0.0/spark-3.0.0-bin-hadoop3.2.tgz\n",
        "\n",
        "# unzip the spark file to the current folder\n",
        "!tar xf spark-3.0.0-bin-hadoop3.2.tgz"
      ],
      "metadata": {
        "id": "irNFWnK6DGQf"
      },
      "id": "irNFWnK6DGQf",
      "execution_count": 2,
      "outputs": []
    },
    {
      "cell_type": "markdown",
      "source": [
        "**Note: The above code cell will take around 8 mins 30 secs for execution.**\n"
      ],
      "metadata": {
        "id": "8cA77n9ADMid"
      },
      "id": "8cA77n9ADMid"
    },
    {
      "cell_type": "markdown",
      "source": [
        "### Set the os environment"
      ],
      "metadata": {
        "id": "0zTjjKDuDT3F"
      },
      "id": "0zTjjKDuDT3F"
    },
    {
      "cell_type": "code",
      "source": [
        "# set your spark folder to your system path environment.\n",
        "import os\n",
        "os.environ[\"JAVA_HOME\"] = \"/usr/lib/jvm/java-11-openjdk-amd64\"\n",
        "os.environ[\"SPARK_HOME\"] = \"/content/spark-3.0.0-bin-hadoop3.2\""
      ],
      "metadata": {
        "id": "bWC2AmDHDXBw"
      },
      "id": "bWC2AmDHDXBw",
      "execution_count": 3,
      "outputs": []
    },
    {
      "cell_type": "markdown",
      "source": [
        "### Install findspark"
      ],
      "metadata": {
        "id": "FJ7kR3AnDebO"
      },
      "id": "FJ7kR3AnDebO"
    },
    {
      "cell_type": "code",
      "source": [
        "# install findspark using pip\n",
        "!pip install -q findspark"
      ],
      "metadata": {
        "id": "9Quap-c8DiW4"
      },
      "id": "9Quap-c8DiW4",
      "execution_count": 4,
      "outputs": []
    },
    {
      "cell_type": "markdown",
      "metadata": {
        "id": "younger-macro"
      },
      "source": [
        "#### Install Pyspark"
      ],
      "id": "younger-macro"
    },
    {
      "cell_type": "code",
      "source": [
        "#@title Install packages and download the dataset\n",
        "!pip -qq install pyspark\n",
        "!pip -qq install handyspark\n",
        "!wget -qq https://cdn.iisc.talentsprint.com/CDS/MiniProjects/US_Airline_Tweets.csv\n",
        "print(\"Packages installed successfully and dataset downloaded!!\")"
      ],
      "metadata": {
        "id": "4giPAEaxCnur",
        "colab": {
          "base_uri": "https://localhost:8080/"
        },
        "outputId": "a08fefd2-28b4-4001-87a8-92319f258544"
      },
      "id": "4giPAEaxCnur",
      "execution_count": 5,
      "outputs": [
        {
          "output_type": "stream",
          "name": "stdout",
          "text": [
            "Packages installed successfully and dataset downloaded!!\n"
          ]
        }
      ]
    },
    {
      "cell_type": "code",
      "source": [
        "#from handyspark import *\n",
        "import findspark\n",
        "findspark.init()"
      ],
      "metadata": {
        "id": "Az5P_HI7DuiI"
      },
      "id": "Az5P_HI7DuiI",
      "execution_count": 6,
      "outputs": []
    },
    {
      "cell_type": "markdown",
      "source": [
        "### Install numpy==1.26.0"
      ],
      "metadata": {
        "id": "3GeyP8NoDzK6"
      },
      "id": "3GeyP8NoDzK6"
    },
    {
      "cell_type": "code",
      "source": [
        "!pip -qq install mxnet-mkl==1.6.0 numpy==1.26.0"
      ],
      "metadata": {
        "id": "xpD0lw2gD0pJ",
        "colab": {
          "base_uri": "https://localhost:8080/"
        },
        "outputId": "13d91fd2-8931-4c3c-8c9f-4431481d0132"
      },
      "id": "xpD0lw2gD0pJ",
      "execution_count": 7,
      "outputs": [
        {
          "output_type": "stream",
          "name": "stdout",
          "text": [
            "\u001b[2K     \u001b[90m━━━━━━━━━━━━━━━━━━━━━━━━━━━━━━━━━━━━━━━━\u001b[0m \u001b[32m58.5/58.5 kB\u001b[0m \u001b[31m4.1 MB/s\u001b[0m eta \u001b[36m0:00:00\u001b[0m\n",
            "\u001b[2K   \u001b[90m━━━━━━━━━━━━━━━━━━━━━━━━━━━━━━━━━━━━━━━━\u001b[0m \u001b[32m76.7/76.7 MB\u001b[0m \u001b[31m11.3 MB/s\u001b[0m eta \u001b[36m0:00:00\u001b[0m\n",
            "\u001b[2K   \u001b[90m━━━━━━━━━━━━━━━━━━━━━━━━━━━━━━━━━━━━━━━━\u001b[0m \u001b[32m18.2/18.2 MB\u001b[0m \u001b[31m113.3 MB/s\u001b[0m eta \u001b[36m0:00:00\u001b[0m\n",
            "\u001b[?25h"
          ]
        }
      ]
    },
    {
      "cell_type": "code",
      "source": [
        "import numpy as np\n",
        "#np.bool = np.bool_"
      ],
      "metadata": {
        "id": "XiRTXWCrD3Gx"
      },
      "id": "XiRTXWCrD3Gx",
      "execution_count": 8,
      "outputs": []
    },
    {
      "cell_type": "markdown",
      "source": [
        "### Import Handyspark"
      ],
      "metadata": {
        "id": "yxP3naQqD9Rv"
      },
      "id": "yxP3naQqD9Rv"
    },
    {
      "cell_type": "code",
      "source": [
        "#Downgrade Numpy to 1.23.1\n",
        "!pip install numpy==1.23.1"
      ],
      "metadata": {
        "id": "e7bn-zWRcfoe",
        "colab": {
          "base_uri": "https://localhost:8080/",
          "height": 879
        },
        "outputId": "7d4ed890-22e8-4e95-bc77-b913a839ddf1"
      },
      "id": "e7bn-zWRcfoe",
      "execution_count": 9,
      "outputs": [
        {
          "output_type": "stream",
          "name": "stdout",
          "text": [
            "Collecting numpy==1.23.1\n",
            "  Downloading numpy-1.23.1.tar.gz (10.7 MB)\n",
            "\u001b[?25l     \u001b[90m━━━━━━━━━━━━━━━━━━━━━━━━━━━━━━━━━━━━━━━━\u001b[0m \u001b[32m0.0/10.7 MB\u001b[0m \u001b[31m?\u001b[0m eta \u001b[36m-:--:--\u001b[0m\r\u001b[2K     \u001b[91m━━━━━━━━━━\u001b[0m\u001b[90m╺\u001b[0m\u001b[90m━━━━━━━━━━━━━━━━━━━━━━━━━━━━━\u001b[0m \u001b[32m2.8/10.7 MB\u001b[0m \u001b[31m84.0 MB/s\u001b[0m eta \u001b[36m0:00:01\u001b[0m\r\u001b[2K     \u001b[91m━━━━━━━━━━━━━━━━━━━━━━━━━━━━━━━━\u001b[0m\u001b[90m╺\u001b[0m\u001b[90m━━━━━━━\u001b[0m \u001b[32m8.7/10.7 MB\u001b[0m \u001b[31m126.7 MB/s\u001b[0m eta \u001b[36m0:00:01\u001b[0m\r\u001b[2K     \u001b[91m━━━━━━━━━━━━━━━━━━━━━━━━━━━━━━━━━━━━━━━\u001b[0m\u001b[91m╸\u001b[0m \u001b[32m10.7/10.7 MB\u001b[0m \u001b[31m164.3 MB/s\u001b[0m eta \u001b[36m0:00:01\u001b[0m\r\u001b[2K     \u001b[90m━━━━━━━━━━━━━━━━━━━━━━━━━━━━━━━━━━━━━━━━\u001b[0m \u001b[32m10.7/10.7 MB\u001b[0m \u001b[31m109.6 MB/s\u001b[0m eta \u001b[36m0:00:00\u001b[0m\n",
            "\u001b[?25h  Installing build dependencies ... \u001b[?25l\u001b[?25hdone\n",
            "  Getting requirements to build wheel ... \u001b[?25l\u001b[?25hdone\n",
            "  Preparing metadata (pyproject.toml) ... \u001b[?25l\u001b[?25hdone\n",
            "Building wheels for collected packages: numpy\n",
            "  Building wheel for numpy (pyproject.toml) ... \u001b[?25l\u001b[?25hdone\n",
            "  Created wheel for numpy: filename=numpy-1.23.1-cp311-cp311-linux_x86_64.whl size=19731400 sha256=ad00874d95721a236626aff1f85e0dc6a31f51a1e110810d748e54f6192aee4e\n",
            "  Stored in directory: /root/.cache/pip/wheels/54/67/ec/c3e57b4b51328fb39dd4d63906b0d3bd37a312508e5922682f\n",
            "Successfully built numpy\n",
            "Installing collected packages: numpy\n",
            "  Attempting uninstall: numpy\n",
            "    Found existing installation: numpy 1.26.0\n",
            "    Uninstalling numpy-1.26.0:\n",
            "      Successfully uninstalled numpy-1.26.0\n",
            "\u001b[31mERROR: pip's dependency resolver does not currently take into account all the packages that are installed. This behaviour is the source of the following dependency conflicts.\n",
            "pymc 5.20.0 requires numpy>=1.25.0, but you have numpy 1.23.1 which is incompatible.\n",
            "scikit-image 0.25.1 requires numpy>=1.24, but you have numpy 1.23.1 which is incompatible.\n",
            "ibis-framework 9.2.0 requires numpy<3,>=1.23.2, but you have numpy 1.23.1 which is incompatible.\n",
            "opencv-contrib-python 4.11.0.86 requires numpy>=1.23.5; python_version >= \"3.11\", but you have numpy 1.23.1 which is incompatible.\n",
            "flax 0.10.2 requires numpy>=1.23.2; python_version >= \"3.11\", but you have numpy 1.23.1 which is incompatible.\n",
            "xarray 2025.1.2 requires numpy>=1.24, but you have numpy 1.23.1 which is incompatible.\n",
            "opencv-python 4.11.0.86 requires numpy>=1.23.5; python_version >= \"3.11\", but you have numpy 1.23.1 which is incompatible.\n",
            "albumentations 2.0.3 requires numpy>=1.24.4, but you have numpy 1.23.1 which is incompatible.\n",
            "numba 0.61.0 requires numpy<2.2,>=1.24, but you have numpy 1.23.1 which is incompatible.\n",
            "albucore 0.0.23 requires numpy>=1.24.4, but you have numpy 1.23.1 which is incompatible.\n",
            "jax 0.4.33 requires numpy>=1.24, but you have numpy 1.23.1 which is incompatible.\n",
            "pandas 2.2.2 requires numpy>=1.23.2; python_version == \"3.11\", but you have numpy 1.23.1 which is incompatible.\n",
            "mizani 0.13.1 requires numpy>=1.23.5, but you have numpy 1.23.1 which is incompatible.\n",
            "tensorflow 2.18.0 requires numpy<2.1.0,>=1.26.0, but you have numpy 1.23.1 which is incompatible.\n",
            "blosc2 3.0.0 requires numpy>=1.25.0, but you have numpy 1.23.1 which is incompatible.\n",
            "astropy 7.0.0 requires numpy>=1.23.2, but you have numpy 1.23.1 which is incompatible.\n",
            "plotnine 0.14.5 requires numpy>=1.23.5, but you have numpy 1.23.1 which is incompatible.\n",
            "opencv-python-headless 4.11.0.86 requires numpy>=1.23.5; python_version >= \"3.11\", but you have numpy 1.23.1 which is incompatible.\n",
            "pandas-stubs 2.2.2.240909 requires numpy>=1.23.5, but you have numpy 1.23.1 which is incompatible.\n",
            "jaxlib 0.4.33 requires numpy>=1.24, but you have numpy 1.23.1 which is incompatible.\n",
            "ml-dtypes 0.4.1 requires numpy>=1.23.3; python_version >= \"3.11\", but you have numpy 1.23.1 which is incompatible.\n",
            "imbalanced-learn 0.13.0 requires numpy<3,>=1.24.3, but you have numpy 1.23.1 which is incompatible.\n",
            "bigframes 1.34.0 requires numpy>=1.24.0, but you have numpy 1.23.1 which is incompatible.\n",
            "chex 0.1.88 requires numpy>=1.24.1, but you have numpy 1.23.1 which is incompatible.\n",
            "dm-tree 0.1.9 requires numpy>=1.23.3; python_version >= \"3.11\", but you have numpy 1.23.1 which is incompatible.\u001b[0m\u001b[31m\n",
            "\u001b[0mSuccessfully installed numpy-1.23.1\n"
          ]
        },
        {
          "output_type": "display_data",
          "data": {
            "application/vnd.colab-display-data+json": {
              "pip_warning": {
                "packages": [
                  "numpy"
                ]
              },
              "id": "540343ffe6aa48a092ce95c7c5c3cf04"
            }
          },
          "metadata": {}
        }
      ]
    },
    {
      "cell_type": "markdown",
      "source": [
        "###After running the above code cell please restart the session"
      ],
      "metadata": {
        "id": "WhWih0aKdOZ6"
      },
      "id": "WhWih0aKdOZ6"
    },
    {
      "cell_type": "code",
      "source": [
        "import handyspark"
      ],
      "metadata": {
        "id": "CeLSuRtBD-u2"
      },
      "id": "CeLSuRtBD-u2",
      "execution_count": 1,
      "outputs": []
    },
    {
      "cell_type": "markdown",
      "metadata": {
        "id": "rough-battlefield"
      },
      "source": [
        "#### Import required packages"
      ],
      "id": "rough-battlefield"
    },
    {
      "cell_type": "code",
      "metadata": {
        "id": "cheap-workplace"
      },
      "source": [
        "import os\n",
        "import numpy as np\n",
        "import pandas as pd\n",
        "# fixes issue with seaborn hiding fliers on boxplot\n",
        "import matplotlib as mpl\n",
        "%matplotlib inline\n",
        "\n",
        "from pyspark.sql import SparkSession\n",
        "from pyspark.sql.functions import *\n",
        "from handyspark import *\n",
        "import seaborn as sns\n",
        "from matplotlib import pyplot as plt\n",
        "import re\n",
        "import string\n",
        "from pyspark.ml.feature import VectorAssembler\n",
        "from pyspark.ml.feature import CountVectorizer\n",
        "from pyspark.ml.classification import NaiveBayes\n",
        "from pyspark.sql.types import ArrayType, StringType\n",
        "import warnings\n",
        "warnings.filterwarnings(\"ignore\")"
      ],
      "id": "cheap-workplace",
      "execution_count": 2,
      "outputs": []
    },
    {
      "cell_type": "code",
      "metadata": {
        "id": "useful-meter",
        "colab": {
          "base_uri": "https://localhost:8080/"
        },
        "outputId": "8c87a4bf-28e5-4df7-9ed1-0aeea9eaec4f"
      },
      "source": [
        "# NLTK imports\n",
        "import nltk\n",
        "nltk.download('punkt')\n",
        "nltk.download('punkt_tab')\n",
        "# Download stopwords\n",
        "nltk.download('stopwords')\n",
        "nltk.download('wordnet')\n",
        "nltk.download('omw-1.4')\n",
        "from nltk.corpus import stopwords\n",
        "from nltk.tokenize import word_tokenize\n",
        "from nltk.stem import WordNetLemmatizer"
      ],
      "id": "useful-meter",
      "execution_count": 3,
      "outputs": [
        {
          "output_type": "stream",
          "name": "stderr",
          "text": [
            "[nltk_data] Downloading package punkt to /root/nltk_data...\n",
            "[nltk_data]   Unzipping tokenizers/punkt.zip.\n",
            "[nltk_data] Downloading package punkt_tab to /root/nltk_data...\n",
            "[nltk_data]   Unzipping tokenizers/punkt_tab.zip.\n",
            "[nltk_data] Downloading package stopwords to /root/nltk_data...\n",
            "[nltk_data]   Unzipping corpora/stopwords.zip.\n",
            "[nltk_data] Downloading package wordnet to /root/nltk_data...\n",
            "[nltk_data] Downloading package omw-1.4 to /root/nltk_data...\n"
          ]
        }
      ]
    },
    {
      "cell_type": "markdown",
      "metadata": {
        "id": "pregnant-april"
      },
      "source": [
        "### Data Loading"
      ],
      "id": "pregnant-april"
    },
    {
      "cell_type": "markdown",
      "metadata": {
        "id": "toxic-baseball"
      },
      "source": [
        "#### Start a Spark Session\n",
        "\n",
        "Spark session is a combined entry point of a Spark application, which came into implementation from Spark 2.0. It provides a way to interact with various Spark functionalities, with a lesser number of constructs."
      ],
      "id": "toxic-baseball"
    },
    {
      "cell_type": "code",
      "metadata": {
        "id": "christian-rental",
        "colab": {
          "base_uri": "https://localhost:8080/"
        },
        "outputId": "ba3b7e38-b0e3-4295-90a0-2e099f1c6c34"
      },
      "source": [
        "# YOUR CODE HERE\n",
        "from pyspark.sql import SparkSession\n",
        "\n",
        "# Initialize Spark Session\n",
        "spark = SparkSession.builder \\\n",
        "    .appName(\"AirlineTweetsAnalysis\") \\\n",
        "    .getOrCreate()\n",
        "\n",
        "# Load the dataset\n",
        "file_path = \"US_Airline_Tweets.csv\"  # Adjust path if needed\n",
        "df = spark.read.csv(file_path, header=True, inferSchema=True)\n",
        "\n",
        "# Display schema and data preview\n",
        "df.printSchema()\n",
        "df.show(5)\n"
      ],
      "id": "christian-rental",
      "execution_count": 4,
      "outputs": [
        {
          "output_type": "stream",
          "name": "stdout",
          "text": [
            "root\n",
            " |-- tweet_id: string (nullable = true)\n",
            " |-- airline_sentiment: string (nullable = true)\n",
            " |-- airline_sentiment_confidence: string (nullable = true)\n",
            " |-- negativereason: string (nullable = true)\n",
            " |-- negativereason_confidence: string (nullable = true)\n",
            " |-- airline: string (nullable = true)\n",
            " |-- airline_sentiment_gold: string (nullable = true)\n",
            " |-- name: string (nullable = true)\n",
            " |-- negativereason_gold: string (nullable = true)\n",
            " |-- retweet_count: integer (nullable = true)\n",
            " |-- text: string (nullable = true)\n",
            " |-- tweet_coord: string (nullable = true)\n",
            " |-- tweet_created: string (nullable = true)\n",
            " |-- tweet_location: string (nullable = true)\n",
            " |-- user_timezone: string (nullable = true)\n",
            "\n",
            "+------------------+-----------------+----------------------------+--------------+-------------------------+--------------+----------------------+----------+-------------------+-------------+--------------------+-----------+--------------------+--------------+--------------------+\n",
            "|          tweet_id|airline_sentiment|airline_sentiment_confidence|negativereason|negativereason_confidence|       airline|airline_sentiment_gold|      name|negativereason_gold|retweet_count|                text|tweet_coord|       tweet_created|tweet_location|       user_timezone|\n",
            "+------------------+-----------------+----------------------------+--------------+-------------------------+--------------+----------------------+----------+-------------------+-------------+--------------------+-----------+--------------------+--------------+--------------------+\n",
            "|570306133677760513|          neutral|                         1.0|          NULL|                     NULL|Virgin America|                  NULL|   cairdin|               NULL|            0|@VirginAmerica Wh...|       NULL|2015-02-24 11:35:...|          NULL|Eastern Time (US ...|\n",
            "|570301130888122368|         positive|                      0.3486|          NULL|                      0.0|Virgin America|                  NULL|  jnardino|               NULL|            0|@VirginAmerica pl...|       NULL|2015-02-24 11:15:...|          NULL|Pacific Time (US ...|\n",
            "|570301083672813571|          neutral|                      0.6837|          NULL|                     NULL|Virgin America|                  NULL|yvonnalynn|               NULL|            0|@VirginAmerica I ...|       NULL|2015-02-24 11:15:...|     Lets Play|Central Time (US ...|\n",
            "|570301031407624196|         negative|                         1.0|    Bad Flight|                   0.7033|Virgin America|                  NULL|  jnardino|               NULL|            0|\"@VirginAmerica i...|       NULL|2015-02-24 11:15:...|          NULL|Pacific Time (US ...|\n",
            "|570300817074462722|         negative|                         1.0|    Can't Tell|                      1.0|Virgin America|                  NULL|  jnardino|               NULL|            0|@VirginAmerica an...|       NULL|2015-02-24 11:14:...|          NULL|Pacific Time (US ...|\n",
            "+------------------+-----------------+----------------------------+--------------+-------------------------+--------------+----------------------+----------+-------------------+-------------+--------------------+-----------+--------------------+--------------+--------------------+\n",
            "only showing top 5 rows\n",
            "\n"
          ]
        }
      ]
    },
    {
      "cell_type": "markdown",
      "metadata": {
        "id": "casual-narrative"
      },
      "source": [
        "#### Load the data and infer the schema\n",
        "\n",
        "To load the dataset use the `read.csv` with `inferSchema` and `header` as parameters."
      ],
      "id": "casual-narrative"
    },
    {
      "cell_type": "code",
      "metadata": {
        "id": "natural-lexington",
        "colab": {
          "base_uri": "https://localhost:8080/"
        },
        "outputId": "2e155629-094f-4f81-977e-8bfe7aa62887"
      },
      "source": [
        "path = \"/content/US_Airline_Tweets.csv\"\n",
        "# YOUR CODE HERE\n",
        "\n",
        "from pyspark.sql import SparkSession\n",
        "\n",
        "# Initialize Spark Session\n",
        "spark = SparkSession.builder \\\n",
        "    .appName(\"AirlineTweetsAnalysis\") \\\n",
        "    .getOrCreate()\n",
        "\n",
        "# Define the path to the dataset\n",
        "path = \"/content/US_Airline_Tweets.csv\"  # Adjust if needed\n",
        "\n",
        "# Load the dataset with inferred schema\n",
        "df = spark.read.csv(path, header=True, inferSchema=True)\n",
        "\n",
        "# Print the schema\n",
        "df.printSchema()\n",
        "\n",
        "# Show the first few records\n",
        "df.show(5)\n"
      ],
      "id": "natural-lexington",
      "execution_count": 5,
      "outputs": [
        {
          "output_type": "stream",
          "name": "stdout",
          "text": [
            "root\n",
            " |-- tweet_id: string (nullable = true)\n",
            " |-- airline_sentiment: string (nullable = true)\n",
            " |-- airline_sentiment_confidence: string (nullable = true)\n",
            " |-- negativereason: string (nullable = true)\n",
            " |-- negativereason_confidence: string (nullable = true)\n",
            " |-- airline: string (nullable = true)\n",
            " |-- airline_sentiment_gold: string (nullable = true)\n",
            " |-- name: string (nullable = true)\n",
            " |-- negativereason_gold: string (nullable = true)\n",
            " |-- retweet_count: integer (nullable = true)\n",
            " |-- text: string (nullable = true)\n",
            " |-- tweet_coord: string (nullable = true)\n",
            " |-- tweet_created: string (nullable = true)\n",
            " |-- tweet_location: string (nullable = true)\n",
            " |-- user_timezone: string (nullable = true)\n",
            "\n",
            "+------------------+-----------------+----------------------------+--------------+-------------------------+--------------+----------------------+----------+-------------------+-------------+--------------------+-----------+--------------------+--------------+--------------------+\n",
            "|          tweet_id|airline_sentiment|airline_sentiment_confidence|negativereason|negativereason_confidence|       airline|airline_sentiment_gold|      name|negativereason_gold|retweet_count|                text|tweet_coord|       tweet_created|tweet_location|       user_timezone|\n",
            "+------------------+-----------------+----------------------------+--------------+-------------------------+--------------+----------------------+----------+-------------------+-------------+--------------------+-----------+--------------------+--------------+--------------------+\n",
            "|570306133677760513|          neutral|                         1.0|          NULL|                     NULL|Virgin America|                  NULL|   cairdin|               NULL|            0|@VirginAmerica Wh...|       NULL|2015-02-24 11:35:...|          NULL|Eastern Time (US ...|\n",
            "|570301130888122368|         positive|                      0.3486|          NULL|                      0.0|Virgin America|                  NULL|  jnardino|               NULL|            0|@VirginAmerica pl...|       NULL|2015-02-24 11:15:...|          NULL|Pacific Time (US ...|\n",
            "|570301083672813571|          neutral|                      0.6837|          NULL|                     NULL|Virgin America|                  NULL|yvonnalynn|               NULL|            0|@VirginAmerica I ...|       NULL|2015-02-24 11:15:...|     Lets Play|Central Time (US ...|\n",
            "|570301031407624196|         negative|                         1.0|    Bad Flight|                   0.7033|Virgin America|                  NULL|  jnardino|               NULL|            0|\"@VirginAmerica i...|       NULL|2015-02-24 11:15:...|          NULL|Pacific Time (US ...|\n",
            "|570300817074462722|         negative|                         1.0|    Can't Tell|                      1.0|Virgin America|                  NULL|  jnardino|               NULL|            0|@VirginAmerica an...|       NULL|2015-02-24 11:14:...|          NULL|Pacific Time (US ...|\n",
            "+------------------+-----------------+----------------------------+--------------+-------------------------+--------------+----------------------+----------+-------------------+-------------+--------------------+-----------+--------------------+--------------+--------------------+\n",
            "only showing top 5 rows\n",
            "\n"
          ]
        }
      ]
    },
    {
      "cell_type": "markdown",
      "metadata": {
        "id": "lFZu1AVBHs0X"
      },
      "source": [
        "### EDA & Visualization ( 2 points)"
      ],
      "id": "lFZu1AVBHs0X"
    },
    {
      "cell_type": "markdown",
      "metadata": {
        "id": "angry-canyon"
      },
      "source": [
        "#### Visualize the horizontal barplot of airline_sentiment (positive, negative, neutral)\n",
        "\n",
        "Convert the data to handyspark and remove the other records from the column except 3 values mentioned above and plot the graph"
      ],
      "id": "angry-canyon"
    },
    {
      "cell_type": "code",
      "metadata": {
        "id": "accomplished-crest",
        "colab": {
          "base_uri": "https://localhost:8080/",
          "height": 209
        },
        "outputId": "7ffa83eb-de10-4a43-f166-608006d51855"
      },
      "source": [
        "# YOUR CODE HERE\n",
        "import pandas as pd\n",
        "import matplotlib.pyplot as plt\n",
        "\n",
        "# Load the dataset into a Pandas DataFrame\n",
        "file_path = \"US_Airline_Tweets.csv\"  # Update the path if needed\n",
        "df = pd.read_csv(file_path)\n",
        "\n",
        "# Filter the data to keep only 'positive', 'negative', and 'neutral' sentiments\n",
        "filtered_df = df[df['airline_sentiment'].isin(['positive', 'negative', 'neutral'])]\n",
        "\n",
        "# Count the occurrences of each sentiment\n",
        "sentiment_counts = filtered_df['airline_sentiment'].value_counts()\n",
        "\n",
        "sentiment_counts.head()\n"
      ],
      "id": "accomplished-crest",
      "execution_count": 6,
      "outputs": [
        {
          "output_type": "execute_result",
          "data": {
            "text/plain": [
              "airline_sentiment\n",
              "negative    9178\n",
              "neutral     3099\n",
              "positive    2363\n",
              "Name: count, dtype: int64"
            ],
            "text/html": [
              "<div>\n",
              "<style scoped>\n",
              "    .dataframe tbody tr th:only-of-type {\n",
              "        vertical-align: middle;\n",
              "    }\n",
              "\n",
              "    .dataframe tbody tr th {\n",
              "        vertical-align: top;\n",
              "    }\n",
              "\n",
              "    .dataframe thead th {\n",
              "        text-align: right;\n",
              "    }\n",
              "</style>\n",
              "<table border=\"1\" class=\"dataframe\">\n",
              "  <thead>\n",
              "    <tr style=\"text-align: right;\">\n",
              "      <th></th>\n",
              "      <th>count</th>\n",
              "    </tr>\n",
              "    <tr>\n",
              "      <th>airline_sentiment</th>\n",
              "      <th></th>\n",
              "    </tr>\n",
              "  </thead>\n",
              "  <tbody>\n",
              "    <tr>\n",
              "      <th>negative</th>\n",
              "      <td>9178</td>\n",
              "    </tr>\n",
              "    <tr>\n",
              "      <th>neutral</th>\n",
              "      <td>3099</td>\n",
              "    </tr>\n",
              "    <tr>\n",
              "      <th>positive</th>\n",
              "      <td>2363</td>\n",
              "    </tr>\n",
              "  </tbody>\n",
              "</table>\n",
              "</div><br><label><b>dtype:</b> int64</label>"
            ]
          },
          "metadata": {},
          "execution_count": 6
        }
      ]
    },
    {
      "cell_type": "code",
      "source": [
        "# Plot horizontal bar chart\n",
        "plt.figure(figsize=(8, 5))\n",
        "sentiment_counts.plot(kind='barh', color=['red', 'blue', 'green'])\n",
        "\n",
        "plt.xlabel(\"Number of Tweets\")\n",
        "plt.ylabel(\"Sentiment\")\n",
        "plt.title(\"Distribution of Airline Sentiments\")\n",
        "plt.gca().invert_yaxis()  # Invert y-axis for better readability\n",
        "plt.show()"
      ],
      "metadata": {
        "id": "8XFWV7bbFdrN",
        "outputId": "568fcbd8-61b5-42be-bc16-67814723d92b",
        "colab": {
          "base_uri": "https://localhost:8080/",
          "height": 487
        }
      },
      "id": "8XFWV7bbFdrN",
      "execution_count": 7,
      "outputs": [
        {
          "output_type": "display_data",
          "data": {
            "text/plain": [
              "<Figure size 800x500 with 1 Axes>"
            ],
            "image/png": "[encoded data removed]"
          },
          "metadata": {}
        }
      ]
    },
    {
      "cell_type": "markdown",
      "metadata": {
        "id": "serial-cedar"
      },
      "source": [
        "#### Plot the number of tweets received for each airline"
      ],
      "id": "serial-cedar"
    },
    {
      "cell_type": "code",
      "metadata": {
        "id": "peripheral-bookmark",
        "colab": {
          "base_uri": "https://localhost:8080/",
          "height": 632
        },
        "outputId": "adf481fb-d3d6-4e9f-f81e-851e2ec6ab42"
      },
      "source": [
        "# YOUR CODE HERE\n",
        "import pandas as pd\n",
        "import matplotlib.pyplot as plt\n",
        "\n",
        "# Load the dataset into a Pandas DataFrame\n",
        "file_path = \"US_Airline_Tweets.csv\"  # Update the path if needed\n",
        "df = pd.read_csv(file_path)\n",
        "\n",
        "# Count the number of tweets for each airline\n",
        "airline_counts = df['airline'].value_counts()\n",
        "\n",
        "# Plot bar chart\n",
        "plt.figure(figsize=(10, 6))\n",
        "airline_counts.plot(kind='bar', color='skyblue')\n",
        "\n",
        "plt.xlabel(\"Airline\")\n",
        "plt.ylabel(\"Number of Tweets\")\n",
        "plt.title(\"Number of Tweets Received for Each Airline\")\n",
        "plt.xticks(rotation=45)  # Rotate x-axis labels for better readability\n",
        "\n",
        "# Show the plot\n",
        "plt.show()\n"
      ],
      "id": "peripheral-bookmark",
      "execution_count": 8,
      "outputs": [
        {
          "output_type": "display_data",
          "data": {
            "text/plain": [
              "<Figure size 1000x600 with 1 Axes>"
            ],
            "image/png": "[encoded data removed]"
          },
          "metadata": {}
        }
      ]
    },
    {
      "cell_type": "markdown",
      "metadata": {
        "id": "surface-major"
      },
      "source": [
        "#### Visualize a stacked barchart of 6 US airlines and 3 sentiments on each bar\n",
        "\n",
        "* Group the sentiment counts for each airline. [hint](https://github.com/dvgodoy/handyspark#stratify)\n",
        "\n",
        "* Display the count corresponding to each sentiment in each bar. [hint](https://cdn.iisc.talentsprint.com/CDS/MiniProjects/M5_NB_MiniProject_4_End_to_End_Analytics_Pyspark%20priteshbgohil_medium_com_stacked_bar_chart_in_python.pdf)"
      ],
      "id": "surface-major"
    },
    {
      "cell_type": "code",
      "metadata": {
        "id": "FkhT25vtNuz8",
        "colab": {
          "base_uri": "https://localhost:8080/",
          "height": 726
        },
        "outputId": "c002bd01-669a-42dd-8406-361c070f558b"
      },
      "source": [
        "# YOUR CODE HERE\n",
        "import pandas as pd\n",
        "import matplotlib.pyplot as plt\n",
        "import numpy as np\n",
        "\n",
        "# Load the dataset\n",
        "file_path = \"US_Airline_Tweets.csv\"  # Adjust the path if needed\n",
        "df = pd.read_csv(file_path)\n",
        "\n",
        "# Group by airline and sentiment, then count occurrences\n",
        "airline_sentiment_counts = df.groupby(['airline', 'airline_sentiment']).size().unstack()\n",
        "\n",
        "# Plot stacked bar chart\n",
        "plt.figure(figsize=(12, 7))\n",
        "ax = airline_sentiment_counts.plot(kind='bar', stacked=True, colormap='viridis', figsize=(12, 7))\n",
        "\n",
        "# Add labels and title\n",
        "plt.xlabel(\"Airline\")\n",
        "plt.ylabel(\"Number of Tweets\")\n",
        "plt.title(\"Sentiment Distribution for Each Airline\")\n",
        "\n",
        "# Display sentiment counts on each bar\n",
        "for airline_idx, airline in enumerate(airline_sentiment_counts.index):\n",
        "    bottom_val = np.zeros(len(airline_sentiment_counts.columns))\n",
        "    for sentiment_idx, sentiment in enumerate(airline_sentiment_counts.columns):\n",
        "        value = airline_sentiment_counts.loc[airline, sentiment]\n",
        "        if value > 0:\n",
        "            plt.text(airline_idx, bottom_val[sentiment_idx] + value / 2, str(value), ha='center', fontsize=10)\n",
        "        bottom_val[sentiment_idx] += value\n",
        "\n",
        "# Rotate x-axis labels for better readability\n",
        "plt.xticks(rotation=45)\n",
        "\n",
        "# Show the plot\n",
        "plt.legend(title=\"Sentiment\")\n",
        "plt.show()\n"
      ],
      "id": "FkhT25vtNuz8",
      "execution_count": 9,
      "outputs": [
        {
          "output_type": "display_data",
          "data": {
            "text/plain": [
              "<Figure size 1200x700 with 0 Axes>"
            ]
          },
          "metadata": {}
        },
        {
          "output_type": "display_data",
          "data": {
            "text/plain": [
              "<Figure size 1200x700 with 1 Axes>"
            ],
            "image/png": "[encoded data removed]"
          },
          "metadata": {}
        }
      ]
    },
    {
      "cell_type": "markdown",
      "metadata": {
        "id": "ahead-control"
      },
      "source": [
        "#### Visualize the horizontal barplot of negative reasons"
      ],
      "id": "ahead-control"
    },
    {
      "cell_type": "code",
      "metadata": {
        "id": "coordinate-rough",
        "colab": {
          "base_uri": "https://localhost:8080/",
          "height": 608
        },
        "outputId": "957a5847-ac4a-4659-caf7-c93effdb99c6"
      },
      "source": [
        "# YOUR CODE HERE\n",
        "import pandas as pd\n",
        "import matplotlib.pyplot as plt\n",
        "\n",
        "# Load the dataset\n",
        "file_path = \"US_Airline_Tweets.csv\"  # Adjust the path if needed\n",
        "df = pd.read_csv(file_path)\n",
        "\n",
        "# Count the occurrences of each negative reason and drop NaN values\n",
        "negative_reason_counts = df['negativereason'].value_counts().dropna()\n",
        "\n",
        "# Plot horizontal bar chart\n",
        "plt.figure(figsize=(12, 7))\n",
        "negative_reason_counts.plot(kind='barh', color='red')\n",
        "\n",
        "# Add labels and title\n",
        "plt.xlabel(\"Number of Tweets\")\n",
        "plt.ylabel(\"Negative Reason\")\n",
        "plt.title(\"Distribution of Negative Reasons in Tweets\")\n",
        "\n",
        "# Show the plot\n",
        "plt.show()\n"
      ],
      "id": "coordinate-rough",
      "execution_count": 10,
      "outputs": [
        {
          "output_type": "display_data",
          "data": {
            "text/plain": [
              "<Figure size 1200x700 with 1 Axes>"
            ],
            "image/png": "[encoded data removed]"
          },
          "metadata": {}
        }
      ]
    },
    {
      "cell_type": "markdown",
      "metadata": {
        "id": "3qwi5krQH1Q3"
      },
      "source": [
        "### Pre-processing (3 points)"
      ],
      "id": "3qwi5krQH1Q3"
    },
    {
      "cell_type": "markdown",
      "metadata": {
        "id": "pharmaceutical-agency"
      },
      "source": [
        "#### Check the null values and drop the records where the text value is null"
      ],
      "id": "pharmaceutical-agency"
    },
    {
      "cell_type": "code",
      "metadata": {
        "id": "x4hU06aBNzHj",
        "colab": {
          "base_uri": "https://localhost:8080/"
        },
        "outputId": "b1c4d514-33d8-4c2d-93ae-525db33f0259"
      },
      "source": [
        "# YOUR CODE HERE\n",
        "import pandas as pd\n",
        "\n",
        "# Load the dataset\n",
        "file_path = \"US_Airline_Tweets.csv\"  # Update the path if needed\n",
        "df = pd.read_csv(file_path)\n",
        "\n",
        "# Check for null values before cleaning\n",
        "null_counts_before = df.isnull().sum()\n",
        "\n",
        "# Drop rows where the 'text' column has null values\n",
        "df_cleaned = df.dropna(subset=['text'])\n",
        "\n",
        "# Check for null values after cleaning\n",
        "null_counts_after = df_cleaned.isnull().sum()\n",
        "\n",
        "# Display the count of null values before and after cleaning\n",
        "print(\"Null values before cleaning:\")\n",
        "print(null_counts_before)\n",
        "\n",
        "print(\"\\nNull values after cleaning:\")\n",
        "print(null_counts_after)\n"
      ],
      "id": "x4hU06aBNzHj",
      "execution_count": 11,
      "outputs": [
        {
          "output_type": "stream",
          "name": "stdout",
          "text": [
            "Null values before cleaning:\n",
            "tweet_id                            0\n",
            "airline_sentiment                   0\n",
            "airline_sentiment_confidence        0\n",
            "negativereason                   5462\n",
            "negativereason_confidence        4118\n",
            "airline                             0\n",
            "airline_sentiment_gold          14600\n",
            "name                                0\n",
            "negativereason_gold             14608\n",
            "retweet_count                       0\n",
            "text                                0\n",
            "tweet_coord                     13621\n",
            "tweet_created                       0\n",
            "tweet_location                   4733\n",
            "user_timezone                    4820\n",
            "dtype: int64\n",
            "\n",
            "Null values after cleaning:\n",
            "tweet_id                            0\n",
            "airline_sentiment                   0\n",
            "airline_sentiment_confidence        0\n",
            "negativereason                   5462\n",
            "negativereason_confidence        4118\n",
            "airline                             0\n",
            "airline_sentiment_gold          14600\n",
            "name                                0\n",
            "negativereason_gold             14608\n",
            "retweet_count                       0\n",
            "text                                0\n",
            "tweet_coord                     13621\n",
            "tweet_created                       0\n",
            "tweet_location                   4733\n",
            "user_timezone                    4820\n",
            "dtype: int64\n"
          ]
        }
      ]
    },
    {
      "cell_type": "markdown",
      "metadata": {
        "id": "convinced-batch"
      },
      "source": [
        "#### Fill the null values with 0 in all the columns except the target\n",
        "\n",
        "The target should not be empty. Ensure that all features are integer type, convert if needed."
      ],
      "id": "convinced-batch"
    },
    {
      "cell_type": "code",
      "metadata": {
        "id": "thorough-jones",
        "colab": {
          "base_uri": "https://localhost:8080/"
        },
        "outputId": "accd803c-050e-4c26-c7dd-1c9500ccfd88"
      },
      "source": [
        "# YOUR CODE HERE\n",
        "import pandas as pd\n",
        "\n",
        "# Load the dataset\n",
        "file_path = \"US_Airline_Tweets.csv\"  # Update the path if needed\n",
        "df = pd.read_csv(file_path)\n",
        "\n",
        "# Define the target column (which should not be empty)\n",
        "target_column = \"airline_sentiment\"\n",
        "\n",
        "# Fill null values in all columns except the target with 0\n",
        "df_filled = df.copy()\n",
        "for col in df_filled.columns:\n",
        "    if col != target_column:\n",
        "        df_filled[col] = df_filled[col].fillna(0)\n",
        "\n",
        "# Ensure all features (except the target) are of integer type\n",
        "for col in df_filled.columns:\n",
        "    if col != target_column:\n",
        "        try:\n",
        "            df_filled[col] = df_filled[col].astype(int)\n",
        "        except ValueError:\n",
        "            # If conversion to int fails, it means the column contains non-numeric data\n",
        "            # We leave those columns unchanged or handle them separately if needed\n",
        "            pass\n",
        "\n",
        "# Display updated dataset information\n",
        "print(df_filled.info())\n",
        "\n",
        "# Save the cleaned dataset if needed\n",
        "df_filled.to_csv(\"US_Airline_Tweets_Cleaned.csv\", index=False)\n"
      ],
      "id": "thorough-jones",
      "execution_count": 12,
      "outputs": [
        {
          "output_type": "stream",
          "name": "stdout",
          "text": [
            "<class 'pandas.core.frame.DataFrame'>\n",
            "RangeIndex: 14640 entries, 0 to 14639\n",
            "Data columns (total 15 columns):\n",
            " #   Column                        Non-Null Count  Dtype \n",
            "---  ------                        --------------  ----- \n",
            " 0   tweet_id                      14640 non-null  int64 \n",
            " 1   airline_sentiment             14640 non-null  object\n",
            " 2   airline_sentiment_confidence  14640 non-null  int64 \n",
            " 3   negativereason                14640 non-null  object\n",
            " 4   negativereason_confidence     14640 non-null  int64 \n",
            " 5   airline                       14640 non-null  object\n",
            " 6   airline_sentiment_gold        14640 non-null  object\n",
            " 7   name                          14640 non-null  object\n",
            " 8   negativereason_gold           14640 non-null  object\n",
            " 9   retweet_count                 14640 non-null  int64 \n",
            " 10  text                          14640 non-null  object\n",
            " 11  tweet_coord                   14640 non-null  object\n",
            " 12  tweet_created                 14640 non-null  object\n",
            " 13  tweet_location                14640 non-null  object\n",
            " 14  user_timezone                 14640 non-null  object\n",
            "dtypes: int64(4), object(11)\n",
            "memory usage: 1.7+ MB\n",
            "None\n"
          ]
        }
      ]
    },
    {
      "cell_type": "markdown",
      "metadata": {
        "id": "first-david"
      },
      "source": [
        "#### Preprocessing and cleaning the tweets\n",
        "\n",
        "* Convert the text to lower case\n",
        "* Remove usernames, hashtags and links from the text (tweets)"
      ],
      "id": "first-david"
    },
    {
      "cell_type": "code",
      "metadata": {
        "id": "studied-blowing",
        "colab": {
          "base_uri": "https://localhost:8080/"
        },
        "outputId": "6fd17639-c905-4d7b-ff2a-a07376ff9ee9"
      },
      "source": [
        "# YOUR CODE HERE\n",
        "import pandas as pd\n",
        "import re\n",
        "\n",
        "# Load the dataset\n",
        "file_path = \"US_Airline_Tweets.csv\"  # Update the path if needed\n",
        "df = pd.read_csv(file_path)\n",
        "\n",
        "# Function to clean tweets\n",
        "def clean_tweet(text):\n",
        "    text = text.lower()  # Convert to lowercase\n",
        "    text = re.sub(r'@\\w+', '', text)  # Remove usernames (e.g., @username)\n",
        "    text = re.sub(r'#\\w+', '', text)  # Remove hashtags (e.g., #hashtag)\n",
        "    text = re.sub(r'http\\S+', '', text)  # Remove links (e.g., https://example.com)\n",
        "    text = re.sub(r'www.\\S+', '', text)  # Remove www links\n",
        "    text = re.sub(r'\\s+', ' ', text).strip()  # Remove extra spaces\n",
        "    return text\n",
        "\n",
        "# Apply the cleaning function to the 'text' column\n",
        "df['cleaned_text'] = df['text'].apply(clean_tweet)\n",
        "\n",
        "# Display first few rows of cleaned tweets\n",
        "print(df[['text', 'cleaned_text']].head())\n",
        "\n",
        "# Save the cleaned dataset if needed\n",
        "df.to_csv(\"US_Airline_Tweets_Cleaned.csv\", index=False)\n"
      ],
      "id": "studied-blowing",
      "execution_count": 13,
      "outputs": [
        {
          "output_type": "stream",
          "name": "stdout",
          "text": [
            "                                                text  \\\n",
            "0                @VirginAmerica What @dhepburn said.   \n",
            "1  @VirginAmerica plus you've added commercials t...   \n",
            "2  @VirginAmerica I didn't today... Must mean I n...   \n",
            "3  @VirginAmerica it's really aggressive to blast...   \n",
            "4  @VirginAmerica and it's a really big bad thing...   \n",
            "\n",
            "                                        cleaned_text  \n",
            "0                                         what said.  \n",
            "1  plus you've added commercials to the experienc...  \n",
            "2  i didn't today... must mean i need to take ano...  \n",
            "3  it's really aggressive to blast obnoxious \"ent...  \n",
            "4           and it's a really big bad thing about it  \n"
          ]
        }
      ]
    },
    {
      "cell_type": "markdown",
      "metadata": {
        "id": "subtle-spain"
      },
      "source": [
        "#### Tokenize each sentence into words using nltk word tokenizer"
      ],
      "id": "subtle-spain"
    },
    {
      "cell_type": "code",
      "source": [
        "pip install nltk pandas\n"
      ],
      "metadata": {
        "id": "UQVg6O_V54yR",
        "outputId": "90aff081-cfca-49ed-b677-e7cd16f293eb",
        "colab": {
          "base_uri": "https://localhost:8080/"
        }
      },
      "id": "UQVg6O_V54yR",
      "execution_count": 21,
      "outputs": [
        {
          "output_type": "stream",
          "name": "stdout",
          "text": [
            "Requirement already satisfied: nltk in /usr/local/lib/python3.11/dist-packages (3.9.1)\n",
            "Requirement already satisfied: pandas in /usr/local/lib/python3.11/dist-packages (2.2.2)\n",
            "Requirement already satisfied: click in /usr/local/lib/python3.11/dist-packages (from nltk) (8.1.8)\n",
            "Requirement already satisfied: joblib in /usr/local/lib/python3.11/dist-packages (from nltk) (1.4.2)\n",
            "Requirement already satisfied: regex>=2021.8.3 in /usr/local/lib/python3.11/dist-packages (from nltk) (2024.11.6)\n",
            "Requirement already satisfied: tqdm in /usr/local/lib/python3.11/dist-packages (from nltk) (4.67.1)\n",
            "Collecting numpy>=1.23.2 (from pandas)\n",
            "  Downloading numpy-2.2.2-cp311-cp311-manylinux_2_17_x86_64.manylinux2014_x86_64.whl.metadata (62 kB)\n",
            "\u001b[2K     \u001b[90m━━━━━━━━━━━━━━━━━━━━━━━━━━━━━━━━━━━━━━━━\u001b[0m \u001b[32m62.0/62.0 kB\u001b[0m \u001b[31m1.6 MB/s\u001b[0m eta \u001b[36m0:00:00\u001b[0m\n",
            "\u001b[?25hRequirement already satisfied: python-dateutil>=2.8.2 in /usr/local/lib/python3.11/dist-packages (from pandas) (2.8.2)\n",
            "Requirement already satisfied: pytz>=2020.1 in /usr/local/lib/python3.11/dist-packages (from pandas) (2025.1)\n",
            "Requirement already satisfied: tzdata>=2022.7 in /usr/local/lib/python3.11/dist-packages (from pandas) (2025.1)\n",
            "Requirement already satisfied: six>=1.5 in /usr/local/lib/python3.11/dist-packages (from python-dateutil>=2.8.2->pandas) (1.17.0)\n",
            "Downloading numpy-2.2.2-cp311-cp311-manylinux_2_17_x86_64.manylinux2014_x86_64.whl (16.4 MB)\n",
            "\u001b[2K   \u001b[90m━━━━━━━━━━━━━━━━━━━━━━━━━━━━━━━━━━━━━━━━\u001b[0m \u001b[32m16.4/16.4 MB\u001b[0m \u001b[31m118.7 MB/s\u001b[0m eta \u001b[36m0:00:00\u001b[0m\n",
            "\u001b[?25hInstalling collected packages: numpy\n",
            "  Attempting uninstall: numpy\n",
            "    Found existing installation: numpy 1.23.1\n",
            "    Uninstalling numpy-1.23.1:\n",
            "      Successfully uninstalled numpy-1.23.1\n",
            "\u001b[31mERROR: pip's dependency resolver does not currently take into account all the packages that are installed. This behaviour is the source of the following dependency conflicts.\n",
            "mxnet-mkl 1.6.0 requires numpy<2.0.0,>1.16.0, but you have numpy 2.2.2 which is incompatible.\n",
            "pytensor 2.26.4 requires numpy<2,>=1.17.0, but you have numpy 2.2.2 which is incompatible.\n",
            "langchain 0.3.17 requires numpy<2,>=1.22.4; python_version < \"3.12\", but you have numpy 2.2.2 which is incompatible.\n",
            "gensim 4.3.3 requires numpy<2.0,>=1.18.5, but you have numpy 2.2.2 which is incompatible.\n",
            "numba 0.61.0 requires numpy<2.2,>=1.24, but you have numpy 2.2.2 which is incompatible.\n",
            "tensorflow 2.18.0 requires numpy<2.1.0,>=1.26.0, but you have numpy 2.2.2 which is incompatible.\n",
            "thinc 8.2.5 requires numpy<2.0.0,>=1.19.0; python_version >= \"3.9\", but you have numpy 2.2.2 which is incompatible.\u001b[0m\u001b[31m\n",
            "\u001b[0mSuccessfully installed numpy-2.2.2\n"
          ]
        }
      ]
    },
    {
      "cell_type": "code",
      "metadata": {
        "id": "yellow-wholesale",
        "colab": {
          "base_uri": "https://localhost:8080/"
        },
        "outputId": "04198b5c-5cdf-43d7-ef28-de2b6be47a61"
      },
      "source": [
        "# YOUR CODE HERE\n",
        "import pandas as pd\n",
        "import nltk\n",
        "from nltk.tokenize import word_tokenize\n",
        "\n",
        "# Download NLTK tokenizer (Only run once)\n",
        "nltk.download('punkt')\n",
        "\n",
        "# Load the dataset\n",
        "file_path = \"US_Airline_Tweets.csv\"  # Adjust the path if needed\n",
        "df = pd.read_csv(file_path)\n",
        "\n",
        "# Function to tokenize tweets into words\n",
        "def tokenize_tweet(text):\n",
        "    return word_tokenize(str(text))  # Ensure text is a string before tokenizing\n",
        "\n",
        "# Apply tokenization to the 'text' column\n",
        "df['tokenized_text'] = df['text'].apply(tokenize_tweet)\n",
        "\n",
        "# Display first few tokenized tweets\n",
        "print(df[['text', 'tokenized_text']].head())\n",
        "\n",
        "# Save the cleaned dataset if needed\n",
        "df.to_csv(\"US_Airline_Tweets_Tokenized.csv\", index=False)\n"
      ],
      "id": "yellow-wholesale",
      "execution_count": 14,
      "outputs": [
        {
          "output_type": "stream",
          "name": "stderr",
          "text": [
            "[nltk_data] Downloading package punkt to /root/nltk_data...\n",
            "[nltk_data]   Package punkt is already up-to-date!\n"
          ]
        },
        {
          "output_type": "stream",
          "name": "stdout",
          "text": [
            "                                                text  \\\n",
            "0                @VirginAmerica What @dhepburn said.   \n",
            "1  @VirginAmerica plus you've added commercials t...   \n",
            "2  @VirginAmerica I didn't today... Must mean I n...   \n",
            "3  @VirginAmerica it's really aggressive to blast...   \n",
            "4  @VirginAmerica and it's a really big bad thing...   \n",
            "\n",
            "                                      tokenized_text  \n",
            "0     [@, VirginAmerica, What, @, dhepburn, said, .]  \n",
            "1  [@, VirginAmerica, plus, you, 've, added, comm...  \n",
            "2  [@, VirginAmerica, I, did, n't, today, ..., Mu...  \n",
            "3  [@, VirginAmerica, it, 's, really, aggressive,...  \n",
            "4  [@, VirginAmerica, and, it, 's, a, really, big...  \n"
          ]
        }
      ]
    },
    {
      "cell_type": "markdown",
      "metadata": {
        "id": "recognized-wrist"
      },
      "source": [
        "#### Remove the stopwords from tokenized words"
      ],
      "id": "recognized-wrist"
    },
    {
      "cell_type": "code",
      "metadata": {
        "id": "scientific-guinea",
        "colab": {
          "base_uri": "https://localhost:8080/"
        },
        "outputId": "f86e7cd9-c5d3-40f7-dd0a-2909ff681e92"
      },
      "source": [
        "stop_words = set(stopwords.words('english'))\n",
        "print(stop_words)"
      ],
      "id": "scientific-guinea",
      "execution_count": 15,
      "outputs": [
        {
          "output_type": "stream",
          "name": "stdout",
          "text": [
            "{'ve', 'why', 'having', 'y', \"it's\", 'am', 't', 'ma', 'these', 'above', \"you'd\", \"weren't\", 'before', 'who', 'into', 'then', 'yours', 'any', 'herself', 'yourselves', 'few', 'each', 'other', 'while', 'has', 'does', 'during', 'down', 'nor', 'will', 'doing', 'in', 'from', 'do', 'out', \"haven't\", 'once', 'hers', 'mustn', 'no', 'some', \"couldn't\", 'for', 'below', 'too', \"isn't\", 'how', 'd', 'the', 'an', 'this', 'what', 'own', 'on', 're', 'our', 'to', 'can', 's', \"you've\", 'be', 'been', 'theirs', 'had', 'wasn', 'after', 'weren', 'them', 'all', 'me', \"you're\", 'at', \"hasn't\", 'shan', \"shouldn't\", 'whom', 'his', 'him', 'same', 'under', 'o', 'hadn', 'their', 'we', 'was', 'now', 'isn', 'but', 'just', \"aren't\", 'by', 'your', 'yourself', \"wouldn't\", 'its', 'more', 'ourselves', 'they', \"don't\", \"doesn't\", 'further', 'my', 'her', 'ain', 'hasn', \"wasn't\", 'shouldn', 'haven', 'did', 'which', 'ours', 'most', 'should', 'so', 'not', 'are', 'very', 'doesn', \"that'll\", \"didn't\", 'you', 'mightn', 'himself', 'myself', \"she's\", 'or', 'a', 'between', 'were', \"hadn't\", 'll', 'don', 'those', 'both', 'it', 'there', 'and', 'again', 'up', \"you'll\", 'needn', 'over', 'where', 'won', 'he', 'itself', 'because', 'of', 'have', 'that', 'didn', 'themselves', \"shan't\", 'she', \"needn't\", 'only', 'if', 'when', 'such', 'wouldn', 'with', 'here', \"should've\", 'being', \"mightn't\", 'against', 'is', 'i', \"won't\", 'as', 'until', \"mustn't\", 'about', 'couldn', 'off', 'through', 'than', 'aren', 'm'}\n"
          ]
        }
      ]
    },
    {
      "cell_type": "code",
      "metadata": {
        "id": "pleased-skiing",
        "colab": {
          "base_uri": "https://localhost:8080/"
        },
        "outputId": "ae9205a1-6181-4f6a-d29b-71a411616a00"
      },
      "source": [
        "# YOUR CODE HERE\n",
        "\n",
        "import pandas as pd\n",
        "import nltk\n",
        "from nltk.tokenize import word_tokenize\n",
        "from nltk.corpus import stopwords\n",
        "\n",
        "# Download NLTK stopwords (Run this only once)\n",
        "nltk.download('punkt')\n",
        "nltk.download('stopwords')\n",
        "\n",
        "# Load the dataset\n",
        "file_path = \"US_Airline_Tweets.csv\"  # Adjust the path if needed\n",
        "df = pd.read_csv(file_path)\n",
        "\n",
        "# Define stop words in English\n",
        "stop_words = set(stopwords.words('english'))\n",
        "print(\"Stop Words:\", stop_words)  # Display stop words list\n",
        "\n",
        "# Function to clean, tokenize, and remove stopwords\n",
        "def preprocess_tweet(text):\n",
        "    tokens = word_tokenize(str(text).lower())  # Convert to lowercase and tokenize\n",
        "    filtered_tokens = [word for word in tokens if word.isalpha() and word not in stop_words]  # Remove stopwords and non-alphabetic words\n",
        "    return filtered_tokens\n",
        "\n",
        "# Apply preprocessing to the text column\n",
        "df['filtered_text'] = df['text'].apply(preprocess_tweet)\n",
        "\n",
        "# Display first few tokenized and filtered tweets\n",
        "print(df[['text', 'filtered_text']].head())\n",
        "\n",
        "# Save the cleaned dataset if needed\n",
        "df.to_csv(\"US_Airline_Tweets_Filtered.csv\", index=False)\n"
      ],
      "id": "pleased-skiing",
      "execution_count": 16,
      "outputs": [
        {
          "output_type": "stream",
          "name": "stderr",
          "text": [
            "[nltk_data] Downloading package punkt to /root/nltk_data...\n",
            "[nltk_data]   Package punkt is already up-to-date!\n",
            "[nltk_data] Downloading package stopwords to /root/nltk_data...\n",
            "[nltk_data]   Package stopwords is already up-to-date!\n"
          ]
        },
        {
          "output_type": "stream",
          "name": "stdout",
          "text": [
            "Stop Words: {'ve', 'why', 'having', 'y', \"it's\", 'am', 't', 'ma', 'these', 'above', \"you'd\", \"weren't\", 'before', 'who', 'into', 'then', 'yours', 'any', 'herself', 'yourselves', 'few', 'each', 'other', 'while', 'has', 'does', 'during', 'down', 'nor', 'will', 'doing', 'in', 'from', 'do', 'out', \"haven't\", 'once', 'hers', 'mustn', 'no', 'some', \"couldn't\", 'for', 'below', 'too', \"isn't\", 'how', 'd', 'the', 'an', 'this', 'what', 'own', 'on', 're', 'our', 'to', 'can', 's', \"you've\", 'be', 'been', 'theirs', 'had', 'wasn', 'after', 'weren', 'them', 'all', 'me', \"you're\", 'at', \"hasn't\", 'shan', \"shouldn't\", 'whom', 'his', 'him', 'same', 'under', 'o', 'hadn', 'their', 'we', 'was', 'now', 'isn', 'but', 'just', \"aren't\", 'by', 'your', 'yourself', \"wouldn't\", 'its', 'more', 'ourselves', 'they', \"don't\", \"doesn't\", 'further', 'my', 'her', 'ain', 'hasn', \"wasn't\", 'shouldn', 'haven', 'did', 'which', 'ours', 'most', 'should', 'so', 'not', 'are', 'very', 'doesn', \"that'll\", \"didn't\", 'you', 'mightn', 'himself', 'myself', \"she's\", 'or', 'a', 'between', 'were', \"hadn't\", 'll', 'don', 'those', 'both', 'it', 'there', 'and', 'again', 'up', \"you'll\", 'needn', 'over', 'where', 'won', 'he', 'itself', 'because', 'of', 'have', 'that', 'didn', 'themselves', \"shan't\", 'she', \"needn't\", 'only', 'if', 'when', 'such', 'wouldn', 'with', 'here', \"should've\", 'being', \"mightn't\", 'against', 'is', 'i', \"won't\", 'as', 'until', \"mustn't\", 'about', 'couldn', 'off', 'through', 'than', 'aren', 'm'}\n",
            "                                                text  \\\n",
            "0                @VirginAmerica What @dhepburn said.   \n",
            "1  @VirginAmerica plus you've added commercials t...   \n",
            "2  @VirginAmerica I didn't today... Must mean I n...   \n",
            "3  @VirginAmerica it's really aggressive to blast...   \n",
            "4  @VirginAmerica and it's a really big bad thing...   \n",
            "\n",
            "                                       filtered_text  \n",
            "0                    [virginamerica, dhepburn, said]  \n",
            "1  [virginamerica, plus, added, commercials, expe...  \n",
            "2  [virginamerica, today, must, mean, need, take,...  \n",
            "3  [virginamerica, really, aggressive, blast, obn...  \n",
            "4           [virginamerica, really, big, bad, thing]  \n"
          ]
        }
      ]
    },
    {
      "cell_type": "markdown",
      "metadata": {
        "id": "persistent-projection"
      },
      "source": [
        "#### Apply Lemmatization to the words"
      ],
      "id": "persistent-projection"
    },
    {
      "cell_type": "code",
      "metadata": {
        "id": "asian-parade",
        "colab": {
          "base_uri": "https://localhost:8080/"
        },
        "outputId": "33bd49e1-5e25-4ab2-dbe2-c1d7194e63a6"
      },
      "source": [
        "# YOUR CODE HERE\n",
        "import pandas as pd\n",
        "import nltk\n",
        "from nltk.tokenize import word_tokenize\n",
        "from nltk.corpus import stopwords\n",
        "from nltk.stem import WordNetLemmatizer\n",
        "\n",
        "# Download necessary NLTK resources (Run this only once)\n",
        "nltk.download('punkt')\n",
        "nltk.download('stopwords')\n",
        "nltk.download('wordnet')\n",
        "\n",
        "# Load the dataset\n",
        "file_path = \"US_Airline_Tweets.csv\"  # Adjust the path if needed\n",
        "df = pd.read_csv(file_path)\n",
        "\n",
        "# Define stop words in English\n",
        "stop_words = set(stopwords.words('english'))\n",
        "\n",
        "# Initialize Lemmatizer\n",
        "lemmatizer = WordNetLemmatizer()\n",
        "\n",
        "# Function to clean, tokenize, remove stopwords, and apply lemmatization\n",
        "def preprocess_tweet(text):\n",
        "    tokens = word_tokenize(str(text).lower())  # Convert to lowercase and tokenize\n",
        "    filtered_tokens = [word for word in tokens if word.isalpha() and word not in stop_words]  # Remove stopwords and non-alphabetic words\n",
        "    lemmatized_tokens = [lemmatizer.lemmatize(word) for word in filtered_tokens]  # Apply Lemmatization\n",
        "    return lemmatized_tokens\n",
        "\n",
        "# Apply preprocessing to the text column\n",
        "df['lemmatized_text'] = df['text'].apply(preprocess_tweet)\n",
        "\n",
        "# Display first few tokenized and lemmatized tweets\n",
        "print(df[['text', 'lemmatized_text']].head())\n",
        "\n",
        "# Save the cleaned dataset if needed\n",
        "df.to_csv(\"US_Airline_Tweets_Lemmatized.csv\", index=False)\n"
      ],
      "id": "asian-parade",
      "execution_count": 17,
      "outputs": [
        {
          "output_type": "stream",
          "name": "stderr",
          "text": [
            "[nltk_data] Downloading package punkt to /root/nltk_data...\n",
            "[nltk_data]   Package punkt is already up-to-date!\n",
            "[nltk_data] Downloading package stopwords to /root/nltk_data...\n",
            "[nltk_data]   Package stopwords is already up-to-date!\n",
            "[nltk_data] Downloading package wordnet to /root/nltk_data...\n",
            "[nltk_data]   Package wordnet is already up-to-date!\n"
          ]
        },
        {
          "output_type": "stream",
          "name": "stdout",
          "text": [
            "                                                text  \\\n",
            "0                @VirginAmerica What @dhepburn said.   \n",
            "1  @VirginAmerica plus you've added commercials t...   \n",
            "2  @VirginAmerica I didn't today... Must mean I n...   \n",
            "3  @VirginAmerica it's really aggressive to blast...   \n",
            "4  @VirginAmerica and it's a really big bad thing...   \n",
            "\n",
            "                                     lemmatized_text  \n",
            "0                    [virginamerica, dhepburn, said]  \n",
            "1  [virginamerica, plus, added, commercial, exper...  \n",
            "2  [virginamerica, today, must, mean, need, take,...  \n",
            "3  [virginamerica, really, aggressive, blast, obn...  \n",
            "4           [virginamerica, really, big, bad, thing]  \n"
          ]
        }
      ]
    },
    {
      "cell_type": "markdown",
      "metadata": {
        "id": "UR5FnuSn-c-S"
      },
      "source": [
        "### Feature Extraction (3 points)\n",
        "\n",
        "Create the useful features from the text column to train the model\n",
        "\n",
        "For example:\n",
        "* Length of the tweet\n",
        "* No. of hashtags in the tweet starting with '#'\n",
        "* No. of mentions in the tweet starting with '@'\n",
        "\n",
        "Hint: create a new column for each of the above features"
      ],
      "id": "UR5FnuSn-c-S"
    },
    {
      "cell_type": "code",
      "metadata": {
        "id": "lyric-processor",
        "colab": {
          "base_uri": "https://localhost:8080/"
        },
        "outputId": "07e97764-3a45-4a6a-f0af-e8076d9060ea"
      },
      "source": [
        "# YOUR CODE HERE\n",
        "\n",
        "import pandas as pd\n",
        "import re\n",
        "\n",
        "# Load the dataset\n",
        "file_path = \"US_Airline_Tweets.csv\"  # Update the path if needed\n",
        "df = pd.read_csv(file_path)\n",
        "\n",
        "# Feature extraction functions\n",
        "\n",
        "# Function to calculate length of the tweet\n",
        "def tweet_length(text):\n",
        "    return len(str(text))\n",
        "\n",
        "# Function to count hashtags in the tweet\n",
        "def count_hashtags(text):\n",
        "    return len(re.findall(r'#\\w+', str(text)))\n",
        "\n",
        "# Function to count mentions in the tweet\n",
        "def count_mentions(text):\n",
        "    return len(re.findall(r'@\\w+', str(text)))\n",
        "\n",
        "# Apply functions to create new feature columns\n",
        "df['tweet_length'] = df['text'].apply(tweet_length)\n",
        "df['num_hashtags'] = df['text'].apply(count_hashtags)\n",
        "df['num_mentions'] = df['text'].apply(count_mentions)\n",
        "\n",
        "# Display the first few rows of the dataset with new features\n",
        "print(df[['text', 'tweet_length', 'num_hashtags', 'num_mentions']].head())\n",
        "\n",
        "# Save the updated dataset if needed\n",
        "df.to_csv(\"US_Airline_Tweets_Features.csv\", index=False)\n"
      ],
      "id": "lyric-processor",
      "execution_count": 18,
      "outputs": [
        {
          "output_type": "stream",
          "name": "stdout",
          "text": [
            "                                                text  tweet_length  \\\n",
            "0                @VirginAmerica What @dhepburn said.            35   \n",
            "1  @VirginAmerica plus you've added commercials t...            72   \n",
            "2  @VirginAmerica I didn't today... Must mean I n...            71   \n",
            "3  @VirginAmerica it's really aggressive to blast...           126   \n",
            "4  @VirginAmerica and it's a really big bad thing...            55   \n",
            "\n",
            "   num_hashtags  num_mentions  \n",
            "0             0             2  \n",
            "1             0             1  \n",
            "2             0             1  \n",
            "3             0             1  \n",
            "4             0             1  \n"
          ]
        }
      ]
    },
    {
      "cell_type": "markdown",
      "metadata": {
        "id": "under-point"
      },
      "source": [
        "#### Get the features by applying CountVectorizer\n",
        "CountVectorizer converts the list of tokens to vectors of token counts. See the [documentation](https://spark.apache.org/docs/latest/ml-features.html#countvectorizer) for details."
      ],
      "id": "under-point"
    },
    {
      "cell_type": "code",
      "metadata": {
        "id": "christian-voltage",
        "colab": {
          "base_uri": "https://localhost:8080/"
        },
        "outputId": "6c5bf475-05e3-43df-f5c7-3f0b29d41676"
      },
      "source": [
        "# YOUR CODE HERE\n",
        "\n",
        "import pandas as pd\n",
        "from sklearn.feature_extraction.text import CountVectorizer\n",
        "\n",
        "# Load the dataset\n",
        "file_path = \"US_Airline_Tweets.csv\"  # Update the path if needed\n",
        "df = pd.read_csv(file_path)\n",
        "\n",
        "# Initialize CountVectorizer\n",
        "vectorizer = CountVectorizer()\n",
        "\n",
        "# Fit and transform the text data\n",
        "X = vectorizer.fit_transform(df['text'].astype(str))  # Convert to string to avoid NaN issues\n",
        "\n",
        "# Convert to DataFrame for better visualization\n",
        "feature_names = vectorizer.get_feature_names_out()\n",
        "vectorized_df = pd.DataFrame(X.toarray(), columns=feature_names)\n",
        "\n",
        "# Display first few rows of the vectorized features\n",
        "print(vectorized_df.head())\n",
        "\n",
        "# Save the vectorized dataset if needed\n",
        "vectorized_df.to_csv(\"US_Airline_Tweets_CountVectorized.csv\", index=False)\n"
      ],
      "id": "christian-voltage",
      "execution_count": 19,
      "outputs": [
        {
          "output_type": "stream",
          "name": "stdout",
          "text": [
            "   00  000  000114  000419  000ft  000lbs  0011  0016  00a  00am  ...  \\\n",
            "0   0    0       0       0      0       0     0     0    0     0  ...   \n",
            "1   0    0       0       0      0       0     0     0    0     0  ...   \n",
            "2   0    0       0       0      0       0     0     0    0     0  ...   \n",
            "3   0    0       0       0      0       0     0     0    0     0  ...   \n",
            "4   0    0       0       0      0       0     0     0    0     0  ...   \n",
            "\n",
            "   zrh_airport  zsdgzydnde  zsuztnaijq  ztrdwv0n4l  zukes  zurich  zv2pt6trk9  \\\n",
            "0            0           0           0           0      0       0           0   \n",
            "1            0           0           0           0      0       0           0   \n",
            "2            0           0           0           0      0       0           0   \n",
            "3            0           0           0           0      0       0           0   \n",
            "4            0           0           0           0      0       0           0   \n",
            "\n",
            "   zv6cfpohl5  zvfmxnuelj  zzps5ywve2  \n",
            "0           0           0           0  \n",
            "1           0           0           0  \n",
            "2           0           0           0  \n",
            "3           0           0           0  \n",
            "4           0           0           0  \n",
            "\n",
            "[5 rows x 15051 columns]\n"
          ]
        }
      ]
    },
    {
      "cell_type": "markdown",
      "metadata": {
        "id": "killing-aside"
      },
      "source": [
        "#### Encode the labels\n",
        "\n",
        "Using the `udf` function encode the string values of *airline_sentiment* to integers."
      ],
      "id": "killing-aside"
    },
    {
      "cell_type": "code",
      "metadata": {
        "id": "assigned-trout"
      },
      "source": [
        "def LabelEncoder(x):\n",
        "    if x == 'positive':\n",
        "        return 0\n",
        "    elif x == 'negative':\n",
        "        return 1\n",
        "    return 2\n",
        "\n",
        "# YOUR CODE HERE"
      ],
      "id": "assigned-trout",
      "execution_count": 20,
      "outputs": []
    },
    {
      "cell_type": "code",
      "source": [
        "import pandas as pd\n",
        "\n",
        "# Load the dataset\n",
        "file_path = \"US_Airline_Tweets.csv\"  # Update the path if needed\n",
        "df = pd.read_csv(file_path)\n",
        "\n",
        "# Define the label encoding function\n",
        "def LabelEncoder(x):\n",
        "    if x == 'positive':\n",
        "        return 0\n",
        "    elif x == 'negative':\n",
        "        return 1\n",
        "    return 2  # For 'neutral'\n",
        "\n",
        "# Apply label encoding to the 'airline_sentiment' column\n",
        "df['sentiment_encoded'] = df['airline_sentiment'].apply(LabelEncoder)\n",
        "\n",
        "# Display first few rows of encoded labels\n",
        "print(df[['airline_sentiment', 'sentiment_encoded']].head())\n",
        "\n",
        "# Save the dataset with encoded labels if needed\n",
        "df.to_csv(\"US_Airline_Tweets_Encoded.csv\", index=False)\n"
      ],
      "metadata": {
        "id": "AlKtJJKJYu6g",
        "outputId": "8d52a5ff-d71d-4467-d9ca-6ec66ae16328",
        "colab": {
          "base_uri": "https://localhost:8080/"
        }
      },
      "id": "AlKtJJKJYu6g",
      "execution_count": 21,
      "outputs": [
        {
          "output_type": "stream",
          "name": "stdout",
          "text": [
            "  airline_sentiment  sentiment_encoded\n",
            "0           neutral                  2\n",
            "1          positive                  0\n",
            "2           neutral                  2\n",
            "3          negative                  1\n",
            "4          negative                  1\n"
          ]
        }
      ]
    },
    {
      "cell_type": "markdown",
      "metadata": {
        "id": "NqnjXJR9IC5d"
      },
      "source": [
        "### Train the classifier the evaluate (1 point)"
      ],
      "id": "NqnjXJR9IC5d"
    },
    {
      "cell_type": "markdown",
      "metadata": {
        "id": "attempted-lender"
      },
      "source": [
        "#### Create vector assembler with the selected features to train the model"
      ],
      "id": "attempted-lender"
    },
    {
      "cell_type": "code",
      "metadata": {
        "id": "stuffed-seating",
        "colab": {
          "base_uri": "https://localhost:8080/"
        },
        "outputId": "727eabd5-21c1-45c0-b963-68297332d807"
      },
      "source": [
        "# YOUR CODE HERE\n",
        "\n",
        "from pyspark.sql import SparkSession\n",
        "from pyspark.sql.functions import length, size, split\n",
        "from pyspark.ml.feature import VectorAssembler\n",
        "\n",
        "# Initialize Spark Session\n",
        "spark = SparkSession.builder.appName(\"AirlineSentimentAnalysis\").getOrCreate()\n",
        "\n",
        "# Load dataset into Spark DataFrame\n",
        "file_path = \"US_Airline_Tweets.csv\"  # Adjust the path if needed\n",
        "df_spark = spark.read.csv(file_path, header=True, inferSchema=True)\n",
        "\n",
        "# Extract features:\n",
        "df_spark = df_spark.withColumn(\"tweet_length\", length(df_spark[\"text\"]))  # Length of tweet\n",
        "df_spark = df_spark.withColumn(\"num_hashtags\", size(split(df_spark[\"text\"], \"#\")) - 1)  # Count hashtags\n",
        "df_spark = df_spark.withColumn(\"num_mentions\", size(split(df_spark[\"text\"], \"@\")) - 1)  # Count mentions\n",
        "\n",
        "# Select features for training\n",
        "feature_columns = [\"tweet_length\", \"num_hashtags\", \"num_mentions\"]\n",
        "\n",
        "# Create Vector Assembler\n",
        "vector_assembler = VectorAssembler(inputCols=feature_columns, outputCol=\"features\")\n",
        "\n",
        "# Transform the dataset\n",
        "df_transformed = vector_assembler.transform(df_spark)\n",
        "\n",
        "# Show transformed dataset with feature vectors\n",
        "df_transformed.select(\"tweet_length\", \"num_hashtags\", \"num_mentions\", \"features\").show(5, truncate=False)\n",
        "\n",
        "# Stop the Spark session\n",
        "spark.stop()\n"
      ],
      "id": "stuffed-seating",
      "execution_count": 23,
      "outputs": [
        {
          "output_type": "stream",
          "name": "stdout",
          "text": [
            "+------------+------------+------------+---------------+\n",
            "|tweet_length|num_hashtags|num_mentions|features       |\n",
            "+------------+------------+------------+---------------+\n",
            "|35          |0           |2           |[35.0,0.0,2.0] |\n",
            "|72          |0           |1           |[72.0,0.0,1.0] |\n",
            "|71          |0           |1           |[71.0,0.0,1.0] |\n",
            "|130         |0           |1           |[130.0,0.0,1.0]|\n",
            "|55          |0           |1           |[55.0,0.0,1.0] |\n",
            "+------------+------------+------------+---------------+\n",
            "only showing top 5 rows\n",
            "\n"
          ]
        }
      ]
    },
    {
      "cell_type": "markdown",
      "metadata": {
        "id": "bored-metropolitan"
      },
      "source": [
        "#### Arrange features and label and split them into train and test."
      ],
      "id": "bored-metropolitan"
    },
    {
      "cell_type": "code",
      "metadata": {
        "id": "structured-actress",
        "colab": {
          "base_uri": "https://localhost:8080/"
        },
        "outputId": "9f4e3e01-d167-42ab-bd59-ef6349ca6349"
      },
      "source": [
        "# YOUR CODE HERE\n",
        "\n",
        "from pyspark.sql import SparkSession\n",
        "from pyspark.sql.functions import length, size, split, col\n",
        "from pyspark.ml.feature import VectorAssembler\n",
        "from pyspark.sql.types import IntegerType, DoubleType\n",
        "\n",
        "# Initialize Spark Session\n",
        "spark = SparkSession.builder.appName(\"AirlineSentimentAnalysis\").getOrCreate()\n",
        "\n",
        "# Load dataset into Spark DataFrame\n",
        "file_path = \"US_Airline_Tweets.csv\"  # Adjust the path if needed\n",
        "df_spark = spark.read.csv(file_path, header=True, inferSchema=True)\n",
        "\n",
        "# Extract features\n",
        "df_spark = df_spark.withColumn(\"tweet_length\", length(df_spark[\"text\"]))  # Length of tweet\n",
        "df_spark = df_spark.withColumn(\"num_hashtags\", size(split(df_spark[\"text\"], \"#\")) - 1)  # Count hashtags\n",
        "df_spark = df_spark.withColumn(\"num_mentions\", size(split(df_spark[\"text\"], \"@\")) - 1)  # Count mentions\n",
        "\n",
        "# Handle missing values by replacing nulls with 0\n",
        "df_spark = df_spark.fillna(0, subset=[\"tweet_length\", \"num_hashtags\", \"num_mentions\"])\n",
        "\n",
        "# Convert features to the correct data type (DoubleType for ML models)\n",
        "df_spark = df_spark.withColumn(\"tweet_length\", col(\"tweet_length\").cast(DoubleType()))\n",
        "df_spark = df_spark.withColumn(\"num_hashtags\", col(\"num_hashtags\").cast(DoubleType()))\n",
        "df_spark = df_spark.withColumn(\"num_mentions\", col(\"num_mentions\").cast(DoubleType()))\n",
        "\n",
        "# Encode labels manually\n",
        "def label_encoder(sentiment):\n",
        "    if sentiment == \"positive\":\n",
        "        return 0\n",
        "    elif sentiment == \"negative\":\n",
        "        return 1\n",
        "    return 2  # For 'neutral'\n",
        "\n",
        "from pyspark.sql.functions import udf\n",
        "from pyspark.sql.types import IntegerType\n",
        "\n",
        "label_udf = udf(label_encoder, IntegerType())\n",
        "df_spark = df_spark.withColumn(\"label\", label_udf(df_spark[\"airline_sentiment\"]))\n",
        "\n",
        "# Select features and labels for training\n",
        "feature_columns = [\"tweet_length\", \"num_hashtags\", \"num_mentions\"]\n",
        "vector_assembler = VectorAssembler(inputCols=feature_columns, outputCol=\"features\", handleInvalid=\"keep\")\n",
        "\n",
        "# Transform the dataset\n",
        "df_transformed = vector_assembler.transform(df_spark).select(\"features\", \"label\")\n",
        "\n",
        "# Split the dataset into train (80%) and test (20%)\n",
        "train_data, test_data = df_transformed.randomSplit([0.8, 0.2], seed=42)\n",
        "\n",
        "# Show dataset split info\n",
        "print(f\"Training Data Count: {train_data.count()}\")\n",
        "print(f\"Test Data Count: {test_data.count()}\")\n",
        "\n",
        "# Stop the Spark session\n",
        "spark.stop()\n",
        "\n"
      ],
      "id": "structured-actress",
      "execution_count": 25,
      "outputs": [
        {
          "output_type": "stream",
          "name": "stdout",
          "text": [
            "Training Data Count: 11931\n",
            "Test Data Count: 2906\n"
          ]
        }
      ]
    },
    {
      "cell_type": "markdown",
      "metadata": {
        "id": "fiscal-utilization"
      },
      "source": [
        "#### Train the model with train data and make predictions on the test data\n",
        "\n",
        "For classification of text data, implement NaiveBayes classifier. It is a probabilistic machine learning model.\n",
        "\n",
        "For more information about **NaiveBayes Classifier**, click [here](https://spark.apache.org/docs/latest/ml-classification-regression.html#naive-bayes)"
      ],
      "id": "fiscal-utilization"
    },
    {
      "cell_type": "code",
      "metadata": {
        "id": "destroyed-religion",
        "colab": {
          "base_uri": "https://localhost:8080/",
          "height": 321
        },
        "outputId": "55c3abf5-af49-41d6-c918-3859c3848b87"
      },
      "source": [
        "nb = NaiveBayes(featuresCol='features', labelCol='labels')\n",
        "# Fit the model with train data\n",
        "model = nb.fit(train_data)"
      ],
      "id": "destroyed-religion",
      "execution_count": 27,
      "outputs": [
        {
          "output_type": "error",
          "ename": "AssertionError",
          "evalue": "",
          "traceback": [
            "\u001b[0;31m---------------------------------------------------------------------------\u001b[0m",
            "\u001b[0;31mAssertionError\u001b[0m                            Traceback (most recent call last)",
            "\u001b[0;32m<ipython-input-27-0677625c726d>\u001b[0m in \u001b[0;36m<cell line: 0>\u001b[0;34m()\u001b[0m\n\u001b[0;32m----> 1\u001b[0;31m \u001b[0mnb\u001b[0m \u001b[0;34m=\u001b[0m \u001b[0mNaiveBayes\u001b[0m\u001b[0;34m(\u001b[0m\u001b[0mfeaturesCol\u001b[0m\u001b[0;34m=\u001b[0m\u001b[0;34m'features'\u001b[0m\u001b[0;34m,\u001b[0m \u001b[0mlabelCol\u001b[0m\u001b[0;34m=\u001b[0m\u001b[0;34m'labels'\u001b[0m\u001b[0;34m)\u001b[0m\u001b[0;34m\u001b[0m\u001b[0;34m\u001b[0m\u001b[0m\n\u001b[0m\u001b[1;32m      2\u001b[0m \u001b[0;31m# Fit the model with train data\u001b[0m\u001b[0;34m\u001b[0m\u001b[0;34m\u001b[0m\u001b[0m\n\u001b[1;32m      3\u001b[0m \u001b[0mmodel\u001b[0m \u001b[0;34m=\u001b[0m \u001b[0mnb\u001b[0m\u001b[0;34m.\u001b[0m\u001b[0mfit\u001b[0m\u001b[0;34m(\u001b[0m\u001b[0mtrain_data\u001b[0m\u001b[0;34m)\u001b[0m\u001b[0;34m\u001b[0m\u001b[0;34m\u001b[0m\u001b[0m\n",
            "\u001b[0;32m/usr/local/lib/python3.11/dist-packages/pyspark/__init__.py\u001b[0m in \u001b[0;36mwrapper\u001b[0;34m(self, *args, **kwargs)\u001b[0m\n\u001b[1;32m    137\u001b[0m             \u001b[0;32mraise\u001b[0m \u001b[0mTypeError\u001b[0m\u001b[0;34m(\u001b[0m\u001b[0;34m\"Method %s forces keyword arguments.\"\u001b[0m \u001b[0;34m%\u001b[0m \u001b[0mfunc\u001b[0m\u001b[0;34m.\u001b[0m\u001b[0m__name__\u001b[0m\u001b[0;34m)\u001b[0m\u001b[0;34m\u001b[0m\u001b[0;34m\u001b[0m\u001b[0m\n\u001b[1;32m    138\u001b[0m         \u001b[0mself\u001b[0m\u001b[0;34m.\u001b[0m\u001b[0m_input_kwargs\u001b[0m \u001b[0;34m=\u001b[0m \u001b[0mkwargs\u001b[0m\u001b[0;34m\u001b[0m\u001b[0;34m\u001b[0m\u001b[0m\n\u001b[0;32m--> 139\u001b[0;31m         \u001b[0;32mreturn\u001b[0m \u001b[0mfunc\u001b[0m\u001b[0;34m(\u001b[0m\u001b[0mself\u001b[0m\u001b[0;34m,\u001b[0m \u001b[0;34m**\u001b[0m\u001b[0mkwargs\u001b[0m\u001b[0;34m)\u001b[0m\u001b[0;34m\u001b[0m\u001b[0;34m\u001b[0m\u001b[0m\n\u001b[0m\u001b[1;32m    140\u001b[0m \u001b[0;34m\u001b[0m\u001b[0m\n\u001b[1;32m    141\u001b[0m     \u001b[0;32mreturn\u001b[0m \u001b[0mcast\u001b[0m\u001b[0;34m(\u001b[0m\u001b[0m_F\u001b[0m\u001b[0;34m,\u001b[0m \u001b[0mwrapper\u001b[0m\u001b[0;34m)\u001b[0m\u001b[0;34m\u001b[0m\u001b[0;34m\u001b[0m\u001b[0m\n",
            "\u001b[0;32m/usr/local/lib/python3.11/dist-packages/pyspark/ml/classification.py\u001b[0m in \u001b[0;36m__init__\u001b[0;34m(self, featuresCol, labelCol, predictionCol, probabilityCol, rawPredictionCol, smoothing, modelType, thresholds, weightCol)\u001b[0m\n\u001b[1;32m   2953\u001b[0m         \"\"\"\n\u001b[1;32m   2954\u001b[0m         \u001b[0msuper\u001b[0m\u001b[0;34m(\u001b[0m\u001b[0mNaiveBayes\u001b[0m\u001b[0;34m,\u001b[0m \u001b[0mself\u001b[0m\u001b[0;34m)\u001b[0m\u001b[0;34m.\u001b[0m\u001b[0m__init__\u001b[0m\u001b[0;34m(\u001b[0m\u001b[0;34m)\u001b[0m\u001b[0;34m\u001b[0m\u001b[0;34m\u001b[0m\u001b[0m\n\u001b[0;32m-> 2955\u001b[0;31m         self._java_obj = self._new_java_obj(\n\u001b[0m\u001b[1;32m   2956\u001b[0m             \u001b[0;34m\"org.apache.spark.ml.classification.NaiveBayes\"\u001b[0m\u001b[0;34m,\u001b[0m \u001b[0mself\u001b[0m\u001b[0;34m.\u001b[0m\u001b[0muid\u001b[0m\u001b[0;34m\u001b[0m\u001b[0;34m\u001b[0m\u001b[0m\n\u001b[1;32m   2957\u001b[0m         )\n",
            "\u001b[0;32m/usr/local/lib/python3.11/dist-packages/pyspark/ml/wrapper.py\u001b[0m in \u001b[0;36m_new_java_obj\u001b[0;34m(java_class, *args)\u001b[0m\n\u001b[1;32m     78\u001b[0m         \"\"\"\n\u001b[1;32m     79\u001b[0m         \u001b[0msc\u001b[0m \u001b[0;34m=\u001b[0m \u001b[0mSparkContext\u001b[0m\u001b[0;34m.\u001b[0m\u001b[0m_active_spark_context\u001b[0m\u001b[0;34m\u001b[0m\u001b[0;34m\u001b[0m\u001b[0m\n\u001b[0;32m---> 80\u001b[0;31m         \u001b[0;32massert\u001b[0m \u001b[0msc\u001b[0m \u001b[0;32mis\u001b[0m \u001b[0;32mnot\u001b[0m \u001b[0;32mNone\u001b[0m\u001b[0;34m\u001b[0m\u001b[0;34m\u001b[0m\u001b[0m\n\u001b[0m\u001b[1;32m     81\u001b[0m \u001b[0;34m\u001b[0m\u001b[0m\n\u001b[1;32m     82\u001b[0m         \u001b[0mjava_obj\u001b[0m \u001b[0;34m=\u001b[0m \u001b[0m_jvm\u001b[0m\u001b[0;34m(\u001b[0m\u001b[0;34m)\u001b[0m\u001b[0;34m\u001b[0m\u001b[0;34m\u001b[0m\u001b[0m\n",
            "\u001b[0;31mAssertionError\u001b[0m: "
          ]
        }
      ]
    },
    {
      "cell_type": "code",
      "source": [
        "from pyspark.sql import SparkSession\n",
        "from pyspark.sql.functions import length, size, split, col, when\n",
        "from pyspark.ml.feature import VectorAssembler\n",
        "from pyspark.ml.classification import NaiveBayes\n",
        "from pyspark.sql.types import IntegerType, DoubleType\n",
        "\n",
        "# Initialize Spark Session\n",
        "spark = SparkSession.builder.appName(\"AirlineSentimentAnalysis\").getOrCreate()\n",
        "\n",
        "# Load dataset into Spark DataFrame\n",
        "file_path = \"US_Airline_Tweets.csv\"  # Adjust the path if needed\n",
        "df_spark = spark.read.csv(file_path, header=True, inferSchema=True)\n",
        "\n",
        "# Extract features\n",
        "df_spark = df_spark.withColumn(\"tweet_length\", length(df_spark[\"text\"]))  # Length of tweet\n",
        "df_spark = df_spark.withColumn(\"num_hashtags\", size(split(df_spark[\"text\"], \"#\")) - 1)  # Count hashtags\n",
        "df_spark = df_spark.withColumn(\"num_mentions\", size(split(df_spark[\"text\"], \"@\")) - 1)  # Count mentions\n",
        "\n",
        "# Ensure num_hashtags and num_mentions are non-negative\n",
        "df_spark = df_spark.withColumn(\"num_hashtags\", when(col(\"num_hashtags\") < 0, 0).otherwise(col(\"num_hashtags\")))\n",
        "df_spark = df_spark.withColumn(\"num_mentions\", when(col(\"num_mentions\") < 0, 0).otherwise(col(\"num_mentions\")))\n",
        "\n",
        "# Handle missing values by replacing nulls with 0\n",
        "df_spark = df_spark.fillna(0, subset=[\"tweet_length\", \"num_hashtags\", \"num_mentions\"])\n",
        "\n",
        "# Convert features to the correct data type (DoubleType for ML models)\n",
        "df_spark = df_spark.withColumn(\"tweet_length\", col(\"tweet_length\").cast(DoubleType()))\n",
        "df_spark = df_spark.withColumn(\"num_hashtags\", col(\"num_hashtags\").cast(DoubleType()))\n",
        "df_spark = df_spark.withColumn(\"num_mentions\", col(\"num_mentions\").cast(DoubleType()))\n",
        "\n",
        "# Encode labels manually\n",
        "def label_encoder(sentiment):\n",
        "    if sentiment == \"positive\":\n",
        "        return 0\n",
        "    elif sentiment == \"negative\":\n",
        "        return 1\n",
        "    return 2  # For 'neutral'\n",
        "\n",
        "from pyspark.sql.functions import udf\n",
        "label_udf = udf(label_encoder, IntegerType())\n",
        "df_spark = df_spark.withColumn(\"label\", label_udf(df_spark[\"airline_sentiment\"]))\n",
        "\n",
        "# Select features and labels for training\n",
        "feature_columns = [\"tweet_length\", \"num_hashtags\", \"num_mentions\"]\n",
        "vector_assembler = VectorAssembler(inputCols=feature_columns, outputCol=\"features\", handleInvalid=\"keep\")\n",
        "\n",
        "# Transform the dataset\n",
        "df_transformed = vector_assembler.transform(df_spark).select(\"features\", \"label\")\n",
        "\n",
        "# Filter out rows with NaN or Infinity\n",
        "df_transformed = df_transformed.na.drop()\n",
        "\n",
        "# Split the dataset into train (80%) and test (20%)\n",
        "train_data, test_data = df_transformed.randomSplit([0.8, 0.2], seed=42)\n",
        "\n",
        "# Train NaiveBayes model\n",
        "nb = NaiveBayes(featuresCol=\"features\", labelCol=\"label\")\n",
        "model = nb.fit(train_data)\n",
        "\n",
        "# Make predictions on the test data\n",
        "predictions = model.transform(test_data)\n",
        "\n",
        "# Show predictions\n",
        "predictions.select(\"features\", \"label\", \"prediction\").show(10, truncate=False)\n",
        "\n",
        "# Stop the Spark session\n",
        "spark.stop()\n",
        "\n"
      ],
      "metadata": {
        "id": "MlJIILXzchGa",
        "outputId": "5fdc605c-2d86-43ee-c246-2a092a9bc03b",
        "colab": {
          "base_uri": "https://localhost:8080/"
        }
      },
      "id": "MlJIILXzchGa",
      "execution_count": 29,
      "outputs": [
        {
          "output_type": "stream",
          "name": "stdout",
          "text": [
            "+---------+-----+----------+\n",
            "|features |label|prediction|\n",
            "+---------+-----+----------+\n",
            "|(3,[],[])|1    |1.0       |\n",
            "|(3,[],[])|1    |1.0       |\n",
            "|(3,[],[])|2    |1.0       |\n",
            "|(3,[],[])|2    |1.0       |\n",
            "|(3,[],[])|2    |1.0       |\n",
            "|(3,[],[])|2    |1.0       |\n",
            "|(3,[],[])|2    |1.0       |\n",
            "|(3,[],[])|2    |1.0       |\n",
            "|(3,[],[])|2    |1.0       |\n",
            "|(3,[],[])|2    |1.0       |\n",
            "+---------+-----+----------+\n",
            "only showing top 10 rows\n",
            "\n"
          ]
        }
      ]
    },
    {
      "cell_type": "code",
      "metadata": {
        "id": "seeing-money",
        "colab": {
          "base_uri": "https://localhost:8080/"
        },
        "outputId": "db8bd446-e0dc-4cde-a870-39a3f516fb86"
      },
      "source": [
        "# get the predictions\n",
        "# YOUR CODE HERE\n",
        "\n",
        "from pyspark.sql import SparkSession\n",
        "from pyspark.ml.classification import NaiveBayes\n",
        "from pyspark.sql.functions import length, size, split, col, when\n",
        "from pyspark.ml.feature import VectorAssembler\n",
        "from pyspark.sql.types import IntegerType, DoubleType\n",
        "\n",
        "# Step 1: Ensure Spark Session is active\n",
        "spark = SparkSession.builder.appName(\"AirlineSentimentAnalysis\").getOrCreate()\n",
        "\n",
        "# Step 2: Load and preprocess dataset\n",
        "file_path = \"US_Airline_Tweets.csv\"\n",
        "df_spark = spark.read.csv(file_path, header=True, inferSchema=True)\n",
        "\n",
        "# Extract features\n",
        "df_spark = df_spark.withColumn(\"tweet_length\", length(df_spark[\"text\"]))\n",
        "df_spark = df_spark.withColumn(\"num_hashtags\", size(split(df_spark[\"text\"], \"#\")) - 1)\n",
        "df_spark = df_spark.withColumn(\"num_mentions\", size(split(df_spark[\"text\"], \"@\")) - 1)\n",
        "\n",
        "# Ensure features are non-negative\n",
        "df_spark = df_spark.withColumn(\"num_hashtags\", when(col(\"num_hashtags\") < 0, 0).otherwise(col(\"num_hashtags\")))\n",
        "df_spark = df_spark.withColumn(\"num_mentions\", when(col(\"num_mentions\") < 0, 0).otherwise(col(\"num_mentions\")))\n",
        "\n",
        "# Handle missing values\n",
        "df_spark = df_spark.fillna(0, subset=[\"tweet_length\", \"num_hashtags\", \"num_mentions\"])\n",
        "\n",
        "# Convert to DoubleType\n",
        "df_spark = df_spark.withColumn(\"tweet_length\", col(\"tweet_length\").cast(DoubleType()))\n",
        "df_spark = df_spark.withColumn(\"num_hashtags\", col(\"num_hashtags\").cast(DoubleType()))\n",
        "df_spark = df_spark.withColumn(\"num_mentions\", col(\"num_mentions\").cast(DoubleType()))\n",
        "\n",
        "# Encode labels\n",
        "def label_encoder(sentiment):\n",
        "    if sentiment == \"positive\":\n",
        "        return 0\n",
        "    elif sentiment == \"negative\":\n",
        "        return 1\n",
        "    return 2  # 'neutral'\n",
        "\n",
        "from pyspark.sql.functions import udf\n",
        "label_udf = udf(label_encoder, IntegerType())\n",
        "df_spark = df_spark.withColumn(\"label\", label_udf(df_spark[\"airline_sentiment\"]))\n",
        "\n",
        "# Assemble features\n",
        "vector_assembler = VectorAssembler(inputCols=[\"tweet_length\", \"num_hashtags\", \"num_mentions\"], outputCol=\"features\", handleInvalid=\"keep\")\n",
        "df_transformed = vector_assembler.transform(df_spark).select(\"features\", \"label\").na.drop()\n",
        "\n",
        "# Step 3: Split Data\n",
        "train_data, test_data = df_transformed.randomSplit([0.8, 0.2], seed=42)\n",
        "\n",
        "# Step 4: Train Model\n",
        "nb = NaiveBayes(featuresCol=\"features\", labelCol=\"label\")\n",
        "model = nb.fit(train_data)\n",
        "\n",
        "# Step 5: Make Predictions\n",
        "predictions = model.transform(test_data)\n",
        "\n",
        "# Step 6: Display Predictions\n",
        "predictions.select(\"features\", \"label\", \"prediction\").show(10, truncate=False)\n",
        "\n",
        "# Step 7: Save Predictions\n",
        "predictions.select(\"label\", \"prediction\").toPandas().to_csv(\"NaiveBayes_Predictions.csv\", index=False)\n",
        "\n",
        "print(\"Predictions saved successfully as NaiveBayes_Predictions.csv\")\n",
        "\n",
        "# Step 8: Stop Spark Session\n",
        "spark.stop()\n",
        "\n"
      ],
      "id": "seeing-money",
      "execution_count": 31,
      "outputs": [
        {
          "output_type": "stream",
          "name": "stdout",
          "text": [
            "+---------+-----+----------+\n",
            "|features |label|prediction|\n",
            "+---------+-----+----------+\n",
            "|(3,[],[])|1    |1.0       |\n",
            "|(3,[],[])|1    |1.0       |\n",
            "|(3,[],[])|2    |1.0       |\n",
            "|(3,[],[])|2    |1.0       |\n",
            "|(3,[],[])|2    |1.0       |\n",
            "|(3,[],[])|2    |1.0       |\n",
            "|(3,[],[])|2    |1.0       |\n",
            "|(3,[],[])|2    |1.0       |\n",
            "|(3,[],[])|2    |1.0       |\n",
            "|(3,[],[])|2    |1.0       |\n",
            "+---------+-----+----------+\n",
            "only showing top 10 rows\n",
            "\n",
            "Predictions saved successfully as NaiveBayes_Predictions.csv\n"
          ]
        }
      ]
    },
    {
      "cell_type": "markdown",
      "metadata": {
        "id": "foreign-consent"
      },
      "source": [
        "#### Evaluate the model and find the accuracy\n",
        "\n",
        "Compare the labels and predictions and find how many are correct.\n",
        "\n",
        "To find the accuracy, get the count of correct predictions from test data and divide by the total amount of test dataset.\n",
        "\n",
        "**Hint:** convert the predictions dataframe to pandas and compare with labels"
      ],
      "id": "foreign-consent"
    },
    {
      "cell_type": "code",
      "metadata": {
        "id": "greenhouse-crack",
        "colab": {
          "base_uri": "https://localhost:8080/"
        },
        "outputId": "0460d058-2513-422a-ee93-70f376a6bf38"
      },
      "source": [
        "# YOUR CODE HERE\n",
        "from pyspark.sql import SparkSession\n",
        "from pyspark.ml.classification import NaiveBayes\n",
        "from pyspark.sql.functions import length, size, split, col, when\n",
        "from pyspark.ml.feature import VectorAssembler\n",
        "from pyspark.sql.types import IntegerType, DoubleType\n",
        "\n",
        "# Step 1: Ensure Spark Session is active\n",
        "spark = SparkSession.builder.appName(\"AirlineSentimentAnalysis\").getOrCreate()\n",
        "\n",
        "# Step 2: Load and preprocess dataset\n",
        "file_path = \"US_Airline_Tweets.csv\"  # Adjust the path if needed\n",
        "df_spark = spark.read.csv(file_path, header=True, inferSchema=True)\n",
        "\n",
        "# Extract features\n",
        "df_spark = df_spark.withColumn(\"tweet_length\", length(df_spark[\"text\"]))\n",
        "df_spark = df_spark.withColumn(\"num_hashtags\", size(split(df_spark[\"text\"], \"#\")) - 1)\n",
        "df_spark = df_spark.withColumn(\"num_mentions\", size(split(df_spark[\"text\"], \"@\")) - 1)\n",
        "\n",
        "# Ensure features are non-negative\n",
        "df_spark = df_spark.withColumn(\"num_hashtags\", when(col(\"num_hashtags\") < 0, 0).otherwise(col(\"num_hashtags\")))\n",
        "df_spark = df_spark.withColumn(\"num_mentions\", when(col(\"num_mentions\") < 0, 0).otherwise(col(\"num_mentions\")))\n",
        "\n",
        "# Handle missing values\n",
        "df_spark = df_spark.fillna(0, subset=[\"tweet_length\", \"num_hashtags\", \"num_mentions\"])\n",
        "\n",
        "# Convert to DoubleType\n",
        "df_spark = df_spark.withColumn(\"tweet_length\", col(\"tweet_length\").cast(DoubleType()))\n",
        "df_spark = df_spark.withColumn(\"num_hashtags\", col(\"num_hashtags\").cast(DoubleType()))\n",
        "df_spark = df_spark.withColumn(\"num_mentions\", col(\"num_mentions\").cast(DoubleType()))\n",
        "\n",
        "# Encode labels\n",
        "def label_encoder(sentiment):\n",
        "    if sentiment == \"positive\":\n",
        "        return 0\n",
        "    elif sentiment == \"negative\":\n",
        "        return 1\n",
        "    return 2  # 'neutral'\n",
        "\n",
        "from pyspark.sql.functions import udf\n",
        "label_udf = udf(label_encoder, IntegerType())\n",
        "df_spark = df_spark.withColumn(\"label\", label_udf(df_spark[\"airline_sentiment\"]))\n",
        "\n",
        "# Assemble features\n",
        "vector_assembler = VectorAssembler(inputCols=[\"tweet_length\", \"num_hashtags\", \"num_mentions\"], outputCol=\"features\", handleInvalid=\"keep\")\n",
        "df_transformed = vector_assembler.transform(df_spark).select(\"features\", \"label\").na.drop()\n",
        "\n",
        "# Step 3: Split Data\n",
        "train_data, test_data = df_transformed.randomSplit([0.8, 0.2], seed=42)\n",
        "\n",
        "# Step 4: Train Model\n",
        "nb = NaiveBayes(featuresCol=\"features\", labelCol=\"label\")\n",
        "model = nb.fit(train_data)\n",
        "\n",
        "# Step 5: Make Predictions\n",
        "predictions = model.transform(test_data)\n",
        "\n",
        "# Step 6: Convert predictions to Pandas DataFrame\n",
        "predictions_pd = predictions.select(\"label\", \"prediction\").toPandas()\n",
        "\n",
        "# Step 7: Calculate accuracy\n",
        "correct_predictions = (predictions_pd[\"label\"] == predictions_pd[\"prediction\"]).sum()\n",
        "total_predictions = len(predictions_pd)\n",
        "accuracy = correct_predictions / total_predictions\n",
        "\n",
        "# Display accuracy\n",
        "print(f\"Model Accuracy: {accuracy:.4f} ({accuracy * 100:.2f}%)\")\n",
        "\n",
        "# Stop the Spark session\n",
        "spark.stop()\n"
      ],
      "id": "greenhouse-crack",
      "execution_count": 32,
      "outputs": [
        {
          "output_type": "stream",
          "name": "stdout",
          "text": [
            "Model Accuracy: 0.6191 (61.91%)\n"
          ]
        }
      ]
    },
    {
      "cell_type": "code",
      "source": [
        "#Step 1: Load Data and Preprocess\n",
        "\n",
        "from pyspark.sql import SparkSession\n",
        "from pyspark.sql.functions import col, when, length, size, split\n",
        "from pyspark.ml.feature import Tokenizer, StopWordsRemover, CountVectorizer, IDF, VectorAssembler\n",
        "from pyspark.sql.types import IntegerType, DoubleType\n",
        "\n",
        "# Initialize Spark Session\n",
        "spark = SparkSession.builder.appName(\"AirlineSentimentAnalysis\").getOrCreate()\n",
        "\n",
        "# Load dataset\n",
        "file_path = \"US_Airline_Tweets.csv\"  # Update the path if needed\n",
        "df_spark = spark.read.csv(file_path, header=True, inferSchema=True)\n",
        "\n",
        "# **Step 1: Handle Missing Values**\n",
        "df_spark = df_spark.na.drop(subset=[\"text\"])  # Remove rows where 'text' is NULL\n",
        "df_spark = df_spark.withColumn(\"text\", col(\"text\").cast(\"string\"))  # Ensure 'text' is a string\n",
        "\n",
        "# **Step 2: Tokenize Text**\n",
        "tokenizer = Tokenizer(inputCol=\"text\", outputCol=\"words\")\n",
        "df_tokenized = tokenizer.transform(df_spark)\n",
        "\n",
        "# **Step 3: Remove Stopwords**\n",
        "remover = StopWordsRemover(inputCol=\"words\", outputCol=\"filtered_words\")\n",
        "df_filtered = remover.transform(df_tokenized)\n",
        "\n",
        "# **Step 4: Apply CountVectorizer**\n",
        "cv = CountVectorizer(inputCol=\"filtered_words\", outputCol=\"raw_features\")\n",
        "cv_model = cv.fit(df_filtered)\n",
        "df_cv = cv_model.transform(df_filtered)\n",
        "\n",
        "# **Step 5: Apply TF-IDF**\n",
        "idf = IDF(inputCol=\"raw_features\", outputCol=\"tfidf_features\")\n",
        "idf_model = idf.fit(df_cv)\n",
        "df_tfidf = idf_model.transform(df_cv)\n",
        "\n",
        "# Display transformed dataset\n",
        "df_tfidf.select(\"filtered_words\", \"tfidf_features\").show(5, truncate=False)\n"
      ],
      "metadata": {
        "id": "YlkLwH6NiUCp",
        "outputId": "3ebabcc1-ac8e-4119-de29-c18d9d89e821",
        "colab": {
          "base_uri": "https://localhost:8080/"
        }
      },
      "id": "YlkLwH6NiUCp",
      "execution_count": 36,
      "outputs": [
        {
          "output_type": "stream",
          "name": "stdout",
          "text": [
            "+--------------------------------------------------------------------------------------------------------------------+----------------------------------------------------------------------------------------------------------------------------------------------------------------------------------------------------------------------------------------------------------------------+\n",
            "|filtered_words                                                                                                      |tfidf_features                                                                                                                                                                                                                                                        |\n",
            "+--------------------------------------------------------------------------------------------------------------------+----------------------------------------------------------------------------------------------------------------------------------------------------------------------------------------------------------------------------------------------------------------------+\n",
            "|[@virginamerica, @dhepburn, said.]                                                                                  |(26594,[25,4883,20473],[3.402770408009837,8.204740169972537,8.897887350532482])                                                                                                                                                                                       |\n",
            "|[@virginamerica, plus, added, commercials, experience..., tacky.]                                                   |(26594,[25,449,1123,4224,11291,18583],[3.402770408009837,5.6592088983681,6.595302257538435,7.981596618658326,8.897887350532482,8.897887350532482])                                                                                                                    |\n",
            "|[@virginamerica, today..., must, mean, need, take, another, trip!]                                                  |(26594,[20,25,60,64,588,700,1865,5040],[3.333366943209788,3.402770408009837,4.034206469392889,4.0419584461972065,5.953448371366041,6.1252986282926996,7.193139258294056,8.204740169972537])                                                                           |\n",
            "|[\"@virginamerica, really, aggressive, blast, obnoxious, \"\"entertainment\"\", guests', faces, &amp;, little, recourse\"]|(26594,[13,72,331,2713,5655,6082,7899,8772,16553,24218,24413],[3.241895539712629,4.148616820570633,5.386341911701461,7.645124382037113,8.204740169972537,8.492422242424317,8.492422242424317,8.492422242424317,8.897887350532482,8.897887350532482,8.897887350532482])|\n",
            "|[@virginamerica, really, big, bad, thing]                                                                           |(26594,[25,72,130,323,473],[3.402770408009837,4.148616820570633,4.60742790938409,5.356928026495167,5.719833520184536])                                                                                                                                                |\n",
            "+--------------------------------------------------------------------------------------------------------------------+----------------------------------------------------------------------------------------------------------------------------------------------------------------------------------------------------------------------------------------------------------------------+\n",
            "only showing top 5 rows\n",
            "\n"
          ]
        }
      ]
    },
    {
      "cell_type": "code",
      "source": [
        "#Step 2: Prepare Features for Training\n",
        "\n",
        "from pyspark.sql.functions import udf\n",
        "from pyspark.sql.types import IntegerType\n",
        "\n",
        "# Encode labels for classification\n",
        "def label_encoder(sentiment):\n",
        "    if sentiment == \"positive\":\n",
        "        return 0\n",
        "    elif sentiment == \"negative\":\n",
        "        return 1\n",
        "    return 2  # 'neutral'\n",
        "\n",
        "label_udf = udf(label_encoder, IntegerType())\n",
        "df_tfidf = df_tfidf.withColumn(\"label\", label_udf(df_spark[\"airline_sentiment\"]))\n",
        "\n",
        "# Assemble features\n",
        "vector_assembler = VectorAssembler(inputCols=[\"tfidf_features\"], outputCol=\"features\", handleInvalid=\"keep\")\n",
        "df_transformed = vector_assembler.transform(df_tfidf).select(\"features\", \"label\").na.drop()\n",
        "\n",
        "# Split Data into Train and Test\n",
        "train_data, test_data = df_transformed.randomSplit([0.8, 0.2], seed=42)\n",
        "\n"
      ],
      "metadata": {
        "id": "xcSxR_O_msdh"
      },
      "id": "xcSxR_O_msdh",
      "execution_count": 39,
      "outputs": []
    },
    {
      "cell_type": "code",
      "source": [
        "#Step 3: Train Model and Make Predictions\n",
        "from pyspark.ml.classification import LogisticRegression\n",
        "\n",
        "# Train Logistic Regression model\n",
        "lr = LogisticRegression(featuresCol=\"features\", labelCol=\"label\")\n",
        "model = lr.fit(train_data)\n",
        "\n",
        "# Make Predictions\n",
        "predictions = model.transform(test_data)\n"
      ],
      "metadata": {
        "id": "pKq45a5hnGpi"
      },
      "id": "pKq45a5hnGpi",
      "execution_count": 40,
      "outputs": []
    },
    {
      "cell_type": "code",
      "source": [
        "#Step 4: Evaluate Model Accuracy\n",
        "\n",
        "# Convert predictions to Pandas DataFrame\n",
        "predictions_pd = predictions.select(\"label\", \"prediction\").toPandas()\n",
        "\n",
        "# Calculate Accuracy\n",
        "correct_predictions = (predictions_pd[\"label\"] == predictions_pd[\"prediction\"]).sum()\n",
        "total_predictions = len(predictions_pd)\n",
        "accuracy = correct_predictions / total_predictions\n",
        "\n",
        "# Display Accuracy\n",
        "print(f\"Model Accuracy: {accuracy:.4f} ({accuracy * 100:.2f}%)\")\n",
        "\n",
        "# Stop Spark Session\n",
        "spark.stop()\n"
      ],
      "metadata": {
        "id": "NIuydqh7nUno",
        "outputId": "8a20c844-9975-418b-90d1-eff74021ff5d",
        "colab": {
          "base_uri": "https://localhost:8080/"
        }
      },
      "id": "NIuydqh7nUno",
      "execution_count": 42,
      "outputs": [
        {
          "output_type": "stream",
          "name": "stdout",
          "text": [
            "Model Accuracy: 0.6698 (66.98%)\n"
          ]
        }
      ]
    },
    {
      "cell_type": "markdown",
      "source": [
        "As a next phase of implementation, we will implement logistic regression model."
      ],
      "metadata": {
        "id": "RD7r7NCJFuum"
      },
      "id": "RD7r7NCJFuum"
    },
    {
      "cell_type": "code",
      "source": [],
      "metadata": {
        "id": "LwQBzqP4iTgr"
      },
      "id": "LwQBzqP4iTgr",
      "execution_count": null,
      "outputs": []
    },
    {
      "cell_type": "markdown",
      "source": [
        "### Implementing logistic regression."
      ],
      "metadata": {
        "id": "DxAUjwkrFd12"
      },
      "id": "DxAUjwkrFd12"
    },
    {
      "cell_type": "markdown",
      "source": [
        "For more information about logistic regression, click upon this [button](https://spark.apache.org/docs/2.3.1/api/python/pyspark.ml.html#pyspark.ml.classification.LogisticRegression) to proceed to spark's documentation of logistic regression."
      ],
      "metadata": {
        "id": "oHwBWy51Fl1W"
      },
      "id": "oHwBWy51Fl1W"
    },
    {
      "cell_type": "code",
      "source": [
        "# Importing the necessary libraries\n",
        "from pyspark.ml.classification import LogisticRegression\n",
        "import numpy\n",
        "from numpy import allclose\n",
        "from pyspark.ml.linalg import Vectors\n",
        "from pyspark.ml.feature import StringIndexer\n",
        "from pyspark.ml.feature import VectorAssembler\n",
        "from pyspark.ml.evaluation import MulticlassClassificationEvaluator"
      ],
      "metadata": {
        "id": "YjayjAxyFqy0"
      },
      "id": "YjayjAxyFqy0",
      "execution_count": 43,
      "outputs": []
    },
    {
      "cell_type": "code",
      "source": [
        "# Create a features column using VectorAssembler with multiple input columns like 'rawFeatures', 'airline_sentiment_confidence', and others?\n",
        "# YOUR CODE HERE\n",
        "\n",
        "from pyspark.sql import SparkSession\n",
        "from pyspark.sql.functions import col\n",
        "from pyspark.ml.feature import Tokenizer, StopWordsRemover, CountVectorizer, IDF, VectorAssembler\n",
        "from pyspark.sql.types import IntegerType\n",
        "\n",
        "# Step 1: Restart Spark Session\n",
        "spark = SparkSession.builder.appName(\"AirlineSentimentAnalysis\").getOrCreate()\n",
        "\n",
        "# Step 2: Load dataset (Re-run if execution state was reset)\n",
        "file_path = \"US_Airline_Tweets.csv\"  # Update path if needed\n",
        "df_spark = spark.read.csv(file_path, header=True, inferSchema=True)\n",
        "\n",
        "# Step 3: Remove nulls from text column and convert to string\n",
        "df_spark = df_spark.na.drop(subset=[\"text\"])\n",
        "df_spark = df_spark.withColumn(\"text\", col(\"text\").cast(\"string\"))\n",
        "\n",
        "# Step 4: Tokenization\n",
        "tokenizer = Tokenizer(inputCol=\"text\", outputCol=\"words\")\n",
        "df_tokenized = tokenizer.transform(df_spark)\n",
        "\n",
        "# Step 5: Remove Stopwords\n",
        "remover = StopWordsRemover(inputCol=\"words\", outputCol=\"filtered_words\")\n",
        "df_filtered = remover.transform(df_tokenized)\n",
        "\n",
        "# Step 6: Apply CountVectorizer (to get `raw_features`)\n",
        "cv = CountVectorizer(inputCol=\"filtered_words\", outputCol=\"raw_features\")\n",
        "cv_model = cv.fit(df_filtered)\n",
        "df_cv = cv_model.transform(df_filtered)\n",
        "\n",
        "# Step 7: Apply TF-IDF (to get `tfidf_features`)\n",
        "idf = IDF(inputCol=\"raw_features\", outputCol=\"tfidf_features\")\n",
        "idf_model = idf.fit(df_cv)\n",
        "df_tfidf = idf_model.transform(df_cv)\n",
        "\n",
        "# Step 8: Encode labels\n",
        "def label_encoder(sentiment):\n",
        "    if sentiment == \"positive\":\n",
        "        return 0\n",
        "    elif sentiment == \"negative\":\n",
        "        return 1\n",
        "    return 2  # 'neutral'\n",
        "\n",
        "from pyspark.sql.functions import udf\n",
        "label_udf = udf(label_encoder, IntegerType())\n",
        "df_tfidf = df_tfidf.withColumn(\"label\", label_udf(df_tfidf[\"airline_sentiment\"]))\n",
        "\n",
        "# Step 9: Convert `airline_sentiment_confidence` to double type\n",
        "df_tfidf = df_tfidf.withColumn(\"airline_sentiment_confidence\", col(\"airline_sentiment_confidence\").cast(\"double\"))\n",
        "\n",
        "# Step 10: Use `tfidf_features` in VectorAssembler\n",
        "feature_columns = [\"tfidf_features\", \"airline_sentiment_confidence\"]\n",
        "vector_assembler = VectorAssembler(inputCols=feature_columns, outputCol=\"features\", handleInvalid=\"keep\")\n",
        "\n",
        "# Step 11: Transform dataset\n",
        "df_transformed = vector_assembler.transform(df_tfidf).select(\"features\", \"label\").na.drop()\n",
        "\n",
        "# Step 12: Show transformed dataset\n",
        "df_transformed.show(5, truncate=False)\n",
        "\n",
        "\n"
      ],
      "metadata": {
        "id": "px9DPLiiF1VI",
        "colab": {
          "base_uri": "https://localhost:8080/"
        },
        "outputId": "f4acb8cf-d770-4ba3-dcbe-5468d929c477"
      },
      "id": "px9DPLiiF1VI",
      "execution_count": 47,
      "outputs": [
        {
          "output_type": "stream",
          "name": "stdout",
          "text": [
            "+--------------------------------------------------------------------------------------------------------------------------------------------------------------------------------------------------------------------------------------------------------------------------------+-----+\n",
            "|features                                                                                                                                                                                                                                                                        |label|\n",
            "+--------------------------------------------------------------------------------------------------------------------------------------------------------------------------------------------------------------------------------------------------------------------------------+-----+\n",
            "|(26595,[25,4883,20473,26594],[3.402770408009837,8.204740169972537,8.897887350532482,1.0])                                                                                                                                                                                       |2    |\n",
            "|(26595,[25,449,1123,4224,11291,18583,26594],[3.402770408009837,5.6592088983681,6.595302257538435,7.981596618658326,8.897887350532482,8.897887350532482,0.3486])                                                                                                                 |0    |\n",
            "|(26595,[20,25,60,64,588,700,1865,5040,26594],[3.333366943209788,3.402770408009837,4.034206469392889,4.0419584461972065,5.953448371366041,6.1252986282926996,7.193139258294056,8.204740169972537,0.6837])                                                                        |2    |\n",
            "|(26595,[13,72,331,2713,5655,6082,7899,8772,16553,24218,24413,26594],[3.241895539712629,4.148616820570633,5.386341911701461,7.645124382037113,8.204740169972537,8.492422242424317,8.492422242424317,8.492422242424317,8.897887350532482,8.897887350532482,8.897887350532482,1.0])|1    |\n",
            "|(26595,[25,72,130,323,473,26594],[3.402770408009837,4.148616820570633,4.60742790938409,5.356928026495167,5.719833520184536,1.0])                                                                                                                                                |1    |\n",
            "+--------------------------------------------------------------------------------------------------------------------------------------------------------------------------------------------------------------------------------------------------------------------------------+-----+\n",
            "only showing top 5 rows\n",
            "\n"
          ]
        }
      ]
    },
    {
      "cell_type": "code",
      "source": [
        "# Create an object of stringindexer\n",
        "# YOUR CODE HERE\n",
        "\n",
        "from pyspark.ml.feature import StringIndexer\n",
        "\n",
        "# Create a StringIndexer object for categorical feature encoding (modify as per dataset)\n",
        "string_indexer = StringIndexer(inputCol=\"airline\", outputCol=\"airline_index\")\n",
        "\n",
        "# Transform dataset to add indexed column\n",
        "df_indexed = string_indexer.fit(df_tfidf).transform(df_tfidf)\n",
        "\n",
        "# Show transformed dataset with indexed column\n",
        "df_indexed.select(\"airline\", \"airline_index\").show(5)\n"
      ],
      "metadata": {
        "id": "4k5JGvKpF2Dt",
        "colab": {
          "base_uri": "https://localhost:8080/"
        },
        "outputId": "aecc8c2d-08f2-4b6f-c669-aa3b30806f74"
      },
      "id": "4k5JGvKpF2Dt",
      "execution_count": 48,
      "outputs": [
        {
          "output_type": "stream",
          "name": "stdout",
          "text": [
            "+--------------+-------------+\n",
            "|       airline|airline_index|\n",
            "+--------------+-------------+\n",
            "|Virgin America|          5.0|\n",
            "|Virgin America|          5.0|\n",
            "|Virgin America|          5.0|\n",
            "|Virgin America|          5.0|\n",
            "|Virgin America|          5.0|\n",
            "+--------------+-------------+\n",
            "only showing top 5 rows\n",
            "\n"
          ]
        }
      ]
    },
    {
      "cell_type": "code",
      "source": [
        "# Create output column for labels or target variable.\n",
        "# YOUR CODE HERE\n",
        "\n",
        "from pyspark.sql.functions import udf\n",
        "from pyspark.sql.types import IntegerType\n",
        "\n",
        "# Define a function to encode sentiment labels\n",
        "def label_encoder(sentiment):\n",
        "    if sentiment == \"positive\":\n",
        "        return 0\n",
        "    elif sentiment == \"negative\":\n",
        "        return 1\n",
        "    return 2  # 'neutral'\n",
        "\n",
        "# Register UDF for encoding labels\n",
        "label_udf = udf(label_encoder, IntegerType())\n",
        "\n",
        "# Apply encoding to create target column 'label'\n",
        "df_indexed = df_indexed.withColumn(\"label\", label_udf(df_indexed[\"airline_sentiment\"]))\n",
        "\n",
        "# Show dataset with the new 'label' column\n",
        "df_indexed.select(\"airline_sentiment\", \"label\").show(5)\n"
      ],
      "metadata": {
        "id": "Lx1gZrSJF49_",
        "colab": {
          "base_uri": "https://localhost:8080/"
        },
        "outputId": "9f60cd13-0750-43ac-d4c0-a4ee01d424d2"
      },
      "id": "Lx1gZrSJF49_",
      "execution_count": 49,
      "outputs": [
        {
          "output_type": "stream",
          "name": "stdout",
          "text": [
            "+-----------------+-----+\n",
            "|airline_sentiment|label|\n",
            "+-----------------+-----+\n",
            "|          neutral|    2|\n",
            "|         positive|    0|\n",
            "|          neutral|    2|\n",
            "|         negative|    1|\n",
            "|         negative|    1|\n",
            "+-----------------+-----+\n",
            "only showing top 5 rows\n",
            "\n"
          ]
        }
      ]
    },
    {
      "cell_type": "code",
      "source": [
        "# Split the data into train and test\n",
        "# YOUR CODE HERE\n",
        "\n",
        "# Import necessary libraries\n",
        "from pyspark.sql import SparkSession\n",
        "\n",
        "# Step 1: Initialize Spark Session\n",
        "spark = SparkSession.builder.appName(\"AirlineSentimentAnalysis\").getOrCreate()\n",
        "\n",
        "# Step 2: Load dataset\n",
        "file_path = \"./US_Airline_Tweets.csv\"  # Ensure correct file path\n",
        "df_spark = spark.read.csv(file_path, header=True, inferSchema=True)\n",
        "\n",
        "# Step 3: Split the dataset into train (80%) and test (20%)\n",
        "train_data, test_data = df_spark.randomSplit([0.8, 0.2], seed=42)\n",
        "\n",
        "# Step 4: Display the count of train and test samples\n",
        "train_count = train_data.count()\n",
        "test_count = test_data.count()\n",
        "\n",
        "# Step 5: Print the dataset split details\n",
        "print(f\"Training Data Count: {train_count}\")\n",
        "print(f\"Test Data Count: {test_count}\")\n"
      ],
      "metadata": {
        "id": "sMrHDtcsF7W-",
        "colab": {
          "base_uri": "https://localhost:8080/"
        },
        "outputId": "c44e2d4a-cb2d-4f28-8f30-efd1793f034c"
      },
      "id": "sMrHDtcsF7W-",
      "execution_count": 51,
      "outputs": [
        {
          "output_type": "stream",
          "name": "stdout",
          "text": [
            "Training Data Count: 11931\n",
            "Test Data Count: 2906\n"
          ]
        }
      ]
    },
    {
      "cell_type": "code",
      "source": [
        "# Create a Logistic Regression model object with specified parameters like maxIter=20, regParam=0.3, and elasticNetParam=0\n",
        "# YOUR CODE HERE\n",
        "\n",
        "# Import necessary libraries\n",
        "from pyspark.ml.classification import LogisticRegression\n",
        "\n",
        "# Create a Logistic Regression model object with specified parameters\n",
        "lr = LogisticRegression(featuresCol=\"features\", labelCol=\"label\", maxIter=20, regParam=0.3, elasticNetParam=0)\n",
        "\n",
        "# Print model parameters to confirm\n",
        "print(lr.explainParams())\n"
      ],
      "metadata": {
        "id": "zyFfyjqXF-Bo",
        "colab": {
          "base_uri": "https://localhost:8080/"
        },
        "outputId": "3632ba8d-4961-4613-856c-82d43dee7aa4"
      },
      "id": "zyFfyjqXF-Bo",
      "execution_count": 52,
      "outputs": [
        {
          "output_type": "stream",
          "name": "stdout",
          "text": [
            "aggregationDepth: suggested depth for treeAggregate (>= 2). (default: 2)\n",
            "elasticNetParam: the ElasticNet mixing parameter, in range [0, 1]. For alpha = 0, the penalty is an L2 penalty. For alpha = 1, it is an L1 penalty. (default: 0.0, current: 0.0)\n",
            "family: The name of family which is a description of the label distribution to be used in the model. Supported options: auto, binomial, multinomial (default: auto)\n",
            "featuresCol: features column name. (default: features, current: features)\n",
            "fitIntercept: whether to fit an intercept term. (default: True)\n",
            "labelCol: label column name. (default: label, current: label)\n",
            "lowerBoundsOnCoefficients: The lower bounds on coefficients if fitting under bound constrained optimization. The bound matrix must be compatible with the shape (1, number of features) for binomial regression, or (number of classes, number of features) for multinomial regression. (undefined)\n",
            "lowerBoundsOnIntercepts: The lower bounds on intercepts if fitting under bound constrained optimization. The bounds vector size must beequal with 1 for binomial regression, or the number oflasses for multinomial regression. (undefined)\n",
            "maxBlockSizeInMB: maximum memory in MB for stacking input data into blocks. Data is stacked within partitions. If more than remaining data size in a partition then it is adjusted to the data size. Default 0.0 represents choosing optimal value, depends on specific algorithm. Must be >= 0. (default: 0.0)\n",
            "maxIter: max number of iterations (>= 0). (default: 100, current: 20)\n",
            "predictionCol: prediction column name. (default: prediction)\n",
            "probabilityCol: Column name for predicted class conditional probabilities. Note: Not all models output well-calibrated probability estimates! These probabilities should be treated as confidences, not precise probabilities. (default: probability)\n",
            "rawPredictionCol: raw prediction (a.k.a. confidence) column name. (default: rawPrediction)\n",
            "regParam: regularization parameter (>= 0). (default: 0.0, current: 0.3)\n",
            "standardization: whether to standardize the training features before fitting the model. (default: True)\n",
            "threshold: Threshold in binary classification prediction, in range [0, 1]. If threshold and thresholds are both set, they must match.e.g. if threshold is p, then thresholds must be equal to [1-p, p]. (default: 0.5)\n",
            "thresholds: Thresholds in multi-class classification to adjust the probability of predicting each class. Array must have length equal to the number of classes, with values > 0, excepting that at most one value may be 0. The class with largest value p/t is predicted, where p is the original probability of that class and t is the class's threshold. (undefined)\n",
            "tol: the convergence tolerance for iterative algorithms (>= 0). (default: 1e-06)\n",
            "upperBoundsOnCoefficients: The upper bounds on coefficients if fitting under bound constrained optimization. The bound matrix must be compatible with the shape (1, number of features) for binomial regression, or (number of classes, number of features) for multinomial regression. (undefined)\n",
            "upperBoundsOnIntercepts: The upper bounds on intercepts if fitting under bound constrained optimization. The bound vector size must be equal with 1 for binomial regression, or the number of classes for multinomial regression. (undefined)\n",
            "weightCol: weight column name. If this is not set or empty, we treat all instance weights as 1.0. (undefined)\n"
          ]
        }
      ]
    },
    {
      "cell_type": "code",
      "source": [
        "# Fit a Logistic Regression model to the training dataset using the fit method on the train data\n",
        "# YOUR CODE HERE\n",
        "\n",
        "from pyspark.sql.functions import col, when\n",
        "from pyspark.ml.feature import VectorAssembler\n",
        "from pyspark.ml.classification import LogisticRegression\n",
        "from pyspark.sql.types import IntegerType\n",
        "\n",
        "# Ensure Spark Session is active\n",
        "spark = SparkSession.builder.appName(\"AirlineSentimentAnalysis\").getOrCreate()\n",
        "\n",
        "# Load dataset\n",
        "file_path = \"./US_Airline_Tweets.csv\"\n",
        "df_spark = spark.read.csv(file_path, header=True, inferSchema=True)\n",
        "\n",
        "# Convert airline_sentiment_confidence to double\n",
        "df_spark = df_spark.withColumn(\"airline_sentiment_confidence\", col(\"airline_sentiment_confidence\").cast(\"double\"))\n",
        "\n",
        "# Encode labels\n",
        "def label_encoder(sentiment):\n",
        "    if sentiment == \"positive\":\n",
        "        return 0\n",
        "    elif sentiment == \"negative\":\n",
        "        return 1\n",
        "    return 2  # 'neutral'\n",
        "\n",
        "from pyspark.sql.functions import udf\n",
        "label_udf = udf(label_encoder, IntegerType())\n",
        "df_spark = df_spark.withColumn(\"label\", label_udf(df_spark[\"airline_sentiment\"]))\n",
        "\n",
        "# Handle NaN values by replacing with 0\n",
        "df_spark = df_spark.fillna({\"airline_sentiment_confidence\": 0, \"retweet_count\": 0})\n",
        "\n",
        "# Create `features` column using VectorAssembler\n",
        "feature_columns = [\"airline_sentiment_confidence\", \"retweet_count\"]\n",
        "vector_assembler = VectorAssembler(inputCols=feature_columns, outputCol=\"features\", handleInvalid=\"keep\")\n",
        "\n",
        "# Transform dataset\n",
        "df_transformed = vector_assembler.transform(df_spark).select(\"features\", \"label\").na.drop()\n",
        "\n",
        "# Split dataset into training and testing sets\n",
        "train_data, test_data = df_transformed.randomSplit([0.8, 0.2], seed=42)\n",
        "\n",
        "# Train Logistic Regression Model\n",
        "lr = LogisticRegression(featuresCol=\"features\", labelCol=\"label\", maxIter=20, regParam=0.3, elasticNetParam=0)\n",
        "lr_model = lr.fit(train_data)\n",
        "\n",
        "# Correct way to print coefficients for a multinomial logistic regression model\n",
        "print(\"Coefficient Matrix:\\n\", lr_model.coefficientMatrix)\n",
        "print(\"Intercept Vector:\", lr_model.interceptVector)\n",
        "\n",
        "\n"
      ],
      "metadata": {
        "id": "351MRKrYGAuZ",
        "colab": {
          "base_uri": "https://localhost:8080/"
        },
        "outputId": "a68a7d6b-9517-43c5-d8db-a05d3fd50fe8"
      },
      "id": "351MRKrYGAuZ",
      "execution_count": 57,
      "outputs": [
        {
          "output_type": "stream",
          "name": "stdout",
          "text": [
            "Coefficient Matrix:\n",
            " DenseMatrix([[-1.72037101e-05, -6.72954354e-03],\n",
            "             [-3.93404867e-05,  1.93154611e-02],\n",
            "             [ 5.65441968e-05, -1.25859176e-02]])\n",
            "Intercept Vector: [-0.566615665590308,0.7869925011204464,-0.2203768355301385]\n"
          ]
        }
      ]
    },
    {
      "cell_type": "markdown",
      "source": [
        "### Making predictions and evaluating the model"
      ],
      "metadata": {
        "id": "NFeI300xGG6l"
      },
      "id": "NFeI300xGG6l"
    },
    {
      "cell_type": "code",
      "source": [
        "# Generate predictions on the test dataset\n",
        "# YOUR CODE HERE\n",
        "\n",
        "# Import necessary libraries\n",
        "from pyspark.sql import SparkSession\n",
        "from pyspark.sql.functions import col, udf\n",
        "from pyspark.sql.types import IntegerType\n",
        "from pyspark.ml.feature import Tokenizer, StopWordsRemover, CountVectorizer, IDF, VectorAssembler\n",
        "from pyspark.ml.classification import LogisticRegression\n",
        "from pyspark.ml.evaluation import MulticlassClassificationEvaluator\n",
        "\n",
        "# Step 1: Initialize Spark Session\n",
        "spark = SparkSession.builder.appName(\"AirlineSentimentAnalysis\").getOrCreate()\n",
        "\n",
        "# Step 2: Load dataset\n",
        "file_path = \"./US_Airline_Tweets.csv\"  # Ensure correct file path\n",
        "df_spark = spark.read.csv(file_path, header=True, inferSchema=True)\n",
        "\n",
        "# Step 3: Handle missing values and data types\n",
        "df_spark = df_spark.na.drop(subset=[\"text\"])\n",
        "df_spark = df_spark.withColumn(\"text\", col(\"text\").cast(\"string\"))\n",
        "df_spark = df_spark.withColumn(\"airline_sentiment_confidence\", col(\"airline_sentiment_confidence\").cast(\"double\"))\n",
        "df_spark = df_spark.fillna({\"airline_sentiment_confidence\": 0, \"retweet_count\": 0})  # Replace NaN with 0\n",
        "\n",
        "# Step 4: Encode labels for classification\n",
        "def label_encoder(sentiment):\n",
        "    if sentiment == \"positive\":\n",
        "        return 0\n",
        "    elif sentiment == \"negative\":\n",
        "        return 1\n",
        "    return 2  # 'neutral'\n",
        "\n",
        "label_udf = udf(label_encoder, IntegerType())\n",
        "df_spark = df_spark.withColumn(\"label\", label_udf(df_spark[\"airline_sentiment\"]))\n",
        "\n",
        "# Step 5: Text preprocessing (Tokenization, Stopword Removal, TF-IDF)\n",
        "tokenizer = Tokenizer(inputCol=\"text\", outputCol=\"words\")\n",
        "df_tokenized = tokenizer.transform(df_spark)\n",
        "\n",
        "remover = StopWordsRemover(inputCol=\"words\", outputCol=\"filtered_words\")\n",
        "df_filtered = remover.transform(df_tokenized)\n",
        "\n",
        "cv = CountVectorizer(inputCol=\"filtered_words\", outputCol=\"raw_features\")\n",
        "cv_model = cv.fit(df_filtered)\n",
        "df_cv = cv_model.transform(df_filtered)\n",
        "\n",
        "idf = IDF(inputCol=\"raw_features\", outputCol=\"tfidf_features\")\n",
        "idf_model = idf.fit(df_cv)\n",
        "df_tfidf = idf_model.transform(df_cv)\n",
        "\n",
        "# Step 6: Create `features` column using VectorAssembler\n",
        "feature_columns = [\"tfidf_features\", \"airline_sentiment_confidence\", \"retweet_count\"]\n",
        "vector_assembler = VectorAssembler(inputCols=feature_columns, outputCol=\"features\", handleInvalid=\"keep\")\n",
        "df_transformed = vector_assembler.transform(df_tfidf).select(\"features\", \"label\").na.drop()\n",
        "\n",
        "# Step 7: Split dataset into training and testing sets\n",
        "train_data, test_data = df_transformed.randomSplit([0.8, 0.2], seed=42)\n",
        "\n",
        "# Step 8: Train Logistic Regression Model\n",
        "lr = LogisticRegression(featuresCol=\"features\", labelCol=\"label\", maxIter=20, regParam=0.3, elasticNetParam=0)\n",
        "lr_model = lr.fit(train_data)\n",
        "\n",
        "# Step 9: Make Predictions\n",
        "predictions = lr_model.transform(test_data)\n",
        "\n",
        "# Step 10: Show Sample Predictions\n",
        "predictions.select(\"features\", \"label\", \"prediction\", \"probability\").show(10, truncate=False)\n"
      ],
      "metadata": {
        "id": "iDneoxuSGJ9u",
        "colab": {
          "base_uri": "https://localhost:8080/"
        },
        "outputId": "980a991c-7432-491a-b427-57862bba0ca6"
      },
      "id": "iDneoxuSGJ9u",
      "execution_count": 58,
      "outputs": [
        {
          "output_type": "stream",
          "name": "stdout",
          "text": [
            "+--------------------------------------------------------------------------------------------------------------------------------------------------------------------------------------------------------------------------------------------------------------------------------------------------------------------------------------------------------------------------------------------------------------------------------------------------------------------------------+-----+----------+-------------------------------------------------------------+\n",
            "|features                                                                                                                                                                                                                                                                                                                                                                                                                                                                        |label|prediction|probability                                                  |\n",
            "+--------------------------------------------------------------------------------------------------------------------------------------------------------------------------------------------------------------------------------------------------------------------------------------------------------------------------------------------------------------------------------------------------------------------------------------------------------------------------------+-----+----------+-------------------------------------------------------------+\n",
            "|(26596,[0,1,2,16,38,191,400,673,4341,8373,21526,24846,26594],[1.3943221238793562,1.6405320962835752,1.6394751999371748,3.292085284236484,3.7562237940298213,4.92759543698036,5.565682840357277,6.094526969625946,7.981596618658326,8.492422242424317,8.897887350532482,8.897887350532482,0.6667])                                                                                                                                                                               |1    |1.0       |[0.2719667710220438,0.5964497404634749,0.13158348851448137]  |\n",
            "|(26596,[0,1,3,5,1976,6404,8260,8911,10330,17582,21880,24507,26497,26594],[1.3943221238793562,1.6405320962835752,1.6615480077781375,2.2145264047662065,7.193139258294056,8.492422242424317,8.492422242424317,8.492422242424317,8.897887350532482,8.897887350532482,8.897887350532482,8.897887350532482,8.897887350532482,0.6562])                                                                                                                                                |1    |2.0       |[0.07960204310188547,0.44895146829161237,0.4714464886065022] |\n",
            "|(26596,[0,1,4,8,17,21,36,45,51,157,202,263,2110,2240,3451,19615,21332,26594],[1.3943221238793562,1.6405320962835752,1.8382697222410982,5.372567522261177,3.312513106926582,3.388499013904504,7.454806710988659,4.0113047051062045,3.931552315332805,4.78701348635917,4.956305542862791,5.2090078964185444,7.288449438098381,7.393809953756207,7.799275061864371,8.897887350532482,8.897887350532482,1.0])                                                                       |1    |1.0       |[0.024658915048517784,0.9026214643360105,0.07271962061547146]|\n",
            "|(26596,[0,1,5,7,31,32,40,105,118,185,192,209,1339,1555,1757,3126,5056,5199,26594],[1.3943221238793562,1.6405320962835752,6.64357921429862,2.450581487991268,3.5995699839844444,3.619772691301964,3.8072093487626892,4.449370974589766,4.534788725744119,4.899686648863283,4.966061717808156,4.995914680957837,6.818445808852645,6.951977201477168,7.106127881304427,7.799275061864371,16.984844484848633,8.204740169972537,1.0])                                                |1    |1.0       |[0.02370059952042265,0.8366705264894593,0.13962887399011817] |\n",
            "|(26596,[0,1,5,8,26,107,178,289,2125,9733,15597,26594],[1.3943221238793562,1.6405320962835752,2.2145264047662065,2.6862837611305883,3.4468488969667805,4.485089057191846,4.872535659797332,5.2603011908060955,7.288449438098381,8.897887350532482,8.897887350532482,1.0])                                                                                                                                                                                                        |1    |1.0       |[0.11986607241232974,0.7398734138013228,0.1402605137863476]  |\n",
            "|(26596,[0,1,5,9,32,81,88,123,188,285,344,379,577,864,4459,7473,20244,26594],[1.3943221238793562,1.6405320962835752,2.2145264047662065,3.051448575474757,7.239545382603928,4.253496451391109,4.376098773483441,4.54760941417318,4.91820569663052,5.273546417556116,5.463900146047335,5.496689968870326,5.953448371366041,6.332937993070944,8.204740169972537,8.492422242424317,8.897887350532482,1.0])                                                                           |0    |1.0       |[0.16031886781922072,0.7224143175318675,0.11726681464891181] |\n",
            "|(26596,[0,1,5,12,53,200,241,848,5052,6669,8320,8395,8614,26594],[1.3943221238793562,1.6405320962835752,4.429052809532413,3.1874603331576115,3.9385453508237758,4.946643631951054,5.14838327460211,6.332937993070944,8.204740169972537,8.492422242424317,8.492422242424317,8.492422242424317,8.492422242424317,1.0])                                                                                                                                                             |1    |1.0       |[0.0882698048929766,0.8411134920538913,0.0706167030531321]   |\n",
            "|(26596,[0,1,5,14,63,116,408,577,585,726,920,1772,1894,3022,9437,26594],[1.3943221238793562,1.6405320962835752,2.2145264047662065,3.2297320535194314,4.065581591960643,4.52843949806546,5.565682840357277,5.953448371366041,5.953448371366041,6.15704732660728,6.412980700744481,7.106127881304427,7.193139258294056,7.645124382037113,8.897887350532482,1.0])                                                                                                                   |0    |0.0       |[0.4470074112739628,0.37674108332663653,0.17625150539940057] |\n",
            "|(26596,[0,1,5,18,24,26,31,143,146,173,209,259,989,1255,3127,5653,7159,17515,22109,23270,26594],[1.3943221238793562,1.6405320962835752,2.2145264047662065,3.303175970930642,3.42982720939735,3.4468488969667805,7.199139967968889,4.642274640714258,4.685759752653997,4.854836082697931,4.995914680957837,5.234325704402835,6.4999920777341105,6.75782118703621,7.799275061864371,8.204740169972537,8.492422242424317,8.897887350532482,8.897887350532482,8.897887350532482,1.0])|1    |1.0       |[0.031672905313126165,0.9003362582621306,0.06799083642474317]|\n",
            "|(26596,[0,1,5,18,31,49,84,88,95,116,149,283,376,882,3657,10376,26594],[1.3943221238793562,3.2810641925671504,2.2145264047662065,3.303175970930642,3.5995699839844444,7.81490952750749,4.297729706367934,4.376098773483441,4.387027844015631,4.52843949806546,4.649392108483122,5.247229109238742,5.480160666919115,6.3721587062242255,7.981596618658326,8.897887350532482,1.0])                                                                                                 |0    |1.0       |[0.1079709485652121,0.8456737451090006,0.046355306325787334] |\n",
            "+--------------------------------------------------------------------------------------------------------------------------------------------------------------------------------------------------------------------------------------------------------------------------------------------------------------------------------------------------------------------------------------------------------------------------------------------------------------------------------+-----+----------+-------------------------------------------------------------+\n",
            "only showing top 10 rows\n",
            "\n"
          ]
        }
      ]
    },
    {
      "cell_type": "code",
      "source": [
        "# Create a MulticlassClassificationEvaluator object to evaluate predictions using the \"prediction\" column\n",
        "# YOUR CODE HERE\n",
        "\n",
        "from pyspark.ml.evaluation import MulticlassClassificationEvaluator\n",
        "\n",
        "# Create a MulticlassClassificationEvaluator object for model evaluation\n",
        "evaluator = MulticlassClassificationEvaluator(labelCol=\"label\", predictionCol=\"prediction\")\n",
        "\n",
        "# Evaluate accuracy\n",
        "accuracy = evaluator.setMetricName(\"accuracy\").evaluate(predictions)\n",
        "\n",
        "# Evaluate precision\n",
        "precision = evaluator.setMetricName(\"weightedPrecision\").evaluate(predictions)\n",
        "\n",
        "# Evaluate recall\n",
        "recall = evaluator.setMetricName(\"weightedRecall\").evaluate(predictions)\n",
        "\n",
        "# Evaluate F1-score\n",
        "f1_score = evaluator.setMetricName(\"f1\").evaluate(predictions)\n",
        "\n",
        "# Print model evaluation metrics\n",
        "print(f\"Logistic Regression Model Accuracy: {accuracy:.4f} ({accuracy * 100:.2f}%)\")\n",
        "print(f\"Precision: {precision:.4f}\")\n",
        "print(f\"Recall: {recall:.4f}\")\n",
        "print(f\"F1-score: {f1_score:.4f}\")\n"
      ],
      "metadata": {
        "id": "V9Kv8lB6GKz1",
        "colab": {
          "base_uri": "https://localhost:8080/"
        },
        "outputId": "178c5bfb-f42b-43dd-a4d3-856702129b47"
      },
      "id": "V9Kv8lB6GKz1",
      "execution_count": 59,
      "outputs": [
        {
          "output_type": "stream",
          "name": "stdout",
          "text": [
            "Logistic Regression Model Accuracy: 0.7303 (73.03%)\n",
            "Precision: 0.7227\n",
            "Recall: 0.7303\n",
            "F1-score: 0.6931\n"
          ]
        }
      ]
    },
    {
      "cell_type": "code",
      "source": [
        "# Calculate the accuracy of predictions using the evaluate method from the MulticlassClassificationEvaluator\n",
        "# YOUR CODE HERE\n",
        "\n",
        "from pyspark.ml.evaluation import MulticlassClassificationEvaluator\n",
        "\n",
        "# Create an evaluator for accuracy\n",
        "evaluator = MulticlassClassificationEvaluator(labelCol=\"label\", predictionCol=\"prediction\", metricName=\"accuracy\")\n",
        "\n",
        "# Evaluate accuracy of predictions\n",
        "accuracy = evaluator.evaluate(predictions)\n",
        "\n",
        "# Print model accuracy\n",
        "print(f\"Logistic Regression Model Accuracy: {accuracy:.4f} ({accuracy * 100:.2f}%)\")\n"
      ],
      "metadata": {
        "id": "HM_w8FJTGM4y",
        "colab": {
          "base_uri": "https://localhost:8080/"
        },
        "outputId": "344c76f3-a3ad-441c-efae-7f0a6e37bbcd"
      },
      "id": "HM_w8FJTGM4y",
      "execution_count": 60,
      "outputs": [
        {
          "output_type": "stream",
          "name": "stdout",
          "text": [
            "Logistic Regression Model Accuracy: 0.7303 (73.03%)\n"
          ]
        }
      ]
    },
    {
      "cell_type": "code",
      "source": [
        "# Print accuracy\n",
        "# YOUR CODE HERE\n",
        "# Print model accuracy\n",
        "print(f\"Logistic Regression Model Accuracy: {accuracy:.4f} ({accuracy * 100:.2f}%)\")\n"
      ],
      "metadata": {
        "id": "LVu8udr4GPH5",
        "colab": {
          "base_uri": "https://localhost:8080/"
        },
        "outputId": "91d6ef39-90dd-4578-b45f-b6b4766ceeed"
      },
      "id": "LVu8udr4GPH5",
      "execution_count": 61,
      "outputs": [
        {
          "output_type": "stream",
          "name": "stdout",
          "text": [
            "Logistic Regression Model Accuracy: 0.7303 (73.03%)\n"
          ]
        }
      ]
    },
    {
      "cell_type": "markdown",
      "source": [
        "# Gradio Implementation (1 point)"
      ],
      "metadata": {
        "id": "gn8bBfJoGV9j"
      },
      "id": "gn8bBfJoGV9j"
    },
    {
      "cell_type": "code",
      "source": [
        "!pip -q install gradio==3.41.2"
      ],
      "metadata": {
        "id": "QG4grcMiGZLF",
        "colab": {
          "base_uri": "https://localhost:8080/"
        },
        "outputId": "d3115ab9-9909-479a-c75d-5a7dc68f817f"
      },
      "id": "QG4grcMiGZLF",
      "execution_count": 63,
      "outputs": [
        {
          "output_type": "stream",
          "name": "stdout",
          "text": [
            "\u001b[2K     \u001b[90m━━━━━━━━━━━━━━━━━━━━━━━━━━━━━━━━━━━━━━━━\u001b[0m \u001b[32m61.0/61.0 kB\u001b[0m \u001b[31m4.6 MB/s\u001b[0m eta \u001b[36m0:00:00\u001b[0m\n",
            "\u001b[2K   \u001b[90m━━━━━━━━━━━━━━━━━━━━━━━━━━━━━━━━━━━━━━━━\u001b[0m \u001b[32m20.1/20.1 MB\u001b[0m \u001b[31m99.8 MB/s\u001b[0m eta \u001b[36m0:00:00\u001b[0m\n",
            "\u001b[2K   \u001b[90m━━━━━━━━━━━━━━━━━━━━━━━━━━━━━━━━━━━━━━━━\u001b[0m \u001b[32m298.2/298.2 kB\u001b[0m \u001b[31m20.5 MB/s\u001b[0m eta \u001b[36m0:00:00\u001b[0m\n",
            "\u001b[2K   \u001b[90m━━━━━━━━━━━━━━━━━━━━━━━━━━━━━━━━━━━━━━━━\u001b[0m \u001b[32m18.3/18.3 MB\u001b[0m \u001b[31m108.2 MB/s\u001b[0m eta \u001b[36m0:00:00\u001b[0m\n",
            "\u001b[2K   \u001b[90m━━━━━━━━━━━━━━━━━━━━━━━━━━━━━━━━━━━━━━━━\u001b[0m \u001b[32m4.5/4.5 MB\u001b[0m \u001b[31m113.3 MB/s\u001b[0m eta \u001b[36m0:00:00\u001b[0m\n",
            "\u001b[2K   \u001b[90m━━━━━━━━━━━━━━━━━━━━━━━━━━━━━━━━━━━━━━━━\u001b[0m \u001b[32m62.3/62.3 kB\u001b[0m \u001b[31m4.3 MB/s\u001b[0m eta \u001b[36m0:00:00\u001b[0m\n",
            "\u001b[2K   \u001b[90m━━━━━━━━━━━━━━━━━━━━━━━━━━━━━━━━━━━━━━━━\u001b[0m \u001b[32m130.6/130.6 kB\u001b[0m \u001b[31m10.4 MB/s\u001b[0m eta \u001b[36m0:00:00\u001b[0m\n",
            "\u001b[2K   \u001b[90m━━━━━━━━━━━━━━━━━━━━━━━━━━━━━━━━━━━━━━━━\u001b[0m \u001b[32m94.8/94.8 kB\u001b[0m \u001b[31m7.1 MB/s\u001b[0m eta \u001b[36m0:00:00\u001b[0m\n",
            "\u001b[2K   \u001b[90m━━━━━━━━━━━━━━━━━━━━━━━━━━━━━━━━━━━━━━━━\u001b[0m \u001b[32m71.5/71.5 kB\u001b[0m \u001b[31m5.4 MB/s\u001b[0m eta \u001b[36m0:00:00\u001b[0m\n",
            "\u001b[?25h\u001b[31mERROR: pip's dependency resolver does not currently take into account all the packages that are installed. This behaviour is the source of the following dependency conflicts.\n",
            "google-genai 0.8.0 requires websockets<15.0dev,>=13.0, but you have websockets 11.0.3 which is incompatible.\n",
            "torch 2.5.1+cu124 requires nvidia-cublas-cu12==12.4.5.8; platform_system == \"Linux\" and platform_machine == \"x86_64\", but you have nvidia-cublas-cu12 12.5.3.2 which is incompatible.\n",
            "torch 2.5.1+cu124 requires nvidia-cuda-cupti-cu12==12.4.127; platform_system == \"Linux\" and platform_machine == \"x86_64\", but you have nvidia-cuda-cupti-cu12 12.5.82 which is incompatible.\n",
            "torch 2.5.1+cu124 requires nvidia-cuda-nvrtc-cu12==12.4.127; platform_system == \"Linux\" and platform_machine == \"x86_64\", but you have nvidia-cuda-nvrtc-cu12 12.5.82 which is incompatible.\n",
            "torch 2.5.1+cu124 requires nvidia-cuda-runtime-cu12==12.4.127; platform_system == \"Linux\" and platform_machine == \"x86_64\", but you have nvidia-cuda-runtime-cu12 12.5.82 which is incompatible.\n",
            "torch 2.5.1+cu124 requires nvidia-cudnn-cu12==9.1.0.70; platform_system == \"Linux\" and platform_machine == \"x86_64\", but you have nvidia-cudnn-cu12 9.3.0.75 which is incompatible.\n",
            "torch 2.5.1+cu124 requires nvidia-cufft-cu12==11.2.1.3; platform_system == \"Linux\" and platform_machine == \"x86_64\", but you have nvidia-cufft-cu12 11.2.3.61 which is incompatible.\n",
            "torch 2.5.1+cu124 requires nvidia-curand-cu12==10.3.5.147; platform_system == \"Linux\" and platform_machine == \"x86_64\", but you have nvidia-curand-cu12 10.3.6.82 which is incompatible.\n",
            "torch 2.5.1+cu124 requires nvidia-cusolver-cu12==11.6.1.9; platform_system == \"Linux\" and platform_machine == \"x86_64\", but you have nvidia-cusolver-cu12 11.6.3.83 which is incompatible.\n",
            "torch 2.5.1+cu124 requires nvidia-cusparse-cu12==12.3.1.170; platform_system == \"Linux\" and platform_machine == \"x86_64\", but you have nvidia-cusparse-cu12 12.5.1.3 which is incompatible.\n",
            "torch 2.5.1+cu124 requires nvidia-nvjitlink-cu12==12.4.127; platform_system == \"Linux\" and platform_machine == \"x86_64\", but you have nvidia-nvjitlink-cu12 12.5.82 which is incompatible.\u001b[0m\u001b[31m\n",
            "\u001b[0m"
          ]
        }
      ]
    },
    {
      "cell_type": "code",
      "source": [
        "import gradio as gr"
      ],
      "metadata": {
        "id": "-51R4nw2GZyG"
      },
      "id": "-51R4nw2GZyG",
      "execution_count": 64,
      "outputs": []
    },
    {
      "cell_type": "markdown",
      "source": [
        "### Making predictions using NaiveBayes"
      ],
      "metadata": {
        "id": "CcC9VqPeGhte"
      },
      "id": "CcC9VqPeGhte"
    },
    {
      "cell_type": "code",
      "source": [
        "def make_prediction_using_NaiveBayes(user_input):\n",
        "  df1 = spark.createDataFrame([ (1, user_input)],['Id', 'UserTweet'])\n",
        "\n",
        "  df1 = df1.withColumn('UserTweet',words(df1['UserTweet']))\n",
        "  df1 = df1.withColumn(\"wordss\", word_udf(\"UserTweet\"))\n",
        "  df1 = df1.withColumn(\"wordss\", punct_udf1(\"wordss\"))\n",
        "  df1 = df1.withColumn(\"wordss\", array_udf(\"wordss\"))\n",
        "  df1 = df1.withColumn(\"wordss\", lem(\"wordss\"))\n",
        "  df1 = df1.withColumn(\"wordss\", array_udf(\"wordss\"))\n",
        "\n",
        "  df1 = df1.withColumn('tweet_length', length(df1['UserTweet']).astype('int'))\n",
        "  df1 = df1.withColumn('num_hashtags', num_hashtags(df1['UserTweet']).astype('int'))\n",
        "  df1 = df1.withColumn('num_mentions', num_mentions(df1['UserTweet']).astype('int'))\n",
        "  df1 = df1.withColumn('PunctCount',punctCount(df1['UserTweet']).astype('int'))\n",
        "  df1 = df1.withColumn('typePunct',typePunct(df1['UserTweet']).astype('int'))\n",
        "  make  = udf(lambda x : 0)\n",
        "  df1 = df1.withColumn('negativereason_confidence',make(df1['UserTweet']).astype('int'))\n",
        "  df1 = df1.withColumn('airline_sentiment_confidence',make(df1['UserTweet']).astype('int'))\n",
        "  df1 = df1.withColumn('retweet_count',make(df1['UserTweet']).astype('int'))\n",
        "  df1_featured = count_model.transform(df1)\n",
        "  test_features = featureassembler.transform(df1_featured)\n",
        "  test_predict = model.transform(test_features)\n",
        "  df_res = test_predict.select('prediction').toPandas()\n",
        "  pred = df_res.prediction.values[0]\n",
        "\n",
        "  if pred == 0:\n",
        "    return \"Positive tweet!\"\n",
        "  elif pred == 1:\n",
        "    return \"Negative Tweet!\"\n",
        "  return \"Neutral tweet\""
      ],
      "metadata": {
        "id": "jlAbMV4HGln-"
      },
      "id": "jlAbMV4HGln-",
      "execution_count": 65,
      "outputs": []
    },
    {
      "cell_type": "code",
      "source": [
        "# Make a prediction using make_prediction_using_NaiveBayes for the text \"It was a bad approach\"\n",
        "# YOUR CODE HERE"
      ],
      "metadata": {
        "id": "sj5UHgrYGm8h"
      },
      "id": "sj5UHgrYGm8h",
      "execution_count": null,
      "outputs": []
    },
    {
      "cell_type": "code",
      "source": [
        "# Import necessary libraries\n",
        "import gradio as gr\n",
        "\n",
        "# Function to make prediction using Naive Bayes\n",
        "def make_prediction_using_NaiveBayes(user_input):\n",
        "    df1 = spark.createDataFrame([(1, user_input)], ['Id', 'UserTweet'])\n",
        "\n",
        "    df1 = df1.withColumn('UserTweet', words(df1['UserTweet']))\n",
        "    df1 = df1.withColumn(\"wordss\", word_udf(\"UserTweet\"))\n",
        "    df1 = df1.withColumn(\"wordss\", punct_udf1(\"wordss\"))\n",
        "    df1 = df1.withColumn(\"wordss\", array_udf(\"wordss\"))\n",
        "    df1 = df1.withColumn(\"wordss\", lem(\"wordss\"))\n",
        "    df1 = df1.withColumn(\"wordss\", array_udf(\"wordss\"))\n",
        "\n",
        "    df1 = df1.withColumn('tweet_length', length(df1['UserTweet']).astype('int'))\n",
        "    df1 = df1.withColumn('num_hashtags', num_hashtags(df1['UserTweet']).astype('int'))\n",
        "    df1 = df1.withColumn('num_mentions', num_mentions(df1['UserTweet']).astype('int'))\n",
        "    df1 = df1.withColumn('PunctCount', punctCount(df1['UserTweet']).astype('int'))\n",
        "    df1 = df1.withColumn('typePunct', typePunct(df1['UserTweet']).astype('int'))\n",
        "\n",
        "    make = udf(lambda x: 0)\n",
        "    df1 = df1.withColumn('negativereason_confidence', make(df1['UserTweet']).astype('int'))\n",
        "    df1 = df1.withColumn('airline_sentiment_confidence', make(df1['UserTweet']).astype('int'))\n",
        "    df1 = df1.withColumn('retweet_count', make(df1['UserTweet']).astype('int'))\n",
        "\n",
        "    df1_featured = count_model.transform(df1)\n",
        "    test_features = featureassembler.transform(df1_featured)\n",
        "    test_predict = model.transform(test_features)\n",
        "    df_res = test_predict.select('prediction').toPandas()\n",
        "    pred = df_res.prediction.values[0]\n",
        "\n",
        "    if pred == 0:\n",
        "        return \"Positive tweet!\"\n",
        "    elif pred == 1:\n",
        "        return \"Negative Tweet!\"\n",
        "    return \"Neutral tweet\"\n",
        "\n",
        "# Gradio UI for Sentiment Prediction\n",
        "gr.Interface(fn=make_prediction_using_NaiveBayes,\n",
        "             inputs=gr.Textbox(label=\"Enter a Tweet\"),\n",
        "             outputs=gr.Textbox(label=\"Predicted Sentiment\"),\n",
        "             title=\"Airline Sentiment Analysis\").launch(share=True)\n",
        "\n"
      ],
      "metadata": {
        "id": "tPB8H5aQ3imf",
        "outputId": "44ca99c8-0d8e-4f40-a2c1-d5f4044a3af4",
        "colab": {
          "base_uri": "https://localhost:8080/",
          "height": 646
        }
      },
      "id": "tPB8H5aQ3imf",
      "execution_count": 67,
      "outputs": [
        {
          "output_type": "stream",
          "name": "stdout",
          "text": [
            "Colab notebook detected. To show errors in colab notebook, set debug=True in launch()\n",
            "IMPORTANT: You are using gradio version 3.41.2, however version 4.44.1 is available, please upgrade.\n",
            "--------\n",
            "Running on public URL: https://a876de65ac4a50c3f3.gradio.live\n",
            "\n",
            "This share link expires in 72 hours. For free permanent hosting and GPU upgrades, run `gradio deploy` from Terminal to deploy to Spaces (https://huggingface.co/spaces)\n"
          ]
        },
        {
          "output_type": "display_data",
          "data": {
            "text/plain": [
              "<IPython.core.display.HTML object>"
            ],
            "text/html": [
              "<div><iframe src=\"https://a876de65ac4a50c3f3.gradio.live\" width=\"100%\" height=\"500\" allow=\"autoplay; camera; microphone; clipboard-read; clipboard-write;\" frameborder=\"0\" allowfullscreen></iframe></div>"
            ]
          },
          "metadata": {}
        },
        {
          "output_type": "execute_result",
          "data": {
            "text/plain": []
          },
          "metadata": {},
          "execution_count": 67
        }
      ]
    },
    {
      "cell_type": "code",
      "source": [
        "# Install Gradio if not already installed\n",
        "!pip install gradio==3.41.2\n",
        "\n",
        "# Import necessary libraries\n",
        "from pyspark.sql import SparkSession\n",
        "from pyspark.sql.functions import col, udf\n",
        "from pyspark.sql.types import IntegerType\n",
        "from pyspark.ml.feature import Tokenizer, StopWordsRemover, CountVectorizer, IDF, VectorAssembler\n",
        "from pyspark.ml.classification import NaiveBayes\n",
        "import gradio as gr\n",
        "\n",
        "# Initialize Spark session\n",
        "spark = SparkSession.builder.appName(\"SentimentAnalysis\").getOrCreate()\n",
        "\n",
        "# Pre-trained components (Ensure these are defined/trained in your workflow)\n",
        "# Mock placeholders for functions and pre-trained models\n",
        "def words(text): return text.lower().split()  # Mock function for tokenization\n",
        "count_model = None  # Replace with your pre-trained CountVectorizer model\n",
        "featureassembler = None  # Replace with your pre-trained VectorAssembler\n",
        "model = None  # Replace with your trained Naive Bayes model\n",
        "\n",
        "# Function to process and predict\n",
        "def make_prediction_using_NaiveBayes(user_input):\n",
        "    try:\n",
        "        # Create a DataFrame from user input\n",
        "        df1 = spark.createDataFrame([(1, user_input)], ['Id', 'UserTweet'])\n",
        "\n",
        "        # Mock preprocessing pipeline\n",
        "        df1 = df1.withColumn('UserTweet', udf(words)(\"UserTweet\"))\n",
        "\n",
        "        # Mock feature engineering\n",
        "        if count_model and featureassembler:\n",
        "            df1_featured = count_model.transform(df1)\n",
        "            test_features = featureassembler.transform(df1_featured)\n",
        "        else:\n",
        "            return \"Error: Pre-trained models are missing.\"\n",
        "\n",
        "        # Predict using the trained Naive Bayes model\n",
        "        if model:\n",
        "            test_predict = model.transform(test_features)\n",
        "            df_res = test_predict.select('prediction').toPandas()\n",
        "            pred = df_res.prediction.values[0]\n",
        "        else:\n",
        "            return \"Error: Pre-trained Naive Bayes model is missing.\"\n",
        "\n",
        "        # Map prediction to sentiment\n",
        "        if pred == 0:\n",
        "            return \"Positive tweet!\"\n",
        "        elif pred == 1:\n",
        "            return \"Negative tweet!\"\n",
        "        return \"Neutral tweet\"\n",
        "    except Exception as e:\n",
        "        return f\"Error: {str(e)}\"\n",
        "\n",
        "# Gradio app\n",
        "gr.Interface(\n",
        "    fn=make_prediction_using_NaiveBayes,\n",
        "    inputs=gr.Textbox(label=\"Enter a Tweet\"),\n",
        "    outputs=gr.Textbox(label=\"Predicted Sentiment\"),\n",
        "    title=\"Airline Sentiment Analysis\",\n",
        "    live=True,\n",
        ").launch(share=True)\n"
      ],
      "metadata": {
        "id": "rSFfNFAv4-ah",
        "outputId": "51df2ea9-dbc4-4058-e9a2-cdffded34746",
        "colab": {
          "base_uri": "https://localhost:8080/",
          "height": 1000
        }
      },
      "id": "rSFfNFAv4-ah",
      "execution_count": 68,
      "outputs": [
        {
          "output_type": "stream",
          "name": "stdout",
          "text": [
            "Requirement already satisfied: gradio==3.41.2 in /usr/local/lib/python3.11/dist-packages (3.41.2)\n",
            "Requirement already satisfied: aiofiles<24.0,>=22.0 in /usr/local/lib/python3.11/dist-packages (from gradio==3.41.2) (23.2.1)\n",
            "Requirement already satisfied: altair<6.0,>=4.2.0 in /usr/local/lib/python3.11/dist-packages (from gradio==3.41.2) (5.5.0)\n",
            "Requirement already satisfied: fastapi in /usr/local/lib/python3.11/dist-packages (from gradio==3.41.2) (0.115.8)\n",
            "Requirement already satisfied: ffmpy in /usr/local/lib/python3.11/dist-packages (from gradio==3.41.2) (0.5.0)\n",
            "Requirement already satisfied: gradio-client==0.5.0 in /usr/local/lib/python3.11/dist-packages (from gradio==3.41.2) (0.5.0)\n",
            "Requirement already satisfied: httpx in /usr/local/lib/python3.11/dist-packages (from gradio==3.41.2) (0.28.1)\n",
            "Requirement already satisfied: huggingface-hub>=0.14.0 in /usr/local/lib/python3.11/dist-packages (from gradio==3.41.2) (0.28.1)\n",
            "Requirement already satisfied: importlib-resources<7.0,>=1.3 in /usr/local/lib/python3.11/dist-packages (from gradio==3.41.2) (6.5.2)\n",
            "Requirement already satisfied: jinja2<4.0 in /usr/local/lib/python3.11/dist-packages (from gradio==3.41.2) (3.1.5)\n",
            "Requirement already satisfied: markupsafe~=2.0 in /usr/local/lib/python3.11/dist-packages (from gradio==3.41.2) (2.1.5)\n",
            "Requirement already satisfied: matplotlib~=3.0 in /usr/local/lib/python3.11/dist-packages (from gradio==3.41.2) (3.10.0)\n",
            "Requirement already satisfied: numpy~=1.0 in /usr/local/lib/python3.11/dist-packages (from gradio==3.41.2) (1.26.4)\n",
            "Requirement already satisfied: orjson~=3.0 in /usr/local/lib/python3.11/dist-packages (from gradio==3.41.2) (3.10.15)\n",
            "Requirement already satisfied: packaging in /usr/local/lib/python3.11/dist-packages (from gradio==3.41.2) (24.2)\n",
            "Requirement already satisfied: pandas<3.0,>=1.0 in /usr/local/lib/python3.11/dist-packages (from gradio==3.41.2) (2.2.2)\n",
            "Requirement already satisfied: pillow<11.0,>=8.0 in /usr/local/lib/python3.11/dist-packages (from gradio==3.41.2) (10.4.0)\n",
            "Requirement already satisfied: pydantic!=1.8,!=1.8.1,!=2.0.0,!=2.0.1,<3.0.0,>=1.7.4 in /usr/local/lib/python3.11/dist-packages (from gradio==3.41.2) (2.10.6)\n",
            "Requirement already satisfied: pydub in /usr/local/lib/python3.11/dist-packages (from gradio==3.41.2) (0.25.1)\n",
            "Requirement already satisfied: python-multipart in /usr/local/lib/python3.11/dist-packages (from gradio==3.41.2) (0.0.20)\n",
            "Requirement already satisfied: pyyaml<7.0,>=5.0 in /usr/local/lib/python3.11/dist-packages (from gradio==3.41.2) (6.0.2)\n",
            "Requirement already satisfied: requests~=2.0 in /usr/local/lib/python3.11/dist-packages (from gradio==3.41.2) (2.32.3)\n",
            "Requirement already satisfied: semantic-version~=2.0 in /usr/local/lib/python3.11/dist-packages (from gradio==3.41.2) (2.10.0)\n",
            "Requirement already satisfied: typing-extensions~=4.0 in /usr/local/lib/python3.11/dist-packages (from gradio==3.41.2) (4.12.2)\n",
            "Requirement already satisfied: uvicorn>=0.14.0 in /usr/local/lib/python3.11/dist-packages (from gradio==3.41.2) (0.34.0)\n",
            "Requirement already satisfied: websockets<12.0,>=10.0 in /usr/local/lib/python3.11/dist-packages (from gradio==3.41.2) (11.0.3)\n",
            "Requirement already satisfied: fsspec in /usr/local/lib/python3.11/dist-packages (from gradio-client==0.5.0->gradio==3.41.2) (2024.10.0)\n",
            "Requirement already satisfied: jsonschema>=3.0 in /usr/local/lib/python3.11/dist-packages (from altair<6.0,>=4.2.0->gradio==3.41.2) (4.23.0)\n",
            "Requirement already satisfied: narwhals>=1.14.2 in /usr/local/lib/python3.11/dist-packages (from altair<6.0,>=4.2.0->gradio==3.41.2) (1.25.1)\n",
            "Requirement already satisfied: filelock in /usr/local/lib/python3.11/dist-packages (from huggingface-hub>=0.14.0->gradio==3.41.2) (3.17.0)\n",
            "Requirement already satisfied: tqdm>=4.42.1 in /usr/local/lib/python3.11/dist-packages (from huggingface-hub>=0.14.0->gradio==3.41.2) (4.67.1)\n",
            "Requirement already satisfied: contourpy>=1.0.1 in /usr/local/lib/python3.11/dist-packages (from matplotlib~=3.0->gradio==3.41.2) (1.3.1)\n",
            "Requirement already satisfied: cycler>=0.10 in /usr/local/lib/python3.11/dist-packages (from matplotlib~=3.0->gradio==3.41.2) (0.12.1)\n",
            "Requirement already satisfied: fonttools>=4.22.0 in /usr/local/lib/python3.11/dist-packages (from matplotlib~=3.0->gradio==3.41.2) (4.55.8)\n",
            "Requirement already satisfied: kiwisolver>=1.3.1 in /usr/local/lib/python3.11/dist-packages (from matplotlib~=3.0->gradio==3.41.2) (1.4.8)\n",
            "Requirement already satisfied: pyparsing>=2.3.1 in /usr/local/lib/python3.11/dist-packages (from matplotlib~=3.0->gradio==3.41.2) (3.2.1)\n",
            "Requirement already satisfied: python-dateutil>=2.7 in /usr/local/lib/python3.11/dist-packages (from matplotlib~=3.0->gradio==3.41.2) (2.8.2)\n",
            "Requirement already satisfied: pytz>=2020.1 in /usr/local/lib/python3.11/dist-packages (from pandas<3.0,>=1.0->gradio==3.41.2) (2025.1)\n",
            "Requirement already satisfied: tzdata>=2022.7 in /usr/local/lib/python3.11/dist-packages (from pandas<3.0,>=1.0->gradio==3.41.2) (2025.1)\n",
            "Requirement already satisfied: annotated-types>=0.6.0 in /usr/local/lib/python3.11/dist-packages (from pydantic!=1.8,!=1.8.1,!=2.0.0,!=2.0.1,<3.0.0,>=1.7.4->gradio==3.41.2) (0.7.0)\n",
            "Requirement already satisfied: pydantic-core==2.27.2 in /usr/local/lib/python3.11/dist-packages (from pydantic!=1.8,!=1.8.1,!=2.0.0,!=2.0.1,<3.0.0,>=1.7.4->gradio==3.41.2) (2.27.2)\n",
            "Requirement already satisfied: charset-normalizer<4,>=2 in /usr/local/lib/python3.11/dist-packages (from requests~=2.0->gradio==3.41.2) (3.4.1)\n",
            "Requirement already satisfied: idna<4,>=2.5 in /usr/local/lib/python3.11/dist-packages (from requests~=2.0->gradio==3.41.2) (3.10)\n",
            "Requirement already satisfied: urllib3<3,>=1.21.1 in /usr/local/lib/python3.11/dist-packages (from requests~=2.0->gradio==3.41.2) (2.3.0)\n",
            "Requirement already satisfied: certifi>=2017.4.17 in /usr/local/lib/python3.11/dist-packages (from requests~=2.0->gradio==3.41.2) (2025.1.31)\n",
            "Requirement already satisfied: click>=7.0 in /usr/local/lib/python3.11/dist-packages (from uvicorn>=0.14.0->gradio==3.41.2) (8.1.8)\n",
            "Requirement already satisfied: h11>=0.8 in /usr/local/lib/python3.11/dist-packages (from uvicorn>=0.14.0->gradio==3.41.2) (0.14.0)\n",
            "Requirement already satisfied: starlette<0.46.0,>=0.40.0 in /usr/local/lib/python3.11/dist-packages (from fastapi->gradio==3.41.2) (0.45.3)\n",
            "Requirement already satisfied: anyio in /usr/local/lib/python3.11/dist-packages (from httpx->gradio==3.41.2) (3.7.1)\n",
            "Requirement already satisfied: httpcore==1.* in /usr/local/lib/python3.11/dist-packages (from httpx->gradio==3.41.2) (1.0.7)\n",
            "Requirement already satisfied: attrs>=22.2.0 in /usr/local/lib/python3.11/dist-packages (from jsonschema>=3.0->altair<6.0,>=4.2.0->gradio==3.41.2) (25.1.0)\n",
            "Requirement already satisfied: jsonschema-specifications>=2023.03.6 in /usr/local/lib/python3.11/dist-packages (from jsonschema>=3.0->altair<6.0,>=4.2.0->gradio==3.41.2) (2024.10.1)\n",
            "Requirement already satisfied: referencing>=0.28.4 in /usr/local/lib/python3.11/dist-packages (from jsonschema>=3.0->altair<6.0,>=4.2.0->gradio==3.41.2) (0.36.2)\n",
            "Requirement already satisfied: rpds-py>=0.7.1 in /usr/local/lib/python3.11/dist-packages (from jsonschema>=3.0->altair<6.0,>=4.2.0->gradio==3.41.2) (0.22.3)\n",
            "Requirement already satisfied: six>=1.5 in /usr/local/lib/python3.11/dist-packages (from python-dateutil>=2.7->matplotlib~=3.0->gradio==3.41.2) (1.17.0)\n",
            "Requirement already satisfied: sniffio>=1.1 in /usr/local/lib/python3.11/dist-packages (from anyio->httpx->gradio==3.41.2) (1.3.1)\n",
            "Colab notebook detected. To show errors in colab notebook, set debug=True in launch()\n",
            "IMPORTANT: You are using gradio version 3.41.2, however version 4.44.1 is available, please upgrade.\n",
            "--------\n",
            "Running on public URL: https://4c61e14fb92455ecc8.gradio.live\n",
            "\n",
            "This share link expires in 72 hours. For free permanent hosting and GPU upgrades, run `gradio deploy` from Terminal to deploy to Spaces (https://huggingface.co/spaces)\n"
          ]
        },
        {
          "output_type": "display_data",
          "data": {
            "text/plain": [
              "<IPython.core.display.HTML object>"
            ],
            "text/html": [
              "<div><iframe src=\"https://4c61e14fb92455ecc8.gradio.live\" width=\"100%\" height=\"500\" allow=\"autoplay; camera; microphone; clipboard-read; clipboard-write;\" frameborder=\"0\" allowfullscreen></iframe></div>"
            ]
          },
          "metadata": {}
        },
        {
          "output_type": "execute_result",
          "data": {
            "text/plain": []
          },
          "metadata": {},
          "execution_count": 68
        }
      ]
    },
    {
      "cell_type": "code",
      "source": [
        "# Install Gradio\n",
        "!pip install gradio==3.41.2\n",
        "\n",
        "# Import necessary libraries\n",
        "from pyspark.sql import SparkSession\n",
        "from pyspark.sql.functions import col, when\n",
        "from pyspark.ml.feature import Tokenizer, StopWordsRemover, CountVectorizer, VectorAssembler\n",
        "from pyspark.ml.classification import NaiveBayes\n",
        "import gradio as gr\n",
        "\n",
        "# Initialize Spark Session\n",
        "spark = SparkSession.builder.appName(\"SentimentAnalysis\").getOrCreate()\n",
        "\n",
        "# Load Dataset\n",
        "data_path = \"/content/US_Airline_Tweets.csv\"  # Update the path if needed\n",
        "df = spark.read.csv(data_path, header=True, inferSchema=True)\n",
        "\n",
        "# Ensure the 'text' column is clean and non-null\n",
        "df = df.withColumn(\"text\", when(col(\"text\").isNull(), \"\").otherwise(col(\"text\")))\n",
        "\n",
        "# Preprocessing\n",
        "# Tokenization\n",
        "tokenizer = Tokenizer(inputCol=\"text\", outputCol=\"words\")\n",
        "df = tokenizer.transform(df)\n",
        "\n",
        "# Stop Words Removal\n",
        "stopwords_remover = StopWordsRemover(inputCol=\"words\", outputCol=\"filtered_words\")\n",
        "df = stopwords_remover.transform(df)\n",
        "\n",
        "# Count Vectorizer\n",
        "count_vectorizer = CountVectorizer(inputCol=\"filtered_words\", outputCol=\"raw_features\")\n",
        "count_model = count_vectorizer.fit(df)\n",
        "df = count_model.transform(df)\n",
        "\n",
        "# Feature Assembler\n",
        "featureassembler = VectorAssembler(\n",
        "    inputCols=[\"raw_features\"],  # Add other features as needed\n",
        "    outputCol=\"features\"\n",
        ")\n",
        "df = featureassembler.transform(df)\n",
        "\n",
        "# Label Encoding\n",
        "from pyspark.sql.types import IntegerType\n",
        "label_udf = udf(lambda x: 0 if x == \"positive\" else (1 if x == \"negative\" else 2), IntegerType())\n",
        "df = df.withColumn(\"label\", label_udf(col(\"airline_sentiment\")))\n",
        "\n",
        "# Split Dataset\n",
        "train_data, test_data = df.randomSplit([0.8, 0.2], seed=42)\n",
        "\n",
        "# Train Naive Bayes Model\n",
        "nb_model = NaiveBayes(featuresCol=\"features\", labelCol=\"label\")\n",
        "model = nb_model.fit(train_data)\n",
        "\n",
        "# Gradio Prediction Function\n",
        "def make_prediction_using_NaiveBayes(user_input):\n",
        "    try:\n",
        "        # Create a DataFrame for the input\n",
        "        df_input = spark.createDataFrame([(1, user_input)], [\"Id\", \"text\"])\n",
        "\n",
        "        # Preprocessing Pipeline\n",
        "        df_input = tokenizer.transform(df_input)\n",
        "        df_input = stopwords_remover.transform(df_input)\n",
        "        df_input = count_model.transform(df_input)\n",
        "        df_input = featureassembler.transform(df_input)\n",
        "\n",
        "        # Make Prediction\n",
        "        test_predict = model.transform(df_input)\n",
        "        prediction = test_predict.select(\"prediction\").collect()[0][0]\n",
        "\n",
        "        # Map Prediction to Sentiment\n",
        "        if prediction == 0:\n",
        "            return \"Positive tweet!\"\n",
        "        elif prediction == 1:\n",
        "            return \"Negative tweet!\"\n",
        "        return \"Neutral tweet\"\n",
        "    except Exception as e:\n",
        "        return f\"Error: {str(e)}\"\n",
        "\n",
        "# Gradio App\n",
        "gr.Interface(\n",
        "    fn=make_prediction_using_NaiveBayes,\n",
        "    inputs=gr.Textbox(label=\"Enter a Tweet\"),\n",
        "    outputs=gr.Textbox(label=\"Predicted Sentiment\"),\n",
        "    title=\"Airline Sentiment Analysis\",\n",
        "    live=True,\n",
        ").launch(share=True)\n",
        "\n"
      ],
      "metadata": {
        "id": "DtYyuR0w5ryv",
        "outputId": "f4230fde-8a43-4321-84e4-72954ebc23cf",
        "colab": {
          "base_uri": "https://localhost:8080/",
          "height": 1000
        }
      },
      "id": "DtYyuR0w5ryv",
      "execution_count": 70,
      "outputs": [
        {
          "output_type": "stream",
          "name": "stdout",
          "text": [
            "Requirement already satisfied: gradio==3.41.2 in /usr/local/lib/python3.11/dist-packages (3.41.2)\n",
            "Requirement already satisfied: aiofiles<24.0,>=22.0 in /usr/local/lib/python3.11/dist-packages (from gradio==3.41.2) (23.2.1)\n",
            "Requirement already satisfied: altair<6.0,>=4.2.0 in /usr/local/lib/python3.11/dist-packages (from gradio==3.41.2) (5.5.0)\n",
            "Requirement already satisfied: fastapi in /usr/local/lib/python3.11/dist-packages (from gradio==3.41.2) (0.115.8)\n",
            "Requirement already satisfied: ffmpy in /usr/local/lib/python3.11/dist-packages (from gradio==3.41.2) (0.5.0)\n",
            "Requirement already satisfied: gradio-client==0.5.0 in /usr/local/lib/python3.11/dist-packages (from gradio==3.41.2) (0.5.0)\n",
            "Requirement already satisfied: httpx in /usr/local/lib/python3.11/dist-packages (from gradio==3.41.2) (0.28.1)\n",
            "Requirement already satisfied: huggingface-hub>=0.14.0 in /usr/local/lib/python3.11/dist-packages (from gradio==3.41.2) (0.28.1)\n",
            "Requirement already satisfied: importlib-resources<7.0,>=1.3 in /usr/local/lib/python3.11/dist-packages (from gradio==3.41.2) (6.5.2)\n",
            "Requirement already satisfied: jinja2<4.0 in /usr/local/lib/python3.11/dist-packages (from gradio==3.41.2) (3.1.5)\n",
            "Requirement already satisfied: markupsafe~=2.0 in /usr/local/lib/python3.11/dist-packages (from gradio==3.41.2) (2.1.5)\n",
            "Requirement already satisfied: matplotlib~=3.0 in /usr/local/lib/python3.11/dist-packages (from gradio==3.41.2) (3.10.0)\n",
            "Requirement already satisfied: numpy~=1.0 in /usr/local/lib/python3.11/dist-packages (from gradio==3.41.2) (1.26.4)\n",
            "Requirement already satisfied: orjson~=3.0 in /usr/local/lib/python3.11/dist-packages (from gradio==3.41.2) (3.10.15)\n",
            "Requirement already satisfied: packaging in /usr/local/lib/python3.11/dist-packages (from gradio==3.41.2) (24.2)\n",
            "Requirement already satisfied: pandas<3.0,>=1.0 in /usr/local/lib/python3.11/dist-packages (from gradio==3.41.2) (2.2.2)\n",
            "Requirement already satisfied: pillow<11.0,>=8.0 in /usr/local/lib/python3.11/dist-packages (from gradio==3.41.2) (10.4.0)\n",
            "Requirement already satisfied: pydantic!=1.8,!=1.8.1,!=2.0.0,!=2.0.1,<3.0.0,>=1.7.4 in /usr/local/lib/python3.11/dist-packages (from gradio==3.41.2) (2.10.6)\n",
            "Requirement already satisfied: pydub in /usr/local/lib/python3.11/dist-packages (from gradio==3.41.2) (0.25.1)\n",
            "Requirement already satisfied: python-multipart in /usr/local/lib/python3.11/dist-packages (from gradio==3.41.2) (0.0.20)\n",
            "Requirement already satisfied: pyyaml<7.0,>=5.0 in /usr/local/lib/python3.11/dist-packages (from gradio==3.41.2) (6.0.2)\n",
            "Requirement already satisfied: requests~=2.0 in /usr/local/lib/python3.11/dist-packages (from gradio==3.41.2) (2.32.3)\n",
            "Requirement already satisfied: semantic-version~=2.0 in /usr/local/lib/python3.11/dist-packages (from gradio==3.41.2) (2.10.0)\n",
            "Requirement already satisfied: typing-extensions~=4.0 in /usr/local/lib/python3.11/dist-packages (from gradio==3.41.2) (4.12.2)\n",
            "Requirement already satisfied: uvicorn>=0.14.0 in /usr/local/lib/python3.11/dist-packages (from gradio==3.41.2) (0.34.0)\n",
            "Requirement already satisfied: websockets<12.0,>=10.0 in /usr/local/lib/python3.11/dist-packages (from gradio==3.41.2) (11.0.3)\n",
            "Requirement already satisfied: fsspec in /usr/local/lib/python3.11/dist-packages (from gradio-client==0.5.0->gradio==3.41.2) (2024.10.0)\n",
            "Requirement already satisfied: jsonschema>=3.0 in /usr/local/lib/python3.11/dist-packages (from altair<6.0,>=4.2.0->gradio==3.41.2) (4.23.0)\n",
            "Requirement already satisfied: narwhals>=1.14.2 in /usr/local/lib/python3.11/dist-packages (from altair<6.0,>=4.2.0->gradio==3.41.2) (1.25.1)\n",
            "Requirement already satisfied: filelock in /usr/local/lib/python3.11/dist-packages (from huggingface-hub>=0.14.0->gradio==3.41.2) (3.17.0)\n",
            "Requirement already satisfied: tqdm>=4.42.1 in /usr/local/lib/python3.11/dist-packages (from huggingface-hub>=0.14.0->gradio==3.41.2) (4.67.1)\n",
            "Requirement already satisfied: contourpy>=1.0.1 in /usr/local/lib/python3.11/dist-packages (from matplotlib~=3.0->gradio==3.41.2) (1.3.1)\n",
            "Requirement already satisfied: cycler>=0.10 in /usr/local/lib/python3.11/dist-packages (from matplotlib~=3.0->gradio==3.41.2) (0.12.1)\n",
            "Requirement already satisfied: fonttools>=4.22.0 in /usr/local/lib/python3.11/dist-packages (from matplotlib~=3.0->gradio==3.41.2) (4.55.8)\n",
            "Requirement already satisfied: kiwisolver>=1.3.1 in /usr/local/lib/python3.11/dist-packages (from matplotlib~=3.0->gradio==3.41.2) (1.4.8)\n",
            "Requirement already satisfied: pyparsing>=2.3.1 in /usr/local/lib/python3.11/dist-packages (from matplotlib~=3.0->gradio==3.41.2) (3.2.1)\n",
            "Requirement already satisfied: python-dateutil>=2.7 in /usr/local/lib/python3.11/dist-packages (from matplotlib~=3.0->gradio==3.41.2) (2.8.2)\n",
            "Requirement already satisfied: pytz>=2020.1 in /usr/local/lib/python3.11/dist-packages (from pandas<3.0,>=1.0->gradio==3.41.2) (2025.1)\n",
            "Requirement already satisfied: tzdata>=2022.7 in /usr/local/lib/python3.11/dist-packages (from pandas<3.0,>=1.0->gradio==3.41.2) (2025.1)\n",
            "Requirement already satisfied: annotated-types>=0.6.0 in /usr/local/lib/python3.11/dist-packages (from pydantic!=1.8,!=1.8.1,!=2.0.0,!=2.0.1,<3.0.0,>=1.7.4->gradio==3.41.2) (0.7.0)\n",
            "Requirement already satisfied: pydantic-core==2.27.2 in /usr/local/lib/python3.11/dist-packages (from pydantic!=1.8,!=1.8.1,!=2.0.0,!=2.0.1,<3.0.0,>=1.7.4->gradio==3.41.2) (2.27.2)\n",
            "Requirement already satisfied: charset-normalizer<4,>=2 in /usr/local/lib/python3.11/dist-packages (from requests~=2.0->gradio==3.41.2) (3.4.1)\n",
            "Requirement already satisfied: idna<4,>=2.5 in /usr/local/lib/python3.11/dist-packages (from requests~=2.0->gradio==3.41.2) (3.10)\n",
            "Requirement already satisfied: urllib3<3,>=1.21.1 in /usr/local/lib/python3.11/dist-packages (from requests~=2.0->gradio==3.41.2) (2.3.0)\n",
            "Requirement already satisfied: certifi>=2017.4.17 in /usr/local/lib/python3.11/dist-packages (from requests~=2.0->gradio==3.41.2) (2025.1.31)\n",
            "Requirement already satisfied: click>=7.0 in /usr/local/lib/python3.11/dist-packages (from uvicorn>=0.14.0->gradio==3.41.2) (8.1.8)\n",
            "Requirement already satisfied: h11>=0.8 in /usr/local/lib/python3.11/dist-packages (from uvicorn>=0.14.0->gradio==3.41.2) (0.14.0)\n",
            "Requirement already satisfied: starlette<0.46.0,>=0.40.0 in /usr/local/lib/python3.11/dist-packages (from fastapi->gradio==3.41.2) (0.45.3)\n",
            "Requirement already satisfied: anyio in /usr/local/lib/python3.11/dist-packages (from httpx->gradio==3.41.2) (3.7.1)\n",
            "Requirement already satisfied: httpcore==1.* in /usr/local/lib/python3.11/dist-packages (from httpx->gradio==3.41.2) (1.0.7)\n",
            "Requirement already satisfied: attrs>=22.2.0 in /usr/local/lib/python3.11/dist-packages (from jsonschema>=3.0->altair<6.0,>=4.2.0->gradio==3.41.2) (25.1.0)\n",
            "Requirement already satisfied: jsonschema-specifications>=2023.03.6 in /usr/local/lib/python3.11/dist-packages (from jsonschema>=3.0->altair<6.0,>=4.2.0->gradio==3.41.2) (2024.10.1)\n",
            "Requirement already satisfied: referencing>=0.28.4 in /usr/local/lib/python3.11/dist-packages (from jsonschema>=3.0->altair<6.0,>=4.2.0->gradio==3.41.2) (0.36.2)\n",
            "Requirement already satisfied: rpds-py>=0.7.1 in /usr/local/lib/python3.11/dist-packages (from jsonschema>=3.0->altair<6.0,>=4.2.0->gradio==3.41.2) (0.22.3)\n",
            "Requirement already satisfied: six>=1.5 in /usr/local/lib/python3.11/dist-packages (from python-dateutil>=2.7->matplotlib~=3.0->gradio==3.41.2) (1.17.0)\n",
            "Requirement already satisfied: sniffio>=1.1 in /usr/local/lib/python3.11/dist-packages (from anyio->httpx->gradio==3.41.2) (1.3.1)\n",
            "Colab notebook detected. To show errors in colab notebook, set debug=True in launch()\n",
            "IMPORTANT: You are using gradio version 3.41.2, however version 4.44.1 is available, please upgrade.\n",
            "--------\n",
            "Running on public URL: https://b1476602d4324a008c.gradio.live\n",
            "\n",
            "This share link expires in 72 hours. For free permanent hosting and GPU upgrades, run `gradio deploy` from Terminal to deploy to Spaces (https://huggingface.co/spaces)\n"
          ]
        },
        {
          "output_type": "display_data",
          "data": {
            "text/plain": [
              "<IPython.core.display.HTML object>"
            ],
            "text/html": [
              "<div><iframe src=\"https://b1476602d4324a008c.gradio.live\" width=\"100%\" height=\"500\" allow=\"autoplay; camera; microphone; clipboard-read; clipboard-write;\" frameborder=\"0\" allowfullscreen></iframe></div>"
            ]
          },
          "metadata": {}
        },
        {
          "output_type": "execute_result",
          "data": {
            "text/plain": []
          },
          "metadata": {},
          "execution_count": 70
        }
      ]
    },
    {
      "cell_type": "markdown",
      "source": [
        "### Making predictions using LogisticRegression"
      ],
      "metadata": {
        "id": "0yZwvMIkGt0S"
      },
      "id": "0yZwvMIkGt0S"
    },
    {
      "cell_type": "code",
      "source": [
        "def make_prediction_using_LogReg(user_input):\n",
        "  df1 = spark.createDataFrame([ (1, user_input)],['Id', 'UserTweet'])\n",
        "\n",
        "  df1 = df1.withColumn('UserTweet',words(df1['UserTweet']))\n",
        "  df1 = df1.withColumn(\"wordss\", word_udf(\"UserTweet\"))\n",
        "  df1 = df1.withColumn(\"wordss\", punct_udf1(\"wordss\"))\n",
        "  df1 = df1.withColumn(\"wordss\", array_udf(\"wordss\"))\n",
        "  df1 = df1.withColumn(\"wordss\", lem(\"wordss\"))\n",
        "  df1 = df1.withColumn(\"wordss\", array_udf(\"wordss\"))\n",
        "\n",
        "  df1 = df1.withColumn('tweet_length', length(df1['UserTweet']).astype('int'))\n",
        "  df1 = df1.withColumn('num_hashtags', num_hashtags(df1['UserTweet']).astype('int'))\n",
        "  df1 = df1.withColumn('num_mentions', num_mentions(df1['UserTweet']).astype('int'))\n",
        "  df1 = df1.withColumn('PunctCount',punctCount(df1['UserTweet']).astype('int'))\n",
        "  df1 = df1.withColumn('typePunct',typePunct(df1['UserTweet']).astype('int'))\n",
        "  make  = udf(lambda x : 0)\n",
        "  df1 = df1.withColumn('negativereason_confidence',make(df1['UserTweet']).astype('int'))\n",
        "  df1 = df1.withColumn('airline_sentiment_confidence',make(df1['UserTweet']).astype('int'))\n",
        "  df1 = df1.withColumn('retweet_count',make(df1['UserTweet']).astype('int'))\n",
        "  df1_featured = count_model.transform(df1)\n",
        "  predictions = lrModel.transform(assembler.transform(df1_featured))\n",
        "  df_res = predictions.select('prediction').toPandas()\n",
        "\n",
        "  pred = df_res.prediction.values[0]\n",
        "\n",
        "  if pred == 0:\n",
        "    return \"Positive tweet!\"\n",
        "  elif pred == 1:\n",
        "    return \"Negative Tweet!\"\n",
        "  return \"Neutral tweet\""
      ],
      "metadata": {
        "id": "ADZclscLGyBC"
      },
      "id": "ADZclscLGyBC",
      "execution_count": 71,
      "outputs": []
    },
    {
      "cell_type": "code",
      "source": [
        "# Make a prediction using make_prediction_using_LogReg \"It was a bad approach\"\n",
        "# YOUR CODE HERE\n",
        "\n",
        "# Import necessary libraries\n",
        "from pyspark.sql import SparkSession\n",
        "from pyspark.sql.functions import col, udf, when\n",
        "from pyspark.sql.types import IntegerType\n",
        "from pyspark.ml.feature import Tokenizer, StopWordsRemover, CountVectorizer, VectorAssembler\n",
        "from pyspark.ml.classification import LogisticRegression\n",
        "import gradio as gr\n",
        "\n",
        "# Initialize Spark Session\n",
        "spark = SparkSession.builder.appName(\"SentimentAnalysis_LogReg\").getOrCreate()\n",
        "\n",
        "# Load Dataset\n",
        "data_path = \"/content/US_Airline_Tweets.csv\"  # Replace with your dataset path\n",
        "df = spark.read.csv(data_path, header=True, inferSchema=True)\n",
        "\n",
        "# Ensure the 'text' column is clean and non-null\n",
        "df = df.withColumn(\"text\", when(col(\"text\").isNull(), \"\").otherwise(col(\"text\")))\n",
        "\n",
        "# Preprocessing Steps\n",
        "# Tokenization\n",
        "tokenizer = Tokenizer(inputCol=\"text\", outputCol=\"words\")\n",
        "df = tokenizer.transform(df)\n",
        "\n",
        "# Stop Words Removal\n",
        "stopwords_remover = StopWordsRemover(inputCol=\"words\", outputCol=\"filtered_words\")\n",
        "df = stopwords_remover.transform(df)\n",
        "\n",
        "# Count Vectorizer\n",
        "count_vectorizer = CountVectorizer(inputCol=\"filtered_words\", outputCol=\"raw_features\")\n",
        "count_model = count_vectorizer.fit(df)\n",
        "df = count_model.transform(df)\n",
        "\n",
        "# Feature Assembler\n",
        "featureassembler = VectorAssembler(\n",
        "    inputCols=[\"raw_features\"],  # Add other features as needed\n",
        "    outputCol=\"features\"\n",
        ")\n",
        "df = featureassembler.transform(df)\n",
        "\n",
        "# Label Encoding\n",
        "label_udf = udf(lambda x: 0 if x == \"positive\" else (1 if x == \"negative\" else 2), IntegerType())\n",
        "df = df.withColumn(\"label\", label_udf(col(\"airline_sentiment\")))\n",
        "\n",
        "# Split Dataset\n",
        "train_data, test_data = df.randomSplit([0.8, 0.2], seed=42)\n",
        "\n",
        "# Train Logistic Regression Model\n",
        "lr = LogisticRegression(featuresCol=\"features\", labelCol=\"label\", maxIter=20, regParam=0.3, elasticNetParam=0)\n",
        "lrModel = lr.fit(train_data)\n",
        "\n",
        "# Define Gradio Prediction Function for Logistic Regression\n",
        "def make_prediction_using_LogReg(user_input):\n",
        "    try:\n",
        "        # Create a DataFrame for the input\n",
        "        df_input = spark.createDataFrame([(1, user_input)], [\"Id\", \"text\"])\n",
        "\n",
        "        # Preprocessing Pipeline\n",
        "        df_input = tokenizer.transform(df_input)\n",
        "        df_input = stopwords_remover.transform(df_input)\n",
        "        df_input = count_model.transform(df_input)\n",
        "        df_input = featureassembler.transform(df_input)\n",
        "\n",
        "        # Make Prediction\n",
        "        predictions = lrModel.transform(df_input)\n",
        "        df_res = predictions.select(\"prediction\").toPandas()\n",
        "        pred = df_res.prediction.values[0]\n",
        "\n",
        "        # Map Prediction to Sentiment\n",
        "        if pred == 0:\n",
        "            return \"Positive tweet!\"\n",
        "        elif pred == 1:\n",
        "            return \"Negative tweet!\"\n",
        "        return \"Neutral tweet\"\n",
        "    except Exception as e:\n",
        "        return f\"Error: {str(e)}\"\n",
        "\n",
        "# Gradio App for Logistic Regression\n",
        "gr.Interface(\n",
        "    fn=make_prediction_using_LogReg,\n",
        "    inputs=gr.Textbox(label=\"Enter a Tweet\"),\n",
        "    outputs=gr.Textbox(label=\"Predicted Sentiment\"),\n",
        "    title=\"Airline Sentiment Analysis (Logistic Regression)\",\n",
        "    live=True,\n",
        ").launch(share=True)\n"
      ],
      "metadata": {
        "id": "w4IL_6uOG2Iq",
        "colab": {
          "base_uri": "https://localhost:8080/",
          "height": 646
        },
        "outputId": "2d3e9fb5-0d03-43f1-8d0a-04ba457e8437"
      },
      "id": "w4IL_6uOG2Iq",
      "execution_count": 72,
      "outputs": [
        {
          "output_type": "stream",
          "name": "stdout",
          "text": [
            "Colab notebook detected. To show errors in colab notebook, set debug=True in launch()\n",
            "IMPORTANT: You are using gradio version 3.41.2, however version 4.44.1 is available, please upgrade.\n",
            "--------\n",
            "Running on public URL: https://3a84b32ffffdd21745.gradio.live\n",
            "\n",
            "This share link expires in 72 hours. For free permanent hosting and GPU upgrades, run `gradio deploy` from Terminal to deploy to Spaces (https://huggingface.co/spaces)\n"
          ]
        },
        {
          "output_type": "display_data",
          "data": {
            "text/plain": [
              "<IPython.core.display.HTML object>"
            ],
            "text/html": [
              "<div><iframe src=\"https://3a84b32ffffdd21745.gradio.live\" width=\"100%\" height=\"500\" allow=\"autoplay; camera; microphone; clipboard-read; clipboard-write;\" frameborder=\"0\" allowfullscreen></iframe></div>"
            ]
          },
          "metadata": {}
        },
        {
          "output_type": "execute_result",
          "data": {
            "text/plain": []
          },
          "metadata": {},
          "execution_count": 72
        }
      ]
    },
    {
      "cell_type": "markdown",
      "source": [
        "### Launching Gradio application\n",
        "\n",
        "Deployment is done for both the models:\n",
        "1. Naive bayes\n",
        "2. Logistic regression\n",
        "\n",
        "\n",
        "\n",
        "Let's integrate all the above code snippets in the following code cell and run it with **Gradio interface**.\n",
        "\n",
        "From the start (data loading step), place every code in make_prediction_using_NaiveBayes() including data preprocessing, feature extraction and model training.\n",
        "\n",
        "**Similar procedure will be followed for logistic regression model deployment**\n",
        "* In this case, the name of the application function created will be make_prediction_using_NaiveBayes()\n",
        "\n",
        "* implement the above 2 functions which take one tweet input from user and returns the prediction using the trained model.\n",
        "\n",
        "* use the same preprocessing techniques and features extraction used for train data on user input.\n",
        "\n",
        "* user input can be captured from the textbox from **Gradio** app. Action is triggered when 'Submit' button is clicked and user input is classified using `make_prediction_using_NaiveBayes()` function.\n",
        "\n",
        "* Selecting the Logist Regression tab in Gradio app, user input can be captured from the textbox. Action is triggered when 'Submit' button is clicked and user input is classified using `make_prediction_using_LogReg()` function.\n",
        "\n",
        "For More information about Gradio, click [here](https://www.gradio.app/docs)"
      ],
      "metadata": {
        "id": "J2f1jNf_G27i"
      },
      "id": "J2f1jNf_G27i"
    },
    {
      "cell_type": "markdown",
      "source": [
        "#### Start the app\n",
        "\n",
        "Now that we have written our app, we can now start our app like we would have done if we were running it locally. But the caveat is to run it in the background so that if the following code cell finish running, our app will continue to run as a background process behind."
      ],
      "metadata": {
        "id": "2Jdt_pfVG-q8"
      },
      "id": "2Jdt_pfVG-q8"
    },
    {
      "cell_type": "code",
      "source": [
        "# Launch a Gradio application with two tabbed interfaces for text classification, using Naive Bayes and Logistic Regression models\n",
        "# YOUR CODE HERE"
      ],
      "metadata": {
        "id": "iXwpfN81HAD7"
      },
      "id": "iXwpfN81HAD7",
      "execution_count": null,
      "outputs": []
    },
    {
      "cell_type": "code",
      "source": [
        "# Install necessary library\n",
        "!pip install gradio==3.41.2"
      ],
      "metadata": {
        "id": "A93JUwxl7NcS",
        "outputId": "6a6ec815-4441-4d94-a32a-2e92617fb250",
        "colab": {
          "base_uri": "https://localhost:8080/"
        }
      },
      "id": "A93JUwxl7NcS",
      "execution_count": 73,
      "outputs": [
        {
          "output_type": "stream",
          "name": "stdout",
          "text": [
            "Requirement already satisfied: gradio==3.41.2 in /usr/local/lib/python3.11/dist-packages (3.41.2)\n",
            "Requirement already satisfied: aiofiles<24.0,>=22.0 in /usr/local/lib/python3.11/dist-packages (from gradio==3.41.2) (23.2.1)\n",
            "Requirement already satisfied: altair<6.0,>=4.2.0 in /usr/local/lib/python3.11/dist-packages (from gradio==3.41.2) (5.5.0)\n",
            "Requirement already satisfied: fastapi in /usr/local/lib/python3.11/dist-packages (from gradio==3.41.2) (0.115.8)\n",
            "Requirement already satisfied: ffmpy in /usr/local/lib/python3.11/dist-packages (from gradio==3.41.2) (0.5.0)\n",
            "Requirement already satisfied: gradio-client==0.5.0 in /usr/local/lib/python3.11/dist-packages (from gradio==3.41.2) (0.5.0)\n",
            "Requirement already satisfied: httpx in /usr/local/lib/python3.11/dist-packages (from gradio==3.41.2) (0.28.1)\n",
            "Requirement already satisfied: huggingface-hub>=0.14.0 in /usr/local/lib/python3.11/dist-packages (from gradio==3.41.2) (0.28.1)\n",
            "Requirement already satisfied: importlib-resources<7.0,>=1.3 in /usr/local/lib/python3.11/dist-packages (from gradio==3.41.2) (6.5.2)\n",
            "Requirement already satisfied: jinja2<4.0 in /usr/local/lib/python3.11/dist-packages (from gradio==3.41.2) (3.1.5)\n",
            "Requirement already satisfied: markupsafe~=2.0 in /usr/local/lib/python3.11/dist-packages (from gradio==3.41.2) (2.1.5)\n",
            "Requirement already satisfied: matplotlib~=3.0 in /usr/local/lib/python3.11/dist-packages (from gradio==3.41.2) (3.10.0)\n",
            "Requirement already satisfied: numpy~=1.0 in /usr/local/lib/python3.11/dist-packages (from gradio==3.41.2) (1.26.4)\n",
            "Requirement already satisfied: orjson~=3.0 in /usr/local/lib/python3.11/dist-packages (from gradio==3.41.2) (3.10.15)\n",
            "Requirement already satisfied: packaging in /usr/local/lib/python3.11/dist-packages (from gradio==3.41.2) (24.2)\n",
            "Requirement already satisfied: pandas<3.0,>=1.0 in /usr/local/lib/python3.11/dist-packages (from gradio==3.41.2) (2.2.2)\n",
            "Requirement already satisfied: pillow<11.0,>=8.0 in /usr/local/lib/python3.11/dist-packages (from gradio==3.41.2) (10.4.0)\n",
            "Requirement already satisfied: pydantic!=1.8,!=1.8.1,!=2.0.0,!=2.0.1,<3.0.0,>=1.7.4 in /usr/local/lib/python3.11/dist-packages (from gradio==3.41.2) (2.10.6)\n",
            "Requirement already satisfied: pydub in /usr/local/lib/python3.11/dist-packages (from gradio==3.41.2) (0.25.1)\n",
            "Requirement already satisfied: python-multipart in /usr/local/lib/python3.11/dist-packages (from gradio==3.41.2) (0.0.20)\n",
            "Requirement already satisfied: pyyaml<7.0,>=5.0 in /usr/local/lib/python3.11/dist-packages (from gradio==3.41.2) (6.0.2)\n",
            "Requirement already satisfied: requests~=2.0 in /usr/local/lib/python3.11/dist-packages (from gradio==3.41.2) (2.32.3)\n",
            "Requirement already satisfied: semantic-version~=2.0 in /usr/local/lib/python3.11/dist-packages (from gradio==3.41.2) (2.10.0)\n",
            "Requirement already satisfied: typing-extensions~=4.0 in /usr/local/lib/python3.11/dist-packages (from gradio==3.41.2) (4.12.2)\n",
            "Requirement already satisfied: uvicorn>=0.14.0 in /usr/local/lib/python3.11/dist-packages (from gradio==3.41.2) (0.34.0)\n",
            "Requirement already satisfied: websockets<12.0,>=10.0 in /usr/local/lib/python3.11/dist-packages (from gradio==3.41.2) (11.0.3)\n",
            "Requirement already satisfied: fsspec in /usr/local/lib/python3.11/dist-packages (from gradio-client==0.5.0->gradio==3.41.2) (2024.10.0)\n",
            "Requirement already satisfied: jsonschema>=3.0 in /usr/local/lib/python3.11/dist-packages (from altair<6.0,>=4.2.0->gradio==3.41.2) (4.23.0)\n",
            "Requirement already satisfied: narwhals>=1.14.2 in /usr/local/lib/python3.11/dist-packages (from altair<6.0,>=4.2.0->gradio==3.41.2) (1.25.1)\n",
            "Requirement already satisfied: filelock in /usr/local/lib/python3.11/dist-packages (from huggingface-hub>=0.14.0->gradio==3.41.2) (3.17.0)\n",
            "Requirement already satisfied: tqdm>=4.42.1 in /usr/local/lib/python3.11/dist-packages (from huggingface-hub>=0.14.0->gradio==3.41.2) (4.67.1)\n",
            "Requirement already satisfied: contourpy>=1.0.1 in /usr/local/lib/python3.11/dist-packages (from matplotlib~=3.0->gradio==3.41.2) (1.3.1)\n",
            "Requirement already satisfied: cycler>=0.10 in /usr/local/lib/python3.11/dist-packages (from matplotlib~=3.0->gradio==3.41.2) (0.12.1)\n",
            "Requirement already satisfied: fonttools>=4.22.0 in /usr/local/lib/python3.11/dist-packages (from matplotlib~=3.0->gradio==3.41.2) (4.55.8)\n",
            "Requirement already satisfied: kiwisolver>=1.3.1 in /usr/local/lib/python3.11/dist-packages (from matplotlib~=3.0->gradio==3.41.2) (1.4.8)\n",
            "Requirement already satisfied: pyparsing>=2.3.1 in /usr/local/lib/python3.11/dist-packages (from matplotlib~=3.0->gradio==3.41.2) (3.2.1)\n",
            "Requirement already satisfied: python-dateutil>=2.7 in /usr/local/lib/python3.11/dist-packages (from matplotlib~=3.0->gradio==3.41.2) (2.8.2)\n",
            "Requirement already satisfied: pytz>=2020.1 in /usr/local/lib/python3.11/dist-packages (from pandas<3.0,>=1.0->gradio==3.41.2) (2025.1)\n",
            "Requirement already satisfied: tzdata>=2022.7 in /usr/local/lib/python3.11/dist-packages (from pandas<3.0,>=1.0->gradio==3.41.2) (2025.1)\n",
            "Requirement already satisfied: annotated-types>=0.6.0 in /usr/local/lib/python3.11/dist-packages (from pydantic!=1.8,!=1.8.1,!=2.0.0,!=2.0.1,<3.0.0,>=1.7.4->gradio==3.41.2) (0.7.0)\n",
            "Requirement already satisfied: pydantic-core==2.27.2 in /usr/local/lib/python3.11/dist-packages (from pydantic!=1.8,!=1.8.1,!=2.0.0,!=2.0.1,<3.0.0,>=1.7.4->gradio==3.41.2) (2.27.2)\n",
            "Requirement already satisfied: charset-normalizer<4,>=2 in /usr/local/lib/python3.11/dist-packages (from requests~=2.0->gradio==3.41.2) (3.4.1)\n",
            "Requirement already satisfied: idna<4,>=2.5 in /usr/local/lib/python3.11/dist-packages (from requests~=2.0->gradio==3.41.2) (3.10)\n",
            "Requirement already satisfied: urllib3<3,>=1.21.1 in /usr/local/lib/python3.11/dist-packages (from requests~=2.0->gradio==3.41.2) (2.3.0)\n",
            "Requirement already satisfied: certifi>=2017.4.17 in /usr/local/lib/python3.11/dist-packages (from requests~=2.0->gradio==3.41.2) (2025.1.31)\n",
            "Requirement already satisfied: click>=7.0 in /usr/local/lib/python3.11/dist-packages (from uvicorn>=0.14.0->gradio==3.41.2) (8.1.8)\n",
            "Requirement already satisfied: h11>=0.8 in /usr/local/lib/python3.11/dist-packages (from uvicorn>=0.14.0->gradio==3.41.2) (0.14.0)\n",
            "Requirement already satisfied: starlette<0.46.0,>=0.40.0 in /usr/local/lib/python3.11/dist-packages (from fastapi->gradio==3.41.2) (0.45.3)\n",
            "Requirement already satisfied: anyio in /usr/local/lib/python3.11/dist-packages (from httpx->gradio==3.41.2) (3.7.1)\n",
            "Requirement already satisfied: httpcore==1.* in /usr/local/lib/python3.11/dist-packages (from httpx->gradio==3.41.2) (1.0.7)\n",
            "Requirement already satisfied: attrs>=22.2.0 in /usr/local/lib/python3.11/dist-packages (from jsonschema>=3.0->altair<6.0,>=4.2.0->gradio==3.41.2) (25.1.0)\n",
            "Requirement already satisfied: jsonschema-specifications>=2023.03.6 in /usr/local/lib/python3.11/dist-packages (from jsonschema>=3.0->altair<6.0,>=4.2.0->gradio==3.41.2) (2024.10.1)\n",
            "Requirement already satisfied: referencing>=0.28.4 in /usr/local/lib/python3.11/dist-packages (from jsonschema>=3.0->altair<6.0,>=4.2.0->gradio==3.41.2) (0.36.2)\n",
            "Requirement already satisfied: rpds-py>=0.7.1 in /usr/local/lib/python3.11/dist-packages (from jsonschema>=3.0->altair<6.0,>=4.2.0->gradio==3.41.2) (0.22.3)\n",
            "Requirement already satisfied: six>=1.5 in /usr/local/lib/python3.11/dist-packages (from python-dateutil>=2.7->matplotlib~=3.0->gradio==3.41.2) (1.17.0)\n",
            "Requirement already satisfied: sniffio>=1.1 in /usr/local/lib/python3.11/dist-packages (from anyio->httpx->gradio==3.41.2) (1.3.1)\n"
          ]
        }
      ]
    },
    {
      "cell_type": "code",
      "source": [
        "\n",
        "\n",
        "# Import necessary libraries\n",
        "from pyspark.sql import SparkSession\n",
        "from pyspark.sql.functions import col, when, udf\n",
        "from pyspark.sql.types import IntegerType\n",
        "from pyspark.ml.feature import Tokenizer, StopWordsRemover, CountVectorizer, VectorAssembler\n",
        "from pyspark.ml.classification import NaiveBayes, LogisticRegression\n",
        "import gradio as gr\n",
        "\n",
        "# Initialize Spark Session\n",
        "spark = SparkSession.builder.appName(\"SentimentAnalysis_Gradio\").getOrCreate()\n",
        "\n",
        "# Load Dataset\n",
        "data_path = \"/content/US_Airline_Tweets.csv\"  # Update the path if needed\n",
        "df = spark.read.csv(data_path, header=True, inferSchema=True)\n",
        "\n",
        "# Ensure the 'text' column is clean and non-null\n",
        "df = df.withColumn(\"text\", when(col(\"text\").isNull(), \"\").otherwise(col(\"text\")))\n",
        "\n",
        "# Preprocessing Steps\n",
        "tokenizer = Tokenizer(inputCol=\"text\", outputCol=\"words\")\n",
        "stopwords_remover = StopWordsRemover(inputCol=\"words\", outputCol=\"filtered_words\")\n",
        "count_vectorizer = CountVectorizer(inputCol=\"filtered_words\", outputCol=\"raw_features\")\n",
        "\n",
        "# Label Encoding\n",
        "label_udf = udf(lambda x: 0 if x == \"positive\" else (1 if x == \"negative\" else 2), IntegerType())\n",
        "df = df.withColumn(\"label\", label_udf(col(\"airline_sentiment\")))\n",
        "\n",
        "# Feature Assembler\n",
        "featureassembler = VectorAssembler(\n",
        "    inputCols=[\"raw_features\"],\n",
        "    outputCol=\"features\"\n",
        ")\n",
        "\n",
        "# Apply Preprocessing Pipeline\n",
        "df = tokenizer.transform(df)\n",
        "df = stopwords_remover.transform(df)\n",
        "count_model = count_vectorizer.fit(df)\n",
        "df = count_model.transform(df)\n",
        "df = featureassembler.transform(df)\n",
        "\n",
        "# Split Dataset\n",
        "train_data, test_data = df.randomSplit([0.8, 0.2], seed=42)\n",
        "\n",
        "# Train Naive Bayes Model\n",
        "nb_model = NaiveBayes(featuresCol=\"features\", labelCol=\"label\")\n",
        "nb_trained_model = nb_model.fit(train_data)\n",
        "\n",
        "# Train Logistic Regression Model\n",
        "lr_model = LogisticRegression(featuresCol=\"features\", labelCol=\"label\", maxIter=20, regParam=0.3, elasticNetParam=0)\n",
        "lr_trained_model = lr_model.fit(train_data)\n",
        "\n",
        "# Define Prediction Function for Naive Bayes\n",
        "def make_prediction_using_NaiveBayes(user_input):\n",
        "    try:\n",
        "        # Create DataFrame for input\n",
        "        df_input = spark.createDataFrame([(1, user_input)], [\"Id\", \"text\"])\n",
        "        df_input = tokenizer.transform(df_input)\n",
        "        df_input = stopwords_remover.transform(df_input)\n",
        "        df_input = count_model.transform(df_input)\n",
        "        df_input = featureassembler.transform(df_input)\n",
        "\n",
        "        # Make Prediction\n",
        "        predictions = nb_trained_model.transform(df_input)\n",
        "        prediction = predictions.select(\"prediction\").collect()[0][0]\n",
        "\n",
        "        # Map Prediction to Sentiment\n",
        "        if prediction == 0:\n",
        "            return \"Positive tweet!\"\n",
        "        elif prediction == 1:\n",
        "            return \"Negative tweet!\"\n",
        "        return \"Neutral tweet\"\n",
        "    except Exception as e:\n",
        "        return f\"Error: {str(e)}\"\n",
        "\n",
        "# Define Prediction Function for Logistic Regression\n",
        "def make_prediction_using_LogReg(user_input):\n",
        "    try:\n",
        "        # Create DataFrame for input\n",
        "        df_input = spark.createDataFrame([(1, user_input)], [\"Id\", \"text\"])\n",
        "        df_input = tokenizer.transform(df_input)\n",
        "        df_input = stopwords_remover.transform(df_input)\n",
        "        df_input = count_model.transform(df_input)\n",
        "        df_input = featureassembler.transform(df_input)\n",
        "\n",
        "        # Make Prediction\n",
        "        predictions = lr_trained_model.transform(df_input)\n",
        "        prediction = predictions.select(\"prediction\").collect()[0][0]\n",
        "\n",
        "        # Map Prediction to Sentiment\n",
        "        if prediction == 0:\n",
        "            return \"Positive tweet!\"\n",
        "        elif prediction == 1:\n",
        "            return \"Negative tweet!\"\n",
        "        return \"Neutral tweet\"\n",
        "    except Exception as e:\n",
        "        return f\"Error: {str(e)}\"\n",
        "\n",
        "# Gradio Application\n",
        "with gr.Blocks() as demo:\n",
        "    gr.Markdown(\"# Airline Sentiment Analysis\")\n",
        "    with gr.Tab(\"Naive Bayes\"):\n",
        "        gr.Markdown(\"### Predict sentiment using Naive Bayes\")\n",
        "        with gr.Row():\n",
        "            user_input_nb = gr.Textbox(label=\"Enter a Tweet\")\n",
        "            output_nb = gr.Textbox(label=\"Predicted Sentiment\")\n",
        "        btn_nb = gr.Button(\"Submit\")\n",
        "        btn_nb.click(make_prediction_using_NaiveBayes, inputs=user_input_nb, outputs=output_nb)\n",
        "\n",
        "    with gr.Tab(\"Logistic Regression\"):\n",
        "        gr.Markdown(\"### Predict sentiment using Logistic Regression\")\n",
        "        with gr.Row():\n",
        "            user_input_lr = gr.Textbox(label=\"Enter a Tweet\")\n",
        "            output_lr = gr.Textbox(label=\"Predicted Sentiment\")\n",
        "        btn_lr = gr.Button(\"Submit\")\n",
        "        btn_lr.click(make_prediction_using_LogReg, inputs=user_input_lr, outputs=output_lr)\n",
        "\n",
        "# Launch Gradio App\n",
        "demo.launch(share=True)\n"
      ],
      "metadata": {
        "id": "pUDJc0nJ7N1N",
        "outputId": "dc078486-6e87-4ee0-f4b9-4cfba2a0309d",
        "colab": {
          "base_uri": "https://localhost:8080/",
          "height": 646
        }
      },
      "id": "pUDJc0nJ7N1N",
      "execution_count": 74,
      "outputs": [
        {
          "output_type": "stream",
          "name": "stdout",
          "text": [
            "Colab notebook detected. To show errors in colab notebook, set debug=True in launch()\n",
            "IMPORTANT: You are using gradio version 3.41.2, however version 4.44.1 is available, please upgrade.\n",
            "--------\n",
            "Running on public URL: https://b8e59339052bc83503.gradio.live\n",
            "\n",
            "This share link expires in 72 hours. For free permanent hosting and GPU upgrades, run `gradio deploy` from Terminal to deploy to Spaces (https://huggingface.co/spaces)\n"
          ]
        },
        {
          "output_type": "display_data",
          "data": {
            "text/plain": [
              "<IPython.core.display.HTML object>"
            ],
            "text/html": [
              "<div><iframe src=\"https://b8e59339052bc83503.gradio.live\" width=\"100%\" height=\"500\" allow=\"autoplay; camera; microphone; clipboard-read; clipboard-write;\" frameborder=\"0\" allowfullscreen></iframe></div>"
            ]
          },
          "metadata": {}
        },
        {
          "output_type": "execute_result",
          "data": {
            "text/plain": []
          },
          "metadata": {},
          "execution_count": 74
        }
      ]
    }
  ]
}