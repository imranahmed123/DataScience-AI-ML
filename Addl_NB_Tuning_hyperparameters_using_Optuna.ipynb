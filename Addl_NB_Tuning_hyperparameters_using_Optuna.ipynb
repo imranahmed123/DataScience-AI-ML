{
  "cells": [
    {
      "cell_type": "markdown",
      "metadata": {
        "id": "view-in-github",
        "colab_type": "text"
      },
      "source": [
        "<a href=\"https://colab.research.google.com/github/imranahmed123/DataScience-AI-ML/blob/main/Addl_NB_Tuning_hyperparameters_using_Optuna.ipynb\" target=\"_parent\"><img src=\"https://colab.research.google.com/assets/colab-badge.svg\" alt=\"Open In Colab\"/></a>"
      ]
    },
    {
      "cell_type": "markdown",
      "metadata": {
        "id": "zZbO1TP3GWLl"
      },
      "source": [
        "# Advanced Certification Program in Computational Data Science\n",
        "## A program by IISc and TalentSprint\n",
        "### Additional Notebook (ungraded): Tuning hyperparameters using Optuna"
      ]
    },
    {
      "cell_type": "markdown",
      "source": [
        "# Introduction\n",
        "\n",
        "Optuna is an automatic hyperparameter optimization software framework, particularly designed for machine learning. It features an imperative, define-by-run style user API.\n",
        "\n",
        "Optuna has modern functionalities as follows:\n",
        "\n",
        "- Lightweight, versatile, and platform agnostic architecture\n",
        "  - Handle a wide variety of tasks with a simple installation that has few requirements.\n",
        "- Pythonic search spaces\n",
        "  - Define search spaces using familiar Python syntax including conditionals and loops.\n",
        "- Efficient optimization algorithms\n",
        "  - Adopt state-of-the-art algorithms for sampling hyperparameters and efficiently pruning unpromising trials.\n",
        "- Easy parallelization\n",
        "  - Scale studies to tens or hundreds or workers with little or no changes to the code.\n",
        "- Quick visualization\n",
        "  - Inspect optimization histories from a variety of plotting functions."
      ],
      "metadata": {
        "id": "jPNABFsVcDc5"
      }
    },
    {
      "cell_type": "markdown",
      "metadata": {
        "id": "7cLCrniZYsdW"
      },
      "source": [
        "# Tuning Hyperparameters using Optuna\n",
        "\n",
        "- Install Optuna\n",
        "- Write a training algorithm that involves hyperparameters\n",
        "  - Read train/valid data\n",
        "  - Define and train the model\n",
        "  - Evaluate model\n",
        "- Use Optuna to tune the hyperparameters (hyperparameter optimization)\n",
        "- Visualize the hyperparameter optimization"
      ]
    },
    {
      "cell_type": "markdown",
      "metadata": {
        "id": "a1L5pkPtYsdZ"
      },
      "source": [
        "## Install `optuna`\n",
        "\n",
        "Optuna can be installed via `pip` or `conda`."
      ]
    },
    {
      "cell_type": "code",
      "execution_count": 1,
      "metadata": {
        "id": "Ms_n9vi8Ysda",
        "outputId": "f22b13c2-c185-496f-a6ea-6277e66b8cd3",
        "colab": {
          "base_uri": "https://localhost:8080/"
        }
      },
      "outputs": [
        {
          "output_type": "stream",
          "name": "stdout",
          "text": [
            "\u001b[?25l   \u001b[90m━━━━━━━━━━━━━━━━━━━━━━━━━━━━━━━━━━━━━━━━\u001b[0m \u001b[32m0.0/380.1 kB\u001b[0m \u001b[31m?\u001b[0m eta \u001b[36m-:--:--\u001b[0m\r\u001b[2K   \u001b[90m━━━━━━━━━━━━━━━━━━━━━━━━━━━━━━━━━━━━━━━━\u001b[0m \u001b[32m380.1/380.1 kB\u001b[0m \u001b[31m14.1 MB/s\u001b[0m eta \u001b[36m0:00:00\u001b[0m\n",
            "\u001b[?25h\u001b[?25l   \u001b[90m━━━━━━━━━━━━━━━━━━━━━━━━━━━━━━━━━━━━━━━━\u001b[0m \u001b[32m0.0/233.0 kB\u001b[0m \u001b[31m?\u001b[0m eta \u001b[36m-:--:--\u001b[0m\r\u001b[2K   \u001b[90m━━━━━━━━━━━━━━━━━━━━━━━━━━━━━━━━━━━━━━━━\u001b[0m \u001b[32m233.0/233.0 kB\u001b[0m \u001b[31m10.2 MB/s\u001b[0m eta \u001b[36m0:00:00\u001b[0m\n",
            "\u001b[?25h\u001b[?25l   \u001b[90m━━━━━━━━━━━━━━━━━━━━━━━━━━━━━━━━━━━━━━━━\u001b[0m \u001b[32m0.0/78.6 kB\u001b[0m \u001b[31m?\u001b[0m eta \u001b[36m-:--:--\u001b[0m\r\u001b[2K   \u001b[90m━━━━━━━━━━━━━━━━━━━━━━━━━━━━━━━━━━━━━━━━\u001b[0m \u001b[32m78.6/78.6 kB\u001b[0m \u001b[31m5.4 MB/s\u001b[0m eta \u001b[36m0:00:00\u001b[0m\n",
            "\u001b[?25h"
          ]
        }
      ],
      "source": [
        "!pip install --quiet optuna"
      ]
    },
    {
      "cell_type": "code",
      "execution_count": 2,
      "metadata": {
        "id": "OO2KVUheYsdb",
        "outputId": "982c4914-44d5-46e2-ee70-7745db52fc7f",
        "colab": {
          "base_uri": "https://localhost:8080/",
          "height": 36
        }
      },
      "outputs": [
        {
          "output_type": "execute_result",
          "data": {
            "text/plain": [
              "'3.6.1'"
            ],
            "application/vnd.google.colaboratory.intrinsic+json": {
              "type": "string"
            }
          },
          "metadata": {},
          "execution_count": 2
        }
      ],
      "source": [
        "import optuna\n",
        "\n",
        "optuna.__version__"
      ]
    },
    {
      "cell_type": "markdown",
      "metadata": {
        "id": "gwQ6ZviGYsdb"
      },
      "source": [
        "## Optimize Hyperparameters\n",
        "\n",
        "### Define a simple scikit-learn model\n",
        "\n",
        "We start with a simple random forest model to classify flowers in the Iris dataset.\n",
        "- Define a function called `objective` that encapsulates the whole training process and outputs the accuracy of the model."
      ]
    },
    {
      "cell_type": "code",
      "execution_count": 3,
      "metadata": {
        "id": "TNrBYywkYsdc",
        "outputId": "cc0d447b-fcaa-4775-f976-cc8579853459",
        "colab": {
          "base_uri": "https://localhost:8080/"
        }
      },
      "outputs": [
        {
          "output_type": "stream",
          "name": "stdout",
          "text": [
            "Accuracy: 0.96\n"
          ]
        }
      ],
      "source": [
        "import sklearn.datasets\n",
        "import sklearn.ensemble\n",
        "import sklearn.model_selection\n",
        "\n",
        "def objective():\n",
        "    iris = sklearn.datasets.load_iris()  # Prepare the data.\n",
        "\n",
        "    clf = sklearn.ensemble.RandomForestClassifier(\n",
        "        n_estimators=5, max_depth=3)  # Define the model.\n",
        "\n",
        "    return sklearn.model_selection.cross_val_score(\n",
        "        clf, iris.data, iris.target, n_jobs=-1, cv=3).mean()  # Train and evaluate the model.\n",
        "\n",
        "print('Accuracy: {}'.format(objective()))"
      ]
    },
    {
      "cell_type": "markdown",
      "metadata": {
        "id": "RXPWrAGRYsdd"
      },
      "source": [
        "### Optimize hyperparameters of the model\n",
        "\n",
        "The hyperparameters of the above algorithm are `n_estimators` and `max_depth`, for which we can try different values to see if the model accuracy can be improved. The `objective` function is modified to accept a trial object. This trial has several methods for sampling hyperparameters. We create a study to run the hyperparameter optimization and finally arrive at the most optimal hyperparameters."
      ]
    },
    {
      "cell_type": "code",
      "execution_count": 4,
      "metadata": {
        "id": "3rqR2VpCYsdf",
        "outputId": "4e3773af-528f-4f42-8eb9-0ba0449feb7d",
        "colab": {
          "base_uri": "https://localhost:8080/"
        }
      },
      "outputs": [
        {
          "output_type": "stream",
          "name": "stderr",
          "text": [
            "[I 2024-08-06 17:42:44,055] A new study created in memory with name: no-name-a2143d63-c3e3-4f72-83b9-953433c1e239\n",
            "[I 2024-08-06 17:42:46,404] Trial 0 finished with value: 0.86 and parameters: {'n_estimators': 19, 'max_depth': 1.2617435135807478}. Best is trial 0 with value: 0.86.\n",
            "[I 2024-08-06 17:42:46,563] Trial 1 finished with value: 0.96 and parameters: {'n_estimators': 12, 'max_depth': 14.677643489348881}. Best is trial 1 with value: 0.96.\n",
            "[I 2024-08-06 17:42:46,636] Trial 2 finished with value: 0.96 and parameters: {'n_estimators': 6, 'max_depth': 6.220555489700423}. Best is trial 1 with value: 0.96.\n",
            "[I 2024-08-06 17:42:46,726] Trial 3 finished with value: 0.96 and parameters: {'n_estimators': 8, 'max_depth': 6.742233301518029}. Best is trial 1 with value: 0.96.\n",
            "[I 2024-08-06 17:42:46,828] Trial 4 finished with value: 0.94 and parameters: {'n_estimators': 13, 'max_depth': 2.111228593840011}. Best is trial 1 with value: 0.96.\n",
            "[I 2024-08-06 17:42:46,994] Trial 5 finished with value: 0.8733333333333334 and parameters: {'n_estimators': 18, 'max_depth': 1.2429203223577692}. Best is trial 1 with value: 0.96.\n",
            "[I 2024-08-06 17:42:47,039] Trial 6 finished with value: 0.6733333333333333 and parameters: {'n_estimators': 2, 'max_depth': 1.810986540654011}. Best is trial 1 with value: 0.96.\n",
            "[I 2024-08-06 17:42:47,112] Trial 7 finished with value: 0.9533333333333333 and parameters: {'n_estimators': 7, 'max_depth': 2.4997697559282694}. Best is trial 1 with value: 0.96.\n",
            "[I 2024-08-06 17:42:47,264] Trial 8 finished with value: 0.9666666666666667 and parameters: {'n_estimators': 15, 'max_depth': 4.1829608176319555}. Best is trial 8 with value: 0.9666666666666667.\n",
            "[I 2024-08-06 17:42:47,369] Trial 9 finished with value: 0.9666666666666667 and parameters: {'n_estimators': 10, 'max_depth': 4.469452077945083}. Best is trial 8 with value: 0.9666666666666667.\n",
            "[I 2024-08-06 17:42:47,553] Trial 10 finished with value: 0.9533333333333333 and parameters: {'n_estimators': 15, 'max_depth': 30.600245054315778}. Best is trial 8 with value: 0.9666666666666667.\n",
            "[I 2024-08-06 17:42:47,710] Trial 11 finished with value: 0.9533333333333333 and parameters: {'n_estimators': 16, 'max_depth': 4.065185582309399}. Best is trial 8 with value: 0.9666666666666667.\n",
            "[I 2024-08-06 17:42:47,866] Trial 12 finished with value: 0.9533333333333333 and parameters: {'n_estimators': 10, 'max_depth': 3.9698306244028836}. Best is trial 8 with value: 0.9666666666666667.\n",
            "[I 2024-08-06 17:42:48,044] Trial 13 finished with value: 0.96 and parameters: {'n_estimators': 15, 'max_depth': 10.695208817084394}. Best is trial 8 with value: 0.9666666666666667.\n",
            "[I 2024-08-06 17:42:48,185] Trial 14 finished with value: 0.9466666666666667 and parameters: {'n_estimators': 10, 'max_depth': 10.305953706378384}. Best is trial 8 with value: 0.9666666666666667.\n",
            "[I 2024-08-06 17:42:48,274] Trial 15 finished with value: 0.9466666666666667 and parameters: {'n_estimators': 4, 'max_depth': 3.7859148196249017}. Best is trial 8 with value: 0.9666666666666667.\n",
            "[I 2024-08-06 17:42:48,428] Trial 16 finished with value: 0.9466666666666667 and parameters: {'n_estimators': 13, 'max_depth': 2.567241150129867}. Best is trial 8 with value: 0.9666666666666667.\n",
            "[I 2024-08-06 17:42:48,644] Trial 17 finished with value: 0.9666666666666667 and parameters: {'n_estimators': 17, 'max_depth': 8.18790933733283}. Best is trial 8 with value: 0.9666666666666667.\n",
            "[I 2024-08-06 17:42:48,755] Trial 18 finished with value: 0.96 and parameters: {'n_estimators': 9, 'max_depth': 17.840902746195933}. Best is trial 8 with value: 0.9666666666666667.\n",
            "[I 2024-08-06 17:42:48,973] Trial 19 finished with value: 0.9533333333333333 and parameters: {'n_estimators': 20, 'max_depth': 3.782177991077471}. Best is trial 8 with value: 0.9666666666666667.\n",
            "[I 2024-08-06 17:42:49,070] Trial 20 finished with value: 0.9666666666666667 and parameters: {'n_estimators': 14, 'max_depth': 5.38576630144949}. Best is trial 8 with value: 0.9666666666666667.\n",
            "[I 2024-08-06 17:42:49,188] Trial 21 finished with value: 0.94 and parameters: {'n_estimators': 17, 'max_depth': 8.102013540860488}. Best is trial 8 with value: 0.9666666666666667.\n",
            "[I 2024-08-06 17:42:49,264] Trial 22 finished with value: 0.96 and parameters: {'n_estimators': 11, 'max_depth': 5.114530082014625}. Best is trial 8 with value: 0.9666666666666667.\n",
            "[I 2024-08-06 17:42:49,370] Trial 23 finished with value: 0.9666666666666667 and parameters: {'n_estimators': 17, 'max_depth': 8.594855791313513}. Best is trial 8 with value: 0.9666666666666667.\n",
            "[I 2024-08-06 17:42:49,496] Trial 24 finished with value: 0.9666666666666667 and parameters: {'n_estimators': 20, 'max_depth': 3.0791519911264937}. Best is trial 8 with value: 0.9666666666666667.\n",
            "[I 2024-08-06 17:42:49,609] Trial 25 finished with value: 0.9666666666666667 and parameters: {'n_estimators': 12, 'max_depth': 16.671863465401458}. Best is trial 8 with value: 0.9666666666666667.\n",
            "[I 2024-08-06 17:42:49,716] Trial 26 finished with value: 0.96 and parameters: {'n_estimators': 15, 'max_depth': 12.769037773413995}. Best is trial 8 with value: 0.9666666666666667.\n",
            "[I 2024-08-06 17:42:49,837] Trial 27 finished with value: 0.9533333333333333 and parameters: {'n_estimators': 17, 'max_depth': 23.527160921755186}. Best is trial 8 with value: 0.9666666666666667.\n",
            "[I 2024-08-06 17:42:49,931] Trial 28 finished with value: 0.9466666666666667 and parameters: {'n_estimators': 14, 'max_depth': 7.35156736177946}. Best is trial 8 with value: 0.9666666666666667.\n",
            "[I 2024-08-06 17:42:50,042] Trial 29 finished with value: 0.9666666666666667 and parameters: {'n_estimators': 19, 'max_depth': 4.89161592596955}. Best is trial 8 with value: 0.9666666666666667.\n",
            "[I 2024-08-06 17:42:50,158] Trial 30 finished with value: 0.8733333333333334 and parameters: {'n_estimators': 19, 'max_depth': 1.5741602169805131}. Best is trial 8 with value: 0.9666666666666667.\n",
            "[I 2024-08-06 17:42:50,252] Trial 31 finished with value: 0.9533333333333333 and parameters: {'n_estimators': 14, 'max_depth': 5.556158419242186}. Best is trial 8 with value: 0.9666666666666667.\n",
            "[I 2024-08-06 17:42:50,345] Trial 32 finished with value: 0.96 and parameters: {'n_estimators': 13, 'max_depth': 3.104497737226423}. Best is trial 8 with value: 0.9666666666666667.\n",
            "[I 2024-08-06 17:42:50,431] Trial 33 finished with value: 0.9533333333333333 and parameters: {'n_estimators': 12, 'max_depth': 4.861228831894333}. Best is trial 8 with value: 0.9666666666666667.\n",
            "[I 2024-08-06 17:42:50,548] Trial 34 finished with value: 0.9666666666666667 and parameters: {'n_estimators': 16, 'max_depth': 6.201754324735959}. Best is trial 8 with value: 0.9666666666666667.\n",
            "[I 2024-08-06 17:42:50,636] Trial 35 finished with value: 0.94 and parameters: {'n_estimators': 11, 'max_depth': 9.862612208712047}. Best is trial 8 with value: 0.9666666666666667.\n",
            "[I 2024-08-06 17:42:50,709] Trial 36 finished with value: 0.9733333333333333 and parameters: {'n_estimators': 9, 'max_depth': 6.697559658172131}. Best is trial 36 with value: 0.9733333333333333.\n",
            "[I 2024-08-06 17:42:50,773] Trial 37 finished with value: 0.96 and parameters: {'n_estimators': 7, 'max_depth': 6.990885073717351}. Best is trial 36 with value: 0.9733333333333333.\n",
            "[I 2024-08-06 17:42:50,857] Trial 38 finished with value: 0.9666666666666667 and parameters: {'n_estimators': 8, 'max_depth': 12.351400470028933}. Best is trial 36 with value: 0.9733333333333333.\n",
            "[I 2024-08-06 17:42:50,916] Trial 39 finished with value: 0.9333333333333332 and parameters: {'n_estimators': 5, 'max_depth': 2.9600057333456777}. Best is trial 36 with value: 0.9733333333333333.\n",
            "[I 2024-08-06 17:42:50,994] Trial 40 finished with value: 0.96 and parameters: {'n_estimators': 9, 'max_depth': 4.429935266687688}. Best is trial 36 with value: 0.9733333333333333.\n",
            "[I 2024-08-06 17:42:51,084] Trial 41 finished with value: 0.9533333333333333 and parameters: {'n_estimators': 10, 'max_depth': 6.103127411203723}. Best is trial 36 with value: 0.9733333333333333.\n",
            "[I 2024-08-06 17:42:51,180] Trial 42 finished with value: 0.9533333333333333 and parameters: {'n_estimators': 14, 'max_depth': 8.17496029165699}. Best is trial 36 with value: 0.9733333333333333.\n",
            "[I 2024-08-06 17:42:51,295] Trial 43 finished with value: 0.96 and parameters: {'n_estimators': 18, 'max_depth': 5.760312182952007}. Best is trial 36 with value: 0.9733333333333333.\n",
            "[I 2024-08-06 17:42:51,401] Trial 44 finished with value: 0.9466666666666667 and parameters: {'n_estimators': 16, 'max_depth': 2.0873937717005253}. Best is trial 36 with value: 0.9733333333333333.\n",
            "[I 2024-08-06 17:42:51,476] Trial 45 finished with value: 0.96 and parameters: {'n_estimators': 8, 'max_depth': 3.5931444439964215}. Best is trial 36 with value: 0.9733333333333333.\n",
            "[I 2024-08-06 17:42:51,583] Trial 46 finished with value: 0.9533333333333333 and parameters: {'n_estimators': 11, 'max_depth': 4.500643183682663}. Best is trial 36 with value: 0.9733333333333333.\n",
            "[I 2024-08-06 17:42:51,670] Trial 47 finished with value: 0.96 and parameters: {'n_estimators': 13, 'max_depth': 9.174208695772515}. Best is trial 36 with value: 0.9733333333333333.\n",
            "[I 2024-08-06 17:42:51,735] Trial 48 finished with value: 0.7000000000000001 and parameters: {'n_estimators': 6, 'max_depth': 1.0313055313427886}. Best is trial 36 with value: 0.9733333333333333.\n",
            "[I 2024-08-06 17:42:51,810] Trial 49 finished with value: 0.96 and parameters: {'n_estimators': 9, 'max_depth': 6.701293003743303}. Best is trial 36 with value: 0.9733333333333333.\n",
            "[I 2024-08-06 17:42:51,926] Trial 50 finished with value: 0.9666666666666667 and parameters: {'n_estimators': 15, 'max_depth': 3.4293268861309825}. Best is trial 36 with value: 0.9733333333333333.\n",
            "[I 2024-08-06 17:42:52,030] Trial 51 finished with value: 0.96 and parameters: {'n_estimators': 17, 'max_depth': 8.045954597409047}. Best is trial 36 with value: 0.9733333333333333.\n",
            "[I 2024-08-06 17:42:52,147] Trial 52 finished with value: 0.9666666666666667 and parameters: {'n_estimators': 18, 'max_depth': 8.723646228038428}. Best is trial 36 with value: 0.9733333333333333.\n",
            "[I 2024-08-06 17:42:52,257] Trial 53 finished with value: 0.9466666666666667 and parameters: {'n_estimators': 16, 'max_depth': 5.379171123679544}. Best is trial 36 with value: 0.9733333333333333.\n",
            "[I 2024-08-06 17:42:52,363] Trial 54 finished with value: 0.9666666666666667 and parameters: {'n_estimators': 17, 'max_depth': 12.386935998560073}. Best is trial 36 with value: 0.9733333333333333.\n",
            "[I 2024-08-06 17:42:52,448] Trial 55 finished with value: 0.9533333333333333 and parameters: {'n_estimators': 10, 'max_depth': 10.895551527968285}. Best is trial 36 with value: 0.9733333333333333.\n",
            "[I 2024-08-06 17:42:52,576] Trial 56 finished with value: 0.9533333333333333 and parameters: {'n_estimators': 18, 'max_depth': 7.189558916186799}. Best is trial 36 with value: 0.9733333333333333.\n",
            "[I 2024-08-06 17:42:52,662] Trial 57 finished with value: 0.96 and parameters: {'n_estimators': 12, 'max_depth': 4.204781437799051}. Best is trial 36 with value: 0.9733333333333333.\n",
            "[I 2024-08-06 17:42:52,762] Trial 58 finished with value: 0.9466666666666667 and parameters: {'n_estimators': 14, 'max_depth': 2.5421989085480146}. Best is trial 36 with value: 0.9733333333333333.\n",
            "[I 2024-08-06 17:42:52,868] Trial 59 finished with value: 0.9533333333333333 and parameters: {'n_estimators': 16, 'max_depth': 14.440250377230056}. Best is trial 36 with value: 0.9733333333333333.\n",
            "[I 2024-08-06 17:42:52,986] Trial 60 finished with value: 0.96 and parameters: {'n_estimators': 15, 'max_depth': 6.6011731993763405}. Best is trial 36 with value: 0.9733333333333333.\n",
            "[I 2024-08-06 17:42:53,107] Trial 61 finished with value: 0.94 and parameters: {'n_estimators': 20, 'max_depth': 2.766034789006832}. Best is trial 36 with value: 0.9733333333333333.\n",
            "[I 2024-08-06 17:42:53,239] Trial 62 finished with value: 0.9533333333333333 and parameters: {'n_estimators': 20, 'max_depth': 3.2771952921345786}. Best is trial 36 with value: 0.9733333333333333.\n",
            "[I 2024-08-06 17:42:53,355] Trial 63 finished with value: 0.96 and parameters: {'n_estimators': 19, 'max_depth': 2.2072700696646117}. Best is trial 36 with value: 0.9733333333333333.\n",
            "[I 2024-08-06 17:42:53,471] Trial 64 finished with value: 0.96 and parameters: {'n_estimators': 18, 'max_depth': 4.743982265323284}. Best is trial 36 with value: 0.9733333333333333.\n",
            "[I 2024-08-06 17:42:53,604] Trial 65 finished with value: 0.96 and parameters: {'n_estimators': 19, 'max_depth': 5.446446509593727}. Best is trial 36 with value: 0.9733333333333333.\n",
            "[I 2024-08-06 17:42:53,710] Trial 66 finished with value: 0.9533333333333333 and parameters: {'n_estimators': 17, 'max_depth': 4.079079235664667}. Best is trial 36 with value: 0.9733333333333333.\n",
            "[I 2024-08-06 17:42:53,784] Trial 67 finished with value: 0.96 and parameters: {'n_estimators': 7, 'max_depth': 7.9093158478438825}. Best is trial 36 with value: 0.9733333333333333.\n",
            "[I 2024-08-06 17:42:53,827] Trial 68 finished with value: 0.9533333333333333 and parameters: {'n_estimators': 2, 'max_depth': 3.933181543617059}. Best is trial 36 with value: 0.9733333333333333.\n",
            "[I 2024-08-06 17:42:53,921] Trial 69 finished with value: 0.96 and parameters: {'n_estimators': 15, 'max_depth': 6.0109517975192865}. Best is trial 36 with value: 0.9733333333333333.\n",
            "[I 2024-08-06 17:42:54,019] Trial 70 finished with value: 0.96 and parameters: {'n_estimators': 11, 'max_depth': 9.755070859996902}. Best is trial 36 with value: 0.9733333333333333.\n",
            "[I 2024-08-06 17:42:54,103] Trial 71 finished with value: 0.9666666666666667 and parameters: {'n_estimators': 12, 'max_depth': 19.498311016019915}. Best is trial 36 with value: 0.9733333333333333.\n",
            "[I 2024-08-06 17:42:54,199] Trial 72 finished with value: 0.9533333333333333 and parameters: {'n_estimators': 13, 'max_depth': 28.615870495351356}. Best is trial 36 with value: 0.9733333333333333.\n",
            "[I 2024-08-06 17:42:54,295] Trial 73 finished with value: 0.96 and parameters: {'n_estimators': 14, 'max_depth': 4.91203071204007}. Best is trial 36 with value: 0.9733333333333333.\n",
            "[I 2024-08-06 17:42:54,369] Trial 74 finished with value: 0.96 and parameters: {'n_estimators': 10, 'max_depth': 22.082036100753477}. Best is trial 36 with value: 0.9733333333333333.\n",
            "[I 2024-08-06 17:42:54,453] Trial 75 finished with value: 0.94 and parameters: {'n_estimators': 12, 'max_depth': 2.786223656732438}. Best is trial 36 with value: 0.9733333333333333.\n",
            "[I 2024-08-06 17:42:54,553] Trial 76 finished with value: 0.9666666666666667 and parameters: {'n_estimators': 9, 'max_depth': 11.2163564950475}. Best is trial 36 with value: 0.9733333333333333.\n",
            "[I 2024-08-06 17:42:54,640] Trial 77 finished with value: 0.9533333333333333 and parameters: {'n_estimators': 8, 'max_depth': 13.985560074771517}. Best is trial 36 with value: 0.9733333333333333.\n",
            "[I 2024-08-06 17:42:54,735] Trial 78 finished with value: 0.96 and parameters: {'n_estimators': 15, 'max_depth': 16.096854833579663}. Best is trial 36 with value: 0.9733333333333333.\n",
            "[I 2024-08-06 17:42:54,840] Trial 79 finished with value: 0.9666666666666667 and parameters: {'n_estimators': 17, 'max_depth': 3.7372186399276637}. Best is trial 36 with value: 0.9733333333333333.\n",
            "[I 2024-08-06 17:42:54,895] Trial 80 finished with value: 0.9533333333333333 and parameters: {'n_estimators': 3, 'max_depth': 7.53533917483303}. Best is trial 36 with value: 0.9733333333333333.\n",
            "[I 2024-08-06 17:42:55,024] Trial 81 finished with value: 0.96 and parameters: {'n_estimators': 19, 'max_depth': 4.471270720168871}. Best is trial 36 with value: 0.9733333333333333.\n",
            "[I 2024-08-06 17:42:55,140] Trial 82 finished with value: 0.9666666666666667 and parameters: {'n_estimators': 20, 'max_depth': 5.095894115077122}. Best is trial 36 with value: 0.9733333333333333.\n",
            "[I 2024-08-06 17:42:55,257] Trial 83 finished with value: 0.9533333333333333 and parameters: {'n_estimators': 19, 'max_depth': 6.498660079164418}. Best is trial 36 with value: 0.9733333333333333.\n",
            "[I 2024-08-06 17:42:55,364] Trial 84 finished with value: 0.96 and parameters: {'n_estimators': 18, 'max_depth': 6.002724843463232}. Best is trial 36 with value: 0.9733333333333333.\n",
            "[I 2024-08-06 17:42:55,450] Trial 85 finished with value: 0.9533333333333333 and parameters: {'n_estimators': 11, 'max_depth': 3.170323601685702}. Best is trial 36 with value: 0.9733333333333333.\n",
            "[I 2024-08-06 17:42:55,544] Trial 86 finished with value: 0.96 and parameters: {'n_estimators': 9, 'max_depth': 5.183569454178673}. Best is trial 36 with value: 0.9733333333333333.\n",
            "[I 2024-08-06 17:42:55,629] Trial 87 finished with value: 0.96 and parameters: {'n_estimators': 13, 'max_depth': 8.751591753352674}. Best is trial 36 with value: 0.9733333333333333.\n",
            "[I 2024-08-06 17:42:55,725] Trial 88 finished with value: 0.9533333333333333 and parameters: {'n_estimators': 16, 'max_depth': 3.5411426656123286}. Best is trial 36 with value: 0.9733333333333333.\n",
            "[I 2024-08-06 17:42:55,833] Trial 89 finished with value: 0.9533333333333333 and parameters: {'n_estimators': 17, 'max_depth': 4.343985296824198}. Best is trial 36 with value: 0.9733333333333333.\n",
            "[I 2024-08-06 17:42:55,938] Trial 90 finished with value: 0.9666666666666667 and parameters: {'n_estimators': 18, 'max_depth': 5.67442244077158}. Best is trial 36 with value: 0.9733333333333333.\n",
            "[I 2024-08-06 17:42:56,054] Trial 91 finished with value: 0.9733333333333333 and parameters: {'n_estimators': 16, 'max_depth': 6.554891524918703}. Best is trial 36 with value: 0.9733333333333333.\n",
            "[I 2024-08-06 17:42:56,160] Trial 92 finished with value: 0.9533333333333333 and parameters: {'n_estimators': 16, 'max_depth': 6.333514873093059}. Best is trial 36 with value: 0.9733333333333333.\n",
            "[I 2024-08-06 17:42:56,255] Trial 93 finished with value: 0.96 and parameters: {'n_estimators': 14, 'max_depth': 7.069227754588896}. Best is trial 36 with value: 0.9733333333333333.\n",
            "[I 2024-08-06 17:42:56,363] Trial 94 finished with value: 0.96 and parameters: {'n_estimators': 17, 'max_depth': 9.035401264564959}. Best is trial 36 with value: 0.9733333333333333.\n",
            "[I 2024-08-06 17:42:56,485] Trial 95 finished with value: 0.9666666666666667 and parameters: {'n_estimators': 20, 'max_depth': 4.752975309063521}. Best is trial 36 with value: 0.9733333333333333.\n",
            "[I 2024-08-06 17:42:56,601] Trial 96 finished with value: 0.9533333333333333 and parameters: {'n_estimators': 16, 'max_depth': 1.5325449463279255}. Best is trial 36 with value: 0.9733333333333333.\n",
            "[I 2024-08-06 17:42:56,676] Trial 97 finished with value: 0.96 and parameters: {'n_estimators': 10, 'max_depth': 2.34986954086981}. Best is trial 36 with value: 0.9733333333333333.\n",
            "[I 2024-08-06 17:42:56,773] Trial 98 finished with value: 0.9533333333333333 and parameters: {'n_estimators': 15, 'max_depth': 7.540953460410288}. Best is trial 36 with value: 0.9733333333333333.\n",
            "[I 2024-08-06 17:42:56,894] Trial 99 finished with value: 0.94 and parameters: {'n_estimators': 19, 'max_depth': 5.629986552618464}. Best is trial 36 with value: 0.9733333333333333.\n"
          ]
        },
        {
          "output_type": "stream",
          "name": "stdout",
          "text": [
            "Accuracy: 0.9733333333333333\n",
            "Best hyperparameters: {'n_estimators': 9, 'max_depth': 6.697559658172131}\n"
          ]
        }
      ],
      "source": [
        "import optuna\n",
        "\n",
        "def objective(trial):\n",
        "    iris = sklearn.datasets.load_iris()\n",
        "\n",
        "    n_estimators = trial.suggest_int('n_estimators', 2, 20)\n",
        "    max_depth = int(trial.suggest_float('max_depth', 1, 32, log=True))\n",
        "\n",
        "    clf = sklearn.ensemble.RandomForestClassifier(\n",
        "        n_estimators=n_estimators, max_depth=max_depth)\n",
        "\n",
        "    return sklearn.model_selection.cross_val_score(\n",
        "        clf, iris.data, iris.target, n_jobs=-1, cv=3).mean()\n",
        "\n",
        "study = optuna.create_study(direction='maximize')\n",
        "study.optimize(objective, n_trials=100)\n",
        "\n",
        "trial = study.best_trial\n",
        "\n",
        "print('Accuracy: {}'.format(trial.value))\n",
        "print(\"Best hyperparameters: {}\".format(trial.params))"
      ]
    },
    {
      "cell_type": "markdown",
      "metadata": {
        "id": "w5mWAfTgYsdh"
      },
      "source": [
        "### Plotting the study\n",
        "\n",
        "Plotting the optimization history of the study."
      ]
    },
    {
      "cell_type": "code",
      "execution_count": 5,
      "metadata": {
        "id": "ald7USb0Ysdi",
        "outputId": "f623efa5-3ab3-4c06-c934-cde0e48e319f",
        "colab": {
          "base_uri": "https://localhost:8080/",
          "height": 542
        }
      },
      "outputs": [
        {
          "output_type": "display_data",
          "data": {
            "text/html": [
              "<html>\n",
              "<head><meta charset=\"utf-8\" /></head>\n",
              "<body>\n",
              "    <div>            <script src=\"https://cdnjs.cloudflare.com/ajax/libs/mathjax/2.7.5/MathJax.js?config=TeX-AMS-MML_SVG\"></script><script type=\"text/javascript\">if (window.MathJax && window.MathJax.Hub && window.MathJax.Hub.Config) {window.MathJax.Hub.Config({SVG: {font: \"STIX-Web\"}});}</script>                <script type=\"text/javascript\">window.PlotlyConfig = {MathJaxConfig: 'local'};</script>\n",
              "        <script charset=\"utf-8\" src=\"https://cdn.plot.ly/plotly-2.24.1.min.js\"></script>                <div id=\"7a0f3025-ac79-41a3-88ba-e873295a4cf8\" class=\"plotly-graph-div\" style=\"height:525px; width:100%;\"></div>            <script type=\"text/javascript\">                                    window.PLOTLYENV=window.PLOTLYENV || {};                                    if (document.getElementById(\"7a0f3025-ac79-41a3-88ba-e873295a4cf8\")) {                    Plotly.newPlot(                        \"7a0f3025-ac79-41a3-88ba-e873295a4cf8\",                        [{\"mode\":\"markers\",\"name\":\"Objective Value\",\"x\":[0,1,2,3,4,5,6,7,8,9,10,11,12,13,14,15,16,17,18,19,20,21,22,23,24,25,26,27,28,29,30,31,32,33,34,35,36,37,38,39,40,41,42,43,44,45,46,47,48,49,50,51,52,53,54,55,56,57,58,59,60,61,62,63,64,65,66,67,68,69,70,71,72,73,74,75,76,77,78,79,80,81,82,83,84,85,86,87,88,89,90,91,92,93,94,95,96,97,98,99],\"y\":[0.86,0.96,0.96,0.96,0.94,0.8733333333333334,0.6733333333333333,0.9533333333333333,0.9666666666666667,0.9666666666666667,0.9533333333333333,0.9533333333333333,0.9533333333333333,0.96,0.9466666666666667,0.9466666666666667,0.9466666666666667,0.9666666666666667,0.96,0.9533333333333333,0.9666666666666667,0.94,0.96,0.9666666666666667,0.9666666666666667,0.9666666666666667,0.96,0.9533333333333333,0.9466666666666667,0.9666666666666667,0.8733333333333334,0.9533333333333333,0.96,0.9533333333333333,0.9666666666666667,0.94,0.9733333333333333,0.96,0.9666666666666667,0.9333333333333332,0.96,0.9533333333333333,0.9533333333333333,0.96,0.9466666666666667,0.96,0.9533333333333333,0.96,0.7000000000000001,0.96,0.9666666666666667,0.96,0.9666666666666667,0.9466666666666667,0.9666666666666667,0.9533333333333333,0.9533333333333333,0.96,0.9466666666666667,0.9533333333333333,0.96,0.94,0.9533333333333333,0.96,0.96,0.96,0.9533333333333333,0.96,0.9533333333333333,0.96,0.96,0.9666666666666667,0.9533333333333333,0.96,0.96,0.94,0.9666666666666667,0.9533333333333333,0.96,0.9666666666666667,0.9533333333333333,0.96,0.9666666666666667,0.9533333333333333,0.96,0.9533333333333333,0.96,0.96,0.9533333333333333,0.9533333333333333,0.9666666666666667,0.9733333333333333,0.9533333333333333,0.96,0.96,0.9666666666666667,0.9533333333333333,0.96,0.9533333333333333,0.94],\"type\":\"scatter\"},{\"mode\":\"lines\",\"name\":\"Best Value\",\"x\":[0,1,2,3,4,5,6,7,8,9,10,11,12,13,14,15,16,17,18,19,20,21,22,23,24,25,26,27,28,29,30,31,32,33,34,35,36,37,38,39,40,41,42,43,44,45,46,47,48,49,50,51,52,53,54,55,56,57,58,59,60,61,62,63,64,65,66,67,68,69,70,71,72,73,74,75,76,77,78,79,80,81,82,83,84,85,86,87,88,89,90,91,92,93,94,95,96,97,98,99],\"y\":[0.86,0.96,0.96,0.96,0.96,0.96,0.96,0.96,0.9666666666666667,0.9666666666666667,0.9666666666666667,0.9666666666666667,0.9666666666666667,0.9666666666666667,0.9666666666666667,0.9666666666666667,0.9666666666666667,0.9666666666666667,0.9666666666666667,0.9666666666666667,0.9666666666666667,0.9666666666666667,0.9666666666666667,0.9666666666666667,0.9666666666666667,0.9666666666666667,0.9666666666666667,0.9666666666666667,0.9666666666666667,0.9666666666666667,0.9666666666666667,0.9666666666666667,0.9666666666666667,0.9666666666666667,0.9666666666666667,0.9666666666666667,0.9733333333333333,0.9733333333333333,0.9733333333333333,0.9733333333333333,0.9733333333333333,0.9733333333333333,0.9733333333333333,0.9733333333333333,0.9733333333333333,0.9733333333333333,0.9733333333333333,0.9733333333333333,0.9733333333333333,0.9733333333333333,0.9733333333333333,0.9733333333333333,0.9733333333333333,0.9733333333333333,0.9733333333333333,0.9733333333333333,0.9733333333333333,0.9733333333333333,0.9733333333333333,0.9733333333333333,0.9733333333333333,0.9733333333333333,0.9733333333333333,0.9733333333333333,0.9733333333333333,0.9733333333333333,0.9733333333333333,0.9733333333333333,0.9733333333333333,0.9733333333333333,0.9733333333333333,0.9733333333333333,0.9733333333333333,0.9733333333333333,0.9733333333333333,0.9733333333333333,0.9733333333333333,0.9733333333333333,0.9733333333333333,0.9733333333333333,0.9733333333333333,0.9733333333333333,0.9733333333333333,0.9733333333333333,0.9733333333333333,0.9733333333333333,0.9733333333333333,0.9733333333333333,0.9733333333333333,0.9733333333333333,0.9733333333333333,0.9733333333333333,0.9733333333333333,0.9733333333333333,0.9733333333333333,0.9733333333333333,0.9733333333333333,0.9733333333333333,0.9733333333333333,0.9733333333333333],\"type\":\"scatter\"},{\"marker\":{\"color\":\"#cccccc\"},\"mode\":\"markers\",\"name\":\"Infeasible Trial\",\"showlegend\":false,\"x\":[],\"y\":[],\"type\":\"scatter\"}],                        {\"title\":{\"text\":\"Optimization History Plot\"},\"xaxis\":{\"title\":{\"text\":\"Trial\"}},\"yaxis\":{\"title\":{\"text\":\"Objective Value\"}},\"template\":{\"data\":{\"histogram2dcontour\":[{\"type\":\"histogram2dcontour\",\"colorbar\":{\"outlinewidth\":0,\"ticks\":\"\"},\"colorscale\":[[0.0,\"#0d0887\"],[0.1111111111111111,\"#46039f\"],[0.2222222222222222,\"#7201a8\"],[0.3333333333333333,\"#9c179e\"],[0.4444444444444444,\"#bd3786\"],[0.5555555555555556,\"#d8576b\"],[0.6666666666666666,\"#ed7953\"],[0.7777777777777778,\"#fb9f3a\"],[0.8888888888888888,\"#fdca26\"],[1.0,\"#f0f921\"]]}],\"choropleth\":[{\"type\":\"choropleth\",\"colorbar\":{\"outlinewidth\":0,\"ticks\":\"\"}}],\"histogram2d\":[{\"type\":\"histogram2d\",\"colorbar\":{\"outlinewidth\":0,\"ticks\":\"\"},\"colorscale\":[[0.0,\"#0d0887\"],[0.1111111111111111,\"#46039f\"],[0.2222222222222222,\"#7201a8\"],[0.3333333333333333,\"#9c179e\"],[0.4444444444444444,\"#bd3786\"],[0.5555555555555556,\"#d8576b\"],[0.6666666666666666,\"#ed7953\"],[0.7777777777777778,\"#fb9f3a\"],[0.8888888888888888,\"#fdca26\"],[1.0,\"#f0f921\"]]}],\"heatmap\":[{\"type\":\"heatmap\",\"colorbar\":{\"outlinewidth\":0,\"ticks\":\"\"},\"colorscale\":[[0.0,\"#0d0887\"],[0.1111111111111111,\"#46039f\"],[0.2222222222222222,\"#7201a8\"],[0.3333333333333333,\"#9c179e\"],[0.4444444444444444,\"#bd3786\"],[0.5555555555555556,\"#d8576b\"],[0.6666666666666666,\"#ed7953\"],[0.7777777777777778,\"#fb9f3a\"],[0.8888888888888888,\"#fdca26\"],[1.0,\"#f0f921\"]]}],\"heatmapgl\":[{\"type\":\"heatmapgl\",\"colorbar\":{\"outlinewidth\":0,\"ticks\":\"\"},\"colorscale\":[[0.0,\"#0d0887\"],[0.1111111111111111,\"#46039f\"],[0.2222222222222222,\"#7201a8\"],[0.3333333333333333,\"#9c179e\"],[0.4444444444444444,\"#bd3786\"],[0.5555555555555556,\"#d8576b\"],[0.6666666666666666,\"#ed7953\"],[0.7777777777777778,\"#fb9f3a\"],[0.8888888888888888,\"#fdca26\"],[1.0,\"#f0f921\"]]}],\"contourcarpet\":[{\"type\":\"contourcarpet\",\"colorbar\":{\"outlinewidth\":0,\"ticks\":\"\"}}],\"contour\":[{\"type\":\"contour\",\"colorbar\":{\"outlinewidth\":0,\"ticks\":\"\"},\"colorscale\":[[0.0,\"#0d0887\"],[0.1111111111111111,\"#46039f\"],[0.2222222222222222,\"#7201a8\"],[0.3333333333333333,\"#9c179e\"],[0.4444444444444444,\"#bd3786\"],[0.5555555555555556,\"#d8576b\"],[0.6666666666666666,\"#ed7953\"],[0.7777777777777778,\"#fb9f3a\"],[0.8888888888888888,\"#fdca26\"],[1.0,\"#f0f921\"]]}],\"surface\":[{\"type\":\"surface\",\"colorbar\":{\"outlinewidth\":0,\"ticks\":\"\"},\"colorscale\":[[0.0,\"#0d0887\"],[0.1111111111111111,\"#46039f\"],[0.2222222222222222,\"#7201a8\"],[0.3333333333333333,\"#9c179e\"],[0.4444444444444444,\"#bd3786\"],[0.5555555555555556,\"#d8576b\"],[0.6666666666666666,\"#ed7953\"],[0.7777777777777778,\"#fb9f3a\"],[0.8888888888888888,\"#fdca26\"],[1.0,\"#f0f921\"]]}],\"mesh3d\":[{\"type\":\"mesh3d\",\"colorbar\":{\"outlinewidth\":0,\"ticks\":\"\"}}],\"scatter\":[{\"fillpattern\":{\"fillmode\":\"overlay\",\"size\":10,\"solidity\":0.2},\"type\":\"scatter\"}],\"parcoords\":[{\"type\":\"parcoords\",\"line\":{\"colorbar\":{\"outlinewidth\":0,\"ticks\":\"\"}}}],\"scatterpolargl\":[{\"type\":\"scatterpolargl\",\"marker\":{\"colorbar\":{\"outlinewidth\":0,\"ticks\":\"\"}}}],\"bar\":[{\"error_x\":{\"color\":\"#2a3f5f\"},\"error_y\":{\"color\":\"#2a3f5f\"},\"marker\":{\"line\":{\"color\":\"#E5ECF6\",\"width\":0.5},\"pattern\":{\"fillmode\":\"overlay\",\"size\":10,\"solidity\":0.2}},\"type\":\"bar\"}],\"scattergeo\":[{\"type\":\"scattergeo\",\"marker\":{\"colorbar\":{\"outlinewidth\":0,\"ticks\":\"\"}}}],\"scatterpolar\":[{\"type\":\"scatterpolar\",\"marker\":{\"colorbar\":{\"outlinewidth\":0,\"ticks\":\"\"}}}],\"histogram\":[{\"marker\":{\"pattern\":{\"fillmode\":\"overlay\",\"size\":10,\"solidity\":0.2}},\"type\":\"histogram\"}],\"scattergl\":[{\"type\":\"scattergl\",\"marker\":{\"colorbar\":{\"outlinewidth\":0,\"ticks\":\"\"}}}],\"scatter3d\":[{\"type\":\"scatter3d\",\"line\":{\"colorbar\":{\"outlinewidth\":0,\"ticks\":\"\"}},\"marker\":{\"colorbar\":{\"outlinewidth\":0,\"ticks\":\"\"}}}],\"scattermapbox\":[{\"type\":\"scattermapbox\",\"marker\":{\"colorbar\":{\"outlinewidth\":0,\"ticks\":\"\"}}}],\"scatterternary\":[{\"type\":\"scatterternary\",\"marker\":{\"colorbar\":{\"outlinewidth\":0,\"ticks\":\"\"}}}],\"scattercarpet\":[{\"type\":\"scattercarpet\",\"marker\":{\"colorbar\":{\"outlinewidth\":0,\"ticks\":\"\"}}}],\"carpet\":[{\"aaxis\":{\"endlinecolor\":\"#2a3f5f\",\"gridcolor\":\"white\",\"linecolor\":\"white\",\"minorgridcolor\":\"white\",\"startlinecolor\":\"#2a3f5f\"},\"baxis\":{\"endlinecolor\":\"#2a3f5f\",\"gridcolor\":\"white\",\"linecolor\":\"white\",\"minorgridcolor\":\"white\",\"startlinecolor\":\"#2a3f5f\"},\"type\":\"carpet\"}],\"table\":[{\"cells\":{\"fill\":{\"color\":\"#EBF0F8\"},\"line\":{\"color\":\"white\"}},\"header\":{\"fill\":{\"color\":\"#C8D4E3\"},\"line\":{\"color\":\"white\"}},\"type\":\"table\"}],\"barpolar\":[{\"marker\":{\"line\":{\"color\":\"#E5ECF6\",\"width\":0.5},\"pattern\":{\"fillmode\":\"overlay\",\"size\":10,\"solidity\":0.2}},\"type\":\"barpolar\"}],\"pie\":[{\"automargin\":true,\"type\":\"pie\"}]},\"layout\":{\"autotypenumbers\":\"strict\",\"colorway\":[\"#636efa\",\"#EF553B\",\"#00cc96\",\"#ab63fa\",\"#FFA15A\",\"#19d3f3\",\"#FF6692\",\"#B6E880\",\"#FF97FF\",\"#FECB52\"],\"font\":{\"color\":\"#2a3f5f\"},\"hovermode\":\"closest\",\"hoverlabel\":{\"align\":\"left\"},\"paper_bgcolor\":\"white\",\"plot_bgcolor\":\"#E5ECF6\",\"polar\":{\"bgcolor\":\"#E5ECF6\",\"angularaxis\":{\"gridcolor\":\"white\",\"linecolor\":\"white\",\"ticks\":\"\"},\"radialaxis\":{\"gridcolor\":\"white\",\"linecolor\":\"white\",\"ticks\":\"\"}},\"ternary\":{\"bgcolor\":\"#E5ECF6\",\"aaxis\":{\"gridcolor\":\"white\",\"linecolor\":\"white\",\"ticks\":\"\"},\"baxis\":{\"gridcolor\":\"white\",\"linecolor\":\"white\",\"ticks\":\"\"},\"caxis\":{\"gridcolor\":\"white\",\"linecolor\":\"white\",\"ticks\":\"\"}},\"coloraxis\":{\"colorbar\":{\"outlinewidth\":0,\"ticks\":\"\"}},\"colorscale\":{\"sequential\":[[0.0,\"#0d0887\"],[0.1111111111111111,\"#46039f\"],[0.2222222222222222,\"#7201a8\"],[0.3333333333333333,\"#9c179e\"],[0.4444444444444444,\"#bd3786\"],[0.5555555555555556,\"#d8576b\"],[0.6666666666666666,\"#ed7953\"],[0.7777777777777778,\"#fb9f3a\"],[0.8888888888888888,\"#fdca26\"],[1.0,\"#f0f921\"]],\"sequentialminus\":[[0.0,\"#0d0887\"],[0.1111111111111111,\"#46039f\"],[0.2222222222222222,\"#7201a8\"],[0.3333333333333333,\"#9c179e\"],[0.4444444444444444,\"#bd3786\"],[0.5555555555555556,\"#d8576b\"],[0.6666666666666666,\"#ed7953\"],[0.7777777777777778,\"#fb9f3a\"],[0.8888888888888888,\"#fdca26\"],[1.0,\"#f0f921\"]],\"diverging\":[[0,\"#8e0152\"],[0.1,\"#c51b7d\"],[0.2,\"#de77ae\"],[0.3,\"#f1b6da\"],[0.4,\"#fde0ef\"],[0.5,\"#f7f7f7\"],[0.6,\"#e6f5d0\"],[0.7,\"#b8e186\"],[0.8,\"#7fbc41\"],[0.9,\"#4d9221\"],[1,\"#276419\"]]},\"xaxis\":{\"gridcolor\":\"white\",\"linecolor\":\"white\",\"ticks\":\"\",\"title\":{\"standoff\":15},\"zerolinecolor\":\"white\",\"automargin\":true,\"zerolinewidth\":2},\"yaxis\":{\"gridcolor\":\"white\",\"linecolor\":\"white\",\"ticks\":\"\",\"title\":{\"standoff\":15},\"zerolinecolor\":\"white\",\"automargin\":true,\"zerolinewidth\":2},\"scene\":{\"xaxis\":{\"backgroundcolor\":\"#E5ECF6\",\"gridcolor\":\"white\",\"linecolor\":\"white\",\"showbackground\":true,\"ticks\":\"\",\"zerolinecolor\":\"white\",\"gridwidth\":2},\"yaxis\":{\"backgroundcolor\":\"#E5ECF6\",\"gridcolor\":\"white\",\"linecolor\":\"white\",\"showbackground\":true,\"ticks\":\"\",\"zerolinecolor\":\"white\",\"gridwidth\":2},\"zaxis\":{\"backgroundcolor\":\"#E5ECF6\",\"gridcolor\":\"white\",\"linecolor\":\"white\",\"showbackground\":true,\"ticks\":\"\",\"zerolinecolor\":\"white\",\"gridwidth\":2}},\"shapedefaults\":{\"line\":{\"color\":\"#2a3f5f\"}},\"annotationdefaults\":{\"arrowcolor\":\"#2a3f5f\",\"arrowhead\":0,\"arrowwidth\":1},\"geo\":{\"bgcolor\":\"white\",\"landcolor\":\"#E5ECF6\",\"subunitcolor\":\"white\",\"showland\":true,\"showlakes\":true,\"lakecolor\":\"white\"},\"title\":{\"x\":0.05},\"mapbox\":{\"style\":\"light\"}}}},                        {\"responsive\": true}                    ).then(function(){\n",
              "                            \n",
              "var gd = document.getElementById('7a0f3025-ac79-41a3-88ba-e873295a4cf8');\n",
              "var x = new MutationObserver(function (mutations, observer) {{\n",
              "        var display = window.getComputedStyle(gd).display;\n",
              "        if (!display || display === 'none') {{\n",
              "            console.log([gd, 'removed!']);\n",
              "            Plotly.purge(gd);\n",
              "            observer.disconnect();\n",
              "        }}\n",
              "}});\n",
              "\n",
              "// Listen for the removal of the full notebook cells\n",
              "var notebookContainer = gd.closest('#notebook-container');\n",
              "if (notebookContainer) {{\n",
              "    x.observe(notebookContainer, {childList: true});\n",
              "}}\n",
              "\n",
              "// Listen for the clearing of the current output cell\n",
              "var outputEl = gd.closest('.output');\n",
              "if (outputEl) {{\n",
              "    x.observe(outputEl, {childList: true});\n",
              "}}\n",
              "\n",
              "                        })                };                            </script>        </div>\n",
              "</body>\n",
              "</html>"
            ]
          },
          "metadata": {}
        }
      ],
      "source": [
        "optuna.visualization.plot_optimization_history(study)"
      ]
    },
    {
      "cell_type": "markdown",
      "metadata": {
        "id": "l0OBal_oYsdi"
      },
      "source": [
        "Plotting the accuracies for each hyperparameter for each trial."
      ]
    },
    {
      "cell_type": "code",
      "execution_count": 6,
      "metadata": {
        "id": "tl0DwaCrYsdj",
        "outputId": "0d0a09ed-b1dc-438e-81ea-d9236eb52e94",
        "colab": {
          "base_uri": "https://localhost:8080/",
          "height": 542
        }
      },
      "outputs": [
        {
          "output_type": "display_data",
          "data": {
            "text/html": [
              "<html>\n",
              "<head><meta charset=\"utf-8\" /></head>\n",
              "<body>\n",
              "    <div>            <script src=\"https://cdnjs.cloudflare.com/ajax/libs/mathjax/2.7.5/MathJax.js?config=TeX-AMS-MML_SVG\"></script><script type=\"text/javascript\">if (window.MathJax && window.MathJax.Hub && window.MathJax.Hub.Config) {window.MathJax.Hub.Config({SVG: {font: \"STIX-Web\"}});}</script>                <script type=\"text/javascript\">window.PlotlyConfig = {MathJaxConfig: 'local'};</script>\n",
              "        <script charset=\"utf-8\" src=\"https://cdn.plot.ly/plotly-2.24.1.min.js\"></script>                <div id=\"7826f3a3-e058-4476-b3fa-abf57e1e75ae\" class=\"plotly-graph-div\" style=\"height:525px; width:100%;\"></div>            <script type=\"text/javascript\">                                    window.PLOTLYENV=window.PLOTLYENV || {};                                    if (document.getElementById(\"7826f3a3-e058-4476-b3fa-abf57e1e75ae\")) {                    Plotly.newPlot(                        \"7826f3a3-e058-4476-b3fa-abf57e1e75ae\",                        [{\"marker\":{\"color\":[0,1,2,3,4,5,6,7,8,9,10,11,12,13,14,15,16,17,18,19,20,21,22,23,24,25,26,27,28,29,30,31,32,33,34,35,36,37,38,39,40,41,42,43,44,45,46,47,48,49,50,51,52,53,54,55,56,57,58,59,60,61,62,63,64,65,66,67,68,69,70,71,72,73,74,75,76,77,78,79,80,81,82,83,84,85,86,87,88,89,90,91,92,93,94,95,96,97,98,99],\"colorbar\":{\"title\":{\"text\":\"Trial\"},\"x\":1.0,\"xpad\":40},\"colorscale\":[[0.0,\"rgb(247,251,255)\"],[0.125,\"rgb(222,235,247)\"],[0.25,\"rgb(198,219,239)\"],[0.375,\"rgb(158,202,225)\"],[0.5,\"rgb(107,174,214)\"],[0.625,\"rgb(66,146,198)\"],[0.75,\"rgb(33,113,181)\"],[0.875,\"rgb(8,81,156)\"],[1.0,\"rgb(8,48,107)\"]],\"line\":{\"color\":\"Grey\",\"width\":0.5},\"showscale\":true},\"mode\":\"markers\",\"name\":\"Feasible Trial\",\"showlegend\":false,\"x\":[1.2617435135807478,14.677643489348881,6.220555489700423,6.742233301518029,2.111228593840011,1.2429203223577692,1.810986540654011,2.4997697559282694,4.1829608176319555,4.469452077945083,30.600245054315778,4.065185582309399,3.9698306244028836,10.695208817084394,10.305953706378384,3.7859148196249017,2.567241150129867,8.18790933733283,17.840902746195933,3.782177991077471,5.38576630144949,8.102013540860488,5.114530082014625,8.594855791313513,3.0791519911264937,16.671863465401458,12.769037773413995,23.527160921755186,7.35156736177946,4.89161592596955,1.5741602169805131,5.556158419242186,3.104497737226423,4.861228831894333,6.201754324735959,9.862612208712047,6.697559658172131,6.990885073717351,12.351400470028933,2.9600057333456777,4.429935266687688,6.103127411203723,8.17496029165699,5.760312182952007,2.0873937717005253,3.5931444439964215,4.500643183682663,9.174208695772515,1.0313055313427886,6.701293003743303,3.4293268861309825,8.045954597409047,8.723646228038428,5.379171123679544,12.386935998560073,10.895551527968285,7.189558916186799,4.204781437799051,2.5421989085480146,14.440250377230056,6.6011731993763405,2.766034789006832,3.2771952921345786,2.2072700696646117,4.743982265323284,5.446446509593727,4.079079235664667,7.9093158478438825,3.933181543617059,6.0109517975192865,9.755070859996902,19.498311016019915,28.615870495351356,4.91203071204007,22.082036100753477,2.786223656732438,11.2163564950475,13.985560074771517,16.096854833579663,3.7372186399276637,7.53533917483303,4.471270720168871,5.095894115077122,6.498660079164418,6.002724843463232,3.170323601685702,5.183569454178673,8.751591753352674,3.5411426656123286,4.343985296824198,5.67442244077158,6.554891524918703,6.333514873093059,7.069227754588896,9.035401264564959,4.752975309063521,1.5325449463279255,2.34986954086981,7.540953460410288,5.629986552618464],\"y\":[0.86,0.96,0.96,0.96,0.94,0.8733333333333334,0.6733333333333333,0.9533333333333333,0.9666666666666667,0.9666666666666667,0.9533333333333333,0.9533333333333333,0.9533333333333333,0.96,0.9466666666666667,0.9466666666666667,0.9466666666666667,0.9666666666666667,0.96,0.9533333333333333,0.9666666666666667,0.94,0.96,0.9666666666666667,0.9666666666666667,0.9666666666666667,0.96,0.9533333333333333,0.9466666666666667,0.9666666666666667,0.8733333333333334,0.9533333333333333,0.96,0.9533333333333333,0.9666666666666667,0.94,0.9733333333333333,0.96,0.9666666666666667,0.9333333333333332,0.96,0.9533333333333333,0.9533333333333333,0.96,0.9466666666666667,0.96,0.9533333333333333,0.96,0.7000000000000001,0.96,0.9666666666666667,0.96,0.9666666666666667,0.9466666666666667,0.9666666666666667,0.9533333333333333,0.9533333333333333,0.96,0.9466666666666667,0.9533333333333333,0.96,0.94,0.9533333333333333,0.96,0.96,0.96,0.9533333333333333,0.96,0.9533333333333333,0.96,0.96,0.9666666666666667,0.9533333333333333,0.96,0.96,0.94,0.9666666666666667,0.9533333333333333,0.96,0.9666666666666667,0.9533333333333333,0.96,0.9666666666666667,0.9533333333333333,0.96,0.9533333333333333,0.96,0.96,0.9533333333333333,0.9533333333333333,0.9666666666666667,0.9733333333333333,0.9533333333333333,0.96,0.96,0.9666666666666667,0.9533333333333333,0.96,0.9533333333333333,0.94],\"type\":\"scatter\",\"xaxis\":\"x\",\"yaxis\":\"y\"},{\"marker\":{\"color\":[0,1,2,3,4,5,6,7,8,9,10,11,12,13,14,15,16,17,18,19,20,21,22,23,24,25,26,27,28,29,30,31,32,33,34,35,36,37,38,39,40,41,42,43,44,45,46,47,48,49,50,51,52,53,54,55,56,57,58,59,60,61,62,63,64,65,66,67,68,69,70,71,72,73,74,75,76,77,78,79,80,81,82,83,84,85,86,87,88,89,90,91,92,93,94,95,96,97,98,99],\"colorbar\":{\"title\":{\"text\":\"Trial\"},\"x\":1.0,\"xpad\":40},\"colorscale\":[[0.0,\"rgb(247,251,255)\"],[0.125,\"rgb(222,235,247)\"],[0.25,\"rgb(198,219,239)\"],[0.375,\"rgb(158,202,225)\"],[0.5,\"rgb(107,174,214)\"],[0.625,\"rgb(66,146,198)\"],[0.75,\"rgb(33,113,181)\"],[0.875,\"rgb(8,81,156)\"],[1.0,\"rgb(8,48,107)\"]],\"line\":{\"color\":\"Grey\",\"width\":0.5},\"showscale\":false},\"mode\":\"markers\",\"name\":\"Feasible Trial\",\"showlegend\":false,\"x\":[19,12,6,8,13,18,2,7,15,10,15,16,10,15,10,4,13,17,9,20,14,17,11,17,20,12,15,17,14,19,19,14,13,12,16,11,9,7,8,5,9,10,14,18,16,8,11,13,6,9,15,17,18,16,17,10,18,12,14,16,15,20,20,19,18,19,17,7,2,15,11,12,13,14,10,12,9,8,15,17,3,19,20,19,18,11,9,13,16,17,18,16,16,14,17,20,16,10,15,19],\"y\":[0.86,0.96,0.96,0.96,0.94,0.8733333333333334,0.6733333333333333,0.9533333333333333,0.9666666666666667,0.9666666666666667,0.9533333333333333,0.9533333333333333,0.9533333333333333,0.96,0.9466666666666667,0.9466666666666667,0.9466666666666667,0.9666666666666667,0.96,0.9533333333333333,0.9666666666666667,0.94,0.96,0.9666666666666667,0.9666666666666667,0.9666666666666667,0.96,0.9533333333333333,0.9466666666666667,0.9666666666666667,0.8733333333333334,0.9533333333333333,0.96,0.9533333333333333,0.9666666666666667,0.94,0.9733333333333333,0.96,0.9666666666666667,0.9333333333333332,0.96,0.9533333333333333,0.9533333333333333,0.96,0.9466666666666667,0.96,0.9533333333333333,0.96,0.7000000000000001,0.96,0.9666666666666667,0.96,0.9666666666666667,0.9466666666666667,0.9666666666666667,0.9533333333333333,0.9533333333333333,0.96,0.9466666666666667,0.9533333333333333,0.96,0.94,0.9533333333333333,0.96,0.96,0.96,0.9533333333333333,0.96,0.9533333333333333,0.96,0.96,0.9666666666666667,0.9533333333333333,0.96,0.96,0.94,0.9666666666666667,0.9533333333333333,0.96,0.9666666666666667,0.9533333333333333,0.96,0.9666666666666667,0.9533333333333333,0.96,0.9533333333333333,0.96,0.96,0.9533333333333333,0.9533333333333333,0.9666666666666667,0.9733333333333333,0.9533333333333333,0.96,0.96,0.9666666666666667,0.9533333333333333,0.96,0.9533333333333333,0.94],\"type\":\"scatter\",\"xaxis\":\"x2\",\"yaxis\":\"y2\"}],                        {\"template\":{\"data\":{\"histogram2dcontour\":[{\"type\":\"histogram2dcontour\",\"colorbar\":{\"outlinewidth\":0,\"ticks\":\"\"},\"colorscale\":[[0.0,\"#0d0887\"],[0.1111111111111111,\"#46039f\"],[0.2222222222222222,\"#7201a8\"],[0.3333333333333333,\"#9c179e\"],[0.4444444444444444,\"#bd3786\"],[0.5555555555555556,\"#d8576b\"],[0.6666666666666666,\"#ed7953\"],[0.7777777777777778,\"#fb9f3a\"],[0.8888888888888888,\"#fdca26\"],[1.0,\"#f0f921\"]]}],\"choropleth\":[{\"type\":\"choropleth\",\"colorbar\":{\"outlinewidth\":0,\"ticks\":\"\"}}],\"histogram2d\":[{\"type\":\"histogram2d\",\"colorbar\":{\"outlinewidth\":0,\"ticks\":\"\"},\"colorscale\":[[0.0,\"#0d0887\"],[0.1111111111111111,\"#46039f\"],[0.2222222222222222,\"#7201a8\"],[0.3333333333333333,\"#9c179e\"],[0.4444444444444444,\"#bd3786\"],[0.5555555555555556,\"#d8576b\"],[0.6666666666666666,\"#ed7953\"],[0.7777777777777778,\"#fb9f3a\"],[0.8888888888888888,\"#fdca26\"],[1.0,\"#f0f921\"]]}],\"heatmap\":[{\"type\":\"heatmap\",\"colorbar\":{\"outlinewidth\":0,\"ticks\":\"\"},\"colorscale\":[[0.0,\"#0d0887\"],[0.1111111111111111,\"#46039f\"],[0.2222222222222222,\"#7201a8\"],[0.3333333333333333,\"#9c179e\"],[0.4444444444444444,\"#bd3786\"],[0.5555555555555556,\"#d8576b\"],[0.6666666666666666,\"#ed7953\"],[0.7777777777777778,\"#fb9f3a\"],[0.8888888888888888,\"#fdca26\"],[1.0,\"#f0f921\"]]}],\"heatmapgl\":[{\"type\":\"heatmapgl\",\"colorbar\":{\"outlinewidth\":0,\"ticks\":\"\"},\"colorscale\":[[0.0,\"#0d0887\"],[0.1111111111111111,\"#46039f\"],[0.2222222222222222,\"#7201a8\"],[0.3333333333333333,\"#9c179e\"],[0.4444444444444444,\"#bd3786\"],[0.5555555555555556,\"#d8576b\"],[0.6666666666666666,\"#ed7953\"],[0.7777777777777778,\"#fb9f3a\"],[0.8888888888888888,\"#fdca26\"],[1.0,\"#f0f921\"]]}],\"contourcarpet\":[{\"type\":\"contourcarpet\",\"colorbar\":{\"outlinewidth\":0,\"ticks\":\"\"}}],\"contour\":[{\"type\":\"contour\",\"colorbar\":{\"outlinewidth\":0,\"ticks\":\"\"},\"colorscale\":[[0.0,\"#0d0887\"],[0.1111111111111111,\"#46039f\"],[0.2222222222222222,\"#7201a8\"],[0.3333333333333333,\"#9c179e\"],[0.4444444444444444,\"#bd3786\"],[0.5555555555555556,\"#d8576b\"],[0.6666666666666666,\"#ed7953\"],[0.7777777777777778,\"#fb9f3a\"],[0.8888888888888888,\"#fdca26\"],[1.0,\"#f0f921\"]]}],\"surface\":[{\"type\":\"surface\",\"colorbar\":{\"outlinewidth\":0,\"ticks\":\"\"},\"colorscale\":[[0.0,\"#0d0887\"],[0.1111111111111111,\"#46039f\"],[0.2222222222222222,\"#7201a8\"],[0.3333333333333333,\"#9c179e\"],[0.4444444444444444,\"#bd3786\"],[0.5555555555555556,\"#d8576b\"],[0.6666666666666666,\"#ed7953\"],[0.7777777777777778,\"#fb9f3a\"],[0.8888888888888888,\"#fdca26\"],[1.0,\"#f0f921\"]]}],\"mesh3d\":[{\"type\":\"mesh3d\",\"colorbar\":{\"outlinewidth\":0,\"ticks\":\"\"}}],\"scatter\":[{\"fillpattern\":{\"fillmode\":\"overlay\",\"size\":10,\"solidity\":0.2},\"type\":\"scatter\"}],\"parcoords\":[{\"type\":\"parcoords\",\"line\":{\"colorbar\":{\"outlinewidth\":0,\"ticks\":\"\"}}}],\"scatterpolargl\":[{\"type\":\"scatterpolargl\",\"marker\":{\"colorbar\":{\"outlinewidth\":0,\"ticks\":\"\"}}}],\"bar\":[{\"error_x\":{\"color\":\"#2a3f5f\"},\"error_y\":{\"color\":\"#2a3f5f\"},\"marker\":{\"line\":{\"color\":\"#E5ECF6\",\"width\":0.5},\"pattern\":{\"fillmode\":\"overlay\",\"size\":10,\"solidity\":0.2}},\"type\":\"bar\"}],\"scattergeo\":[{\"type\":\"scattergeo\",\"marker\":{\"colorbar\":{\"outlinewidth\":0,\"ticks\":\"\"}}}],\"scatterpolar\":[{\"type\":\"scatterpolar\",\"marker\":{\"colorbar\":{\"outlinewidth\":0,\"ticks\":\"\"}}}],\"histogram\":[{\"marker\":{\"pattern\":{\"fillmode\":\"overlay\",\"size\":10,\"solidity\":0.2}},\"type\":\"histogram\"}],\"scattergl\":[{\"type\":\"scattergl\",\"marker\":{\"colorbar\":{\"outlinewidth\":0,\"ticks\":\"\"}}}],\"scatter3d\":[{\"type\":\"scatter3d\",\"line\":{\"colorbar\":{\"outlinewidth\":0,\"ticks\":\"\"}},\"marker\":{\"colorbar\":{\"outlinewidth\":0,\"ticks\":\"\"}}}],\"scattermapbox\":[{\"type\":\"scattermapbox\",\"marker\":{\"colorbar\":{\"outlinewidth\":0,\"ticks\":\"\"}}}],\"scatterternary\":[{\"type\":\"scatterternary\",\"marker\":{\"colorbar\":{\"outlinewidth\":0,\"ticks\":\"\"}}}],\"scattercarpet\":[{\"type\":\"scattercarpet\",\"marker\":{\"colorbar\":{\"outlinewidth\":0,\"ticks\":\"\"}}}],\"carpet\":[{\"aaxis\":{\"endlinecolor\":\"#2a3f5f\",\"gridcolor\":\"white\",\"linecolor\":\"white\",\"minorgridcolor\":\"white\",\"startlinecolor\":\"#2a3f5f\"},\"baxis\":{\"endlinecolor\":\"#2a3f5f\",\"gridcolor\":\"white\",\"linecolor\":\"white\",\"minorgridcolor\":\"white\",\"startlinecolor\":\"#2a3f5f\"},\"type\":\"carpet\"}],\"table\":[{\"cells\":{\"fill\":{\"color\":\"#EBF0F8\"},\"line\":{\"color\":\"white\"}},\"header\":{\"fill\":{\"color\":\"#C8D4E3\"},\"line\":{\"color\":\"white\"}},\"type\":\"table\"}],\"barpolar\":[{\"marker\":{\"line\":{\"color\":\"#E5ECF6\",\"width\":0.5},\"pattern\":{\"fillmode\":\"overlay\",\"size\":10,\"solidity\":0.2}},\"type\":\"barpolar\"}],\"pie\":[{\"automargin\":true,\"type\":\"pie\"}]},\"layout\":{\"autotypenumbers\":\"strict\",\"colorway\":[\"#636efa\",\"#EF553B\",\"#00cc96\",\"#ab63fa\",\"#FFA15A\",\"#19d3f3\",\"#FF6692\",\"#B6E880\",\"#FF97FF\",\"#FECB52\"],\"font\":{\"color\":\"#2a3f5f\"},\"hovermode\":\"closest\",\"hoverlabel\":{\"align\":\"left\"},\"paper_bgcolor\":\"white\",\"plot_bgcolor\":\"#E5ECF6\",\"polar\":{\"bgcolor\":\"#E5ECF6\",\"angularaxis\":{\"gridcolor\":\"white\",\"linecolor\":\"white\",\"ticks\":\"\"},\"radialaxis\":{\"gridcolor\":\"white\",\"linecolor\":\"white\",\"ticks\":\"\"}},\"ternary\":{\"bgcolor\":\"#E5ECF6\",\"aaxis\":{\"gridcolor\":\"white\",\"linecolor\":\"white\",\"ticks\":\"\"},\"baxis\":{\"gridcolor\":\"white\",\"linecolor\":\"white\",\"ticks\":\"\"},\"caxis\":{\"gridcolor\":\"white\",\"linecolor\":\"white\",\"ticks\":\"\"}},\"coloraxis\":{\"colorbar\":{\"outlinewidth\":0,\"ticks\":\"\"}},\"colorscale\":{\"sequential\":[[0.0,\"#0d0887\"],[0.1111111111111111,\"#46039f\"],[0.2222222222222222,\"#7201a8\"],[0.3333333333333333,\"#9c179e\"],[0.4444444444444444,\"#bd3786\"],[0.5555555555555556,\"#d8576b\"],[0.6666666666666666,\"#ed7953\"],[0.7777777777777778,\"#fb9f3a\"],[0.8888888888888888,\"#fdca26\"],[1.0,\"#f0f921\"]],\"sequentialminus\":[[0.0,\"#0d0887\"],[0.1111111111111111,\"#46039f\"],[0.2222222222222222,\"#7201a8\"],[0.3333333333333333,\"#9c179e\"],[0.4444444444444444,\"#bd3786\"],[0.5555555555555556,\"#d8576b\"],[0.6666666666666666,\"#ed7953\"],[0.7777777777777778,\"#fb9f3a\"],[0.8888888888888888,\"#fdca26\"],[1.0,\"#f0f921\"]],\"diverging\":[[0,\"#8e0152\"],[0.1,\"#c51b7d\"],[0.2,\"#de77ae\"],[0.3,\"#f1b6da\"],[0.4,\"#fde0ef\"],[0.5,\"#f7f7f7\"],[0.6,\"#e6f5d0\"],[0.7,\"#b8e186\"],[0.8,\"#7fbc41\"],[0.9,\"#4d9221\"],[1,\"#276419\"]]},\"xaxis\":{\"gridcolor\":\"white\",\"linecolor\":\"white\",\"ticks\":\"\",\"title\":{\"standoff\":15},\"zerolinecolor\":\"white\",\"automargin\":true,\"zerolinewidth\":2},\"yaxis\":{\"gridcolor\":\"white\",\"linecolor\":\"white\",\"ticks\":\"\",\"title\":{\"standoff\":15},\"zerolinecolor\":\"white\",\"automargin\":true,\"zerolinewidth\":2},\"scene\":{\"xaxis\":{\"backgroundcolor\":\"#E5ECF6\",\"gridcolor\":\"white\",\"linecolor\":\"white\",\"showbackground\":true,\"ticks\":\"\",\"zerolinecolor\":\"white\",\"gridwidth\":2},\"yaxis\":{\"backgroundcolor\":\"#E5ECF6\",\"gridcolor\":\"white\",\"linecolor\":\"white\",\"showbackground\":true,\"ticks\":\"\",\"zerolinecolor\":\"white\",\"gridwidth\":2},\"zaxis\":{\"backgroundcolor\":\"#E5ECF6\",\"gridcolor\":\"white\",\"linecolor\":\"white\",\"showbackground\":true,\"ticks\":\"\",\"zerolinecolor\":\"white\",\"gridwidth\":2}},\"shapedefaults\":{\"line\":{\"color\":\"#2a3f5f\"}},\"annotationdefaults\":{\"arrowcolor\":\"#2a3f5f\",\"arrowhead\":0,\"arrowwidth\":1},\"geo\":{\"bgcolor\":\"white\",\"landcolor\":\"#E5ECF6\",\"subunitcolor\":\"white\",\"showland\":true,\"showlakes\":true,\"lakecolor\":\"white\"},\"title\":{\"x\":0.05},\"mapbox\":{\"style\":\"light\"}}},\"xaxis\":{\"anchor\":\"y\",\"domain\":[0.0,0.45],\"title\":{\"text\":\"max_depth\"},\"type\":\"log\"},\"yaxis\":{\"anchor\":\"x\",\"domain\":[0.0,1.0],\"title\":{\"text\":\"Objective Value\"}},\"xaxis2\":{\"anchor\":\"y2\",\"domain\":[0.55,1.0],\"title\":{\"text\":\"n_estimators\"}},\"yaxis2\":{\"anchor\":\"x2\",\"domain\":[0.0,1.0],\"matches\":\"y\",\"showticklabels\":false},\"title\":{\"text\":\"Slice Plot\"}},                        {\"responsive\": true}                    ).then(function(){\n",
              "                            \n",
              "var gd = document.getElementById('7826f3a3-e058-4476-b3fa-abf57e1e75ae');\n",
              "var x = new MutationObserver(function (mutations, observer) {{\n",
              "        var display = window.getComputedStyle(gd).display;\n",
              "        if (!display || display === 'none') {{\n",
              "            console.log([gd, 'removed!']);\n",
              "            Plotly.purge(gd);\n",
              "            observer.disconnect();\n",
              "        }}\n",
              "}});\n",
              "\n",
              "// Listen for the removal of the full notebook cells\n",
              "var notebookContainer = gd.closest('#notebook-container');\n",
              "if (notebookContainer) {{\n",
              "    x.observe(notebookContainer, {childList: true});\n",
              "}}\n",
              "\n",
              "// Listen for the clearing of the current output cell\n",
              "var outputEl = gd.closest('.output');\n",
              "if (outputEl) {{\n",
              "    x.observe(outputEl, {childList: true});\n",
              "}}\n",
              "\n",
              "                        })                };                            </script>        </div>\n",
              "</body>\n",
              "</html>"
            ]
          },
          "metadata": {}
        }
      ],
      "source": [
        "optuna.visualization.plot_slice(study)"
      ]
    },
    {
      "cell_type": "markdown",
      "metadata": {
        "id": "3-nFVTb7Ysdj"
      },
      "source": [
        "Plotting the accuracy surface for the hyperparameters involved in the random forest model."
      ]
    },
    {
      "cell_type": "code",
      "execution_count": 7,
      "metadata": {
        "id": "BCnJRIaYYsdj",
        "outputId": "4ac8c6b0-6901-40a5-c18b-afa381741e5f",
        "colab": {
          "base_uri": "https://localhost:8080/",
          "height": 542
        }
      },
      "outputs": [
        {
          "output_type": "display_data",
          "data": {
            "text/html": [
              "<html>\n",
              "<head><meta charset=\"utf-8\" /></head>\n",
              "<body>\n",
              "    <div>            <script src=\"https://cdnjs.cloudflare.com/ajax/libs/mathjax/2.7.5/MathJax.js?config=TeX-AMS-MML_SVG\"></script><script type=\"text/javascript\">if (window.MathJax && window.MathJax.Hub && window.MathJax.Hub.Config) {window.MathJax.Hub.Config({SVG: {font: \"STIX-Web\"}});}</script>                <script type=\"text/javascript\">window.PlotlyConfig = {MathJaxConfig: 'local'};</script>\n",
              "        <script charset=\"utf-8\" src=\"https://cdn.plot.ly/plotly-2.24.1.min.js\"></script>                <div id=\"17f7f1d1-fa14-4ee3-8415-c4852d85eb6a\" class=\"plotly-graph-div\" style=\"height:525px; width:100%;\"></div>            <script type=\"text/javascript\">                                    window.PLOTLYENV=window.PLOTLYENV || {};                                    if (document.getElementById(\"17f7f1d1-fa14-4ee3-8415-c4852d85eb6a\")) {                    Plotly.newPlot(                        \"17f7f1d1-fa14-4ee3-8415-c4852d85eb6a\",                        [{\"colorbar\":{\"title\":{\"text\":\"Objective Value\"}},\"colorscale\":[[0.0,\"rgb(247,251,255)\"],[0.125,\"rgb(222,235,247)\"],[0.25,\"rgb(198,219,239)\"],[0.375,\"rgb(158,202,225)\"],[0.5,\"rgb(107,174,214)\"],[0.625,\"rgb(66,146,198)\"],[0.75,\"rgb(33,113,181)\"],[0.875,\"rgb(8,81,156)\"],[1.0,\"rgb(8,48,107)\"]],\"connectgaps\":true,\"contours\":{\"coloring\":\"heatmap\"},\"hoverinfo\":\"none\",\"line\":{\"smoothing\":1.3},\"reversescale\":false,\"x\":[0.8705033949508901,1.0313055313427886,1.2429203223577692,1.2617435135807478,1.5325449463279255,1.5741602169805131,1.810986540654011,2.0873937717005253,2.111228593840011,2.2072700696646117,2.34986954086981,2.4997697559282694,2.5421989085480146,2.567241150129867,2.766034789006832,2.786223656732438,2.9600057333456777,3.0791519911264937,3.104497737226423,3.170323601685702,3.2771952921345786,3.4293268861309825,3.5411426656123286,3.5931444439964215,3.7372186399276637,3.782177991077471,3.7859148196249017,3.933181543617059,3.9698306244028836,4.065185582309399,4.079079235664667,4.1829608176319555,4.204781437799051,4.343985296824198,4.429935266687688,4.469452077945083,4.471270720168871,4.500643183682663,4.743982265323284,4.752975309063521,4.861228831894333,4.89161592596955,4.91203071204007,5.095894115077122,5.114530082014625,5.183569454178673,5.379171123679544,5.38576630144949,5.446446509593727,5.556158419242186,5.629986552618464,5.67442244077158,5.760312182952007,6.002724843463232,6.0109517975192865,6.103127411203723,6.201754324735959,6.220555489700423,6.333514873093059,6.498660079164418,6.554891524918703,6.6011731993763405,6.697559658172131,6.701293003743303,6.742233301518029,6.990885073717351,7.069227754588896,7.189558916186799,7.35156736177946,7.53533917483303,7.540953460410288,7.9093158478438825,8.045954597409047,8.102013540860488,8.17496029165699,8.18790933733283,8.594855791313513,8.723646228038428,8.751591753352674,9.035401264564959,9.174208695772515,9.755070859996902,9.862612208712047,10.305953706378384,10.695208817084394,10.895551527968285,11.2163564950475,12.351400470028933,12.386935998560073,12.769037773413995,13.985560074771517,14.440250377230056,14.677643489348881,16.096854833579663,16.671863465401458,17.840902746195933,19.498311016019915,22.082036100753477,23.527160921755186,28.615870495351356,30.600245054315778,36.25281896429715],\"y\":[1.1,2,3,4,5,6,7,8,9,10,11,12,13,14,15,16,17,18,19,20,20.9],\"z\":[[null,null,null,null,null,null,null,null,null,null,null,null,null,null,null,null,null,null,null,null,null,null,null,null,null,null,null,null,null,null,null,null,null,null,null,null,null,null,null,null,null,null,null,null,null,null,null,null,null,null,null,null,null,null,null,null,null,null,null,null,null,null,null,null,null,null,null,null,null,null,null,null,null,null,null,null,null,null,null,null,null,null,null,null,null,null,null,null,null,null,null,null,null,null,null,null,null,null,null,null,null,null],[null,null,null,null,null,null,0.6733333333333333,null,null,null,null,null,null,null,null,null,null,null,null,null,null,null,null,null,null,null,null,0.9533333333333333,null,null,null,null,null,null,null,null,null,null,null,null,null,null,null,null,null,null,null,null,null,null,null,null,null,null,null,null,null,null,null,null,null,null,null,null,null,null,null,null,null,null,null,null,null,null,null,null,null,null,null,null,null,null,null,null,null,null,null,null,null,null,null,null,null,null,null,null,null,null,null,null,null,null],[null,null,null,null,null,null,null,null,null,null,null,null,null,null,null,null,null,null,null,null,null,null,null,null,null,null,null,null,null,null,null,null,null,null,null,null,null,null,null,null,null,null,null,null,null,null,null,null,null,null,null,null,null,null,null,null,null,null,null,null,null,null,null,null,null,null,null,null,null,0.9533333333333333,null,null,null,null,null,null,null,null,null,null,null,null,null,null,null,null,null,null,null,null,null,null,null,null,null,null,null,null,null,null,null,null],[null,null,null,null,null,null,null,null,null,null,null,null,null,null,null,null,null,null,null,null,null,null,null,null,null,null,0.9466666666666667,null,null,null,null,null,null,null,null,null,null,null,null,null,null,null,null,null,null,null,null,null,null,null,null,null,null,null,null,null,null,null,null,null,null,null,null,null,null,null,null,null,null,null,null,null,null,null,null,null,null,null,null,null,null,null,null,null,null,null,null,null,null,null,null,null,null,null,null,null,null,null,null,null,null,null],[null,null,null,null,null,null,null,null,null,null,null,null,null,null,null,null,0.9333333333333332,null,null,null,null,null,null,null,null,null,null,null,null,null,null,null,null,null,null,null,null,null,null,null,null,null,null,null,null,null,null,null,null,null,null,null,null,null,null,null,null,null,null,null,null,null,null,null,null,null,null,null,null,null,null,null,null,null,null,null,null,null,null,null,null,null,null,null,null,null,null,null,null,null,null,null,null,null,null,null,null,null,null,null,null,null],[null,0.7000000000000001,null,null,null,null,null,null,null,null,null,null,null,null,null,null,null,null,null,null,null,null,null,null,null,null,null,null,null,null,null,null,null,null,null,null,null,null,null,null,null,null,null,null,null,null,null,null,null,null,null,null,null,null,null,null,null,0.96,null,null,null,null,null,null,null,null,null,null,null,null,null,null,null,null,null,null,null,null,null,null,null,null,null,null,null,null,null,null,null,null,null,null,null,null,null,null,null,null,null,null,null,null],[null,null,null,null,null,null,null,null,null,null,null,0.9533333333333333,null,null,null,null,null,null,null,null,null,null,null,null,null,null,null,null,null,null,null,null,null,null,null,null,null,null,null,null,null,null,null,null,null,null,null,null,null,null,null,null,null,null,null,null,null,null,null,null,null,null,null,null,null,0.96,null,null,null,null,null,0.96,null,null,null,null,null,null,null,null,null,null,null,null,null,null,null,null,null,null,null,null,null,null,null,null,null,null,null,null,null,null],[null,null,null,null,null,null,null,null,null,null,null,null,null,null,null,null,null,null,null,null,null,null,null,0.96,null,null,null,null,null,null,null,null,null,null,null,null,null,null,null,null,null,null,null,null,null,null,null,null,null,null,null,null,null,null,null,null,null,null,null,null,null,null,null,null,0.96,null,null,null,null,null,null,null,null,null,null,null,null,null,null,null,null,null,null,null,null,null,null,0.9666666666666667,null,null,0.9533333333333333,null,null,null,null,null,null,null,null,null,null,null],[null,null,null,null,null,null,null,null,null,null,null,null,null,null,null,null,null,null,null,null,null,null,null,null,null,null,null,null,null,null,null,null,null,null,0.96,null,null,null,null,null,null,null,null,null,null,0.96,null,null,null,null,null,null,null,null,null,null,null,null,null,null,null,null,0.9733333333333333,0.96,null,null,null,null,null,null,null,null,null,null,null,null,null,null,null,null,null,null,null,null,null,null,0.9666666666666667,null,null,null,null,null,null,null,null,0.96,null,null,null,null,null,null],[null,null,null,null,null,null,null,null,null,null,0.96,null,null,null,null,null,null,null,null,null,null,null,null,null,null,null,null,null,0.9533333333333333,null,null,null,null,null,null,0.9666666666666667,null,null,null,null,null,null,null,null,null,null,null,null,null,null,null,null,null,null,null,0.9533333333333333,null,null,null,null,null,null,null,null,null,null,null,null,null,null,null,null,null,null,null,null,null,null,null,null,null,null,null,0.9466666666666667,null,0.9533333333333333,null,null,null,null,null,null,null,null,null,null,null,0.96,null,null,null,null],[null,null,null,null,null,null,null,null,null,null,null,null,null,null,null,null,null,null,null,0.9533333333333333,null,null,null,null,null,null,null,null,null,null,null,null,null,null,null,null,null,0.9533333333333333,null,null,null,null,null,null,0.96,null,null,null,null,null,null,null,null,null,null,null,null,null,null,null,null,null,null,null,null,null,null,null,null,null,null,null,null,null,null,null,null,null,null,null,null,0.96,0.94,null,null,null,null,null,null,null,null,null,null,null,null,null,null,null,null,null,null,null],[null,null,null,null,null,null,null,null,null,null,null,null,null,null,null,0.94,null,null,null,null,null,null,null,null,null,null,null,null,null,null,null,null,0.96,null,null,null,null,null,null,null,0.9533333333333333,null,null,null,null,null,null,null,null,null,null,null,null,null,null,null,null,null,null,null,null,null,null,null,null,null,null,null,null,null,null,null,null,null,null,null,null,null,null,null,null,null,null,null,null,null,null,null,null,null,null,null,0.96,null,0.9666666666666667,null,0.9666666666666667,null,null,null,null,null],[null,null,null,null,null,null,null,null,0.94,null,null,null,null,0.9466666666666667,null,null,null,null,0.96,null,null,null,null,null,null,null,null,null,null,null,null,null,null,null,null,null,null,null,null,null,null,null,null,null,null,null,null,null,null,null,null,null,null,null,null,null,null,null,null,null,null,null,null,null,null,null,null,null,null,null,null,null,null,null,null,null,null,null,0.96,null,0.96,null,null,null,null,null,null,null,null,null,null,null,null,null,null,null,null,null,null,0.9533333333333333,null,null],[null,null,null,null,null,null,null,null,null,null,null,null,0.9466666666666667,null,null,null,null,null,null,null,null,null,null,null,null,null,null,null,null,null,null,null,null,null,null,null,null,null,null,null,null,null,0.96,null,null,null,null,0.9666666666666667,null,0.9533333333333333,null,null,null,null,null,null,null,null,null,null,null,null,null,null,null,null,0.96,null,0.9466666666666667,null,null,null,null,null,0.9533333333333333,null,null,null,null,null,null,null,null,null,null,null,null,null,null,null,null,null,null,null,null,null,null,null,null,null,null,null],[null,null,null,null,null,null,null,null,null,null,null,null,null,null,null,null,null,null,null,null,null,0.9666666666666667,null,null,null,null,null,null,null,null,null,0.9666666666666667,null,null,null,null,null,null,null,null,null,null,null,null,null,null,null,null,null,null,null,null,null,null,0.96,null,null,null,null,null,null,0.96,null,null,null,null,null,null,null,null,0.9533333333333333,null,null,null,null,null,null,null,null,null,null,null,null,null,0.96,null,null,null,null,0.96,null,null,null,0.96,null,null,null,null,null,null,0.9533333333333333,null],[null,null,null,null,0.9533333333333333,null,null,0.9466666666666667,null,null,null,null,null,null,null,null,null,null,null,null,null,null,0.9533333333333333,null,null,null,null,null,null,0.9533333333333333,null,null,null,null,null,null,null,null,null,null,null,null,null,null,null,null,0.9466666666666667,null,null,null,null,null,null,null,null,null,0.9666666666666667,null,0.9533333333333333,null,0.9733333333333333,null,null,null,null,null,null,null,null,null,null,null,null,null,null,null,null,null,null,null,null,null,null,null,null,null,null,null,null,null,null,0.9533333333333333,null,null,null,null,null,null,null,null,null,null],[null,null,null,null,null,null,null,null,null,null,null,null,null,null,null,null,null,null,null,null,null,null,null,null,0.9666666666666667,null,null,null,null,null,0.9533333333333333,null,null,0.9533333333333333,null,null,null,null,null,null,null,null,null,null,null,null,null,null,null,null,null,null,null,null,null,null,null,null,null,null,null,null,null,null,null,null,null,null,null,null,null,null,0.96,0.94,null,0.9666666666666667,0.9666666666666667,null,null,0.96,null,null,null,null,null,null,null,null,0.9666666666666667,null,null,null,null,null,null,null,null,null,0.9533333333333333,null,null,null],[null,null,0.8733333333333334,null,null,null,null,null,null,null,null,null,null,null,null,null,null,null,null,null,null,null,null,null,null,null,null,null,null,null,null,null,null,null,null,null,null,null,0.96,null,null,null,null,null,null,null,null,null,null,null,null,0.9666666666666667,0.96,0.96,null,null,null,null,null,null,null,null,null,null,null,null,null,0.9533333333333333,null,null,null,null,null,null,null,null,null,0.9666666666666667,null,null,null,null,null,null,null,null,null,null,null,null,null,null,null,null,null,null,null,null,null,null,null,null],[null,null,null,0.86,null,0.8733333333333334,null,null,null,0.96,null,null,null,null,null,null,null,null,null,null,null,null,null,null,null,null,null,null,null,null,null,null,null,null,null,null,0.96,null,null,null,null,0.9666666666666667,null,null,null,null,null,null,0.96,null,0.94,null,null,null,null,null,null,null,null,0.9533333333333333,null,null,null,null,null,null,null,null,null,null,null,null,null,null,null,null,null,null,null,null,null,null,null,null,null,null,null,null,null,null,null,null,null,null,null,null,null,null,null,null,null,null],[null,null,null,null,null,null,null,null,null,null,null,null,null,null,0.94,null,null,0.9666666666666667,null,null,0.9533333333333333,null,null,null,null,0.9533333333333333,null,null,null,null,null,null,null,null,null,null,null,null,null,0.9666666666666667,null,null,null,0.9666666666666667,null,null,null,null,null,null,null,null,null,null,null,null,null,null,null,null,null,null,null,null,null,null,null,null,null,null,null,null,null,null,null,null,null,null,null,null,null,null,null,null,null,null,null,null,null,null,null,null,null,null,null,null,null,null,null,null,null,null],[null,null,null,null,null,null,null,null,null,null,null,null,null,null,null,null,null,null,null,null,null,null,null,null,null,null,null,null,null,null,null,null,null,null,null,null,null,null,null,null,null,null,null,null,null,null,null,null,null,null,null,null,null,null,null,null,null,null,null,null,null,null,null,null,null,null,null,null,null,null,null,null,null,null,null,null,null,null,null,null,null,null,null,null,null,null,null,null,null,null,null,null,null,null,null,null,null,null,null,null,null,null]],\"type\":\"contour\"},{\"marker\":{\"color\":\"black\",\"line\":{\"color\":\"Gray\",\"width\":2.0}},\"mode\":\"markers\",\"name\":\"Feasible Trial\",\"showlegend\":false,\"x\":[1.2617435135807478,14.677643489348881,6.220555489700423,6.742233301518029,2.111228593840011,1.2429203223577692,1.810986540654011,2.4997697559282694,4.1829608176319555,4.469452077945083,30.600245054315778,4.065185582309399,3.9698306244028836,10.695208817084394,10.305953706378384,3.7859148196249017,2.567241150129867,8.18790933733283,17.840902746195933,3.782177991077471,5.38576630144949,8.102013540860488,5.114530082014625,8.594855791313513,3.0791519911264937,16.671863465401458,12.769037773413995,23.527160921755186,7.35156736177946,4.89161592596955,1.5741602169805131,5.556158419242186,3.104497737226423,4.861228831894333,6.201754324735959,9.862612208712047,6.697559658172131,6.990885073717351,12.351400470028933,2.9600057333456777,4.429935266687688,6.103127411203723,8.17496029165699,5.760312182952007,2.0873937717005253,3.5931444439964215,4.500643183682663,9.174208695772515,1.0313055313427886,6.701293003743303,3.4293268861309825,8.045954597409047,8.723646228038428,5.379171123679544,12.386935998560073,10.895551527968285,7.189558916186799,4.204781437799051,2.5421989085480146,14.440250377230056,6.6011731993763405,2.766034789006832,3.2771952921345786,2.2072700696646117,4.743982265323284,5.446446509593727,4.079079235664667,7.9093158478438825,3.933181543617059,6.0109517975192865,9.755070859996902,19.498311016019915,28.615870495351356,4.91203071204007,22.082036100753477,2.786223656732438,11.2163564950475,13.985560074771517,16.096854833579663,3.7372186399276637,7.53533917483303,4.471270720168871,5.095894115077122,6.498660079164418,6.002724843463232,3.170323601685702,5.183569454178673,8.751591753352674,3.5411426656123286,4.343985296824198,5.67442244077158,6.554891524918703,6.333514873093059,7.069227754588896,9.035401264564959,4.752975309063521,1.5325449463279255,2.34986954086981,7.540953460410288,5.629986552618464],\"y\":[19,12,6,8,13,18,2,7,15,10,15,16,10,15,10,4,13,17,9,20,14,17,11,17,20,12,15,17,14,19,19,14,13,12,16,11,9,7,8,5,9,10,14,18,16,8,11,13,6,9,15,17,18,16,17,10,18,12,14,16,15,20,20,19,18,19,17,7,2,15,11,12,13,14,10,12,9,8,15,17,3,19,20,19,18,11,9,13,16,17,18,16,16,14,17,20,16,10,15,19],\"type\":\"scatter\"},{\"marker\":{\"color\":\"#cccccc\",\"line\":{\"color\":\"Gray\",\"width\":2.0}},\"mode\":\"markers\",\"name\":\"Infeasible Trial\",\"showlegend\":false,\"x\":[],\"y\":[],\"type\":\"scatter\"}],                        {\"title\":{\"text\":\"Contour Plot\"},\"template\":{\"data\":{\"histogram2dcontour\":[{\"type\":\"histogram2dcontour\",\"colorbar\":{\"outlinewidth\":0,\"ticks\":\"\"},\"colorscale\":[[0.0,\"#0d0887\"],[0.1111111111111111,\"#46039f\"],[0.2222222222222222,\"#7201a8\"],[0.3333333333333333,\"#9c179e\"],[0.4444444444444444,\"#bd3786\"],[0.5555555555555556,\"#d8576b\"],[0.6666666666666666,\"#ed7953\"],[0.7777777777777778,\"#fb9f3a\"],[0.8888888888888888,\"#fdca26\"],[1.0,\"#f0f921\"]]}],\"choropleth\":[{\"type\":\"choropleth\",\"colorbar\":{\"outlinewidth\":0,\"ticks\":\"\"}}],\"histogram2d\":[{\"type\":\"histogram2d\",\"colorbar\":{\"outlinewidth\":0,\"ticks\":\"\"},\"colorscale\":[[0.0,\"#0d0887\"],[0.1111111111111111,\"#46039f\"],[0.2222222222222222,\"#7201a8\"],[0.3333333333333333,\"#9c179e\"],[0.4444444444444444,\"#bd3786\"],[0.5555555555555556,\"#d8576b\"],[0.6666666666666666,\"#ed7953\"],[0.7777777777777778,\"#fb9f3a\"],[0.8888888888888888,\"#fdca26\"],[1.0,\"#f0f921\"]]}],\"heatmap\":[{\"type\":\"heatmap\",\"colorbar\":{\"outlinewidth\":0,\"ticks\":\"\"},\"colorscale\":[[0.0,\"#0d0887\"],[0.1111111111111111,\"#46039f\"],[0.2222222222222222,\"#7201a8\"],[0.3333333333333333,\"#9c179e\"],[0.4444444444444444,\"#bd3786\"],[0.5555555555555556,\"#d8576b\"],[0.6666666666666666,\"#ed7953\"],[0.7777777777777778,\"#fb9f3a\"],[0.8888888888888888,\"#fdca26\"],[1.0,\"#f0f921\"]]}],\"heatmapgl\":[{\"type\":\"heatmapgl\",\"colorbar\":{\"outlinewidth\":0,\"ticks\":\"\"},\"colorscale\":[[0.0,\"#0d0887\"],[0.1111111111111111,\"#46039f\"],[0.2222222222222222,\"#7201a8\"],[0.3333333333333333,\"#9c179e\"],[0.4444444444444444,\"#bd3786\"],[0.5555555555555556,\"#d8576b\"],[0.6666666666666666,\"#ed7953\"],[0.7777777777777778,\"#fb9f3a\"],[0.8888888888888888,\"#fdca26\"],[1.0,\"#f0f921\"]]}],\"contourcarpet\":[{\"type\":\"contourcarpet\",\"colorbar\":{\"outlinewidth\":0,\"ticks\":\"\"}}],\"contour\":[{\"type\":\"contour\",\"colorbar\":{\"outlinewidth\":0,\"ticks\":\"\"},\"colorscale\":[[0.0,\"#0d0887\"],[0.1111111111111111,\"#46039f\"],[0.2222222222222222,\"#7201a8\"],[0.3333333333333333,\"#9c179e\"],[0.4444444444444444,\"#bd3786\"],[0.5555555555555556,\"#d8576b\"],[0.6666666666666666,\"#ed7953\"],[0.7777777777777778,\"#fb9f3a\"],[0.8888888888888888,\"#fdca26\"],[1.0,\"#f0f921\"]]}],\"surface\":[{\"type\":\"surface\",\"colorbar\":{\"outlinewidth\":0,\"ticks\":\"\"},\"colorscale\":[[0.0,\"#0d0887\"],[0.1111111111111111,\"#46039f\"],[0.2222222222222222,\"#7201a8\"],[0.3333333333333333,\"#9c179e\"],[0.4444444444444444,\"#bd3786\"],[0.5555555555555556,\"#d8576b\"],[0.6666666666666666,\"#ed7953\"],[0.7777777777777778,\"#fb9f3a\"],[0.8888888888888888,\"#fdca26\"],[1.0,\"#f0f921\"]]}],\"mesh3d\":[{\"type\":\"mesh3d\",\"colorbar\":{\"outlinewidth\":0,\"ticks\":\"\"}}],\"scatter\":[{\"fillpattern\":{\"fillmode\":\"overlay\",\"size\":10,\"solidity\":0.2},\"type\":\"scatter\"}],\"parcoords\":[{\"type\":\"parcoords\",\"line\":{\"colorbar\":{\"outlinewidth\":0,\"ticks\":\"\"}}}],\"scatterpolargl\":[{\"type\":\"scatterpolargl\",\"marker\":{\"colorbar\":{\"outlinewidth\":0,\"ticks\":\"\"}}}],\"bar\":[{\"error_x\":{\"color\":\"#2a3f5f\"},\"error_y\":{\"color\":\"#2a3f5f\"},\"marker\":{\"line\":{\"color\":\"#E5ECF6\",\"width\":0.5},\"pattern\":{\"fillmode\":\"overlay\",\"size\":10,\"solidity\":0.2}},\"type\":\"bar\"}],\"scattergeo\":[{\"type\":\"scattergeo\",\"marker\":{\"colorbar\":{\"outlinewidth\":0,\"ticks\":\"\"}}}],\"scatterpolar\":[{\"type\":\"scatterpolar\",\"marker\":{\"colorbar\":{\"outlinewidth\":0,\"ticks\":\"\"}}}],\"histogram\":[{\"marker\":{\"pattern\":{\"fillmode\":\"overlay\",\"size\":10,\"solidity\":0.2}},\"type\":\"histogram\"}],\"scattergl\":[{\"type\":\"scattergl\",\"marker\":{\"colorbar\":{\"outlinewidth\":0,\"ticks\":\"\"}}}],\"scatter3d\":[{\"type\":\"scatter3d\",\"line\":{\"colorbar\":{\"outlinewidth\":0,\"ticks\":\"\"}},\"marker\":{\"colorbar\":{\"outlinewidth\":0,\"ticks\":\"\"}}}],\"scattermapbox\":[{\"type\":\"scattermapbox\",\"marker\":{\"colorbar\":{\"outlinewidth\":0,\"ticks\":\"\"}}}],\"scatterternary\":[{\"type\":\"scatterternary\",\"marker\":{\"colorbar\":{\"outlinewidth\":0,\"ticks\":\"\"}}}],\"scattercarpet\":[{\"type\":\"scattercarpet\",\"marker\":{\"colorbar\":{\"outlinewidth\":0,\"ticks\":\"\"}}}],\"carpet\":[{\"aaxis\":{\"endlinecolor\":\"#2a3f5f\",\"gridcolor\":\"white\",\"linecolor\":\"white\",\"minorgridcolor\":\"white\",\"startlinecolor\":\"#2a3f5f\"},\"baxis\":{\"endlinecolor\":\"#2a3f5f\",\"gridcolor\":\"white\",\"linecolor\":\"white\",\"minorgridcolor\":\"white\",\"startlinecolor\":\"#2a3f5f\"},\"type\":\"carpet\"}],\"table\":[{\"cells\":{\"fill\":{\"color\":\"#EBF0F8\"},\"line\":{\"color\":\"white\"}},\"header\":{\"fill\":{\"color\":\"#C8D4E3\"},\"line\":{\"color\":\"white\"}},\"type\":\"table\"}],\"barpolar\":[{\"marker\":{\"line\":{\"color\":\"#E5ECF6\",\"width\":0.5},\"pattern\":{\"fillmode\":\"overlay\",\"size\":10,\"solidity\":0.2}},\"type\":\"barpolar\"}],\"pie\":[{\"automargin\":true,\"type\":\"pie\"}]},\"layout\":{\"autotypenumbers\":\"strict\",\"colorway\":[\"#636efa\",\"#EF553B\",\"#00cc96\",\"#ab63fa\",\"#FFA15A\",\"#19d3f3\",\"#FF6692\",\"#B6E880\",\"#FF97FF\",\"#FECB52\"],\"font\":{\"color\":\"#2a3f5f\"},\"hovermode\":\"closest\",\"hoverlabel\":{\"align\":\"left\"},\"paper_bgcolor\":\"white\",\"plot_bgcolor\":\"#E5ECF6\",\"polar\":{\"bgcolor\":\"#E5ECF6\",\"angularaxis\":{\"gridcolor\":\"white\",\"linecolor\":\"white\",\"ticks\":\"\"},\"radialaxis\":{\"gridcolor\":\"white\",\"linecolor\":\"white\",\"ticks\":\"\"}},\"ternary\":{\"bgcolor\":\"#E5ECF6\",\"aaxis\":{\"gridcolor\":\"white\",\"linecolor\":\"white\",\"ticks\":\"\"},\"baxis\":{\"gridcolor\":\"white\",\"linecolor\":\"white\",\"ticks\":\"\"},\"caxis\":{\"gridcolor\":\"white\",\"linecolor\":\"white\",\"ticks\":\"\"}},\"coloraxis\":{\"colorbar\":{\"outlinewidth\":0,\"ticks\":\"\"}},\"colorscale\":{\"sequential\":[[0.0,\"#0d0887\"],[0.1111111111111111,\"#46039f\"],[0.2222222222222222,\"#7201a8\"],[0.3333333333333333,\"#9c179e\"],[0.4444444444444444,\"#bd3786\"],[0.5555555555555556,\"#d8576b\"],[0.6666666666666666,\"#ed7953\"],[0.7777777777777778,\"#fb9f3a\"],[0.8888888888888888,\"#fdca26\"],[1.0,\"#f0f921\"]],\"sequentialminus\":[[0.0,\"#0d0887\"],[0.1111111111111111,\"#46039f\"],[0.2222222222222222,\"#7201a8\"],[0.3333333333333333,\"#9c179e\"],[0.4444444444444444,\"#bd3786\"],[0.5555555555555556,\"#d8576b\"],[0.6666666666666666,\"#ed7953\"],[0.7777777777777778,\"#fb9f3a\"],[0.8888888888888888,\"#fdca26\"],[1.0,\"#f0f921\"]],\"diverging\":[[0,\"#8e0152\"],[0.1,\"#c51b7d\"],[0.2,\"#de77ae\"],[0.3,\"#f1b6da\"],[0.4,\"#fde0ef\"],[0.5,\"#f7f7f7\"],[0.6,\"#e6f5d0\"],[0.7,\"#b8e186\"],[0.8,\"#7fbc41\"],[0.9,\"#4d9221\"],[1,\"#276419\"]]},\"xaxis\":{\"gridcolor\":\"white\",\"linecolor\":\"white\",\"ticks\":\"\",\"title\":{\"standoff\":15},\"zerolinecolor\":\"white\",\"automargin\":true,\"zerolinewidth\":2},\"yaxis\":{\"gridcolor\":\"white\",\"linecolor\":\"white\",\"ticks\":\"\",\"title\":{\"standoff\":15},\"zerolinecolor\":\"white\",\"automargin\":true,\"zerolinewidth\":2},\"scene\":{\"xaxis\":{\"backgroundcolor\":\"#E5ECF6\",\"gridcolor\":\"white\",\"linecolor\":\"white\",\"showbackground\":true,\"ticks\":\"\",\"zerolinecolor\":\"white\",\"gridwidth\":2},\"yaxis\":{\"backgroundcolor\":\"#E5ECF6\",\"gridcolor\":\"white\",\"linecolor\":\"white\",\"showbackground\":true,\"ticks\":\"\",\"zerolinecolor\":\"white\",\"gridwidth\":2},\"zaxis\":{\"backgroundcolor\":\"#E5ECF6\",\"gridcolor\":\"white\",\"linecolor\":\"white\",\"showbackground\":true,\"ticks\":\"\",\"zerolinecolor\":\"white\",\"gridwidth\":2}},\"shapedefaults\":{\"line\":{\"color\":\"#2a3f5f\"}},\"annotationdefaults\":{\"arrowcolor\":\"#2a3f5f\",\"arrowhead\":0,\"arrowwidth\":1},\"geo\":{\"bgcolor\":\"white\",\"landcolor\":\"#E5ECF6\",\"subunitcolor\":\"white\",\"showland\":true,\"showlakes\":true,\"lakecolor\":\"white\"},\"title\":{\"x\":0.05},\"mapbox\":{\"style\":\"light\"}}},\"xaxis\":{\"title\":{\"text\":\"max_depth\"},\"range\":[-0.06022953080102928,1.5593417823012021],\"type\":\"log\"},\"yaxis\":{\"title\":{\"text\":\"n_estimators\"},\"range\":[1.1,20.9]}},                        {\"responsive\": true}                    ).then(function(){\n",
              "                            \n",
              "var gd = document.getElementById('17f7f1d1-fa14-4ee3-8415-c4852d85eb6a');\n",
              "var x = new MutationObserver(function (mutations, observer) {{\n",
              "        var display = window.getComputedStyle(gd).display;\n",
              "        if (!display || display === 'none') {{\n",
              "            console.log([gd, 'removed!']);\n",
              "            Plotly.purge(gd);\n",
              "            observer.disconnect();\n",
              "        }}\n",
              "}});\n",
              "\n",
              "// Listen for the removal of the full notebook cells\n",
              "var notebookContainer = gd.closest('#notebook-container');\n",
              "if (notebookContainer) {{\n",
              "    x.observe(notebookContainer, {childList: true});\n",
              "}}\n",
              "\n",
              "// Listen for the clearing of the current output cell\n",
              "var outputEl = gd.closest('.output');\n",
              "if (outputEl) {{\n",
              "    x.observe(outputEl, {childList: true});\n",
              "}}\n",
              "\n",
              "                        })                };                            </script>        </div>\n",
              "</body>\n",
              "</html>"
            ]
          },
          "metadata": {}
        }
      ],
      "source": [
        "optuna.visualization.plot_contour(study, params=['n_estimators', 'max_depth'])"
      ]
    },
    {
      "cell_type": "markdown",
      "source": [
        "# Reference Reading:\n",
        "\n",
        "[Optuna - hyperparameter optimization framework](https://cdn.iisc.talentsprint.com/CDS/Assignments/Module2/Addl_NB_Tuning_hyperparameters_using_Optuna_Reference%20Reading%20Optuna%20a%20flexible%20efficient.pdf)\n",
        "\n",
        "[Optuna examples](https://github.com/optuna/optuna-examples/)\n",
        "\n",
        "[Optuna vs Hyperopt](https://neptune.ai/blog/optuna-vs-hyperopt)\n",
        "\n",
        "\n"
      ],
      "metadata": {
        "id": "XN-TIGRbhVTN"
      }
    }
  ],
  "metadata": {
    "kernelspec": {
      "display_name": "Python 3",
      "language": "python",
      "name": "python3"
    },
    "language_info": {
      "codemirror_mode": {
        "name": "ipython",
        "version": 3
      },
      "file_extension": ".py",
      "mimetype": "text/x-python",
      "name": "python",
      "nbconvert_exporter": "python",
      "pygments_lexer": "ipython3",
      "version": "3.7.4"
    },
    "colab": {
      "provenance": [],
      "include_colab_link": true
    }
  },
  "nbformat": 4,
  "nbformat_minor": 0
}