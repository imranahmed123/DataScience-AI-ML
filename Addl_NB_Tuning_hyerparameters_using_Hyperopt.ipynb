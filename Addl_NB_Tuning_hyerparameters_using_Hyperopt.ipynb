{
  "cells": [
    {
      "cell_type": "markdown",
      "metadata": {
        "id": "view-in-github",
        "colab_type": "text"
      },
      "source": [
        "<a href=\"https://colab.research.google.com/github/imranahmed123/DataScience-AI-ML/blob/main/Addl_NB_Tuning_hyerparameters_using_Hyperopt.ipynb\" target=\"_parent\"><img src=\"https://colab.research.google.com/assets/colab-badge.svg\" alt=\"Open In Colab\"/></a>"
      ]
    },
    {
      "cell_type": "markdown",
      "metadata": {
        "id": "zZbO1TP3GWLl"
      },
      "source": [
        "# Advanced Certification Program in Computational Data Science\n",
        "## A program by IISc and TalentSprint\n",
        "### Additional Notebook (ungraded): CatBoost parameter tuning"
      ]
    },
    {
      "cell_type": "markdown",
      "metadata": {
        "id": "ssvaS0BoGWLp"
      },
      "source": [
        "## Learning Objectives"
      ]
    },
    {
      "cell_type": "markdown",
      "metadata": {
        "id": "zC3yBYSkGWLp"
      },
      "source": [
        "At the end of the experiment, you will be able to\n",
        "\n",
        "- perform model training, cross-validation and prediction using CatBoost\n",
        "- explore some useful features of CatBoost like early stopping,  snapshot support, feature importances, etc\n",
        "- implement hyperparameter tuning"
      ]
    },
    {
      "cell_type": "markdown",
      "metadata": {
        "id": "3wDGpB4AGWLq"
      },
      "source": [
        "## Introduction"
      ]
    },
    {
      "cell_type": "markdown",
      "metadata": {
        "id": "35VIuXX_MGq-"
      },
      "source": [
        "CatBoost or Categorical Boosting is an algorithm for gradient boosting on decision trees. It is developed by Yandex researchers and engineers, and is used for search, recommendation systems, personal assistant, self-driving cars, weather prediction and many other tasks at Yandex and in other companies. It is a high-performance open source library for gradient boosting on decision trees and can be used by anyone.\n",
        "\n",
        "<center>\n",
        "<image src=https://affine.ai/wp-content/uploads/2022/01/120.png width=350px>\n",
        "</center>\n",
        "\n",
        "Some of the features of CatBoost are:\n",
        "\n",
        "- **Great quality without parameter tuning**: Reduce time spent on parameter tuning, as it provides great results with default parameters\n",
        "- **Categorical features support**: Improve the training results that allows us to use non-numeric factors, instead of having to pre-process the data or spend time and effort turning it to numbers\n",
        "- **Fast and scalable GPU version**: Train the model on a fast implementation of gradient-boosting algorithm for GPU\n",
        "- **Improved accuracy**: Reduce overfitting when constructing the models with a novel gradient-boosting scheme\n",
        "- **Fast prediction**: Apply the trained model quickly and efficiently even to latency-critical tasks using it's model applier\n",
        "\n",
        "The CatBoost library can be used to solve both classification and regression tasks. For classification, we can use **`CatBoostClassifier`** and for regression, **`CatBoostRegressor`**.\n",
        "\n",
        "To know more about CatBoost, refer [here](https://catboost.ai/en/docs/)."
      ]
    },
    {
      "cell_type": "markdown",
      "metadata": {
        "id": "Yon7buaRRFz9"
      },
      "source": [
        "### Dataset Description"
      ]
    },
    {
      "cell_type": "markdown",
      "metadata": {
        "id": "dKAynoGwr-au"
      },
      "source": [
        "[Titanic dataset](https://www.kaggle.com/c/titanic/data) contains passenger data, i.e., name, age, gender, socio-economic class, etc. The brief description of features is given below.\n",
        "\n",
        "<br>\n",
        "\n",
        "| Variable | Definition | Key |\n",
        "|:--------|:--------|:--------|\n",
        "|survival | Survival | 0 = No, 1 = Yes |\n",
        "| pclass | Ticket class (a proxy for socio-economic status (SES)) | 1 = 1st (Upper), 2 = 2nd (Middle), 3 = 3rd (Lower)|\n",
        "| sex| Sex | |\n",
        "| Age | Age in years | Age is fractional if less than 1. If the age is estimated, it is in the form of xx.5 |\n",
        "| sibsp | # of siblings / spouses aboard the Titanic | |\n",
        "| parch | # of parents / children aboard the Titanic | Some children travelled only with a nanny, therefore parch=0 for them |\n",
        "| ticket | Ticket number | |\n",
        "| fare | Passenger fare | |\n",
        "| cabin | Cabin number | |\n",
        "| embarked | Port of Embarkation | C = Cherbourg, Q = Queenstown, S = Southampton |\n",
        "\n",
        "<br>\n",
        "\n",
        "Here, we will be predicting survival on the Titanic using passengers' data."
      ]
    },
    {
      "cell_type": "markdown",
      "metadata": {
        "id": "zV9JjuNrGWLs"
      },
      "source": [
        "### Import required packages"
      ]
    },
    {
      "cell_type": "code",
      "execution_count": 1,
      "metadata": {
        "id": "cb4pvvIDvDh4",
        "outputId": "73a8c46d-de3f-418e-e7e1-12cd46b68ca2",
        "colab": {
          "base_uri": "https://localhost:8080/"
        }
      },
      "outputs": [
        {
          "output_type": "stream",
          "name": "stdout",
          "text": [
            "\u001b[2K   \u001b[90m━━━━━━━━━━━━━━━━━━━━━━━━━━━━━━━━━━━━━━━━\u001b[0m \u001b[32m98.2/98.2 MB\u001b[0m \u001b[31m6.2 MB/s\u001b[0m eta \u001b[36m0:00:00\u001b[0m\n",
            "\u001b[?25h"
          ]
        }
      ],
      "source": [
        "!pip -qq install catboost"
      ]
    },
    {
      "cell_type": "code",
      "execution_count": 2,
      "metadata": {
        "id": "gL4hjwyJGWLt"
      },
      "outputs": [],
      "source": [
        "import numpy as np\n",
        "import matplotlib.pyplot as plt\n",
        "from sklearn.model_selection import train_test_split\n",
        "from sklearn.metrics import accuracy_score\n",
        "from catboost.datasets import titanic\n",
        "from catboost import CatBoostClassifier, Pool, metrics, cv"
      ]
    },
    {
      "cell_type": "markdown",
      "metadata": {
        "id": "hO2yjVh572PI"
      },
      "source": [
        "### Load Dataset"
      ]
    },
    {
      "cell_type": "code",
      "execution_count": 3,
      "metadata": {
        "id": "_b4l5jGUr-av",
        "outputId": "b97a1f80-2da8-4e5a-bf19-b185b29f8de4",
        "colab": {
          "base_uri": "https://localhost:8080/",
          "height": 258
        }
      },
      "outputs": [
        {
          "output_type": "execute_result",
          "data": {
            "text/plain": [
              "   PassengerId  Survived  Pclass  \\\n",
              "0            1         0       3   \n",
              "1            2         1       1   \n",
              "2            3         1       3   \n",
              "3            4         1       1   \n",
              "4            5         0       3   \n",
              "\n",
              "                                                Name     Sex   Age  SibSp  \\\n",
              "0                            Braund, Mr. Owen Harris    male  22.0      1   \n",
              "1  Cumings, Mrs. John Bradley (Florence Briggs Th...  female  38.0      1   \n",
              "2                             Heikkinen, Miss. Laina  female  26.0      0   \n",
              "3       Futrelle, Mrs. Jacques Heath (Lily May Peel)  female  35.0      1   \n",
              "4                           Allen, Mr. William Henry    male  35.0      0   \n",
              "\n",
              "   Parch            Ticket     Fare Cabin Embarked  \n",
              "0      0         A/5 21171   7.2500   NaN        S  \n",
              "1      0          PC 17599  71.2833   C85        C  \n",
              "2      0  STON/O2. 3101282   7.9250   NaN        S  \n",
              "3      0            113803  53.1000  C123        S  \n",
              "4      0            373450   8.0500   NaN        S  "
            ],
            "text/html": [
              "\n",
              "  <div id=\"df-f440c619-d0c5-41c8-a738-d878344c2c75\" class=\"colab-df-container\">\n",
              "    <div>\n",
              "<style scoped>\n",
              "    .dataframe tbody tr th:only-of-type {\n",
              "        vertical-align: middle;\n",
              "    }\n",
              "\n",
              "    .dataframe tbody tr th {\n",
              "        vertical-align: top;\n",
              "    }\n",
              "\n",
              "    .dataframe thead th {\n",
              "        text-align: right;\n",
              "    }\n",
              "</style>\n",
              "<table border=\"1\" class=\"dataframe\">\n",
              "  <thead>\n",
              "    <tr style=\"text-align: right;\">\n",
              "      <th></th>\n",
              "      <th>PassengerId</th>\n",
              "      <th>Survived</th>\n",
              "      <th>Pclass</th>\n",
              "      <th>Name</th>\n",
              "      <th>Sex</th>\n",
              "      <th>Age</th>\n",
              "      <th>SibSp</th>\n",
              "      <th>Parch</th>\n",
              "      <th>Ticket</th>\n",
              "      <th>Fare</th>\n",
              "      <th>Cabin</th>\n",
              "      <th>Embarked</th>\n",
              "    </tr>\n",
              "  </thead>\n",
              "  <tbody>\n",
              "    <tr>\n",
              "      <th>0</th>\n",
              "      <td>1</td>\n",
              "      <td>0</td>\n",
              "      <td>3</td>\n",
              "      <td>Braund, Mr. Owen Harris</td>\n",
              "      <td>male</td>\n",
              "      <td>22.0</td>\n",
              "      <td>1</td>\n",
              "      <td>0</td>\n",
              "      <td>A/5 21171</td>\n",
              "      <td>7.2500</td>\n",
              "      <td>NaN</td>\n",
              "      <td>S</td>\n",
              "    </tr>\n",
              "    <tr>\n",
              "      <th>1</th>\n",
              "      <td>2</td>\n",
              "      <td>1</td>\n",
              "      <td>1</td>\n",
              "      <td>Cumings, Mrs. John Bradley (Florence Briggs Th...</td>\n",
              "      <td>female</td>\n",
              "      <td>38.0</td>\n",
              "      <td>1</td>\n",
              "      <td>0</td>\n",
              "      <td>PC 17599</td>\n",
              "      <td>71.2833</td>\n",
              "      <td>C85</td>\n",
              "      <td>C</td>\n",
              "    </tr>\n",
              "    <tr>\n",
              "      <th>2</th>\n",
              "      <td>3</td>\n",
              "      <td>1</td>\n",
              "      <td>3</td>\n",
              "      <td>Heikkinen, Miss. Laina</td>\n",
              "      <td>female</td>\n",
              "      <td>26.0</td>\n",
              "      <td>0</td>\n",
              "      <td>0</td>\n",
              "      <td>STON/O2. 3101282</td>\n",
              "      <td>7.9250</td>\n",
              "      <td>NaN</td>\n",
              "      <td>S</td>\n",
              "    </tr>\n",
              "    <tr>\n",
              "      <th>3</th>\n",
              "      <td>4</td>\n",
              "      <td>1</td>\n",
              "      <td>1</td>\n",
              "      <td>Futrelle, Mrs. Jacques Heath (Lily May Peel)</td>\n",
              "      <td>female</td>\n",
              "      <td>35.0</td>\n",
              "      <td>1</td>\n",
              "      <td>0</td>\n",
              "      <td>113803</td>\n",
              "      <td>53.1000</td>\n",
              "      <td>C123</td>\n",
              "      <td>S</td>\n",
              "    </tr>\n",
              "    <tr>\n",
              "      <th>4</th>\n",
              "      <td>5</td>\n",
              "      <td>0</td>\n",
              "      <td>3</td>\n",
              "      <td>Allen, Mr. William Henry</td>\n",
              "      <td>male</td>\n",
              "      <td>35.0</td>\n",
              "      <td>0</td>\n",
              "      <td>0</td>\n",
              "      <td>373450</td>\n",
              "      <td>8.0500</td>\n",
              "      <td>NaN</td>\n",
              "      <td>S</td>\n",
              "    </tr>\n",
              "  </tbody>\n",
              "</table>\n",
              "</div>\n",
              "    <div class=\"colab-df-buttons\">\n",
              "\n",
              "  <div class=\"colab-df-container\">\n",
              "    <button class=\"colab-df-convert\" onclick=\"convertToInteractive('df-f440c619-d0c5-41c8-a738-d878344c2c75')\"\n",
              "            title=\"Convert this dataframe to an interactive table.\"\n",
              "            style=\"display:none;\">\n",
              "\n",
              "  <svg xmlns=\"http://www.w3.org/2000/svg\" height=\"24px\" viewBox=\"0 -960 960 960\">\n",
              "    <path d=\"M120-120v-720h720v720H120Zm60-500h600v-160H180v160Zm220 220h160v-160H400v160Zm0 220h160v-160H400v160ZM180-400h160v-160H180v160Zm440 0h160v-160H620v160ZM180-180h160v-160H180v160Zm440 0h160v-160H620v160Z\"/>\n",
              "  </svg>\n",
              "    </button>\n",
              "\n",
              "  <style>\n",
              "    .colab-df-container {\n",
              "      display:flex;\n",
              "      gap: 12px;\n",
              "    }\n",
              "\n",
              "    .colab-df-convert {\n",
              "      background-color: #E8F0FE;\n",
              "      border: none;\n",
              "      border-radius: 50%;\n",
              "      cursor: pointer;\n",
              "      display: none;\n",
              "      fill: #1967D2;\n",
              "      height: 32px;\n",
              "      padding: 0 0 0 0;\n",
              "      width: 32px;\n",
              "    }\n",
              "\n",
              "    .colab-df-convert:hover {\n",
              "      background-color: #E2EBFA;\n",
              "      box-shadow: 0px 1px 2px rgba(60, 64, 67, 0.3), 0px 1px 3px 1px rgba(60, 64, 67, 0.15);\n",
              "      fill: #174EA6;\n",
              "    }\n",
              "\n",
              "    .colab-df-buttons div {\n",
              "      margin-bottom: 4px;\n",
              "    }\n",
              "\n",
              "    [theme=dark] .colab-df-convert {\n",
              "      background-color: #3B4455;\n",
              "      fill: #D2E3FC;\n",
              "    }\n",
              "\n",
              "    [theme=dark] .colab-df-convert:hover {\n",
              "      background-color: #434B5C;\n",
              "      box-shadow: 0px 1px 3px 1px rgba(0, 0, 0, 0.15);\n",
              "      filter: drop-shadow(0px 1px 2px rgba(0, 0, 0, 0.3));\n",
              "      fill: #FFFFFF;\n",
              "    }\n",
              "  </style>\n",
              "\n",
              "    <script>\n",
              "      const buttonEl =\n",
              "        document.querySelector('#df-f440c619-d0c5-41c8-a738-d878344c2c75 button.colab-df-convert');\n",
              "      buttonEl.style.display =\n",
              "        google.colab.kernel.accessAllowed ? 'block' : 'none';\n",
              "\n",
              "      async function convertToInteractive(key) {\n",
              "        const element = document.querySelector('#df-f440c619-d0c5-41c8-a738-d878344c2c75');\n",
              "        const dataTable =\n",
              "          await google.colab.kernel.invokeFunction('convertToInteractive',\n",
              "                                                    [key], {});\n",
              "        if (!dataTable) return;\n",
              "\n",
              "        const docLinkHtml = 'Like what you see? Visit the ' +\n",
              "          '<a target=\"_blank\" href=https://colab.research.google.com/notebooks/data_table.ipynb>data table notebook</a>'\n",
              "          + ' to learn more about interactive tables.';\n",
              "        element.innerHTML = '';\n",
              "        dataTable['output_type'] = 'display_data';\n",
              "        await google.colab.output.renderOutput(dataTable, element);\n",
              "        const docLink = document.createElement('div');\n",
              "        docLink.innerHTML = docLinkHtml;\n",
              "        element.appendChild(docLink);\n",
              "      }\n",
              "    </script>\n",
              "  </div>\n",
              "\n",
              "\n",
              "<div id=\"df-0124f75f-c8ea-40bf-a5f2-0abb0d6657c1\">\n",
              "  <button class=\"colab-df-quickchart\" onclick=\"quickchart('df-0124f75f-c8ea-40bf-a5f2-0abb0d6657c1')\"\n",
              "            title=\"Suggest charts\"\n",
              "            style=\"display:none;\">\n",
              "\n",
              "<svg xmlns=\"http://www.w3.org/2000/svg\" height=\"24px\"viewBox=\"0 0 24 24\"\n",
              "     width=\"24px\">\n",
              "    <g>\n",
              "        <path d=\"M19 3H5c-1.1 0-2 .9-2 2v14c0 1.1.9 2 2 2h14c1.1 0 2-.9 2-2V5c0-1.1-.9-2-2-2zM9 17H7v-7h2v7zm4 0h-2V7h2v10zm4 0h-2v-4h2v4z\"/>\n",
              "    </g>\n",
              "</svg>\n",
              "  </button>\n",
              "\n",
              "<style>\n",
              "  .colab-df-quickchart {\n",
              "      --bg-color: #E8F0FE;\n",
              "      --fill-color: #1967D2;\n",
              "      --hover-bg-color: #E2EBFA;\n",
              "      --hover-fill-color: #174EA6;\n",
              "      --disabled-fill-color: #AAA;\n",
              "      --disabled-bg-color: #DDD;\n",
              "  }\n",
              "\n",
              "  [theme=dark] .colab-df-quickchart {\n",
              "      --bg-color: #3B4455;\n",
              "      --fill-color: #D2E3FC;\n",
              "      --hover-bg-color: #434B5C;\n",
              "      --hover-fill-color: #FFFFFF;\n",
              "      --disabled-bg-color: #3B4455;\n",
              "      --disabled-fill-color: #666;\n",
              "  }\n",
              "\n",
              "  .colab-df-quickchart {\n",
              "    background-color: var(--bg-color);\n",
              "    border: none;\n",
              "    border-radius: 50%;\n",
              "    cursor: pointer;\n",
              "    display: none;\n",
              "    fill: var(--fill-color);\n",
              "    height: 32px;\n",
              "    padding: 0;\n",
              "    width: 32px;\n",
              "  }\n",
              "\n",
              "  .colab-df-quickchart:hover {\n",
              "    background-color: var(--hover-bg-color);\n",
              "    box-shadow: 0 1px 2px rgba(60, 64, 67, 0.3), 0 1px 3px 1px rgba(60, 64, 67, 0.15);\n",
              "    fill: var(--button-hover-fill-color);\n",
              "  }\n",
              "\n",
              "  .colab-df-quickchart-complete:disabled,\n",
              "  .colab-df-quickchart-complete:disabled:hover {\n",
              "    background-color: var(--disabled-bg-color);\n",
              "    fill: var(--disabled-fill-color);\n",
              "    box-shadow: none;\n",
              "  }\n",
              "\n",
              "  .colab-df-spinner {\n",
              "    border: 2px solid var(--fill-color);\n",
              "    border-color: transparent;\n",
              "    border-bottom-color: var(--fill-color);\n",
              "    animation:\n",
              "      spin 1s steps(1) infinite;\n",
              "  }\n",
              "\n",
              "  @keyframes spin {\n",
              "    0% {\n",
              "      border-color: transparent;\n",
              "      border-bottom-color: var(--fill-color);\n",
              "      border-left-color: var(--fill-color);\n",
              "    }\n",
              "    20% {\n",
              "      border-color: transparent;\n",
              "      border-left-color: var(--fill-color);\n",
              "      border-top-color: var(--fill-color);\n",
              "    }\n",
              "    30% {\n",
              "      border-color: transparent;\n",
              "      border-left-color: var(--fill-color);\n",
              "      border-top-color: var(--fill-color);\n",
              "      border-right-color: var(--fill-color);\n",
              "    }\n",
              "    40% {\n",
              "      border-color: transparent;\n",
              "      border-right-color: var(--fill-color);\n",
              "      border-top-color: var(--fill-color);\n",
              "    }\n",
              "    60% {\n",
              "      border-color: transparent;\n",
              "      border-right-color: var(--fill-color);\n",
              "    }\n",
              "    80% {\n",
              "      border-color: transparent;\n",
              "      border-right-color: var(--fill-color);\n",
              "      border-bottom-color: var(--fill-color);\n",
              "    }\n",
              "    90% {\n",
              "      border-color: transparent;\n",
              "      border-bottom-color: var(--fill-color);\n",
              "    }\n",
              "  }\n",
              "</style>\n",
              "\n",
              "  <script>\n",
              "    async function quickchart(key) {\n",
              "      const quickchartButtonEl =\n",
              "        document.querySelector('#' + key + ' button');\n",
              "      quickchartButtonEl.disabled = true;  // To prevent multiple clicks.\n",
              "      quickchartButtonEl.classList.add('colab-df-spinner');\n",
              "      try {\n",
              "        const charts = await google.colab.kernel.invokeFunction(\n",
              "            'suggestCharts', [key], {});\n",
              "      } catch (error) {\n",
              "        console.error('Error during call to suggestCharts:', error);\n",
              "      }\n",
              "      quickchartButtonEl.classList.remove('colab-df-spinner');\n",
              "      quickchartButtonEl.classList.add('colab-df-quickchart-complete');\n",
              "    }\n",
              "    (() => {\n",
              "      let quickchartButtonEl =\n",
              "        document.querySelector('#df-0124f75f-c8ea-40bf-a5f2-0abb0d6657c1 button');\n",
              "      quickchartButtonEl.style.display =\n",
              "        google.colab.kernel.accessAllowed ? 'block' : 'none';\n",
              "    })();\n",
              "  </script>\n",
              "</div>\n",
              "\n",
              "    </div>\n",
              "  </div>\n"
            ],
            "application/vnd.google.colaboratory.intrinsic+json": {
              "type": "dataframe",
              "variable_name": "train_df",
              "summary": "{\n  \"name\": \"train_df\",\n  \"rows\": 891,\n  \"fields\": [\n    {\n      \"column\": \"PassengerId\",\n      \"properties\": {\n        \"dtype\": \"number\",\n        \"std\": 257,\n        \"min\": 1,\n        \"max\": 891,\n        \"num_unique_values\": 891,\n        \"samples\": [\n          710,\n          440,\n          841\n        ],\n        \"semantic_type\": \"\",\n        \"description\": \"\"\n      }\n    },\n    {\n      \"column\": \"Survived\",\n      \"properties\": {\n        \"dtype\": \"number\",\n        \"std\": 0,\n        \"min\": 0,\n        \"max\": 1,\n        \"num_unique_values\": 2,\n        \"samples\": [\n          1,\n          0\n        ],\n        \"semantic_type\": \"\",\n        \"description\": \"\"\n      }\n    },\n    {\n      \"column\": \"Pclass\",\n      \"properties\": {\n        \"dtype\": \"number\",\n        \"std\": 0,\n        \"min\": 1,\n        \"max\": 3,\n        \"num_unique_values\": 3,\n        \"samples\": [\n          3,\n          1\n        ],\n        \"semantic_type\": \"\",\n        \"description\": \"\"\n      }\n    },\n    {\n      \"column\": \"Name\",\n      \"properties\": {\n        \"dtype\": \"string\",\n        \"num_unique_values\": 891,\n        \"samples\": [\n          \"Moubarek, Master. Halim Gonios (\\\"William George\\\")\",\n          \"Kvillner, Mr. Johan Henrik Johannesson\"\n        ],\n        \"semantic_type\": \"\",\n        \"description\": \"\"\n      }\n    },\n    {\n      \"column\": \"Sex\",\n      \"properties\": {\n        \"dtype\": \"category\",\n        \"num_unique_values\": 2,\n        \"samples\": [\n          \"female\",\n          \"male\"\n        ],\n        \"semantic_type\": \"\",\n        \"description\": \"\"\n      }\n    },\n    {\n      \"column\": \"Age\",\n      \"properties\": {\n        \"dtype\": \"number\",\n        \"std\": 14.526497332334042,\n        \"min\": 0.42,\n        \"max\": 80.0,\n        \"num_unique_values\": 88,\n        \"samples\": [\n          0.75,\n          22.0\n        ],\n        \"semantic_type\": \"\",\n        \"description\": \"\"\n      }\n    },\n    {\n      \"column\": \"SibSp\",\n      \"properties\": {\n        \"dtype\": \"number\",\n        \"std\": 1,\n        \"min\": 0,\n        \"max\": 8,\n        \"num_unique_values\": 7,\n        \"samples\": [\n          1,\n          0\n        ],\n        \"semantic_type\": \"\",\n        \"description\": \"\"\n      }\n    },\n    {\n      \"column\": \"Parch\",\n      \"properties\": {\n        \"dtype\": \"number\",\n        \"std\": 0,\n        \"min\": 0,\n        \"max\": 6,\n        \"num_unique_values\": 7,\n        \"samples\": [\n          0,\n          1\n        ],\n        \"semantic_type\": \"\",\n        \"description\": \"\"\n      }\n    },\n    {\n      \"column\": \"Ticket\",\n      \"properties\": {\n        \"dtype\": \"string\",\n        \"num_unique_values\": 681,\n        \"samples\": [\n          \"11774\",\n          \"248740\"\n        ],\n        \"semantic_type\": \"\",\n        \"description\": \"\"\n      }\n    },\n    {\n      \"column\": \"Fare\",\n      \"properties\": {\n        \"dtype\": \"number\",\n        \"std\": 49.6934285971809,\n        \"min\": 0.0,\n        \"max\": 512.3292,\n        \"num_unique_values\": 248,\n        \"samples\": [\n          11.2417,\n          51.8625\n        ],\n        \"semantic_type\": \"\",\n        \"description\": \"\"\n      }\n    },\n    {\n      \"column\": \"Cabin\",\n      \"properties\": {\n        \"dtype\": \"category\",\n        \"num_unique_values\": 147,\n        \"samples\": [\n          \"D45\",\n          \"B49\"\n        ],\n        \"semantic_type\": \"\",\n        \"description\": \"\"\n      }\n    },\n    {\n      \"column\": \"Embarked\",\n      \"properties\": {\n        \"dtype\": \"category\",\n        \"num_unique_values\": 3,\n        \"samples\": [\n          \"S\",\n          \"C\"\n        ],\n        \"semantic_type\": \"\",\n        \"description\": \"\"\n      }\n    }\n  ]\n}"
            }
          },
          "metadata": {},
          "execution_count": 3
        }
      ],
      "source": [
        "# Create training and testing dataset\n",
        "train_df, test_df = titanic()\n",
        "train_df.head()"
      ]
    },
    {
      "cell_type": "code",
      "execution_count": 4,
      "metadata": {
        "id": "5fjxxusd4I2W",
        "outputId": "6d54256e-a8d8-4b49-8113-00ec166bd182",
        "colab": {
          "base_uri": "https://localhost:8080/"
        }
      },
      "outputs": [
        {
          "output_type": "execute_result",
          "data": {
            "text/plain": [
              "((891, 12), (418, 11))"
            ]
          },
          "metadata": {},
          "execution_count": 4
        }
      ],
      "source": [
        "# Shape\n",
        "train_df.shape, test_df.shape"
      ]
    },
    {
      "cell_type": "markdown",
      "metadata": {
        "id": "QA6CErIOr-a0"
      },
      "source": [
        "### Check for missing values in training set"
      ]
    },
    {
      "cell_type": "code",
      "execution_count": 5,
      "metadata": {
        "id": "6FpL4vnUShSn",
        "outputId": "db04e383-90ba-4321-9d2a-c1e58d881cbb",
        "colab": {
          "base_uri": "https://localhost:8080/"
        }
      },
      "outputs": [
        {
          "output_type": "execute_result",
          "data": {
            "text/plain": [
              "PassengerId      0\n",
              "Survived         0\n",
              "Pclass           0\n",
              "Name             0\n",
              "Sex              0\n",
              "Age            177\n",
              "SibSp            0\n",
              "Parch            0\n",
              "Ticket           0\n",
              "Fare             0\n",
              "Cabin          687\n",
              "Embarked         2\n",
              "dtype: int64"
            ]
          },
          "metadata": {},
          "execution_count": 5
        }
      ],
      "source": [
        "# Check for missing values\n",
        "train_df.isnull().sum()"
      ]
    },
    {
      "cell_type": "markdown",
      "metadata": {
        "id": "r_rfZcjvr-a4"
      },
      "source": [
        "From the above results, we can see that **`Age`**, **`Cabin`** and **`Embarked`** have some missing values.\n",
        "\n",
        "Now let's fill the missing values with some number way out of their distributions, so the model would be able to easily distinguish between them and take it into account."
      ]
    },
    {
      "cell_type": "code",
      "execution_count": 6,
      "metadata": {
        "id": "0PuMwzmQr-a5"
      },
      "outputs": [],
      "source": [
        "# Fill the missing values with -999\n",
        "train_df.fillna(-999, inplace=True)\n",
        "test_df.fillna(-999, inplace=True)"
      ]
    },
    {
      "cell_type": "code",
      "execution_count": 7,
      "metadata": {
        "id": "OqJn8wfUT-3h",
        "outputId": "c78f16a4-a864-4a46-97d5-54ef780a4889",
        "colab": {
          "base_uri": "https://localhost:8080/",
          "height": 258
        }
      },
      "outputs": [
        {
          "output_type": "execute_result",
          "data": {
            "text/plain": [
              "   PassengerId  Survived  Pclass  \\\n",
              "0            1         0       3   \n",
              "1            2         1       1   \n",
              "2            3         1       3   \n",
              "3            4         1       1   \n",
              "4            5         0       3   \n",
              "\n",
              "                                                Name     Sex   Age  SibSp  \\\n",
              "0                            Braund, Mr. Owen Harris    male  22.0      1   \n",
              "1  Cumings, Mrs. John Bradley (Florence Briggs Th...  female  38.0      1   \n",
              "2                             Heikkinen, Miss. Laina  female  26.0      0   \n",
              "3       Futrelle, Mrs. Jacques Heath (Lily May Peel)  female  35.0      1   \n",
              "4                           Allen, Mr. William Henry    male  35.0      0   \n",
              "\n",
              "   Parch            Ticket     Fare Cabin Embarked  \n",
              "0      0         A/5 21171   7.2500  -999        S  \n",
              "1      0          PC 17599  71.2833   C85        C  \n",
              "2      0  STON/O2. 3101282   7.9250  -999        S  \n",
              "3      0            113803  53.1000  C123        S  \n",
              "4      0            373450   8.0500  -999        S  "
            ],
            "text/html": [
              "\n",
              "  <div id=\"df-3bbcd5e5-de07-4fd0-b138-1c9a8866884f\" class=\"colab-df-container\">\n",
              "    <div>\n",
              "<style scoped>\n",
              "    .dataframe tbody tr th:only-of-type {\n",
              "        vertical-align: middle;\n",
              "    }\n",
              "\n",
              "    .dataframe tbody tr th {\n",
              "        vertical-align: top;\n",
              "    }\n",
              "\n",
              "    .dataframe thead th {\n",
              "        text-align: right;\n",
              "    }\n",
              "</style>\n",
              "<table border=\"1\" class=\"dataframe\">\n",
              "  <thead>\n",
              "    <tr style=\"text-align: right;\">\n",
              "      <th></th>\n",
              "      <th>PassengerId</th>\n",
              "      <th>Survived</th>\n",
              "      <th>Pclass</th>\n",
              "      <th>Name</th>\n",
              "      <th>Sex</th>\n",
              "      <th>Age</th>\n",
              "      <th>SibSp</th>\n",
              "      <th>Parch</th>\n",
              "      <th>Ticket</th>\n",
              "      <th>Fare</th>\n",
              "      <th>Cabin</th>\n",
              "      <th>Embarked</th>\n",
              "    </tr>\n",
              "  </thead>\n",
              "  <tbody>\n",
              "    <tr>\n",
              "      <th>0</th>\n",
              "      <td>1</td>\n",
              "      <td>0</td>\n",
              "      <td>3</td>\n",
              "      <td>Braund, Mr. Owen Harris</td>\n",
              "      <td>male</td>\n",
              "      <td>22.0</td>\n",
              "      <td>1</td>\n",
              "      <td>0</td>\n",
              "      <td>A/5 21171</td>\n",
              "      <td>7.2500</td>\n",
              "      <td>-999</td>\n",
              "      <td>S</td>\n",
              "    </tr>\n",
              "    <tr>\n",
              "      <th>1</th>\n",
              "      <td>2</td>\n",
              "      <td>1</td>\n",
              "      <td>1</td>\n",
              "      <td>Cumings, Mrs. John Bradley (Florence Briggs Th...</td>\n",
              "      <td>female</td>\n",
              "      <td>38.0</td>\n",
              "      <td>1</td>\n",
              "      <td>0</td>\n",
              "      <td>PC 17599</td>\n",
              "      <td>71.2833</td>\n",
              "      <td>C85</td>\n",
              "      <td>C</td>\n",
              "    </tr>\n",
              "    <tr>\n",
              "      <th>2</th>\n",
              "      <td>3</td>\n",
              "      <td>1</td>\n",
              "      <td>3</td>\n",
              "      <td>Heikkinen, Miss. Laina</td>\n",
              "      <td>female</td>\n",
              "      <td>26.0</td>\n",
              "      <td>0</td>\n",
              "      <td>0</td>\n",
              "      <td>STON/O2. 3101282</td>\n",
              "      <td>7.9250</td>\n",
              "      <td>-999</td>\n",
              "      <td>S</td>\n",
              "    </tr>\n",
              "    <tr>\n",
              "      <th>3</th>\n",
              "      <td>4</td>\n",
              "      <td>1</td>\n",
              "      <td>1</td>\n",
              "      <td>Futrelle, Mrs. Jacques Heath (Lily May Peel)</td>\n",
              "      <td>female</td>\n",
              "      <td>35.0</td>\n",
              "      <td>1</td>\n",
              "      <td>0</td>\n",
              "      <td>113803</td>\n",
              "      <td>53.1000</td>\n",
              "      <td>C123</td>\n",
              "      <td>S</td>\n",
              "    </tr>\n",
              "    <tr>\n",
              "      <th>4</th>\n",
              "      <td>5</td>\n",
              "      <td>0</td>\n",
              "      <td>3</td>\n",
              "      <td>Allen, Mr. William Henry</td>\n",
              "      <td>male</td>\n",
              "      <td>35.0</td>\n",
              "      <td>0</td>\n",
              "      <td>0</td>\n",
              "      <td>373450</td>\n",
              "      <td>8.0500</td>\n",
              "      <td>-999</td>\n",
              "      <td>S</td>\n",
              "    </tr>\n",
              "  </tbody>\n",
              "</table>\n",
              "</div>\n",
              "    <div class=\"colab-df-buttons\">\n",
              "\n",
              "  <div class=\"colab-df-container\">\n",
              "    <button class=\"colab-df-convert\" onclick=\"convertToInteractive('df-3bbcd5e5-de07-4fd0-b138-1c9a8866884f')\"\n",
              "            title=\"Convert this dataframe to an interactive table.\"\n",
              "            style=\"display:none;\">\n",
              "\n",
              "  <svg xmlns=\"http://www.w3.org/2000/svg\" height=\"24px\" viewBox=\"0 -960 960 960\">\n",
              "    <path d=\"M120-120v-720h720v720H120Zm60-500h600v-160H180v160Zm220 220h160v-160H400v160Zm0 220h160v-160H400v160ZM180-400h160v-160H180v160Zm440 0h160v-160H620v160ZM180-180h160v-160H180v160Zm440 0h160v-160H620v160Z\"/>\n",
              "  </svg>\n",
              "    </button>\n",
              "\n",
              "  <style>\n",
              "    .colab-df-container {\n",
              "      display:flex;\n",
              "      gap: 12px;\n",
              "    }\n",
              "\n",
              "    .colab-df-convert {\n",
              "      background-color: #E8F0FE;\n",
              "      border: none;\n",
              "      border-radius: 50%;\n",
              "      cursor: pointer;\n",
              "      display: none;\n",
              "      fill: #1967D2;\n",
              "      height: 32px;\n",
              "      padding: 0 0 0 0;\n",
              "      width: 32px;\n",
              "    }\n",
              "\n",
              "    .colab-df-convert:hover {\n",
              "      background-color: #E2EBFA;\n",
              "      box-shadow: 0px 1px 2px rgba(60, 64, 67, 0.3), 0px 1px 3px 1px rgba(60, 64, 67, 0.15);\n",
              "      fill: #174EA6;\n",
              "    }\n",
              "\n",
              "    .colab-df-buttons div {\n",
              "      margin-bottom: 4px;\n",
              "    }\n",
              "\n",
              "    [theme=dark] .colab-df-convert {\n",
              "      background-color: #3B4455;\n",
              "      fill: #D2E3FC;\n",
              "    }\n",
              "\n",
              "    [theme=dark] .colab-df-convert:hover {\n",
              "      background-color: #434B5C;\n",
              "      box-shadow: 0px 1px 3px 1px rgba(0, 0, 0, 0.15);\n",
              "      filter: drop-shadow(0px 1px 2px rgba(0, 0, 0, 0.3));\n",
              "      fill: #FFFFFF;\n",
              "    }\n",
              "  </style>\n",
              "\n",
              "    <script>\n",
              "      const buttonEl =\n",
              "        document.querySelector('#df-3bbcd5e5-de07-4fd0-b138-1c9a8866884f button.colab-df-convert');\n",
              "      buttonEl.style.display =\n",
              "        google.colab.kernel.accessAllowed ? 'block' : 'none';\n",
              "\n",
              "      async function convertToInteractive(key) {\n",
              "        const element = document.querySelector('#df-3bbcd5e5-de07-4fd0-b138-1c9a8866884f');\n",
              "        const dataTable =\n",
              "          await google.colab.kernel.invokeFunction('convertToInteractive',\n",
              "                                                    [key], {});\n",
              "        if (!dataTable) return;\n",
              "\n",
              "        const docLinkHtml = 'Like what you see? Visit the ' +\n",
              "          '<a target=\"_blank\" href=https://colab.research.google.com/notebooks/data_table.ipynb>data table notebook</a>'\n",
              "          + ' to learn more about interactive tables.';\n",
              "        element.innerHTML = '';\n",
              "        dataTable['output_type'] = 'display_data';\n",
              "        await google.colab.output.renderOutput(dataTable, element);\n",
              "        const docLink = document.createElement('div');\n",
              "        docLink.innerHTML = docLinkHtml;\n",
              "        element.appendChild(docLink);\n",
              "      }\n",
              "    </script>\n",
              "  </div>\n",
              "\n",
              "\n",
              "<div id=\"df-10329998-db60-4f25-b0dc-a63883368675\">\n",
              "  <button class=\"colab-df-quickchart\" onclick=\"quickchart('df-10329998-db60-4f25-b0dc-a63883368675')\"\n",
              "            title=\"Suggest charts\"\n",
              "            style=\"display:none;\">\n",
              "\n",
              "<svg xmlns=\"http://www.w3.org/2000/svg\" height=\"24px\"viewBox=\"0 0 24 24\"\n",
              "     width=\"24px\">\n",
              "    <g>\n",
              "        <path d=\"M19 3H5c-1.1 0-2 .9-2 2v14c0 1.1.9 2 2 2h14c1.1 0 2-.9 2-2V5c0-1.1-.9-2-2-2zM9 17H7v-7h2v7zm4 0h-2V7h2v10zm4 0h-2v-4h2v4z\"/>\n",
              "    </g>\n",
              "</svg>\n",
              "  </button>\n",
              "\n",
              "<style>\n",
              "  .colab-df-quickchart {\n",
              "      --bg-color: #E8F0FE;\n",
              "      --fill-color: #1967D2;\n",
              "      --hover-bg-color: #E2EBFA;\n",
              "      --hover-fill-color: #174EA6;\n",
              "      --disabled-fill-color: #AAA;\n",
              "      --disabled-bg-color: #DDD;\n",
              "  }\n",
              "\n",
              "  [theme=dark] .colab-df-quickchart {\n",
              "      --bg-color: #3B4455;\n",
              "      --fill-color: #D2E3FC;\n",
              "      --hover-bg-color: #434B5C;\n",
              "      --hover-fill-color: #FFFFFF;\n",
              "      --disabled-bg-color: #3B4455;\n",
              "      --disabled-fill-color: #666;\n",
              "  }\n",
              "\n",
              "  .colab-df-quickchart {\n",
              "    background-color: var(--bg-color);\n",
              "    border: none;\n",
              "    border-radius: 50%;\n",
              "    cursor: pointer;\n",
              "    display: none;\n",
              "    fill: var(--fill-color);\n",
              "    height: 32px;\n",
              "    padding: 0;\n",
              "    width: 32px;\n",
              "  }\n",
              "\n",
              "  .colab-df-quickchart:hover {\n",
              "    background-color: var(--hover-bg-color);\n",
              "    box-shadow: 0 1px 2px rgba(60, 64, 67, 0.3), 0 1px 3px 1px rgba(60, 64, 67, 0.15);\n",
              "    fill: var(--button-hover-fill-color);\n",
              "  }\n",
              "\n",
              "  .colab-df-quickchart-complete:disabled,\n",
              "  .colab-df-quickchart-complete:disabled:hover {\n",
              "    background-color: var(--disabled-bg-color);\n",
              "    fill: var(--disabled-fill-color);\n",
              "    box-shadow: none;\n",
              "  }\n",
              "\n",
              "  .colab-df-spinner {\n",
              "    border: 2px solid var(--fill-color);\n",
              "    border-color: transparent;\n",
              "    border-bottom-color: var(--fill-color);\n",
              "    animation:\n",
              "      spin 1s steps(1) infinite;\n",
              "  }\n",
              "\n",
              "  @keyframes spin {\n",
              "    0% {\n",
              "      border-color: transparent;\n",
              "      border-bottom-color: var(--fill-color);\n",
              "      border-left-color: var(--fill-color);\n",
              "    }\n",
              "    20% {\n",
              "      border-color: transparent;\n",
              "      border-left-color: var(--fill-color);\n",
              "      border-top-color: var(--fill-color);\n",
              "    }\n",
              "    30% {\n",
              "      border-color: transparent;\n",
              "      border-left-color: var(--fill-color);\n",
              "      border-top-color: var(--fill-color);\n",
              "      border-right-color: var(--fill-color);\n",
              "    }\n",
              "    40% {\n",
              "      border-color: transparent;\n",
              "      border-right-color: var(--fill-color);\n",
              "      border-top-color: var(--fill-color);\n",
              "    }\n",
              "    60% {\n",
              "      border-color: transparent;\n",
              "      border-right-color: var(--fill-color);\n",
              "    }\n",
              "    80% {\n",
              "      border-color: transparent;\n",
              "      border-right-color: var(--fill-color);\n",
              "      border-bottom-color: var(--fill-color);\n",
              "    }\n",
              "    90% {\n",
              "      border-color: transparent;\n",
              "      border-bottom-color: var(--fill-color);\n",
              "    }\n",
              "  }\n",
              "</style>\n",
              "\n",
              "  <script>\n",
              "    async function quickchart(key) {\n",
              "      const quickchartButtonEl =\n",
              "        document.querySelector('#' + key + ' button');\n",
              "      quickchartButtonEl.disabled = true;  // To prevent multiple clicks.\n",
              "      quickchartButtonEl.classList.add('colab-df-spinner');\n",
              "      try {\n",
              "        const charts = await google.colab.kernel.invokeFunction(\n",
              "            'suggestCharts', [key], {});\n",
              "      } catch (error) {\n",
              "        console.error('Error during call to suggestCharts:', error);\n",
              "      }\n",
              "      quickchartButtonEl.classList.remove('colab-df-spinner');\n",
              "      quickchartButtonEl.classList.add('colab-df-quickchart-complete');\n",
              "    }\n",
              "    (() => {\n",
              "      let quickchartButtonEl =\n",
              "        document.querySelector('#df-10329998-db60-4f25-b0dc-a63883368675 button');\n",
              "      quickchartButtonEl.style.display =\n",
              "        google.colab.kernel.accessAllowed ? 'block' : 'none';\n",
              "    })();\n",
              "  </script>\n",
              "</div>\n",
              "\n",
              "    </div>\n",
              "  </div>\n"
            ],
            "application/vnd.google.colaboratory.intrinsic+json": {
              "type": "dataframe",
              "variable_name": "train_df",
              "summary": "{\n  \"name\": \"train_df\",\n  \"rows\": 891,\n  \"fields\": [\n    {\n      \"column\": \"PassengerId\",\n      \"properties\": {\n        \"dtype\": \"number\",\n        \"std\": 257,\n        \"min\": 1,\n        \"max\": 891,\n        \"num_unique_values\": 891,\n        \"samples\": [\n          710,\n          440,\n          841\n        ],\n        \"semantic_type\": \"\",\n        \"description\": \"\"\n      }\n    },\n    {\n      \"column\": \"Survived\",\n      \"properties\": {\n        \"dtype\": \"number\",\n        \"std\": 0,\n        \"min\": 0,\n        \"max\": 1,\n        \"num_unique_values\": 2,\n        \"samples\": [\n          1,\n          0\n        ],\n        \"semantic_type\": \"\",\n        \"description\": \"\"\n      }\n    },\n    {\n      \"column\": \"Pclass\",\n      \"properties\": {\n        \"dtype\": \"number\",\n        \"std\": 0,\n        \"min\": 1,\n        \"max\": 3,\n        \"num_unique_values\": 3,\n        \"samples\": [\n          3,\n          1\n        ],\n        \"semantic_type\": \"\",\n        \"description\": \"\"\n      }\n    },\n    {\n      \"column\": \"Name\",\n      \"properties\": {\n        \"dtype\": \"string\",\n        \"num_unique_values\": 891,\n        \"samples\": [\n          \"Moubarek, Master. Halim Gonios (\\\"William George\\\")\",\n          \"Kvillner, Mr. Johan Henrik Johannesson\"\n        ],\n        \"semantic_type\": \"\",\n        \"description\": \"\"\n      }\n    },\n    {\n      \"column\": \"Sex\",\n      \"properties\": {\n        \"dtype\": \"category\",\n        \"num_unique_values\": 2,\n        \"samples\": [\n          \"female\",\n          \"male\"\n        ],\n        \"semantic_type\": \"\",\n        \"description\": \"\"\n      }\n    },\n    {\n      \"column\": \"Age\",\n      \"properties\": {\n        \"dtype\": \"number\",\n        \"std\": 410.8731960522342,\n        \"min\": -999.0,\n        \"max\": 80.0,\n        \"num_unique_values\": 89,\n        \"samples\": [\n          59.0,\n          36.5\n        ],\n        \"semantic_type\": \"\",\n        \"description\": \"\"\n      }\n    },\n    {\n      \"column\": \"SibSp\",\n      \"properties\": {\n        \"dtype\": \"number\",\n        \"std\": 1,\n        \"min\": 0,\n        \"max\": 8,\n        \"num_unique_values\": 7,\n        \"samples\": [\n          1,\n          0\n        ],\n        \"semantic_type\": \"\",\n        \"description\": \"\"\n      }\n    },\n    {\n      \"column\": \"Parch\",\n      \"properties\": {\n        \"dtype\": \"number\",\n        \"std\": 0,\n        \"min\": 0,\n        \"max\": 6,\n        \"num_unique_values\": 7,\n        \"samples\": [\n          0,\n          1\n        ],\n        \"semantic_type\": \"\",\n        \"description\": \"\"\n      }\n    },\n    {\n      \"column\": \"Ticket\",\n      \"properties\": {\n        \"dtype\": \"string\",\n        \"num_unique_values\": 681,\n        \"samples\": [\n          \"11774\",\n          \"248740\"\n        ],\n        \"semantic_type\": \"\",\n        \"description\": \"\"\n      }\n    },\n    {\n      \"column\": \"Fare\",\n      \"properties\": {\n        \"dtype\": \"number\",\n        \"std\": 49.6934285971809,\n        \"min\": 0.0,\n        \"max\": 512.3292,\n        \"num_unique_values\": 248,\n        \"samples\": [\n          11.2417,\n          51.8625\n        ],\n        \"semantic_type\": \"\",\n        \"description\": \"\"\n      }\n    },\n    {\n      \"column\": \"Cabin\",\n      \"properties\": {\n        \"dtype\": \"category\",\n        \"num_unique_values\": 148,\n        \"samples\": [\n          \"B101\",\n          \"A19\"\n        ],\n        \"semantic_type\": \"\",\n        \"description\": \"\"\n      }\n    },\n    {\n      \"column\": \"Embarked\",\n      \"properties\": {\n        \"dtype\": \"category\",\n        \"num_unique_values\": 4,\n        \"samples\": [\n          \"C\",\n          -999\n        ],\n        \"semantic_type\": \"\",\n        \"description\": \"\"\n      }\n    }\n  ]\n}"
            }
          },
          "metadata": {},
          "execution_count": 7
        }
      ],
      "source": [
        "train_df.head()"
      ]
    },
    {
      "cell_type": "markdown",
      "metadata": {
        "id": "KI1qUv-0r-a6"
      },
      "source": [
        "### Separate features and label variable"
      ]
    },
    {
      "cell_type": "code",
      "execution_count": 8,
      "metadata": {
        "id": "Dxd2qBJzr-a7",
        "outputId": "2b91f0d3-5dad-4be9-ee02-7439268e87c8",
        "colab": {
          "base_uri": "https://localhost:8080/"
        }
      },
      "outputs": [
        {
          "output_type": "execute_result",
          "data": {
            "text/plain": [
              "((891, 11), (891,))"
            ]
          },
          "metadata": {},
          "execution_count": 8
        }
      ],
      "source": [
        "# Features\n",
        "X = train_df.drop('Survived', axis=1)\n",
        "# Label\n",
        "y = train_df['Survived']\n",
        "\n",
        "X.shape, y.shape"
      ]
    },
    {
      "cell_type": "markdown",
      "metadata": {
        "id": "1aE02zCTr-a7"
      },
      "source": [
        "**Note that** our features are of different types - some of them are numeric, some are categorical, and some are even just strings, which normally should be handled in some specific way (for example encoded with bag-of-words representation). But in our case we could treat these string features just as categorical features and all the heavy lifting is done inside CatBoost."
      ]
    },
    {
      "cell_type": "code",
      "execution_count": 9,
      "metadata": {
        "id": "Uoi_v5f-r-a8",
        "outputId": "b33d51d7-eaba-4611-b601-da1935ecb4f1",
        "colab": {
          "base_uri": "https://localhost:8080/"
        }
      },
      "outputs": [
        {
          "output_type": "stream",
          "name": "stdout",
          "text": [
            "PassengerId      int64\n",
            "Pclass           int64\n",
            "Name            object\n",
            "Sex             object\n",
            "Age            float64\n",
            "SibSp            int64\n",
            "Parch            int64\n",
            "Ticket          object\n",
            "Fare           float64\n",
            "Cabin           object\n",
            "Embarked        object\n",
            "dtype: object\n"
          ]
        },
        {
          "output_type": "execute_result",
          "data": {
            "text/plain": [
              "array([ 0,  1,  2,  3,  5,  6,  7,  9, 10])"
            ]
          },
          "metadata": {},
          "execution_count": 9
        }
      ],
      "source": [
        "# Get categorical features indices by selecting the features which are of type other than float\n",
        "print(X.dtypes)\n",
        "categorical_features_indices = np.where(X.dtypes != float)[0]            # np.where will give indices where the condition is True\n",
        "categorical_features_indices"
      ]
    },
    {
      "cell_type": "markdown",
      "metadata": {
        "id": "v3fuqE2tr-a9"
      },
      "source": [
        "### Split the train data into training and validation sets"
      ]
    },
    {
      "cell_type": "code",
      "execution_count": 10,
      "metadata": {
        "id": "vFsR2HOkr-a-"
      },
      "outputs": [],
      "source": [
        "# Create training and validation sets\n",
        "X_train, X_validation, y_train, y_validation = train_test_split(X, y, train_size=0.75, random_state=42)\n",
        "X_test = test_df"
      ]
    },
    {
      "cell_type": "markdown",
      "metadata": {
        "id": "VCCLz_bzr-bB"
      },
      "source": [
        "### Model Training\n",
        "\n",
        "To create the model we will use **`CatBoostClassifier`** class with default parameters, as they provide a good baseline almost all the time.\n",
        "\n",
        "Some of its parameters are:\n",
        "\n",
        "- ***custom_loss***: This would give us an ability to see what's going on in terms of accuracy or any other metric\n",
        "- ***logging_level***: The logging level to show in output. Possible values:\n",
        "    - Silent — Do not output any logging information\n",
        "    - Verbose — Output the following data:\n",
        "        - optimized metric\n",
        "        - elapsed time of training\n",
        "        - remaining time of training\n",
        "    - Info — Output additional information and the number of trees\n",
        "    - Debug — Output debugging information\n",
        "\n",
        "To know more about **`CatBoostClassifier`**, refer [here](https://catboost.ai/en/docs/concepts/python-reference_catboostclassifier).\n",
        "\n",
        "To know more about **`CatBoostClassifier's`** training parameters, refer [here](https://catboost.ai/en/docs/references/training-parameters/)."
      ]
    },
    {
      "cell_type": "code",
      "execution_count": 11,
      "metadata": {
        "id": "o22BqsGUr-bB"
      },
      "outputs": [],
      "source": [
        "# Create CatBoost model\n",
        "model = CatBoostClassifier(custom_loss=[metrics.Accuracy()],\n",
        "                           random_seed=42,\n",
        "                           logging_level='Silent')"
      ]
    },
    {
      "cell_type": "code",
      "execution_count": 12,
      "metadata": {
        "id": "uMKZFBZ_r-bC"
      },
      "outputs": [],
      "source": [
        "# Model training\n",
        "model.fit(X_train, y_train,\n",
        "          cat_features=categorical_features_indices,\n",
        "          eval_set=(X_validation, y_validation),\n",
        "          verbose=False);"
      ]
    },
    {
      "cell_type": "code",
      "execution_count": 13,
      "metadata": {
        "id": "ESlsnfSZ_p2-",
        "outputId": "8f11a31b-143f-43bf-e8bc-82ae22ee0363",
        "colab": {
          "base_uri": "https://localhost:8080/"
        }
      },
      "outputs": [
        {
          "output_type": "execute_result",
          "data": {
            "text/plain": [
              "0.8161434977578476"
            ]
          },
          "metadata": {},
          "execution_count": 13
        }
      ],
      "source": [
        "# Model performance on validation set\n",
        "model.score(X_validation, y_validation)"
      ]
    },
    {
      "cell_type": "markdown",
      "metadata": {
        "id": "BpXSc8mkr-bD"
      },
      "source": [
        "From above, we can see that the accuracy value of **~0.82** (on validation set) was acheived."
      ]
    },
    {
      "cell_type": "markdown",
      "metadata": {
        "id": "UC4QyscVr-bE"
      },
      "source": [
        "### Model Cross-Validation"
      ]
    },
    {
      "cell_type": "markdown",
      "metadata": {
        "id": "ZU0lYPJ23Rvb"
      },
      "source": [
        "To perform cross-validation, we will be using CatBoost's **`cv`** package. It splits the dataset into N folds. N–1 folds are used for training, and one fold is used for model performance estimation. N models are updated on each iteration K. Each model is evaluated on its' own validation dataset on each iteration. This produces N metric values on each iteration K.\n",
        "\n",
        "The **`cv`** function calculates the average of these N values and the standard deviation. Thus, these two values are returned on each iteration.\n",
        "\n",
        "Some of **`cv`**'s parameters are:\n",
        "\n",
        "- ***pool***: The input dataset to cross-validate\n",
        "- ***params***: The list of parameters to start training with\n",
        "- ***iterations***: The maximum number of trees that can be built when solving machine learning problems, default=1000\n",
        "- ***fold_count***: The number of folds to split the dataset into, default=3\n",
        "\n",
        "To know more about **`cv`** package, refer [here](https://catboost.ai/en/docs/concepts/python-reference_cv)."
      ]
    },
    {
      "cell_type": "code",
      "execution_count": 14,
      "metadata": {
        "id": "yFtAdWUiAksC",
        "outputId": "bebd92e4-9e3f-4e68-eb1c-88f055f4a420",
        "colab": {
          "base_uri": "https://localhost:8080/"
        }
      },
      "outputs": [
        {
          "output_type": "execute_result",
          "data": {
            "text/plain": [
              "{'random_seed': 42, 'logging_level': 'Silent', 'custom_loss': ['Accuracy']}"
            ]
          },
          "metadata": {},
          "execution_count": 14
        }
      ],
      "source": [
        "# Get Model parameters\n",
        "cv_params = model.get_params()\n",
        "cv_params"
      ]
    },
    {
      "cell_type": "code",
      "execution_count": 15,
      "metadata": {
        "id": "6RJgJL0eA79Z",
        "outputId": "8ef9af25-a6d2-4f63-d104-d35072605382",
        "colab": {
          "base_uri": "https://localhost:8080/"
        }
      },
      "outputs": [
        {
          "output_type": "execute_result",
          "data": {
            "text/plain": [
              "{'random_seed': 42,\n",
              " 'logging_level': 'Silent',\n",
              " 'custom_loss': ['Accuracy'],\n",
              " 'loss_function': Logloss(use_weights=True [mandatory=False])}"
            ]
          },
          "metadata": {},
          "execution_count": 15
        }
      ],
      "source": [
        "# Add Logloss as loss_function\n",
        "cv_params.update({\n",
        "                  'loss_function': metrics.Logloss()\n",
        "                  })\n",
        "cv_params"
      ]
    },
    {
      "cell_type": "markdown",
      "metadata": {
        "id": "1FaWtJHNvuk-"
      },
      "source": [
        "**Pool constructor**: In order to train and optimize the model, we can utilize CatBoost library integrated tool called **`Pool`** for combining features and target variables into a dataset. This pooling allows us to pinpoint target variables, predictors, and the list of categorical features, while the pool constructor will combine those inputs and pass them to the model.\n",
        "\n",
        "To know more about **`Pool`** constructor, refer [here](https://catboost.ai/en/docs/concepts/python-reference_pool)."
      ]
    },
    {
      "cell_type": "code",
      "execution_count": 16,
      "metadata": {
        "id": "aw-R9-HIxZUZ"
      },
      "outputs": [],
      "source": [
        "# Pool the dataset\n",
        "pool_data = Pool(X, y, cat_features= categorical_features_indices)"
      ]
    },
    {
      "cell_type": "code",
      "execution_count": 17,
      "metadata": {
        "id": "YzHrptsbB5_J",
        "outputId": "de644aaf-f709-4619-d074-4ca5cc7bff54",
        "colab": {
          "base_uri": "https://localhost:8080/",
          "height": 223
        }
      },
      "outputs": [
        {
          "output_type": "execute_result",
          "data": {
            "text/plain": [
              "   iterations  test-Logloss-mean  test-Logloss-std  train-Logloss-mean  \\\n",
              "0           0           0.676936          0.001133            0.676477   \n",
              "1           1           0.660661          0.000697            0.659381   \n",
              "2           2           0.646543          0.001920            0.645228   \n",
              "3           3           0.632857          0.003376            0.631048   \n",
              "4           4           0.619750          0.004936            0.617523   \n",
              "\n",
              "   train-Logloss-std  test-Accuracy-mean  test-Accuracy-std  \\\n",
              "0           0.003152            0.794613           0.003367   \n",
              "1           0.003172            0.795735           0.030365   \n",
              "2           0.004168            0.803591           0.028636   \n",
              "3           0.004247            0.804714           0.026725   \n",
              "4           0.005041            0.803591           0.026153   \n",
              "\n",
              "   train-Accuracy-mean  train-Accuracy-std  \n",
              "0             0.798541            0.020778  \n",
              "1             0.812009            0.010286  \n",
              "2             0.812009            0.014119  \n",
              "3             0.812570            0.012179  \n",
              "4             0.813692            0.011459  "
            ],
            "text/html": [
              "\n",
              "  <div id=\"df-e8965fd2-4df6-42ee-87a0-883a38b42b5f\" class=\"colab-df-container\">\n",
              "    <div>\n",
              "<style scoped>\n",
              "    .dataframe tbody tr th:only-of-type {\n",
              "        vertical-align: middle;\n",
              "    }\n",
              "\n",
              "    .dataframe tbody tr th {\n",
              "        vertical-align: top;\n",
              "    }\n",
              "\n",
              "    .dataframe thead th {\n",
              "        text-align: right;\n",
              "    }\n",
              "</style>\n",
              "<table border=\"1\" class=\"dataframe\">\n",
              "  <thead>\n",
              "    <tr style=\"text-align: right;\">\n",
              "      <th></th>\n",
              "      <th>iterations</th>\n",
              "      <th>test-Logloss-mean</th>\n",
              "      <th>test-Logloss-std</th>\n",
              "      <th>train-Logloss-mean</th>\n",
              "      <th>train-Logloss-std</th>\n",
              "      <th>test-Accuracy-mean</th>\n",
              "      <th>test-Accuracy-std</th>\n",
              "      <th>train-Accuracy-mean</th>\n",
              "      <th>train-Accuracy-std</th>\n",
              "    </tr>\n",
              "  </thead>\n",
              "  <tbody>\n",
              "    <tr>\n",
              "      <th>0</th>\n",
              "      <td>0</td>\n",
              "      <td>0.676936</td>\n",
              "      <td>0.001133</td>\n",
              "      <td>0.676477</td>\n",
              "      <td>0.003152</td>\n",
              "      <td>0.794613</td>\n",
              "      <td>0.003367</td>\n",
              "      <td>0.798541</td>\n",
              "      <td>0.020778</td>\n",
              "    </tr>\n",
              "    <tr>\n",
              "      <th>1</th>\n",
              "      <td>1</td>\n",
              "      <td>0.660661</td>\n",
              "      <td>0.000697</td>\n",
              "      <td>0.659381</td>\n",
              "      <td>0.003172</td>\n",
              "      <td>0.795735</td>\n",
              "      <td>0.030365</td>\n",
              "      <td>0.812009</td>\n",
              "      <td>0.010286</td>\n",
              "    </tr>\n",
              "    <tr>\n",
              "      <th>2</th>\n",
              "      <td>2</td>\n",
              "      <td>0.646543</td>\n",
              "      <td>0.001920</td>\n",
              "      <td>0.645228</td>\n",
              "      <td>0.004168</td>\n",
              "      <td>0.803591</td>\n",
              "      <td>0.028636</td>\n",
              "      <td>0.812009</td>\n",
              "      <td>0.014119</td>\n",
              "    </tr>\n",
              "    <tr>\n",
              "      <th>3</th>\n",
              "      <td>3</td>\n",
              "      <td>0.632857</td>\n",
              "      <td>0.003376</td>\n",
              "      <td>0.631048</td>\n",
              "      <td>0.004247</td>\n",
              "      <td>0.804714</td>\n",
              "      <td>0.026725</td>\n",
              "      <td>0.812570</td>\n",
              "      <td>0.012179</td>\n",
              "    </tr>\n",
              "    <tr>\n",
              "      <th>4</th>\n",
              "      <td>4</td>\n",
              "      <td>0.619750</td>\n",
              "      <td>0.004936</td>\n",
              "      <td>0.617523</td>\n",
              "      <td>0.005041</td>\n",
              "      <td>0.803591</td>\n",
              "      <td>0.026153</td>\n",
              "      <td>0.813692</td>\n",
              "      <td>0.011459</td>\n",
              "    </tr>\n",
              "  </tbody>\n",
              "</table>\n",
              "</div>\n",
              "    <div class=\"colab-df-buttons\">\n",
              "\n",
              "  <div class=\"colab-df-container\">\n",
              "    <button class=\"colab-df-convert\" onclick=\"convertToInteractive('df-e8965fd2-4df6-42ee-87a0-883a38b42b5f')\"\n",
              "            title=\"Convert this dataframe to an interactive table.\"\n",
              "            style=\"display:none;\">\n",
              "\n",
              "  <svg xmlns=\"http://www.w3.org/2000/svg\" height=\"24px\" viewBox=\"0 -960 960 960\">\n",
              "    <path d=\"M120-120v-720h720v720H120Zm60-500h600v-160H180v160Zm220 220h160v-160H400v160Zm0 220h160v-160H400v160ZM180-400h160v-160H180v160Zm440 0h160v-160H620v160ZM180-180h160v-160H180v160Zm440 0h160v-160H620v160Z\"/>\n",
              "  </svg>\n",
              "    </button>\n",
              "\n",
              "  <style>\n",
              "    .colab-df-container {\n",
              "      display:flex;\n",
              "      gap: 12px;\n",
              "    }\n",
              "\n",
              "    .colab-df-convert {\n",
              "      background-color: #E8F0FE;\n",
              "      border: none;\n",
              "      border-radius: 50%;\n",
              "      cursor: pointer;\n",
              "      display: none;\n",
              "      fill: #1967D2;\n",
              "      height: 32px;\n",
              "      padding: 0 0 0 0;\n",
              "      width: 32px;\n",
              "    }\n",
              "\n",
              "    .colab-df-convert:hover {\n",
              "      background-color: #E2EBFA;\n",
              "      box-shadow: 0px 1px 2px rgba(60, 64, 67, 0.3), 0px 1px 3px 1px rgba(60, 64, 67, 0.15);\n",
              "      fill: #174EA6;\n",
              "    }\n",
              "\n",
              "    .colab-df-buttons div {\n",
              "      margin-bottom: 4px;\n",
              "    }\n",
              "\n",
              "    [theme=dark] .colab-df-convert {\n",
              "      background-color: #3B4455;\n",
              "      fill: #D2E3FC;\n",
              "    }\n",
              "\n",
              "    [theme=dark] .colab-df-convert:hover {\n",
              "      background-color: #434B5C;\n",
              "      box-shadow: 0px 1px 3px 1px rgba(0, 0, 0, 0.15);\n",
              "      filter: drop-shadow(0px 1px 2px rgba(0, 0, 0, 0.3));\n",
              "      fill: #FFFFFF;\n",
              "    }\n",
              "  </style>\n",
              "\n",
              "    <script>\n",
              "      const buttonEl =\n",
              "        document.querySelector('#df-e8965fd2-4df6-42ee-87a0-883a38b42b5f button.colab-df-convert');\n",
              "      buttonEl.style.display =\n",
              "        google.colab.kernel.accessAllowed ? 'block' : 'none';\n",
              "\n",
              "      async function convertToInteractive(key) {\n",
              "        const element = document.querySelector('#df-e8965fd2-4df6-42ee-87a0-883a38b42b5f');\n",
              "        const dataTable =\n",
              "          await google.colab.kernel.invokeFunction('convertToInteractive',\n",
              "                                                    [key], {});\n",
              "        if (!dataTable) return;\n",
              "\n",
              "        const docLinkHtml = 'Like what you see? Visit the ' +\n",
              "          '<a target=\"_blank\" href=https://colab.research.google.com/notebooks/data_table.ipynb>data table notebook</a>'\n",
              "          + ' to learn more about interactive tables.';\n",
              "        element.innerHTML = '';\n",
              "        dataTable['output_type'] = 'display_data';\n",
              "        await google.colab.output.renderOutput(dataTable, element);\n",
              "        const docLink = document.createElement('div');\n",
              "        docLink.innerHTML = docLinkHtml;\n",
              "        element.appendChild(docLink);\n",
              "      }\n",
              "    </script>\n",
              "  </div>\n",
              "\n",
              "\n",
              "<div id=\"df-8530eaa3-f1ed-489b-a190-14d1fd9afeb8\">\n",
              "  <button class=\"colab-df-quickchart\" onclick=\"quickchart('df-8530eaa3-f1ed-489b-a190-14d1fd9afeb8')\"\n",
              "            title=\"Suggest charts\"\n",
              "            style=\"display:none;\">\n",
              "\n",
              "<svg xmlns=\"http://www.w3.org/2000/svg\" height=\"24px\"viewBox=\"0 0 24 24\"\n",
              "     width=\"24px\">\n",
              "    <g>\n",
              "        <path d=\"M19 3H5c-1.1 0-2 .9-2 2v14c0 1.1.9 2 2 2h14c1.1 0 2-.9 2-2V5c0-1.1-.9-2-2-2zM9 17H7v-7h2v7zm4 0h-2V7h2v10zm4 0h-2v-4h2v4z\"/>\n",
              "    </g>\n",
              "</svg>\n",
              "  </button>\n",
              "\n",
              "<style>\n",
              "  .colab-df-quickchart {\n",
              "      --bg-color: #E8F0FE;\n",
              "      --fill-color: #1967D2;\n",
              "      --hover-bg-color: #E2EBFA;\n",
              "      --hover-fill-color: #174EA6;\n",
              "      --disabled-fill-color: #AAA;\n",
              "      --disabled-bg-color: #DDD;\n",
              "  }\n",
              "\n",
              "  [theme=dark] .colab-df-quickchart {\n",
              "      --bg-color: #3B4455;\n",
              "      --fill-color: #D2E3FC;\n",
              "      --hover-bg-color: #434B5C;\n",
              "      --hover-fill-color: #FFFFFF;\n",
              "      --disabled-bg-color: #3B4455;\n",
              "      --disabled-fill-color: #666;\n",
              "  }\n",
              "\n",
              "  .colab-df-quickchart {\n",
              "    background-color: var(--bg-color);\n",
              "    border: none;\n",
              "    border-radius: 50%;\n",
              "    cursor: pointer;\n",
              "    display: none;\n",
              "    fill: var(--fill-color);\n",
              "    height: 32px;\n",
              "    padding: 0;\n",
              "    width: 32px;\n",
              "  }\n",
              "\n",
              "  .colab-df-quickchart:hover {\n",
              "    background-color: var(--hover-bg-color);\n",
              "    box-shadow: 0 1px 2px rgba(60, 64, 67, 0.3), 0 1px 3px 1px rgba(60, 64, 67, 0.15);\n",
              "    fill: var(--button-hover-fill-color);\n",
              "  }\n",
              "\n",
              "  .colab-df-quickchart-complete:disabled,\n",
              "  .colab-df-quickchart-complete:disabled:hover {\n",
              "    background-color: var(--disabled-bg-color);\n",
              "    fill: var(--disabled-fill-color);\n",
              "    box-shadow: none;\n",
              "  }\n",
              "\n",
              "  .colab-df-spinner {\n",
              "    border: 2px solid var(--fill-color);\n",
              "    border-color: transparent;\n",
              "    border-bottom-color: var(--fill-color);\n",
              "    animation:\n",
              "      spin 1s steps(1) infinite;\n",
              "  }\n",
              "\n",
              "  @keyframes spin {\n",
              "    0% {\n",
              "      border-color: transparent;\n",
              "      border-bottom-color: var(--fill-color);\n",
              "      border-left-color: var(--fill-color);\n",
              "    }\n",
              "    20% {\n",
              "      border-color: transparent;\n",
              "      border-left-color: var(--fill-color);\n",
              "      border-top-color: var(--fill-color);\n",
              "    }\n",
              "    30% {\n",
              "      border-color: transparent;\n",
              "      border-left-color: var(--fill-color);\n",
              "      border-top-color: var(--fill-color);\n",
              "      border-right-color: var(--fill-color);\n",
              "    }\n",
              "    40% {\n",
              "      border-color: transparent;\n",
              "      border-right-color: var(--fill-color);\n",
              "      border-top-color: var(--fill-color);\n",
              "    }\n",
              "    60% {\n",
              "      border-color: transparent;\n",
              "      border-right-color: var(--fill-color);\n",
              "    }\n",
              "    80% {\n",
              "      border-color: transparent;\n",
              "      border-right-color: var(--fill-color);\n",
              "      border-bottom-color: var(--fill-color);\n",
              "    }\n",
              "    90% {\n",
              "      border-color: transparent;\n",
              "      border-bottom-color: var(--fill-color);\n",
              "    }\n",
              "  }\n",
              "</style>\n",
              "\n",
              "  <script>\n",
              "    async function quickchart(key) {\n",
              "      const quickchartButtonEl =\n",
              "        document.querySelector('#' + key + ' button');\n",
              "      quickchartButtonEl.disabled = true;  // To prevent multiple clicks.\n",
              "      quickchartButtonEl.classList.add('colab-df-spinner');\n",
              "      try {\n",
              "        const charts = await google.colab.kernel.invokeFunction(\n",
              "            'suggestCharts', [key], {});\n",
              "      } catch (error) {\n",
              "        console.error('Error during call to suggestCharts:', error);\n",
              "      }\n",
              "      quickchartButtonEl.classList.remove('colab-df-spinner');\n",
              "      quickchartButtonEl.classList.add('colab-df-quickchart-complete');\n",
              "    }\n",
              "    (() => {\n",
              "      let quickchartButtonEl =\n",
              "        document.querySelector('#df-8530eaa3-f1ed-489b-a190-14d1fd9afeb8 button');\n",
              "      quickchartButtonEl.style.display =\n",
              "        google.colab.kernel.accessAllowed ? 'block' : 'none';\n",
              "    })();\n",
              "  </script>\n",
              "</div>\n",
              "\n",
              "    </div>\n",
              "  </div>\n"
            ],
            "application/vnd.google.colaboratory.intrinsic+json": {
              "type": "dataframe",
              "variable_name": "cv_data",
              "summary": "{\n  \"name\": \"cv_data\",\n  \"rows\": 1000,\n  \"fields\": [\n    {\n      \"column\": \"iterations\",\n      \"properties\": {\n        \"dtype\": \"number\",\n        \"std\": 288,\n        \"min\": 0,\n        \"max\": 999,\n        \"num_unique_values\": 1000,\n        \"samples\": [\n          521,\n          737,\n          740\n        ],\n        \"semantic_type\": \"\",\n        \"description\": \"\"\n      }\n    },\n    {\n      \"column\": \"test-Logloss-mean\",\n      \"properties\": {\n        \"dtype\": \"number\",\n        \"std\": 0.025078628056047034,\n        \"min\": 0.4178199552876391,\n        \"max\": 0.6769355336252033,\n        \"num_unique_values\": 1000,\n        \"samples\": [\n          0.4289372223276063,\n          0.44280301360221697,\n          0.44287774856628026\n        ],\n        \"semantic_type\": \"\",\n        \"description\": \"\"\n      }\n    },\n    {\n      \"column\": \"test-Logloss-std\",\n      \"properties\": {\n        \"dtype\": \"number\",\n        \"std\": 0.01078735491214934,\n        \"min\": 0.0006971226515137723,\n        \"max\": 0.05845455942575679,\n        \"num_unique_values\": 1000,\n        \"samples\": [\n          0.04651419257133644,\n          0.053606635193230515,\n          0.05344868802736445\n        ],\n        \"semantic_type\": \"\",\n        \"description\": \"\"\n      }\n    },\n    {\n      \"column\": \"train-Logloss-mean\",\n      \"properties\": {\n        \"dtype\": \"number\",\n        \"std\": 0.09558470530483708,\n        \"min\": 0.12103653951482807,\n        \"max\": 0.6764772077105521,\n        \"num_unique_values\": 1000,\n        \"samples\": [\n          0.19981503275069054,\n          0.15706341585370354,\n          0.15645626245609093\n        ],\n        \"semantic_type\": \"\",\n        \"description\": \"\"\n      }\n    },\n    {\n      \"column\": \"train-Logloss-std\",\n      \"properties\": {\n        \"dtype\": \"number\",\n        \"std\": 0.0012327050768068484,\n        \"min\": 0.0031517662942677376,\n        \"max\": 0.01558967483369243,\n        \"num_unique_values\": 1000,\n        \"samples\": [\n          0.01161349177448663,\n          0.01173175248351841,\n          0.011893084728368168\n        ],\n        \"semantic_type\": \"\",\n        \"description\": \"\"\n      }\n    },\n    {\n      \"column\": \"test-Accuracy-mean\",\n      \"properties\": {\n        \"dtype\": \"number\",\n        \"std\": 0.006681276283856781,\n        \"min\": 0.7934904601571269,\n        \"max\": 0.8294051627384961,\n        \"num_unique_values\": 42,\n        \"samples\": [\n          0.8170594837261503,\n          0.8125701459034792,\n          0.7934904601571269\n        ],\n        \"semantic_type\": \"\",\n        \"description\": \"\"\n      }\n    },\n    {\n      \"column\": \"test-Accuracy-std\",\n      \"properties\": {\n        \"dtype\": \"number\",\n        \"std\": 0.005000755988531032,\n        \"min\": 0.003367003367003407,\n        \"max\": 0.03211916503087364,\n        \"num_unique_values\": 84,\n        \"samples\": [\n          0.018544008576720863,\n          0.003367003367003407,\n          0.017278119324736968\n        ],\n        \"semantic_type\": \"\",\n        \"description\": \"\"\n      }\n    },\n    {\n      \"column\": \"train-Accuracy-mean\",\n      \"properties\": {\n        \"dtype\": \"number\",\n        \"std\": 0.04259882068634667,\n        \"min\": 0.7985409652076317,\n        \"max\": 0.9747474747474748,\n        \"num_unique_values\": 251,\n        \"samples\": [\n          0.9197530864197531,\n          0.81986531986532,\n          0.924803591470258\n        ],\n        \"semantic_type\": \"\",\n        \"description\": \"\"\n      }\n    },\n    {\n      \"column\": \"train-Accuracy-std\",\n      \"properties\": {\n        \"dtype\": \"number\",\n        \"std\": 0.0024865566554802057,\n        \"min\": 0.0009719701501508486,\n        \"max\": 0.020778348576401387,\n        \"num_unique_values\": 109,\n        \"samples\": [\n          0.0016835016835017313,\n          0.009864419658387724,\n          0.011459359066589271\n        ],\n        \"semantic_type\": \"\",\n        \"description\": \"\"\n      }\n    }\n  ]\n}"
            }
          },
          "metadata": {},
          "execution_count": 17
        }
      ],
      "source": [
        "# Perform cross-validation\n",
        "cv_data = cv(\n",
        "             pool= pool_data,\n",
        "             params= cv_params,\n",
        "             fold_count= 3);\n",
        "cv_data.head()"
      ]
    },
    {
      "cell_type": "markdown",
      "metadata": {
        "id": "oIonDV5Cr-bG"
      },
      "source": [
        "Now we have values of our loss functions at each boosting step (iteration) averaged by 3 folds, which should provide us with a more accurate estimation of our model performance:"
      ]
    },
    {
      "cell_type": "code",
      "execution_count": 18,
      "metadata": {
        "id": "zb8yjJpmr-bG",
        "outputId": "8d2ebbfd-7590-4ac4-f8c2-0f4d44c8d574",
        "colab": {
          "base_uri": "https://localhost:8080/"
        }
      },
      "outputs": [
        {
          "output_type": "stream",
          "name": "stdout",
          "text": [
            "Best validation accuracy score: 0.83±0.02 on step 355\n"
          ]
        }
      ],
      "source": [
        "# Maximum mean test accuracy\n",
        "max_mean_test_acc = np.max(cv_data['test-Accuracy-mean'])\n",
        "\n",
        "# Index of Maximum mean test accuracy\n",
        "idx = np.argmax(cv_data['test-Accuracy-mean'])\n",
        "\n",
        "# Standard deviation of maximum mean test accuracy\n",
        "std_max_mean_test_acc = cv_data['test-Accuracy-std'][idx]\n",
        "\n",
        "# Best validation accuracy\n",
        "print('Best validation accuracy score: {:.2f}±{:.2f} on step {}'.format(max_mean_test_acc, std_max_mean_test_acc, idx))"
      ]
    },
    {
      "cell_type": "code",
      "execution_count": 19,
      "metadata": {
        "id": "nEOoVs_mr-bI",
        "outputId": "c105e8a2-6288-495f-eae9-ddaf9c0e8b5f",
        "colab": {
          "base_uri": "https://localhost:8080/"
        }
      },
      "outputs": [
        {
          "output_type": "stream",
          "name": "stdout",
          "text": [
            "Precise validation accuracy score: 0.8294051627384961\n"
          ]
        }
      ],
      "source": [
        "# Precise validation accuracy\n",
        "print('Precise validation accuracy score: {}'.format(max_mean_test_acc))"
      ]
    },
    {
      "cell_type": "markdown",
      "metadata": {
        "id": "mPUlZvg3r-bK"
      },
      "source": [
        "### Applying model for prediction"
      ]
    },
    {
      "cell_type": "code",
      "execution_count": 20,
      "metadata": {
        "id": "vM4-GDjtr-bL",
        "outputId": "846bb0a4-5434-40cd-ef74-1b0bf12bcbd5",
        "colab": {
          "base_uri": "https://localhost:8080/"
        }
      },
      "outputs": [
        {
          "output_type": "stream",
          "name": "stdout",
          "text": [
            "Predictions: [0 0 0 0 1 0 1 0 1 0]\n",
            "Prediction probabilities:\n",
            " [[0.85473931 0.14526069]\n",
            " [0.76313031 0.23686969]\n",
            " [0.88972889 0.11027111]\n",
            " [0.87876173 0.12123827]\n",
            " [0.3611047  0.6388953 ]\n",
            " [0.90513381 0.09486619]\n",
            " [0.33434185 0.66565815]\n",
            " [0.78468564 0.21531436]\n",
            " [0.39429048 0.60570952]\n",
            " [0.94047549 0.05952451]]\n"
          ]
        }
      ],
      "source": [
        "# Make predictions for X_test\n",
        "predictions = model.predict(X_test)\n",
        "predictions_probs = model.predict_proba(X_test)\n",
        "print(f\"Predictions: {predictions[:10]}\")\n",
        "print(f\"Prediction probabilities:\\n {predictions_probs[:10]}\")"
      ]
    },
    {
      "cell_type": "markdown",
      "metadata": {
        "id": "ihQWWKker-bL"
      },
      "source": [
        "Let's look at some characteristics of CatBoost to get better predictions."
      ]
    },
    {
      "cell_type": "markdown",
      "metadata": {
        "id": "2yn0Rm0Vr-bL"
      },
      "source": [
        "## Characteristics of CatBoost"
      ]
    },
    {
      "cell_type": "markdown",
      "metadata": {
        "id": "PlJi1kEGr-bN"
      },
      "source": [
        "Some of the characteristics of CatBoost includes:\n",
        "\n",
        "- Using the best model\n",
        "- Early Stopping\n",
        "- Using Baseline\n",
        "- Snapshot Support\n",
        "- User Defined Objective Function\n",
        "- User Defined Objective Function\n",
        "- Staged Predict\n",
        "- Feature Importances\n",
        "- Eval Metrics\n",
        "- Model Saving\n",
        "\n",
        "Let's define some parameters and create `Pool` for more convenience in exploring the above mentioned points."
      ]
    },
    {
      "cell_type": "code",
      "execution_count": 21,
      "metadata": {
        "id": "P9xi0VGCr-bO"
      },
      "outputs": [],
      "source": [
        "# Create params dictionary\n",
        "params = {\n",
        "    'iterations': 500,\n",
        "    'learning_rate': 0.1,\n",
        "    'eval_metric': metrics.Accuracy(),\n",
        "    'random_seed': 42,\n",
        "    'logging_level': 'Silent',\n",
        "    'use_best_model': False\n",
        "}\n",
        "# Create Pool for training set\n",
        "train_pool = Pool(X_train, y_train, cat_features=categorical_features_indices)\n",
        "\n",
        "# Create Pool for validation set\n",
        "validate_pool = Pool(X_validation, y_validation, cat_features=categorical_features_indices)"
      ]
    },
    {
      "cell_type": "markdown",
      "metadata": {
        "id": "7s_qsjnZr-bO"
      },
      "source": [
        "### Using the best model\n",
        "\n",
        "If we essentially have a validation set, it's always better to use the `use_best_model` parameter during training. By default, this parameter is enabled. If it is enabled, the resulting trees ensemble is shrinking to the best iteration."
      ]
    },
    {
      "cell_type": "code",
      "execution_count": 22,
      "metadata": {
        "id": "4mA08mrY4rsj"
      },
      "outputs": [],
      "source": [
        "# Create a Simple Model having 'use_best_model' = False\n",
        "model = CatBoostClassifier(**params)\n",
        "model.fit(train_pool, eval_set=validate_pool);"
      ]
    },
    {
      "cell_type": "code",
      "execution_count": 23,
      "metadata": {
        "id": "QJtgIW-I5FxN"
      },
      "outputs": [],
      "source": [
        "# Create a best_model_params by updating 'use_best_model' to True\n",
        "best_model_params = params.copy()\n",
        "best_model_params.update({'use_best_model': True})"
      ]
    },
    {
      "cell_type": "code",
      "execution_count": 24,
      "metadata": {
        "id": "3vye3s9Z5fbP"
      },
      "outputs": [],
      "source": [
        "# Create a Best Model having 'use_best_model' = True\n",
        "best_model = CatBoostClassifier(**best_model_params)\n",
        "best_model.fit(train_pool, eval_set=validate_pool);"
      ]
    },
    {
      "cell_type": "code",
      "execution_count": 25,
      "metadata": {
        "id": "OjkoxOTpr-bO",
        "outputId": "e3ba897b-8ee3-4f82-fea4-bb2b80086454",
        "colab": {
          "base_uri": "https://localhost:8080/"
        }
      },
      "outputs": [
        {
          "output_type": "stream",
          "name": "stdout",
          "text": [
            "Simple model validation accuracy: 0.7982\n",
            "\n",
            "Best model validation accuracy: 0.8251\n"
          ]
        }
      ],
      "source": [
        "# Accuracy score for Simple model\n",
        "pred = model.predict(X_validation)\n",
        "acc = accuracy_score(y_validation, pred)\n",
        "print('Simple model validation accuracy: {:.4}'.format(acc))\n",
        "\n",
        "# Accuracy score for Best model\n",
        "best_pred = best_model.predict(X_validation)\n",
        "best_acc = accuracy_score(y_validation, best_pred)\n",
        "print('\\nBest model validation accuracy: {:.4}'.format(best_acc))"
      ]
    },
    {
      "cell_type": "markdown",
      "metadata": {
        "id": "UIZld216r-bP"
      },
      "source": [
        "### Early Stopping\n",
        "\n",
        "If we essentially have a validation set, it's always easier and better to use early stopping. This feature is similar to the previous one, but only in addition to improving the quality it still saves time.\n",
        "\n",
        "Few parameters for early stopping are:\n",
        "\n",
        "- ***od_type***: The type of the overfitting detector to use. Possible values:\n",
        "    - IncToDec (default)\n",
        "    - Iter\n",
        "- ***od_wait***: The number of iterations to continue the training after the iteration with the optimal metric value; default=20\n",
        "\n",
        "The purpose of ***od_wait*** parameter differs depending on the selected overfitting detector type, ***od_type***:\n",
        "\n",
        "- IncToDec — Ignore the overfitting detector when the threshold is reached and continue learning for the specified number of iterations after the iteration with the optimal metric value.\n",
        "- Iter — Consider the model overfitted and stop training after the specified number of iterations since the iteration with the optimal metric value.\n"
      ]
    },
    {
      "cell_type": "markdown",
      "metadata": {
        "id": "3OyIAcwh-KIc"
      },
      "source": [
        "Create a simple model using `params` and show the computation time for its training:"
      ]
    },
    {
      "cell_type": "code",
      "execution_count": 26,
      "metadata": {
        "id": "iWRcF4V3r-bP",
        "outputId": "22ec56c9-2ba2-4991-b325-ff16d1dcc4cf",
        "colab": {
          "base_uri": "https://localhost:8080/"
        }
      },
      "outputs": [
        {
          "output_type": "stream",
          "name": "stdout",
          "text": [
            "CPU times: user 5.9 s, sys: 504 ms, total: 6.41 s\n",
            "Wall time: 3.48 s\n"
          ]
        },
        {
          "output_type": "execute_result",
          "data": {
            "text/plain": [
              "<catboost.core.CatBoostClassifier at 0x7cd7244012d0>"
            ]
          },
          "metadata": {},
          "execution_count": 26
        }
      ],
      "source": [
        "%%time\n",
        "model = CatBoostClassifier(**params)\n",
        "model.fit(train_pool, eval_set=validate_pool)"
      ]
    },
    {
      "cell_type": "code",
      "execution_count": 27,
      "metadata": {
        "id": "8OJ0Fx0E7zCq"
      },
      "outputs": [],
      "source": [
        "# Create earlystop_params variable by updating 'od_type' and 'od_wait' in params\n",
        "earlystop_params = params.copy()\n",
        "earlystop_params.update({\n",
        "                         'od_type': 'Iter',\n",
        "                         'od_wait': 40\n",
        "                         })"
      ]
    },
    {
      "cell_type": "markdown",
      "metadata": {
        "id": "X73Gabf7-d6B"
      },
      "source": [
        "Create an early stopped model using `earlystop_params` and show the computation time for its training:"
      ]
    },
    {
      "cell_type": "code",
      "execution_count": 28,
      "metadata": {
        "id": "T8ib75zdr-bP",
        "outputId": "c5c57630-b67f-4d14-ad2d-4cf454e365ea",
        "colab": {
          "base_uri": "https://localhost:8080/"
        }
      },
      "outputs": [
        {
          "output_type": "stream",
          "name": "stdout",
          "text": [
            "CPU times: user 907 ms, sys: 78.9 ms, total: 986 ms\n",
            "Wall time: 731 ms\n"
          ]
        },
        {
          "output_type": "execute_result",
          "data": {
            "text/plain": [
              "<catboost.core.CatBoostClassifier at 0x7cd7165e7460>"
            ]
          },
          "metadata": {},
          "execution_count": 28
        }
      ],
      "source": [
        "%%time\n",
        "earlystop_model = CatBoostClassifier(**earlystop_params)\n",
        "earlystop_model.fit(train_pool, eval_set=validate_pool);"
      ]
    },
    {
      "cell_type": "code",
      "execution_count": 29,
      "metadata": {
        "id": "J2nLjYC6r-bQ",
        "outputId": "49d9e5fd-5497-446d-805c-501686276761",
        "colab": {
          "base_uri": "https://localhost:8080/"
        }
      },
      "outputs": [
        {
          "output_type": "stream",
          "name": "stdout",
          "text": [
            "Simple model tree count: 500\n",
            "Simple model validation accuracy: 0.7982\n",
            "\n",
            "Early-stopped model tree count: 82\n",
            "Early-stopped model validation accuracy: 0.8072\n"
          ]
        }
      ],
      "source": [
        "# Number of Tree count and Accuracy score for Simple model\n",
        "print('Simple model tree count: {}'.format(model.tree_count_))\n",
        "print('Simple model validation accuracy: {:.4}'.format(\n",
        "    accuracy_score(y_validation, model.predict(X_validation))\n",
        "))\n",
        "\n",
        "# Number of Tree count and Accuracy score for Early-stopped model\n",
        "print('\\nEarly-stopped model tree count: {}'.format(earlystop_model.tree_count_))\n",
        "print('Early-stopped model validation accuracy: {:.4}'.format(\n",
        "    accuracy_score(y_validation, earlystop_model.predict(X_validation))\n",
        "))"
      ]
    },
    {
      "cell_type": "markdown",
      "metadata": {
        "id": "t3NcrdOyr-bR"
      },
      "source": [
        "From the above, we can see that we get similar or better quality in a shorter time.\n",
        "\n",
        "Though simple validation scheme does not precisely describes model out-of-train score (validation set may be biased because of dataset split) it is still nice to track model improvement dynamics - and thereby it is really good to stop boosting process earlier (before the overfitting kicks in)."
      ]
    },
    {
      "cell_type": "markdown",
      "metadata": {
        "id": "99ahBw-8r-bR"
      },
      "source": [
        "### Using Baseline\n",
        "\n",
        "It is also posible to use pre-training results (baseline) for training."
      ]
    },
    {
      "cell_type": "code",
      "execution_count": 30,
      "metadata": {
        "id": "ScCtDp1_Ov7H"
      },
      "outputs": [],
      "source": [
        "# Create current_params variable by updating 'iterations' to 10 in params\n",
        "current_params = params.copy()\n",
        "current_params.update({\n",
        "                       'iterations': 10\n",
        "                       })"
      ]
    },
    {
      "cell_type": "code",
      "execution_count": 31,
      "metadata": {
        "id": "0VQH8f-ur-bS",
        "outputId": "52f57953-8868-4a49-a041-b44aa9dec4b1",
        "colab": {
          "base_uri": "https://localhost:8080/"
        }
      },
      "outputs": [
        {
          "output_type": "execute_result",
          "data": {
            "text/plain": [
              "<catboost.core.CatBoostClassifier at 0x7cd7165e44f0>"
            ]
          },
          "metadata": {},
          "execution_count": 31
        }
      ],
      "source": [
        "# Create model with current_params and fit on training set\n",
        "model = CatBoostClassifier(**current_params)\n",
        "model.fit(X_train, y_train, categorical_features_indices)"
      ]
    },
    {
      "cell_type": "code",
      "execution_count": 32,
      "metadata": {
        "id": "ZgZ1PtbzPeiy",
        "outputId": "018a1798-3515-44c2-c958-04a1babf057a",
        "colab": {
          "base_uri": "https://localhost:8080/"
        }
      },
      "outputs": [
        {
          "output_type": "execute_result",
          "data": {
            "text/plain": [
              "((668, 11), (668,))"
            ]
          },
          "metadata": {},
          "execution_count": 32
        }
      ],
      "source": [
        "# Get baseline (only with prediction_type='RawFormulaVal')\n",
        "baseline = model.predict(X_train, prediction_type='RawFormulaVal')\n",
        "X_train.shape, baseline.shape"
      ]
    },
    {
      "cell_type": "code",
      "execution_count": 33,
      "metadata": {
        "id": "KPJotyDSPWXk"
      },
      "outputs": [],
      "source": [
        "# Fit new model\n",
        "model.fit(X_train, y_train, categorical_features_indices, baseline=baseline);"
      ]
    },
    {
      "cell_type": "markdown",
      "metadata": {
        "id": "fL2PjrASr-bT"
      },
      "source": [
        "### Snapshot Support\n",
        "\n",
        "Catboost supports snapshots. We can use it for recovering training after an interruption or for starting training with previous results."
      ]
    },
    {
      "cell_type": "code",
      "execution_count": 34,
      "metadata": {
        "id": "GW-DbjmdQsRZ"
      },
      "outputs": [],
      "source": [
        "# Create params_with_snapshot variable using params\n",
        "params_with_snapshot = params.copy()\n",
        "params_with_snapshot.update({\n",
        "                             'iterations': 5,\n",
        "                             'learning_rate': 0.5,\n",
        "                             'logging_level': 'Verbose'\n",
        "                             })"
      ]
    },
    {
      "cell_type": "code",
      "execution_count": 35,
      "metadata": {
        "id": "oUjxsOV2Q_zM",
        "outputId": "b93103a0-b400-4174-fdf4-fd5e29e06d83",
        "colab": {
          "base_uri": "https://localhost:8080/"
        }
      },
      "outputs": [
        {
          "output_type": "stream",
          "name": "stdout",
          "text": [
            "0:\tlearn: 0.8053892\ttest: 0.7937220\tbest: 0.7937220 (0)\ttotal: 2.23ms\tremaining: 8.93ms\n",
            "1:\tlearn: 0.8008982\ttest: 0.7982063\tbest: 0.7982063 (1)\ttotal: 5.45ms\tremaining: 8.17ms\n",
            "2:\tlearn: 0.8008982\ttest: 0.7937220\tbest: 0.7982063 (1)\ttotal: 7.72ms\tremaining: 5.15ms\n",
            "3:\tlearn: 0.8113772\ttest: 0.7892377\tbest: 0.7982063 (1)\ttotal: 9.87ms\tremaining: 2.47ms\n",
            "4:\tlearn: 0.8173653\ttest: 0.8026906\tbest: 0.8026906 (4)\ttotal: 12ms\tremaining: 0us\n",
            "\n",
            "bestTest = 0.802690583\n",
            "bestIteration = 4\n",
            "\n"
          ]
        },
        {
          "output_type": "execute_result",
          "data": {
            "text/plain": [
              "<catboost.core.CatBoostClassifier at 0x7cd7165e7310>"
            ]
          },
          "metadata": {},
          "execution_count": 35
        }
      ],
      "source": [
        "# Create model with params_with_snapshot and fit on training set\n",
        "model = CatBoostClassifier(**params_with_snapshot)\n",
        "model.fit(train_pool, eval_set=validate_pool, save_snapshot=True)"
      ]
    },
    {
      "cell_type": "code",
      "execution_count": 36,
      "metadata": {
        "id": "ev9jluc2TCW5"
      },
      "outputs": [],
      "source": [
        "# Update 'iterations' and 'learning_rate' in params_with_snapshot\n",
        "params_with_snapshot.update({\n",
        "                             'iterations': 10,\n",
        "                             'learning_rate': 0.1,\n",
        "                             })"
      ]
    },
    {
      "cell_type": "code",
      "execution_count": 37,
      "metadata": {
        "id": "tAK9ivE5r-bT",
        "outputId": "69abac98-d2ed-492b-b0d6-1337bae8bd04",
        "colab": {
          "base_uri": "https://localhost:8080/"
        }
      },
      "outputs": [
        {
          "output_type": "stream",
          "name": "stdout",
          "text": [
            "5:\tlearn: 0.8173653\ttest: 0.8026906\tbest: 0.8026906 (4)\ttotal: 18.9ms\tremaining: 27.6ms\n",
            "6:\tlearn: 0.8248503\ttest: 0.8026906\tbest: 0.8026906 (4)\ttotal: 22.9ms\tremaining: 16.3ms\n",
            "7:\tlearn: 0.8233533\ttest: 0.8026906\tbest: 0.8026906 (4)\ttotal: 25.5ms\tremaining: 8.99ms\n",
            "8:\tlearn: 0.8233533\ttest: 0.8026906\tbest: 0.8026906 (4)\ttotal: 26.5ms\tremaining: 3.61ms\n",
            "9:\tlearn: 0.8233533\ttest: 0.8026906\tbest: 0.8026906 (4)\ttotal: 29.8ms\tremaining: 0us\n",
            "\n",
            "bestTest = 0.802690583\n",
            "bestIteration = 4\n",
            "\n"
          ]
        },
        {
          "output_type": "execute_result",
          "data": {
            "text/plain": [
              "<catboost.core.CatBoostClassifier at 0x7cd7165e4220>"
            ]
          },
          "metadata": {},
          "execution_count": 37
        }
      ],
      "source": [
        "# Create model with params_with_snapshot and fit on training set\n",
        "model = CatBoostClassifier(**params_with_snapshot)\n",
        "model.fit(train_pool, eval_set=validate_pool, save_snapshot=True)"
      ]
    },
    {
      "cell_type": "markdown",
      "metadata": {
        "id": "f17ulAucTnjC"
      },
      "source": [
        "From above we can see that the training started with previous results."
      ]
    },
    {
      "cell_type": "markdown",
      "metadata": {
        "id": "JaKtPrhIr-bU"
      },
      "source": [
        "### User Defined Objective Function\n",
        "\n",
        "It is possible to create our own objective function. Let's create logloss objective function."
      ]
    },
    {
      "cell_type": "code",
      "execution_count": 38,
      "metadata": {
        "id": "PsjqS4Uhr-bV",
        "outputId": "4c701e44-8f36-4bb1-e91a-bd7ce8ab9a0c",
        "colab": {
          "base_uri": "https://localhost:8080/"
        }
      },
      "outputs": [
        {
          "output_type": "stream",
          "name": "stdout",
          "text": [
            "Requirement already satisfied: numba in /usr/local/lib/python3.10/dist-packages (0.60.0)\n",
            "Requirement already satisfied: llvmlite<0.44,>=0.43.0dev0 in /usr/local/lib/python3.10/dist-packages (from numba) (0.43.0)\n",
            "Requirement already satisfied: numpy<2.1,>=1.22 in /usr/local/lib/python3.10/dist-packages (from numba) (1.26.4)\n"
          ]
        }
      ],
      "source": [
        "# for performance reasons it is better to install `numba` package for working with user defined functions\n",
        "!pip install numba"
      ]
    },
    {
      "cell_type": "code",
      "execution_count": 39,
      "metadata": {
        "id": "pf3fv8Ner-bW"
      },
      "outputs": [],
      "source": [
        "class LoglossObjective(object):\n",
        "    def calc_ders_range(self, approxes, targets, weights):\n",
        "        # approxes, targets, weights are indexed containers of floats\n",
        "        # (containers which have only __len__ and __getitem__ defined).\n",
        "        # weights parameter can be None.\n",
        "        #\n",
        "        # To understand what these parameters mean, assume that there is\n",
        "        # a subset of our dataset that is currently being processed.\n",
        "        # approxes contains current predictions for this subset,\n",
        "        # targets contains target values we provided with the dataset.\n",
        "        #\n",
        "        # This function should return a list of pairs (der1, der2), where\n",
        "        # der1 is the first derivative of the loss function with respect\n",
        "        # to the predicted value, and der2 is the second derivative.\n",
        "        #\n",
        "        # In our case, logloss is defined by the following formula:\n",
        "        # target * log(sigmoid(approx)) + (1 - target) * (1 - sigmoid(approx))\n",
        "        # where sigmoid(x) = 1 / (1 + e^(-x)).\n",
        "\n",
        "        assert len(approxes) == len(targets)\n",
        "        if weights is not None:\n",
        "            assert len(weights) == len(approxes)\n",
        "\n",
        "        result = []\n",
        "        for index in range(len(targets)):\n",
        "            e = np.exp(approxes[index])\n",
        "            p = e / (1 + e)\n",
        "            der1 = (1 - p) if targets[index] > 0.0 else -p\n",
        "            der2 = -p * (1 - p)\n",
        "\n",
        "            if weights is not None:\n",
        "                der1 *= weights[index]\n",
        "                der2 *= weights[index]\n",
        "\n",
        "            result.append((der1, der2))\n",
        "        return result"
      ]
    },
    {
      "cell_type": "code",
      "execution_count": 40,
      "metadata": {
        "id": "RSzee6shr-bX",
        "outputId": "af60d8f3-3b4e-4303-fcdf-17fce69fd1b3",
        "colab": {
          "base_uri": "https://localhost:8080/"
        }
      },
      "outputs": [
        {
          "output_type": "stream",
          "name": "stdout",
          "text": [
            "0:\tlearn: 0.6827074\ttotal: 892ms\tremaining: 8.02s\n",
            "1:\tlearn: 0.6723302\ttotal: 894ms\tremaining: 3.58s\n",
            "2:\tlearn: 0.6619449\ttotal: 895ms\tremaining: 2.09s\n",
            "3:\tlearn: 0.6521466\ttotal: 897ms\tremaining: 1.34s\n",
            "4:\tlearn: 0.6435227\ttotal: 900ms\tremaining: 900ms\n",
            "5:\tlearn: 0.6353848\ttotal: 903ms\tremaining: 602ms\n",
            "6:\tlearn: 0.6277210\ttotal: 905ms\tremaining: 388ms\n",
            "7:\tlearn: 0.6210282\ttotal: 907ms\tremaining: 227ms\n",
            "8:\tlearn: 0.6141958\ttotal: 910ms\tremaining: 101ms\n",
            "9:\tlearn: 0.6073236\ttotal: 912ms\tremaining: 0us\n"
          ]
        },
        {
          "output_type": "execute_result",
          "data": {
            "text/plain": [
              "<catboost.core.CatBoostClassifier at 0x7cd7165e7c40>"
            ]
          },
          "metadata": {},
          "execution_count": 40
        }
      ],
      "source": [
        "# Create model\n",
        "model = CatBoostClassifier(\n",
        "                           iterations=10,\n",
        "                           random_seed=42,\n",
        "                           loss_function=LoglossObjective(),\n",
        "                           eval_metric=metrics.Logloss()\n",
        "                           )\n",
        "# Fit model\n",
        "model.fit(train_pool)"
      ]
    },
    {
      "cell_type": "code",
      "execution_count": 41,
      "metadata": {
        "id": "LAuRMDEsUl3W"
      },
      "outputs": [],
      "source": [
        "# Only prediction_type='RawFormulaVal' is allowed with custom `loss_function`\n",
        "preds_raw = model.predict(X_test, prediction_type='RawFormulaVal')"
      ]
    },
    {
      "cell_type": "markdown",
      "metadata": {
        "id": "GvXvLik9r-bY"
      },
      "source": [
        "### User Defined Metric Function\n",
        "\n",
        "Also it is possible to create our own metric function. Let's create logloss metric function."
      ]
    },
    {
      "cell_type": "code",
      "execution_count": 42,
      "metadata": {
        "id": "L-3knCAsr-bY"
      },
      "outputs": [],
      "source": [
        "class LoglossMetric(object):\n",
        "    def get_final_error(self, error, weight):\n",
        "        return error / (weight + 1e-38)\n",
        "\n",
        "    def is_max_optimal(self):\n",
        "        return False\n",
        "\n",
        "    def evaluate(self, approxes, target, weight):\n",
        "        # approxes is a list of indexed containers\n",
        "        # (containers with only __len__ and __getitem__ defined),\n",
        "        # one container per approx dimension.\n",
        "        # Each container contains floats.\n",
        "        # weight is a one dimensional indexed container.\n",
        "        # target is float.\n",
        "\n",
        "        # weight parameter can be None.\n",
        "        # Returns pair (error, weights sum)\n",
        "\n",
        "        assert len(approxes) == 1\n",
        "        assert len(target) == len(approxes[0])\n",
        "\n",
        "        approx = approxes[0]\n",
        "\n",
        "        error_sum = 0.0\n",
        "        weight_sum = 0.0\n",
        "\n",
        "        for i in range(len(approx)):\n",
        "            w = 1.0 if weight is None else weight[i]\n",
        "            weight_sum += w\n",
        "            error_sum += -w * (target[i] * approx[i] - np.log(1 + np.exp(approx[i])))\n",
        "\n",
        "        return error_sum, weight_sum"
      ]
    },
    {
      "cell_type": "code",
      "execution_count": 43,
      "metadata": {
        "id": "bdrCEtVAr-bZ",
        "outputId": "aebb78f6-6db3-42c2-9ef0-d1e08a955c8e",
        "colab": {
          "base_uri": "https://localhost:8080/"
        }
      },
      "outputs": [
        {
          "output_type": "stream",
          "name": "stdout",
          "text": [
            "Learning rate set to 0.5\n",
            "0:\tlearn: 0.5521578\ttotal: 372ms\tremaining: 3.35s\n",
            "1:\tlearn: 0.4885686\ttotal: 375ms\tremaining: 1.5s\n",
            "2:\tlearn: 0.4607664\ttotal: 378ms\tremaining: 883ms\n",
            "3:\tlearn: 0.4418819\ttotal: 385ms\tremaining: 577ms\n",
            "4:\tlearn: 0.4278162\ttotal: 389ms\tremaining: 389ms\n",
            "5:\tlearn: 0.4151036\ttotal: 391ms\tremaining: 261ms\n",
            "6:\tlearn: 0.4099336\ttotal: 394ms\tremaining: 169ms\n",
            "7:\tlearn: 0.4095363\ttotal: 396ms\tremaining: 99ms\n",
            "8:\tlearn: 0.4032867\ttotal: 398ms\tremaining: 44.2ms\n",
            "9:\tlearn: 0.3929586\ttotal: 401ms\tremaining: 0us\n"
          ]
        },
        {
          "output_type": "execute_result",
          "data": {
            "text/plain": [
              "<catboost.core.CatBoostClassifier at 0x7cd7143e2f80>"
            ]
          },
          "metadata": {},
          "execution_count": 43
        }
      ],
      "source": [
        "# Create model\n",
        "model = CatBoostClassifier(\n",
        "                           iterations=10,\n",
        "                           random_seed=42,\n",
        "                           loss_function=metrics.Logloss(),\n",
        "                           eval_metric=LoglossMetric()\n",
        "                           )\n",
        "# Fit model\n",
        "model.fit(train_pool)"
      ]
    },
    {
      "cell_type": "code",
      "execution_count": 44,
      "metadata": {
        "id": "w75eTV5oVO37"
      },
      "outputs": [],
      "source": [
        "# Only prediction_type='RawFormulaVal' is allowed with custom `loss_function`\n",
        "preds_raw = model.predict(X_test, prediction_type='RawFormulaVal')"
      ]
    },
    {
      "cell_type": "markdown",
      "metadata": {
        "id": "e0la5j-hr-bZ"
      },
      "source": [
        "### Staged Predict\n",
        "\n",
        "CatBoost model has `staged_predict` method. It allows us to iteratively get predictions for a given range of trees.\n",
        "\n",
        "Some of `staged_predict` method's paramets are:\n",
        "\n",
        "- ***data***: Feature values data\n",
        "- ***prediction_type***: The required prediction type. Supported prediction types are Probability, Class, Exponent, LogProbability, etc.\n",
        "- ***ntree_start***\n",
        "- ***ntree_end***\n",
        "- ***eval_period***\n",
        "\n",
        "To reduce the number of trees to use when the model is applied or the metrics are calculated, set the range of the tree indices to [***ntree_start; ntree_end***) and the ***eval_period*** parameter to $k$ to calculate metrics on every $k$-th iteration.\n",
        "\n",
        "To know more about `staged_predict` method, refer [here](https://catboost.ai/en/docs/concepts/python-reference_catboostclassifier_staged_predict)."
      ]
    },
    {
      "cell_type": "code",
      "execution_count": 45,
      "metadata": {
        "id": "RnT9x5e7Vm6k",
        "outputId": "e4039527-514d-479c-f45d-5f6b809a663d",
        "colab": {
          "base_uri": "https://localhost:8080/"
        }
      },
      "outputs": [
        {
          "output_type": "execute_result",
          "data": {
            "text/plain": [
              "<catboost.core.CatBoostClassifier at 0x7cd7142a8ee0>"
            ]
          },
          "metadata": {},
          "execution_count": 45
        }
      ],
      "source": [
        "# Create model\n",
        "model = CatBoostClassifier(iterations=10, random_seed=42, logging_level='Silent')\n",
        "model.fit(train_pool)"
      ]
    },
    {
      "cell_type": "code",
      "execution_count": 46,
      "metadata": {
        "id": "z0pkaKChr-ba",
        "outputId": "6a974d6d-c340-4ac3-f26f-28b3a09d2335",
        "colab": {
          "base_uri": "https://localhost:8080/"
        }
      },
      "outputs": [
        {
          "output_type": "stream",
          "name": "stdout",
          "text": [
            "First class probabilities using the first 3 trees: [0.53597869 0.41039128 0.42057479 0.64281031 0.46576685]\n",
            "First class probabilities using the first 5 trees: [0.63722688 0.42492029 0.46209302 0.70926021 0.44280772]\n",
            "First class probabilities using the first 7 trees: [0.66964764 0.42409144 0.46124982 0.76101033 0.47205986]\n"
          ]
        }
      ],
      "source": [
        "# Specify start, end, and evaluation period for staged predict\n",
        "ntree_start = 3\n",
        "ntree_end = 9\n",
        "eval_period = 2\n",
        "# Stage predictions\n",
        "predictions_iterator = model.staged_predict(\n",
        "                                            data = validate_pool,\n",
        "                                            prediction_type='Probability',\n",
        "                                            ntree_start = ntree_start,\n",
        "                                            ntree_end = ntree_end,\n",
        "                                            eval_period = eval_period\n",
        "                                            )\n",
        "# Show stage predictions\n",
        "for preds, tree_count in zip(predictions_iterator, range(ntree_start, ntree_end, eval_period)):\n",
        "    print('First class probabilities using the first {} trees: {}'.format(tree_count, preds[:5, 1]))"
      ]
    },
    {
      "cell_type": "markdown",
      "metadata": {
        "id": "mYg_CGqTr-ba"
      },
      "source": [
        "### Feature Importances\n",
        "\n",
        "Sometimes it is very important to understand which feature made the greatest contribution to the final result. To do this, the CatBoost model has a `get_feature_importance` method."
      ]
    },
    {
      "cell_type": "code",
      "execution_count": 47,
      "metadata": {
        "id": "TM4OmXHti8fz",
        "outputId": "422fad43-4ecc-4b68-e513-1b1dbbe6baab",
        "colab": {
          "base_uri": "https://localhost:8080/"
        }
      },
      "outputs": [
        {
          "output_type": "execute_result",
          "data": {
            "text/plain": [
              "<catboost.core.CatBoostClassifier at 0x7cd714381f30>"
            ]
          },
          "metadata": {},
          "execution_count": 47
        }
      ],
      "source": [
        "# Create model\n",
        "model = CatBoostClassifier(iterations=50, random_seed=42, logging_level='Silent')\n",
        "model.fit(train_pool)"
      ]
    },
    {
      "cell_type": "code",
      "execution_count": 48,
      "metadata": {
        "id": "snozjGfar-ba",
        "outputId": "6015a5c1-4ca1-430c-fe3f-01b7d7847cd5",
        "colab": {
          "base_uri": "https://localhost:8080/"
        }
      },
      "outputs": [
        {
          "output_type": "stream",
          "name": "stdout",
          "text": [
            "Sex: 59.004092014268586\n",
            "Pclass: 16.340887169747035\n",
            "Ticket: 6.028107169932204\n",
            "Cabin: 3.8347242202560192\n",
            "Fare: 3.712969667934384\n",
            "Age: 3.484451204182482\n",
            "Parch: 3.378089740355865\n",
            "Embarked: 2.3139994072899555\n",
            "SibSp: 1.9026794060334504\n",
            "PassengerId: 0.0\n",
            "Name: 0.0\n"
          ]
        }
      ],
      "source": [
        "# Get feature importances\n",
        "feature_importances = model.get_feature_importance(train_pool)\n",
        "# Feature names\n",
        "feature_names = X_train.columns\n",
        "\n",
        "# Show features in decreasing order based on their importances\n",
        "for score, name in sorted(zip(feature_importances, feature_names), reverse=True):\n",
        "    print('{}: {}'.format(name, score))"
      ]
    },
    {
      "cell_type": "code",
      "execution_count": 49,
      "metadata": {
        "id": "T0JfJe4_jdPy",
        "outputId": "e330848c-086f-49e9-9626-55e44f65cc9c",
        "colab": {
          "base_uri": "https://localhost:8080/",
          "height": 501
        }
      },
      "outputs": [
        {
          "output_type": "display_data",
          "data": {
            "text/plain": [
              "<Figure size 640x480 with 1 Axes>"
            ],
            "image/png": "[encoded data removed]"
          },
          "metadata": {}
        }
      ],
      "source": [
        "# Show bar plot for feature importance\n",
        "plt.bar(feature_names, feature_importances)\n",
        "plt.xticks(rotation=80)\n",
        "plt.show()"
      ]
    },
    {
      "cell_type": "markdown",
      "metadata": {
        "id": "dtbzujdvr-bb"
      },
      "source": [
        "From the above results, we can see that features **`Sex`** and **`Pclass`** had the biggest influence on the result."
      ]
    },
    {
      "cell_type": "markdown",
      "metadata": {
        "id": "p-50XFJPr-bb"
      },
      "source": [
        "### Eval Metrics\n",
        "\n",
        "The CatBoost has a `eval_metrics` method that allows to calculate a given metrics on a given dataset."
      ]
    },
    {
      "cell_type": "code",
      "execution_count": 50,
      "metadata": {
        "id": "MSqM0wsJr-bb",
        "outputId": "7822bf16-101f-4fea-f9d0-f10018f11fde",
        "colab": {
          "base_uri": "https://localhost:8080/"
        }
      },
      "outputs": [
        {
          "output_type": "execute_result",
          "data": {
            "text/plain": [
              "dict_keys(['AUC'])"
            ]
          },
          "metadata": {},
          "execution_count": 50
        }
      ],
      "source": [
        "# Create model and fit on training set\n",
        "model = CatBoostClassifier(iterations=50, random_seed=42, logging_level='Silent')\n",
        "model.fit(train_pool)\n",
        "# Eval metrics\n",
        "eval_metrics = model.eval_metrics(data = validate_pool,\n",
        "                                  metrics = [metrics.AUC()],               # the list of metrics to be calculated\n",
        "                                  )\n",
        "eval_metrics.keys()"
      ]
    },
    {
      "cell_type": "code",
      "execution_count": 51,
      "metadata": {
        "id": "hw7j51Z3r-bc",
        "outputId": "6ce608c4-f802-4e2b-cc7b-10f5dc2aacc8",
        "colab": {
          "base_uri": "https://localhost:8080/"
        }
      },
      "outputs": [
        {
          "output_type": "stream",
          "name": "stdout",
          "text": [
            "[0.8627368774106994, 0.8623176253563642, 0.8602213650846889, 0.8514170719436525, 0.8495723629045783, 0.8569092738554419]\n"
          ]
        }
      ],
      "source": [
        "# Eval metric for first 6 iterations\n",
        "print(eval_metrics['AUC'][:6])"
      ]
    },
    {
      "cell_type": "markdown",
      "metadata": {
        "id": "YAf64lN7r-bd"
      },
      "source": [
        "### Model Saving\n",
        "\n",
        "It is always really handy to be able to save the model to disk (especially if training took some time). CatBoost have a method named `save_model` just for this purpose."
      ]
    },
    {
      "cell_type": "code",
      "execution_count": 52,
      "metadata": {
        "id": "CzeXwC03DJX2",
        "outputId": "7f98f599-6b8d-4a9a-de39-894309aa47fe",
        "colab": {
          "base_uri": "https://localhost:8080/"
        }
      },
      "outputs": [
        {
          "output_type": "execute_result",
          "data": {
            "text/plain": [
              "<catboost.core.CatBoostClassifier at 0x7cd7075cf280>"
            ]
          },
          "metadata": {},
          "execution_count": 52
        }
      ],
      "source": [
        "# Create a model and train on training set\n",
        "model = CatBoostClassifier(iterations=10, random_seed=42, logging_level='Silent')\n",
        "model.fit(train_pool)"
      ]
    },
    {
      "cell_type": "code",
      "execution_count": 53,
      "metadata": {
        "id": "P1ZO90PiDQT_"
      },
      "outputs": [],
      "source": [
        "# Save model\n",
        "model.save_model('catboost_model.dump')"
      ]
    },
    {
      "cell_type": "markdown",
      "metadata": {
        "id": "k7YlMGnoU_LK"
      },
      "source": [
        "Once the model is saved we can load it again to use."
      ]
    },
    {
      "cell_type": "code",
      "execution_count": 54,
      "metadata": {
        "id": "Sxw7hupYr-be"
      },
      "outputs": [],
      "source": [
        "# Use the saved model\n",
        "model = CatBoostClassifier()\n",
        "model.load_model('catboost_model.dump');"
      ]
    },
    {
      "cell_type": "markdown",
      "metadata": {
        "id": "p2dPv6yBr-be"
      },
      "source": [
        "## Parameters Tuning\n",
        "\n",
        "While we could always select optimal number of iterations (boosting steps) by cross-validation and learning curve plots, it is also important to play with some of model parameters, and we would like to pay some special attention to `l2_leaf_reg` and `learning_rate`.\n",
        "\n",
        "Here, we'll select these parameters using the **`hyperopt`** package.\n",
        "\n",
        "**`hyperopt`**'s job is to find the best value of a scalar-valued, possibly-stochastic function over a set of possible arguments to that function. Whereas many optimization packages will assume that these inputs are drawn from a vector space, hyperopt is different in that as it encourages us to describe our search space in more detail. By providing more information about where our function is defined, and where we think the best values are, we allow algorithms in hyperopt to search more efficiently.\n",
        "\n",
        "To know more about **`hyperopt`**, refer [here](https://hyperopt.github.io/hyperopt/)."
      ]
    },
    {
      "cell_type": "markdown",
      "metadata": {
        "id": "z4-Qo_n9lIj9"
      },
      "source": [
        "To perform hyperparameter optimization, `hyperopt.fmin()` function is used. It iterates on different sets of algorithms and their hyperparameters and then minimizes the objective function.\n",
        "\n",
        "Some of `hyperopt.fmin()`'s parameters are:\n",
        "\n",
        "- ***fn***: the objective function to minimize\n",
        "- ***space***: the space over which to search\n",
        "- ***trials***: the database in which to store all the point evaluations of the search\n",
        "- ***algo***: the search algorithm to use such as Random search, TPE (Tree Parzen Estimators), and Adaptive TPE.\n",
        "    - `hyperopt.rand.suggest` and `hyperopt.tpe.suggest` provides logic for a sequential search of the hyperparameter space\n",
        "\n",
        "To know more about **`hyperopt.fmin()`**, refer [here](https://github.com/hyperopt/hyperopt/wiki/FMin)."
      ]
    },
    {
      "cell_type": "code",
      "execution_count": 55,
      "metadata": {
        "id": "cgXJS5OHr-be"
      },
      "outputs": [],
      "source": [
        "!pip -qq install hyperopt"
      ]
    },
    {
      "cell_type": "code",
      "execution_count": 56,
      "metadata": {
        "id": "DS3JIOyrr-bf"
      },
      "outputs": [],
      "source": [
        "# Create an objective function which hyperopt needs to minimize\n",
        "import hyperopt\n",
        "\n",
        "def hyperopt_objective(params):\n",
        "    # Create model\n",
        "    model = CatBoostClassifier(\n",
        "                               l2_leaf_reg = int(params['l2_leaf_reg']),\n",
        "                               learning_rate = params['learning_rate'],\n",
        "                               iterations=500,\n",
        "                               eval_metric=metrics.Accuracy(),\n",
        "                               random_seed=42,\n",
        "                               verbose=False,\n",
        "                               loss_function=metrics.Logloss()\n",
        "                               )\n",
        "    # Perform cross-validation\n",
        "    cv_data = cv(\n",
        "                 Pool(X, y, cat_features=categorical_features_indices),\n",
        "                 model.get_params(),\n",
        "                 logging_level='Silent'\n",
        "                 )\n",
        "    # Best test accuracy\n",
        "    best_accuracy = np.max(cv_data['test-Accuracy-mean'])\n",
        "\n",
        "    return 1 - best_accuracy          # as hyperopt minimizes"
      ]
    },
    {
      "cell_type": "code",
      "execution_count": 57,
      "metadata": {
        "id": "mb1nha4zmaTe"
      },
      "outputs": [],
      "source": [
        "# Create space over which hyperopt needs to search\n",
        "'''\n",
        "   hp.qloguniform(label, low, high, q): returns a value like round(exp(uniform(low, high)) / q) * q\n",
        "   hp.uniform(label, low, high): returns a value uniformly between low and high\n",
        "'''\n",
        "params_space = {\n",
        "                'l2_leaf_reg': hyperopt.hp.qloguniform('l2_leaf_reg', 0, 2, 1),\n",
        "                'learning_rate': hyperopt.hp.uniform('learning_rate', 1e-3, 5e-1),\n",
        "                }"
      ]
    },
    {
      "cell_type": "code",
      "execution_count": 58,
      "metadata": {
        "id": "Y1vntDAymnjS"
      },
      "outputs": [],
      "source": [
        "# Create trials database to store all the point evaluations of the search\n",
        "trials = hyperopt.Trials()"
      ]
    },
    {
      "cell_type": "code",
      "execution_count": 59,
      "metadata": {
        "id": "4w8MVEoYr-bf",
        "outputId": "1de1b242-b6f4-4ec3-9cc4-5aef50259ae2",
        "colab": {
          "base_uri": "https://localhost:8080/"
        }
      },
      "outputs": [
        {
          "output_type": "stream",
          "name": "stdout",
          "text": [
            "100%|██████████| 50/50 [10:43<00:00, 12.86s/trial, best loss: 0.1661054994388328]\n",
            "Best params values: {'l2_leaf_reg': 6.0, 'learning_rate': 0.0941146532126365}\n"
          ]
        }
      ],
      "source": [
        "# Perform hyperparameter optimization\n",
        "best = hyperopt.fmin(\n",
        "                     fn= hyperopt_objective,\n",
        "                     space= params_space,\n",
        "                     algo= hyperopt.tpe.suggest,\n",
        "                     max_evals= 50,\n",
        "                     trials= trials,\n",
        "                     )\n",
        "\n",
        "print(f\"Best params values: {best}\")"
      ]
    },
    {
      "cell_type": "markdown",
      "metadata": {
        "id": "OtuuDZZYr-bf"
      },
      "source": [
        "Now let's get all cross-validation data with best parameters:"
      ]
    },
    {
      "cell_type": "code",
      "execution_count": 60,
      "metadata": {
        "id": "QFnwGfWrr-bg",
        "outputId": "c52760ba-4296-4697-8f38-0761bbf6b38b",
        "colab": {
          "base_uri": "https://localhost:8080/"
        }
      },
      "outputs": [
        {
          "output_type": "stream",
          "name": "stdout",
          "text": [
            "Training on fold [0/3]\n",
            "\n",
            "bestTest = 0.8417508418\n",
            "bestIteration = 195\n",
            "\n",
            "Training on fold [1/3]\n",
            "\n",
            "bestTest = 0.8518518519\n",
            "bestIteration = 130\n",
            "\n",
            "Training on fold [2/3]\n",
            "\n",
            "bestTest = 0.8148148148\n",
            "bestIteration = 180\n",
            "\n"
          ]
        }
      ],
      "source": [
        "# Create model with best params\n",
        "model = CatBoostClassifier(\n",
        "                           l2_leaf_reg=int(best['l2_leaf_reg']),\n",
        "                           learning_rate=best['learning_rate'],\n",
        "                           iterations=500,\n",
        "                           eval_metric=metrics.Accuracy(),\n",
        "                           random_seed=42,\n",
        "                           verbose=False,\n",
        "                           loss_function=metrics.Logloss(),\n",
        "                           )\n",
        "# Cross-validation\n",
        "cv_data = cv(Pool(X, y, cat_features=categorical_features_indices), model.get_params())"
      ]
    },
    {
      "cell_type": "code",
      "execution_count": 61,
      "metadata": {
        "id": "yv1Z52DEr-bg",
        "outputId": "5775c96f-395f-4da4-95a4-a4643d230c0a",
        "colab": {
          "base_uri": "https://localhost:8080/"
        }
      },
      "outputs": [
        {
          "output_type": "stream",
          "name": "stdout",
          "text": [
            "Precise validation accuracy score: 0.8338945005611672\n"
          ]
        }
      ],
      "source": [
        "# Accuracy score\n",
        "print('Precise validation accuracy score: {}'.format(np.max(cv_data['test-Accuracy-mean'])))"
      ]
    },
    {
      "cell_type": "markdown",
      "metadata": {
        "id": "PF3lI4Rqr-bh"
      },
      "source": [
        "Recall that with default parameters the cv score was ~0.82, and thereby some improvement can be seen above."
      ]
    },
    {
      "cell_type": "code",
      "execution_count": 61,
      "metadata": {
        "id": "sgx7ShSNfOOd"
      },
      "outputs": [],
      "source": []
    }
  ],
  "metadata": {
    "colab": {
      "provenance": [],
      "include_colab_link": true
    },
    "kernelspec": {
      "display_name": "Python 3 (ipykernel)",
      "language": "python",
      "name": "python3"
    },
    "language_info": {
      "codemirror_mode": {
        "name": "ipython",
        "version": 3
      },
      "file_extension": ".py",
      "mimetype": "text/x-python",
      "name": "python",
      "nbconvert_exporter": "python",
      "pygments_lexer": "ipython3",
      "version": "3.9.7"
    }
  },
  "nbformat": 4,
  "nbformat_minor": 0
}