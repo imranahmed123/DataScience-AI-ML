{
  "nbformat": 4,
  "nbformat_minor": 5,
  "metadata": {
    "kernelspec": {
      "display_name": "Python 3",
      "name": "python3"
    },
    "language_info": {
      "codemirror_mode": {
        "name": "ipython",
        "version": 3
      },
      "file_extension": ".py",
      "mimetype": "text/x-python",
      "name": "python",
      "nbconvert_exporter": "python",
      "pygments_lexer": "ipython3",
      "version": "3.9.2"
    },
    "colab": {
      "provenance": [],
      "machine_shape": "hm",
      "include_colab_link": true
    }
  },
  "cells": [
    {
      "cell_type": "markdown",
      "metadata": {
        "id": "view-in-github",
        "colab_type": "text"
      },
      "source": [
        "<a href=\"https://colab.research.google.com/github/imranahmed123/datascience-ai-ml/blob/main/M7_NB_MiniProject_3_Complex_Analytics_Pyspark.ipynb\" target=\"_parent\"><img src=\"https://colab.research.google.com/assets/colab-badge.svg\" alt=\"Open In Colab\"/></a>"
      ]
    },
    {
      "cell_type": "markdown",
      "metadata": {
        "id": "correct-ecology"
      },
      "source": [
        "# Advanced Certification Program in Computational Data Science\n",
        "## A program by IISc and TalentSprint\n",
        "### Mini-Project: Complex Analytics using Pyspark"
      ],
      "id": "correct-ecology"
    },
    {
      "cell_type": "markdown",
      "metadata": {
        "id": "terminal-strip"
      },
      "source": [
        "## Problem Statement"
      ],
      "id": "terminal-strip"
    },
    {
      "cell_type": "markdown",
      "metadata": {
        "id": "supported-supplement"
      },
      "source": [
        "Perform complex analytics on a network intrusion dataset using Pyspark"
      ],
      "id": "supported-supplement"
    },
    {
      "cell_type": "markdown",
      "metadata": {
        "id": "decimal-replication"
      },
      "source": [
        "## Learning Objectives"
      ],
      "id": "decimal-replication"
    },
    {
      "cell_type": "markdown",
      "metadata": {
        "id": "informational-yacht"
      },
      "source": [
        "At the end of the mini-project, you will be able to :\n",
        "\n",
        "* analyze the data using Pyspark\n",
        "* implement RDD based operations on the data\n",
        "* derive insights from the complex data"
      ],
      "id": "informational-yacht"
    },
    {
      "cell_type": "markdown",
      "metadata": {
        "id": "quality-approval"
      },
      "source": [
        "### Dataset"
      ],
      "id": "quality-approval"
    },
    {
      "cell_type": "markdown",
      "metadata": {
        "id": "biblical-syracuse"
      },
      "source": [
        "The dataset chosen for this mini-project is a [10% subset](https://www.kdd.org/kdd-cup/view/kdd-cup-1999/Data) of the **[KDD Cup 1999 dataset](http://kdd.ics.uci.edu/databases/kddcup99/task.html)** (Computer network intrusion detection). This is the dataset used for the Third International Knowledge Discovery and Data Mining Tools Competition. The competition task was to build a network intrusion detector, a predictive model capable of distinguishing between ``bad`` connections, called intrusions or attacks, and ``good`` normal connections. This database contains a standard set of data to be audited, which includes a wide variety of intrusions simulated in a military network environment."
      ],
      "id": "biblical-syracuse"
    },
    {
      "cell_type": "markdown",
      "metadata": {
        "id": "listed-numbers"
      },
      "source": [
        "## Information"
      ],
      "id": "listed-numbers"
    },
    {
      "cell_type": "markdown",
      "metadata": {
        "id": "skilled-concern"
      },
      "source": [
        "Since 1999, KDD’99 has been the most widely used data set for the evaluation of anomaly detection methods. This data set is prepared by S. J. Stolfo and is built based on the data captured in DARPA’98 IDS evaluation program. DARPA’98 is about 4 gigabytes of compressed raw (binary) tcpdump data of 7 weeks of network traffic, which can be processed into about 5 million connection\n",
        "records, each with about 100 bytes. KDD dataset consists of approximately 4,900,000 single connection vectors each of which contains 41 features and is labeled as either normal or an attack, with exactly one specific attack type. The simulated attacks fall into one of the following four categories:\n",
        "\n",
        "* Denial of Service Attack (DoS): making some computing or memory resources too busy so that they deny legitimate users access to these resources.\n",
        "* User to Root Attack (U2R): unauthorized access from a remote machine according to exploit machine's vulnerabilities.\n",
        "* Remote to Local Attack (R2L): unauthorized access to local super user (root) privileges using system's susceptibility.\n",
        "* Probing Attack: host and port scans as precursors to other attacks. An attacker scans a network to gather information or find known vulnerabilities.\n",
        "\n",
        "KDD’99 features can be classified into three groups:\n",
        "\n",
        "1) Basic features: this category encapsulates all the attributes that can be extracted from a TCP/IP connection. Most of these features leading to an implicit delay in detection.\n",
        "\n",
        "2) Traffic features: this category includes features that are computed with respect to a window interval and is divided into two groups:\n",
        "\n",
        "  * \"same host\" features\n",
        "\n",
        "  * \"same service\" features\n",
        "\n",
        "3) Content features: unlike most of the DoS and Probing attacks, the R2L and U2R attacks don’t have any intrusion frequent sequential patterns. This is because the DoS and Probing attacks involve many connections to some host(s) in a very short period of time, however the R2L and U2R attacks are embedded in the data portions of the packets, and normally involve only a single connection. To detect these kinds of attacks, we need some features to be able to look for suspicious behavior in the data portion, e.g., the number of failed login attempts. These features are called content features."
      ],
      "id": "skilled-concern"
    },
    {
      "cell_type": "markdown",
      "metadata": {
        "id": "BewwTjZaJojg"
      },
      "source": [
        "## Grading = 10 Points"
      ],
      "id": "BewwTjZaJojg"
    },
    {
      "cell_type": "code",
      "metadata": {
        "id": "extreme-working",
        "cellView": "form",
        "outputId": "5f9a2111-ca06-4515-ad80-68a5d3f7aac5",
        "colab": {
          "base_uri": "https://localhost:8080/"
        }
      },
      "source": [
        "#@title Install packages and Download Dataset\n",
        "!pip -qq install pyspark\n",
        "# Download the data\n",
        "!wget -qq https://cdn.iisc.talentsprint.com/CDS/Datasets/kddcup.data_10_percent.gz\n",
        "# Download feature names\n",
        "!wget -qq https://cdn.iisc.talentsprint.com/CDS/Datasets/kddcup.names\n",
        "print(\"Successfully Installed packages and downloaded datasets!\")"
      ],
      "id": "extreme-working",
      "execution_count": 3,
      "outputs": [
        {
          "output_type": "stream",
          "name": "stdout",
          "text": [
            "Successfully Installed packages and downloaded datasets!\n"
          ]
        }
      ]
    },
    {
      "cell_type": "markdown",
      "metadata": {
        "id": "6VwMxTT0KObc"
      },
      "source": [
        "### Create Spark Session and load the data (1 point)"
      ],
      "id": "6VwMxTT0KObc"
    },
    {
      "cell_type": "markdown",
      "metadata": {
        "id": "italic-gross"
      },
      "source": [
        "#### Import required packages"
      ],
      "id": "italic-gross"
    },
    {
      "cell_type": "code",
      "metadata": {
        "id": "published-remove"
      },
      "source": [
        "from pyspark.sql import SparkSession\n",
        "from pyspark.sql import SQLContext\n",
        "from pyspark.sql.functions import *\n",
        "from pyspark.mllib.stat import Statistics\n",
        "import seaborn as sns\n",
        "from matplotlib import pyplot as plt\n",
        "import numpy as np\n",
        "import pandas as pd\n",
        "from operator import add"
      ],
      "id": "published-remove",
      "execution_count": 4,
      "outputs": []
    },
    {
      "cell_type": "markdown",
      "metadata": {
        "id": "proved-pressure"
      },
      "source": [
        "#### Create a Spark session\n",
        "\n",
        "A Spark session is a combined entry point of a Spark application, which came into implementation from Spark 2.0 (Instead of having various contexts, everything is encapsulated in a Spark session)"
      ],
      "id": "proved-pressure"
    },
    {
      "cell_type": "code",
      "metadata": {
        "id": "confused-xerox"
      },
      "source": [
        "# Start spark session\n",
        "# YOUR CODE HERE\n",
        "# Start spark session\n",
        "from pyspark.sql import SparkSession\n",
        "spark = SparkSession.builder.appName(\"KDD_Cup_Analysis\").getOrCreate()"
      ],
      "id": "confused-xerox",
      "execution_count": 5,
      "outputs": []
    },
    {
      "cell_type": "markdown",
      "metadata": {
        "id": "coastal-communications"
      },
      "source": [
        "#### Creating an RDD from a File\n",
        "\n",
        "The most common way of creating an RDD is to load it from a file. Notice that Spark's textFile can handle compressed files directly."
      ],
      "id": "coastal-communications"
    },
    {
      "cell_type": "code",
      "metadata": {
        "id": "accredited-venture"
      },
      "source": [
        "# YOUR CODE HERE to access sparkContext from sparkSession instance.\n",
        "sc = spark.sparkContext"
      ],
      "id": "accredited-venture",
      "execution_count": 6,
      "outputs": []
    },
    {
      "cell_type": "markdown",
      "metadata": {
        "id": "pY0QylZEYTvg"
      },
      "source": [
        "Load the dataset and show the top 10 records\n",
        "\n",
        "Hint: sparkContext.textFile()"
      ],
      "id": "pY0QylZEYTvg"
    },
    {
      "cell_type": "code",
      "metadata": {
        "id": "wound-repository",
        "outputId": "f358a376-db5a-4aa8-adf9-290ebf2814b2",
        "colab": {
          "base_uri": "https://localhost:8080/"
        }
      },
      "source": [
        "filePath = \"/content/kddcup.data_10_percent.gz\"\n",
        "# YOUR CODE HERE\n",
        "\n",
        "from pyspark.sql.types import StructType, StructField, StringType\n",
        "filePath = \"./kddcup.data_10_percent.gz\"\n",
        "# Reading the dataset\n",
        "data_rdd = sc.textFile(filePath)\n",
        "# Display first 5 rows\n",
        "data_rdd.take(5)\n",
        "\n",
        "# Show top 10 records\n",
        "top_10_records = data_rdd.take(10)\n",
        "\n",
        "# Print results\n",
        "for record in top_10_records:\n",
        "    print(record)\n"
      ],
      "id": "wound-repository",
      "execution_count": 7,
      "outputs": [
        {
          "output_type": "stream",
          "name": "stdout",
          "text": [
            "0,tcp,http,SF,181,5450,0,0,0,0,0,1,0,0,0,0,0,0,0,0,0,0,8,8,0.00,0.00,0.00,0.00,1.00,0.00,0.00,9,9,1.00,0.00,0.11,0.00,0.00,0.00,0.00,0.00,normal.\n",
            "0,tcp,http,SF,239,486,0,0,0,0,0,1,0,0,0,0,0,0,0,0,0,0,8,8,0.00,0.00,0.00,0.00,1.00,0.00,0.00,19,19,1.00,0.00,0.05,0.00,0.00,0.00,0.00,0.00,normal.\n",
            "0,tcp,http,SF,235,1337,0,0,0,0,0,1,0,0,0,0,0,0,0,0,0,0,8,8,0.00,0.00,0.00,0.00,1.00,0.00,0.00,29,29,1.00,0.00,0.03,0.00,0.00,0.00,0.00,0.00,normal.\n",
            "0,tcp,http,SF,219,1337,0,0,0,0,0,1,0,0,0,0,0,0,0,0,0,0,6,6,0.00,0.00,0.00,0.00,1.00,0.00,0.00,39,39,1.00,0.00,0.03,0.00,0.00,0.00,0.00,0.00,normal.\n",
            "0,tcp,http,SF,217,2032,0,0,0,0,0,1,0,0,0,0,0,0,0,0,0,0,6,6,0.00,0.00,0.00,0.00,1.00,0.00,0.00,49,49,1.00,0.00,0.02,0.00,0.00,0.00,0.00,0.00,normal.\n",
            "0,tcp,http,SF,217,2032,0,0,0,0,0,1,0,0,0,0,0,0,0,0,0,0,6,6,0.00,0.00,0.00,0.00,1.00,0.00,0.00,59,59,1.00,0.00,0.02,0.00,0.00,0.00,0.00,0.00,normal.\n",
            "0,tcp,http,SF,212,1940,0,0,0,0,0,1,0,0,0,0,0,0,0,0,0,0,1,2,0.00,0.00,0.00,0.00,1.00,0.00,1.00,1,69,1.00,0.00,1.00,0.04,0.00,0.00,0.00,0.00,normal.\n",
            "0,tcp,http,SF,159,4087,0,0,0,0,0,1,0,0,0,0,0,0,0,0,0,0,5,5,0.00,0.00,0.00,0.00,1.00,0.00,0.00,11,79,1.00,0.00,0.09,0.04,0.00,0.00,0.00,0.00,normal.\n",
            "0,tcp,http,SF,210,151,0,0,0,0,0,1,0,0,0,0,0,0,0,0,0,0,8,8,0.00,0.00,0.00,0.00,1.00,0.00,0.00,8,89,1.00,0.00,0.12,0.04,0.00,0.00,0.00,0.00,normal.\n",
            "0,tcp,http,SF,212,786,0,0,0,1,0,1,0,0,0,0,0,0,0,0,0,0,8,8,0.00,0.00,0.00,0.00,1.00,0.00,0.00,8,99,1.00,0.00,0.12,0.05,0.00,0.00,0.00,0.00,normal.\n"
          ]
        }
      ]
    },
    {
      "cell_type": "markdown",
      "metadata": {
        "id": "hollow-offense"
      },
      "source": [
        "### RDD Basic Operations (4 points)"
      ],
      "id": "hollow-offense"
    },
    {
      "cell_type": "markdown",
      "metadata": {
        "id": "varying-amateur"
      },
      "source": [
        "#### Convert the data to CSV format (list of elements).\n",
        "\n",
        "To create a Dataframe using the RDD file, convert each row into a list by splitting with a comma (,)\n",
        "\n",
        "Hint: `map()` and `split()`"
      ],
      "id": "varying-amateur"
    },
    {
      "cell_type": "code",
      "metadata": {
        "id": "designed-malta",
        "outputId": "26fa8434-8c76-4198-93dc-328d11326842",
        "colab": {
          "base_uri": "https://localhost:8080/"
        }
      },
      "source": [
        "# YOUR CODE HERE\n",
        "from pyspark.sql import SparkSession\n",
        "\n",
        "# Start a Spark session\n",
        "spark = SparkSession.builder.appName(\"KDD_Cup_Analysis\").getOrCreate()\n",
        "\n",
        "# Access SparkContext\n",
        "sc = spark.sparkContext\n",
        "\n",
        "# Load the dataset\n",
        "file_path = \"kddcup.data_10_percent.gz\"\n",
        "\n",
        "# Read as RDD\n",
        "data_rdd = sc.textFile(file_path)\n",
        "\n",
        "# Convert each row into a list by splitting with a comma\n",
        "csv_rdd = data_rdd.map(lambda row: row.split(\",\"))\n",
        "\n",
        "# Show top 10 records in list format\n",
        "top_10_csv_records = csv_rdd.take(10)\n",
        "\n",
        "# Print results\n",
        "for record in top_10_csv_records:\n",
        "    print(record)\n"
      ],
      "id": "designed-malta",
      "execution_count": 8,
      "outputs": [
        {
          "output_type": "stream",
          "name": "stdout",
          "text": [
            "['0', 'tcp', 'http', 'SF', '181', '5450', '0', '0', '0', '0', '0', '1', '0', '0', '0', '0', '0', '0', '0', '0', '0', '0', '8', '8', '0.00', '0.00', '0.00', '0.00', '1.00', '0.00', '0.00', '9', '9', '1.00', '0.00', '0.11', '0.00', '0.00', '0.00', '0.00', '0.00', 'normal.']\n",
            "['0', 'tcp', 'http', 'SF', '239', '486', '0', '0', '0', '0', '0', '1', '0', '0', '0', '0', '0', '0', '0', '0', '0', '0', '8', '8', '0.00', '0.00', '0.00', '0.00', '1.00', '0.00', '0.00', '19', '19', '1.00', '0.00', '0.05', '0.00', '0.00', '0.00', '0.00', '0.00', 'normal.']\n",
            "['0', 'tcp', 'http', 'SF', '235', '1337', '0', '0', '0', '0', '0', '1', '0', '0', '0', '0', '0', '0', '0', '0', '0', '0', '8', '8', '0.00', '0.00', '0.00', '0.00', '1.00', '0.00', '0.00', '29', '29', '1.00', '0.00', '0.03', '0.00', '0.00', '0.00', '0.00', '0.00', 'normal.']\n",
            "['0', 'tcp', 'http', 'SF', '219', '1337', '0', '0', '0', '0', '0', '1', '0', '0', '0', '0', '0', '0', '0', '0', '0', '0', '6', '6', '0.00', '0.00', '0.00', '0.00', '1.00', '0.00', '0.00', '39', '39', '1.00', '0.00', '0.03', '0.00', '0.00', '0.00', '0.00', '0.00', 'normal.']\n",
            "['0', 'tcp', 'http', 'SF', '217', '2032', '0', '0', '0', '0', '0', '1', '0', '0', '0', '0', '0', '0', '0', '0', '0', '0', '6', '6', '0.00', '0.00', '0.00', '0.00', '1.00', '0.00', '0.00', '49', '49', '1.00', '0.00', '0.02', '0.00', '0.00', '0.00', '0.00', '0.00', 'normal.']\n",
            "['0', 'tcp', 'http', 'SF', '217', '2032', '0', '0', '0', '0', '0', '1', '0', '0', '0', '0', '0', '0', '0', '0', '0', '0', '6', '6', '0.00', '0.00', '0.00', '0.00', '1.00', '0.00', '0.00', '59', '59', '1.00', '0.00', '0.02', '0.00', '0.00', '0.00', '0.00', '0.00', 'normal.']\n",
            "['0', 'tcp', 'http', 'SF', '212', '1940', '0', '0', '0', '0', '0', '1', '0', '0', '0', '0', '0', '0', '0', '0', '0', '0', '1', '2', '0.00', '0.00', '0.00', '0.00', '1.00', '0.00', '1.00', '1', '69', '1.00', '0.00', '1.00', '0.04', '0.00', '0.00', '0.00', '0.00', 'normal.']\n",
            "['0', 'tcp', 'http', 'SF', '159', '4087', '0', '0', '0', '0', '0', '1', '0', '0', '0', '0', '0', '0', '0', '0', '0', '0', '5', '5', '0.00', '0.00', '0.00', '0.00', '1.00', '0.00', '0.00', '11', '79', '1.00', '0.00', '0.09', '0.04', '0.00', '0.00', '0.00', '0.00', 'normal.']\n",
            "['0', 'tcp', 'http', 'SF', '210', '151', '0', '0', '0', '0', '0', '1', '0', '0', '0', '0', '0', '0', '0', '0', '0', '0', '8', '8', '0.00', '0.00', '0.00', '0.00', '1.00', '0.00', '0.00', '8', '89', '1.00', '0.00', '0.12', '0.04', '0.00', '0.00', '0.00', '0.00', 'normal.']\n",
            "['0', 'tcp', 'http', 'SF', '212', '786', '0', '0', '0', '1', '0', '1', '0', '0', '0', '0', '0', '0', '0', '0', '0', '0', '8', '8', '0.00', '0.00', '0.00', '0.00', '1.00', '0.00', '0.00', '8', '99', '1.00', '0.00', '0.12', '0.05', '0.00', '0.00', '0.00', '0.00', 'normal.']\n"
          ]
        }
      ]
    },
    {
      "cell_type": "markdown",
      "metadata": {
        "id": "restricted-bonus"
      },
      "source": [
        "Count how many interactions are normal and attacked in the dataset.\n",
        "\n",
        "Hint: apply `filter` on each row, except the rows with 'normal.', all the remaining values are attacked."
      ],
      "id": "restricted-bonus"
    },
    {
      "cell_type": "code",
      "metadata": {
        "id": "architectural-appraisal",
        "outputId": "cb57f1f2-5eef-435e-cfc1-771564176bb0",
        "colab": {
          "base_uri": "https://localhost:8080/"
        }
      },
      "source": [
        "# YOUR CODE HERE\n",
        "\n",
        "# Filter normal and attack interactions\n",
        "normal_count = csv_rdd.filter(lambda row: row[-1] == \"normal.\").count()\n",
        "attack_count = csv_rdd.filter(lambda row: row[-1] != \"normal.\").count()\n",
        "\n",
        "# Print results\n",
        "print(f\"Normal Interactions: {normal_count}\")\n",
        "print(f\"Attacked Interactions: {attack_count}\")"
      ],
      "id": "architectural-appraisal",
      "execution_count": 9,
      "outputs": [
        {
          "output_type": "stream",
          "name": "stdout",
          "text": [
            "Normal Interactions: 97278\n",
            "Attacked Interactions: 396743\n"
          ]
        }
      ]
    },
    {
      "cell_type": "markdown",
      "metadata": {
        "id": "flying-apartment"
      },
      "source": [
        "#### Protocol and Service combinations using Cartesian product\n",
        "\n",
        "We can compute the Cartesian product between two RDDs by using the Cartesian transformation. It returns all possible pairs of elements between two RDDs. In our case, we will use it to generate all the possible combinations between Service and Protocol in our network interactions.\n",
        "\n",
        "First of all, isolate each collection of values in two separate RDDs. For that use `distinct` on the CSV-parsed dataset. From the dataset description, we know that protocol is the second column and service is the third."
      ],
      "id": "flying-apartment"
    },
    {
      "cell_type": "code",
      "metadata": {
        "id": "automatic-turning"
      },
      "source": [
        "# YOUR CODE HERE\n",
        "\n",
        "from pyspark.sql import SparkSession\n",
        "\n",
        "# Start a Spark session\n",
        "spark = SparkSession.builder.appName(\"KDD_Cup_Analysis\").getOrCreate()\n",
        "\n",
        "# Access SparkContext\n",
        "sc = spark.sparkContext\n",
        "\n",
        "# Load the dataset\n",
        "file_path = \"kddcup.data_10_percent.gz\"\n",
        "\n",
        "# Read as RDD\n",
        "data_rdd = sc.textFile(file_path)\n",
        "\n",
        "# Convert each row into a list by splitting with a comma\n",
        "csv_rdd = data_rdd.map(lambda row: row.split(\",\"))\n",
        "\n",
        "# Isolate protocol (column index 1) and service (column index 2) as separate RDDs\n",
        "protocol_rdd = csv_rdd.map(lambda row: row[1]).distinct()\n",
        "service_rdd = csv_rdd.map(lambda row: row[2]).distinct()\n",
        "\n",
        "\n"
      ],
      "id": "automatic-turning",
      "execution_count": 11,
      "outputs": []
    },
    {
      "cell_type": "markdown",
      "metadata": {
        "id": "alleged-ranking"
      },
      "source": [
        "Now let's do the Cartesian product\n",
        "\n",
        "Hint: [Cartesian](https://spark.apache.org/docs/latest/api/python/reference/api/pyspark.RDD.cartesian.html#:~:text=Return%20the%20Cartesian%20product%20of,and%20b%20is%20in%20other%20.)"
      ],
      "id": "alleged-ranking"
    },
    {
      "cell_type": "code",
      "metadata": {
        "id": "focused-circulation",
        "outputId": "b8a39cda-9a51-47d5-d316-f6db1bc567ed",
        "colab": {
          "base_uri": "https://localhost:8080/"
        }
      },
      "source": [
        "# YOUR CODE HERE\n",
        "# Compute Cartesian product\n",
        "protocol_service_combinations = protocol_rdd.cartesian(service_rdd)\n",
        "\n",
        "# Collect and display the first 10 combinations\n",
        "top_10_combinations = protocol_service_combinations.take(10)\n",
        "\n",
        "# Print results\n",
        "for combination in top_10_combinations:\n",
        "    print(combination)"
      ],
      "id": "focused-circulation",
      "execution_count": 12,
      "outputs": [
        {
          "output_type": "stream",
          "name": "stdout",
          "text": [
            "('tcp', 'http')\n",
            "('tcp', 'smtp')\n",
            "('tcp', 'finger')\n",
            "('tcp', 'domain_u')\n",
            "('tcp', 'auth')\n",
            "('tcp', 'telnet')\n",
            "('tcp', 'ftp')\n",
            "('tcp', 'eco_i')\n",
            "('tcp', 'ntp_u')\n",
            "('tcp', 'ecr_i')\n"
          ]
        }
      ]
    },
    {
      "cell_type": "markdown",
      "metadata": {
        "id": "boolean-representation"
      },
      "source": [
        "#### Inspecting interaction duration\n",
        "\n",
        "select the total duration of interactions for normal and attack intrusion types.\n",
        "* Use the above filtered normal and attacked data and convert the duration column to integer type using `map()`\n",
        "* get the sum of duration by applying `reduce` on both the data using add operator\n",
        "* find the mean of duration by dividing the sum with count\n",
        "\n",
        "Hint: [reduce()](https://spark.apache.org/docs/latest/api/python/reference/api/pyspark.RDD.reduce.html)"
      ],
      "id": "boolean-representation"
    },
    {
      "cell_type": "code",
      "metadata": {
        "id": "requested-amateur"
      },
      "source": [
        "# YOUR CODE HERE\n",
        "\n",
        "from pyspark.sql import SparkSession\n",
        "from operator import add\n",
        "\n",
        "# Start a Spark session\n",
        "spark = SparkSession.builder.appName(\"KDD_Cup_Analysis\").getOrCreate()\n",
        "\n",
        "# Access SparkContext\n",
        "sc = spark.sparkContext\n",
        "\n",
        "# Load the dataset\n",
        "file_path = \"kddcup.data_10_percent.gz\"\n",
        "\n",
        "# Read as RDD\n",
        "data_rdd = sc.textFile(file_path)\n",
        "\n",
        "# Convert each row into a list by splitting with a comma\n",
        "csv_rdd = data_rdd.map(lambda row: row.split(\",\"))\n",
        "\n",
        "# Filter normal and attack interactions\n",
        "normal_rdd = csv_rdd.filter(lambda row: row[-1] == \"normal.\")\n",
        "attack_rdd = csv_rdd.filter(lambda row: row[-1] != \"normal.\")"
      ],
      "id": "requested-amateur",
      "execution_count": 13,
      "outputs": []
    },
    {
      "cell_type": "code",
      "metadata": {
        "id": "bulgarian-confidentiality"
      },
      "source": [
        "# YOUR CODE HERE\n",
        "# Convert the duration column (index 0) to integer\n",
        "normal_durations = normal_rdd.map(lambda row: int(row[0]))\n",
        "attack_durations = attack_rdd.map(lambda row: int(row[0]))\n",
        "\n",
        "# Calculate total duration using reduce()\n",
        "total_normal_duration = normal_durations.reduce(add)\n",
        "total_attack_duration = attack_durations.reduce(add)\n"
      ],
      "id": "bulgarian-confidentiality",
      "execution_count": 14,
      "outputs": []
    },
    {
      "cell_type": "code",
      "metadata": {
        "id": "directed-officer",
        "outputId": "785a748f-2b3f-44e6-e313-b61aac02b7a3",
        "colab": {
          "base_uri": "https://localhost:8080/"
        }
      },
      "source": [
        "# YOUR CODE HERE\n",
        "# Calculate count of interactions\n",
        "normal_count = normal_rdd.count()\n",
        "attack_count = attack_rdd.count()\n",
        "\n",
        "# Calculate mean duration\n",
        "mean_normal_duration = total_normal_duration / normal_count if normal_count > 0 else 0\n",
        "mean_attack_duration = total_attack_duration / attack_count if attack_count > 0 else 0\n",
        "\n",
        "# Print results\n",
        "print(f\"Total Normal Duration: {total_normal_duration}\")\n",
        "print(f\"Mean Normal Duration: {mean_normal_duration}\")\n",
        "print(f\"Total Attack Duration: {total_attack_duration}\")\n",
        "print(f\"Mean Attack Duration: {mean_attack_duration}\")"
      ],
      "id": "directed-officer",
      "execution_count": 15,
      "outputs": [
        {
          "output_type": "stream",
          "name": "stdout",
          "text": [
            "Total Normal Duration: 21075991\n",
            "Mean Normal Duration: 216.65732231336992\n",
            "Total Attack Duration: 2626792\n",
            "Mean Attack Duration: 6.620890601724542\n"
          ]
        }
      ]
    },
    {
      "cell_type": "markdown",
      "metadata": {
        "id": "tested-auction"
      },
      "source": [
        "#### Data aggregation with key/value pair RDDs\n",
        "\n",
        "We can use all the transformations and actions available for normal RDDs with key/value pair RDDs. We just need to make the functions work with pair elements.\n",
        "\n",
        "* create a key/value pair of intrusion type and duration\n",
        "* calculate the total duration of each intrusion type using `reduceByKey()`"
      ],
      "id": "tested-auction"
    },
    {
      "cell_type": "code",
      "metadata": {
        "id": "chicken-logging",
        "outputId": "579920b1-3dd6-4815-fd4b-8ec9c98d4371",
        "colab": {
          "base_uri": "https://localhost:8080/"
        }
      },
      "source": [
        "# YOUR CODE HERE\n",
        "\n",
        "from pyspark.sql import SparkSession\n",
        "from operator import add\n",
        "\n",
        "# Start a Spark session\n",
        "spark = SparkSession.builder.appName(\"KDD_Cup_Analysis\").getOrCreate()\n",
        "\n",
        "# Access SparkContext\n",
        "sc = spark.sparkContext\n",
        "\n",
        "# Load the dataset\n",
        "file_path = \"kddcup.data_10_percent.gz\"\n",
        "\n",
        "# Read as RDD\n",
        "data_rdd = sc.textFile(file_path)\n",
        "\n",
        "# Convert each row into a list by splitting with a comma\n",
        "csv_rdd = data_rdd.map(lambda row: row.split(\",\"))\n",
        "\n",
        "# Create a key-value RDD where key = intrusion type, value = duration\n",
        "key_value_rdd = csv_rdd.map(lambda row: (row[-1], int(row[0])))\n",
        "\n",
        "# Calculate total duration for each intrusion type using reduceByKey()\n",
        "intrusion_duration_rdd = key_value_rdd.reduceByKey(add)\n",
        "\n",
        "# Collect results\n",
        "intrusion_duration_results = intrusion_duration_rdd.collect()\n",
        "\n",
        "# Print results\n",
        "for intrusion_type, total_duration in intrusion_duration_results:\n",
        "    print(f\"Intrusion Type: {intrusion_type}, Total Duration: {total_duration}\")\n"
      ],
      "id": "chicken-logging",
      "execution_count": 16,
      "outputs": [
        {
          "output_type": "stream",
          "name": "stdout",
          "text": [
            "Intrusion Type: normal., Total Duration: 21075991\n",
            "Intrusion Type: buffer_overflow., Total Duration: 2751\n",
            "Intrusion Type: loadmodule., Total Duration: 326\n",
            "Intrusion Type: perl., Total Duration: 124\n",
            "Intrusion Type: neptune., Total Duration: 0\n",
            "Intrusion Type: smurf., Total Duration: 0\n",
            "Intrusion Type: guess_passwd., Total Duration: 144\n",
            "Intrusion Type: pod., Total Duration: 0\n",
            "Intrusion Type: teardrop., Total Duration: 0\n",
            "Intrusion Type: portsweep., Total Duration: 1991911\n",
            "Intrusion Type: ipsweep., Total Duration: 43\n",
            "Intrusion Type: land., Total Duration: 0\n",
            "Intrusion Type: ftp_write., Total Duration: 259\n",
            "Intrusion Type: back., Total Duration: 284\n",
            "Intrusion Type: imap., Total Duration: 72\n",
            "Intrusion Type: satan., Total Duration: 64\n",
            "Intrusion Type: phf., Total Duration: 18\n",
            "Intrusion Type: nmap., Total Duration: 0\n",
            "Intrusion Type: multihop., Total Duration: 1288\n",
            "Intrusion Type: warezmaster., Total Duration: 301\n",
            "Intrusion Type: warezclient., Total Duration: 627563\n",
            "Intrusion Type: spy., Total Duration: 636\n",
            "Intrusion Type: rootkit., Total Duration: 1008\n"
          ]
        }
      ]
    },
    {
      "cell_type": "markdown",
      "metadata": {
        "id": "balanced-table"
      },
      "source": [
        "### Create a DataFrame with the header as features (2 points)"
      ],
      "id": "balanced-table"
    },
    {
      "cell_type": "markdown",
      "metadata": {
        "id": "Y-S3RgOYdghm"
      },
      "source": [
        "* Read the features (*kddcup.names*) and preprocess.\n",
        "\n",
        "    Hints:\n",
        "    - Each feature description appears row-wise in *kddcup.names*\n",
        "    - The first row consists of distinct values of intrusion_types\n",
        "    - Add or move the *intrusion_types* column name to the last, to align with the data.\n",
        "    - Each feature is represented as *feature_name*: *type*, remove *type* after colon (:)"
      ],
      "id": "Y-S3RgOYdghm"
    },
    {
      "cell_type": "code",
      "metadata": {
        "id": "stylish-chance",
        "outputId": "df4fcffa-ece5-401c-ee41-69e7ee4e3db5",
        "colab": {
          "base_uri": "https://localhost:8080/"
        }
      },
      "source": [
        "# YOUR CODE HERE\n",
        "from pyspark.sql import SparkSession\n",
        "\n",
        "# Start a Spark session\n",
        "spark = SparkSession.builder.appName(\"KDD_Cup_Analysis\").getOrCreate()\n",
        "\n",
        "# Access SparkContext\n",
        "sc = spark.sparkContext\n",
        "\n",
        "# Load dataset files\n",
        "names_file_path = \"kddcup.names\"\n",
        "data_file_path = \"kddcup.data_10_percent.gz\"\n",
        "\n",
        "# Read the kddcup.names file as an RDD\n",
        "names_rdd = sc.textFile(names_file_path)\n",
        "\n",
        "# Convert RDD to a list for processing\n",
        "names_list = names_rdd.collect()\n",
        "\n",
        "# Extract feature names by removing types (after the colon)\n",
        "feature_names = [line.split(\":\")[0] for line in names_list[1:]]  # Skipping first row\n",
        "\n",
        "# Extract intrusion types from the first row\n",
        "intrusion_types = names_list[0]\n",
        "\n",
        "# Append 'intrusion_types' column name at the end to align with the data\n",
        "feature_names.append(\"intrusion_types\")\n",
        "\n",
        "# Read the data file as an RDD\n",
        "data_rdd = sc.textFile(data_file_path)\n",
        "\n",
        "# Convert each row into a list by splitting with a comma\n",
        "csv_rdd = data_rdd.map(lambda row: row.split(\",\"))\n",
        "\n",
        "# Create a DataFrame from the RDD with extracted feature names\n",
        "df = spark.createDataFrame(csv_rdd, schema=feature_names)\n",
        "\n",
        "# Show the first few rows\n",
        "df.show(10)\n"
      ],
      "id": "stylish-chance",
      "execution_count": 17,
      "outputs": [
        {
          "output_type": "stream",
          "name": "stdout",
          "text": [
            "+--------+-------------+-------+----+---------+---------+----+--------------+------+---+-----------------+---------+---------------+----------+------------+--------+------------------+----------+----------------+-----------------+-------------+--------------+-----+---------+-----------+---------------+-----------+---------------+-------------+-------------+------------------+--------------+------------------+----------------------+----------------------+---------------------------+---------------------------+--------------------+------------------------+--------------------+------------------------+---------------+\n",
            "|duration|protocol_type|service|flag|src_bytes|dst_bytes|land|wrong_fragment|urgent|hot|num_failed_logins|logged_in|num_compromised|root_shell|su_attempted|num_root|num_file_creations|num_shells|num_access_files|num_outbound_cmds|is_host_login|is_guest_login|count|srv_count|serror_rate|srv_serror_rate|rerror_rate|srv_rerror_rate|same_srv_rate|diff_srv_rate|srv_diff_host_rate|dst_host_count|dst_host_srv_count|dst_host_same_srv_rate|dst_host_diff_srv_rate|dst_host_same_src_port_rate|dst_host_srv_diff_host_rate|dst_host_serror_rate|dst_host_srv_serror_rate|dst_host_rerror_rate|dst_host_srv_rerror_rate|intrusion_types|\n",
            "+--------+-------------+-------+----+---------+---------+----+--------------+------+---+-----------------+---------+---------------+----------+------------+--------+------------------+----------+----------------+-----------------+-------------+--------------+-----+---------+-----------+---------------+-----------+---------------+-------------+-------------+------------------+--------------+------------------+----------------------+----------------------+---------------------------+---------------------------+--------------------+------------------------+--------------------+------------------------+---------------+\n",
            "|       0|          tcp|   http|  SF|      181|     5450|   0|             0|     0|  0|                0|        1|              0|         0|           0|       0|                 0|         0|               0|                0|            0|             0|    8|        8|       0.00|           0.00|       0.00|           0.00|         1.00|         0.00|              0.00|             9|                 9|                  1.00|                  0.00|                       0.11|                       0.00|                0.00|                    0.00|                0.00|                    0.00|        normal.|\n",
            "|       0|          tcp|   http|  SF|      239|      486|   0|             0|     0|  0|                0|        1|              0|         0|           0|       0|                 0|         0|               0|                0|            0|             0|    8|        8|       0.00|           0.00|       0.00|           0.00|         1.00|         0.00|              0.00|            19|                19|                  1.00|                  0.00|                       0.05|                       0.00|                0.00|                    0.00|                0.00|                    0.00|        normal.|\n",
            "|       0|          tcp|   http|  SF|      235|     1337|   0|             0|     0|  0|                0|        1|              0|         0|           0|       0|                 0|         0|               0|                0|            0|             0|    8|        8|       0.00|           0.00|       0.00|           0.00|         1.00|         0.00|              0.00|            29|                29|                  1.00|                  0.00|                       0.03|                       0.00|                0.00|                    0.00|                0.00|                    0.00|        normal.|\n",
            "|       0|          tcp|   http|  SF|      219|     1337|   0|             0|     0|  0|                0|        1|              0|         0|           0|       0|                 0|         0|               0|                0|            0|             0|    6|        6|       0.00|           0.00|       0.00|           0.00|         1.00|         0.00|              0.00|            39|                39|                  1.00|                  0.00|                       0.03|                       0.00|                0.00|                    0.00|                0.00|                    0.00|        normal.|\n",
            "|       0|          tcp|   http|  SF|      217|     2032|   0|             0|     0|  0|                0|        1|              0|         0|           0|       0|                 0|         0|               0|                0|            0|             0|    6|        6|       0.00|           0.00|       0.00|           0.00|         1.00|         0.00|              0.00|            49|                49|                  1.00|                  0.00|                       0.02|                       0.00|                0.00|                    0.00|                0.00|                    0.00|        normal.|\n",
            "|       0|          tcp|   http|  SF|      217|     2032|   0|             0|     0|  0|                0|        1|              0|         0|           0|       0|                 0|         0|               0|                0|            0|             0|    6|        6|       0.00|           0.00|       0.00|           0.00|         1.00|         0.00|              0.00|            59|                59|                  1.00|                  0.00|                       0.02|                       0.00|                0.00|                    0.00|                0.00|                    0.00|        normal.|\n",
            "|       0|          tcp|   http|  SF|      212|     1940|   0|             0|     0|  0|                0|        1|              0|         0|           0|       0|                 0|         0|               0|                0|            0|             0|    1|        2|       0.00|           0.00|       0.00|           0.00|         1.00|         0.00|              1.00|             1|                69|                  1.00|                  0.00|                       1.00|                       0.04|                0.00|                    0.00|                0.00|                    0.00|        normal.|\n",
            "|       0|          tcp|   http|  SF|      159|     4087|   0|             0|     0|  0|                0|        1|              0|         0|           0|       0|                 0|         0|               0|                0|            0|             0|    5|        5|       0.00|           0.00|       0.00|           0.00|         1.00|         0.00|              0.00|            11|                79|                  1.00|                  0.00|                       0.09|                       0.04|                0.00|                    0.00|                0.00|                    0.00|        normal.|\n",
            "|       0|          tcp|   http|  SF|      210|      151|   0|             0|     0|  0|                0|        1|              0|         0|           0|       0|                 0|         0|               0|                0|            0|             0|    8|        8|       0.00|           0.00|       0.00|           0.00|         1.00|         0.00|              0.00|             8|                89|                  1.00|                  0.00|                       0.12|                       0.04|                0.00|                    0.00|                0.00|                    0.00|        normal.|\n",
            "|       0|          tcp|   http|  SF|      212|      786|   0|             0|     0|  1|                0|        1|              0|         0|           0|       0|                 0|         0|               0|                0|            0|             0|    8|        8|       0.00|           0.00|       0.00|           0.00|         1.00|         0.00|              0.00|             8|                99|                  1.00|                  0.00|                       0.12|                       0.05|                0.00|                    0.00|                0.00|                    0.00|        normal.|\n",
            "+--------+-------------+-------+----+---------+---------+----+--------------+------+---+-----------------+---------+---------------+----------+------------+--------+------------------+----------+----------------+-----------------+-------------+--------------+-----+---------+-----------+---------------+-----------+---------------+-------------+-------------+------------------+--------------+------------------+----------------------+----------------------+---------------------------+---------------------------+--------------------+------------------------+--------------------+------------------------+---------------+\n",
            "only showing top 10 rows\n",
            "\n"
          ]
        }
      ]
    },
    {
      "cell_type": "markdown",
      "metadata": {
        "id": "XA-HDFEIdlwd"
      },
      "source": [
        "* Create a dataframe with the data and headers as preprocessed feature names"
      ],
      "id": "XA-HDFEIdlwd"
    },
    {
      "cell_type": "code",
      "metadata": {
        "id": "MJh_-plCdlZ1",
        "outputId": "c6925d0f-87c6-49e2-82a2-e6dbbdfc41c2",
        "colab": {
          "base_uri": "https://localhost:8080/"
        }
      },
      "source": [
        "# YOUR CODE HERE\n",
        "\n",
        "from pyspark.sql import SparkSession\n",
        "from pyspark.sql.types import StructType, StructField, StringType\n",
        "\n",
        "# Start a Spark session\n",
        "spark = SparkSession.builder.appName(\"KDD_Cup_Analysis\").getOrCreate()\n",
        "\n",
        "# Access SparkContext\n",
        "sc = spark.sparkContext\n",
        "\n",
        "# Load dataset files\n",
        "names_file_path = \"kddcup.names\"\n",
        "data_file_path = \"kddcup.data_10_percent.gz\"\n",
        "\n",
        "# Read the kddcup.names file as an RDD\n",
        "names_rdd = sc.textFile(names_file_path)\n",
        "\n",
        "# Convert RDD to a list for processing\n",
        "names_list = names_rdd.collect()\n",
        "\n",
        "# Extract feature names by removing types (after the colon)\n",
        "feature_names = [line.split(\":\")[0] for line in names_list[1:]]  # Skipping first row\n",
        "\n",
        "# Append 'intrusion_types' column name at the end to align with the data\n",
        "feature_names.append(\"intrusion_types\")\n",
        "\n",
        "# Read the data file as an RDD\n",
        "data_rdd = sc.textFile(data_file_path)\n",
        "\n",
        "# Convert each row into a list by splitting with a comma\n",
        "csv_rdd = data_rdd.map(lambda row: row.split(\",\"))\n",
        "\n",
        "# Define schema for DataFrame (all fields as StringType initially)\n",
        "schema = StructType([StructField(name, StringType(), True) for name in feature_names])\n",
        "\n",
        "# Create a DataFrame from the RDD with extracted feature names\n",
        "df = spark.createDataFrame(csv_rdd, schema=schema)\n",
        "\n",
        "# Show the first few rows\n",
        "df.show(10)\n"
      ],
      "id": "MJh_-plCdlZ1",
      "execution_count": 18,
      "outputs": [
        {
          "output_type": "stream",
          "name": "stdout",
          "text": [
            "+--------+-------------+-------+----+---------+---------+----+--------------+------+---+-----------------+---------+---------------+----------+------------+--------+------------------+----------+----------------+-----------------+-------------+--------------+-----+---------+-----------+---------------+-----------+---------------+-------------+-------------+------------------+--------------+------------------+----------------------+----------------------+---------------------------+---------------------------+--------------------+------------------------+--------------------+------------------------+---------------+\n",
            "|duration|protocol_type|service|flag|src_bytes|dst_bytes|land|wrong_fragment|urgent|hot|num_failed_logins|logged_in|num_compromised|root_shell|su_attempted|num_root|num_file_creations|num_shells|num_access_files|num_outbound_cmds|is_host_login|is_guest_login|count|srv_count|serror_rate|srv_serror_rate|rerror_rate|srv_rerror_rate|same_srv_rate|diff_srv_rate|srv_diff_host_rate|dst_host_count|dst_host_srv_count|dst_host_same_srv_rate|dst_host_diff_srv_rate|dst_host_same_src_port_rate|dst_host_srv_diff_host_rate|dst_host_serror_rate|dst_host_srv_serror_rate|dst_host_rerror_rate|dst_host_srv_rerror_rate|intrusion_types|\n",
            "+--------+-------------+-------+----+---------+---------+----+--------------+------+---+-----------------+---------+---------------+----------+------------+--------+------------------+----------+----------------+-----------------+-------------+--------------+-----+---------+-----------+---------------+-----------+---------------+-------------+-------------+------------------+--------------+------------------+----------------------+----------------------+---------------------------+---------------------------+--------------------+------------------------+--------------------+------------------------+---------------+\n",
            "|       0|          tcp|   http|  SF|      181|     5450|   0|             0|     0|  0|                0|        1|              0|         0|           0|       0|                 0|         0|               0|                0|            0|             0|    8|        8|       0.00|           0.00|       0.00|           0.00|         1.00|         0.00|              0.00|             9|                 9|                  1.00|                  0.00|                       0.11|                       0.00|                0.00|                    0.00|                0.00|                    0.00|        normal.|\n",
            "|       0|          tcp|   http|  SF|      239|      486|   0|             0|     0|  0|                0|        1|              0|         0|           0|       0|                 0|         0|               0|                0|            0|             0|    8|        8|       0.00|           0.00|       0.00|           0.00|         1.00|         0.00|              0.00|            19|                19|                  1.00|                  0.00|                       0.05|                       0.00|                0.00|                    0.00|                0.00|                    0.00|        normal.|\n",
            "|       0|          tcp|   http|  SF|      235|     1337|   0|             0|     0|  0|                0|        1|              0|         0|           0|       0|                 0|         0|               0|                0|            0|             0|    8|        8|       0.00|           0.00|       0.00|           0.00|         1.00|         0.00|              0.00|            29|                29|                  1.00|                  0.00|                       0.03|                       0.00|                0.00|                    0.00|                0.00|                    0.00|        normal.|\n",
            "|       0|          tcp|   http|  SF|      219|     1337|   0|             0|     0|  0|                0|        1|              0|         0|           0|       0|                 0|         0|               0|                0|            0|             0|    6|        6|       0.00|           0.00|       0.00|           0.00|         1.00|         0.00|              0.00|            39|                39|                  1.00|                  0.00|                       0.03|                       0.00|                0.00|                    0.00|                0.00|                    0.00|        normal.|\n",
            "|       0|          tcp|   http|  SF|      217|     2032|   0|             0|     0|  0|                0|        1|              0|         0|           0|       0|                 0|         0|               0|                0|            0|             0|    6|        6|       0.00|           0.00|       0.00|           0.00|         1.00|         0.00|              0.00|            49|                49|                  1.00|                  0.00|                       0.02|                       0.00|                0.00|                    0.00|                0.00|                    0.00|        normal.|\n",
            "|       0|          tcp|   http|  SF|      217|     2032|   0|             0|     0|  0|                0|        1|              0|         0|           0|       0|                 0|         0|               0|                0|            0|             0|    6|        6|       0.00|           0.00|       0.00|           0.00|         1.00|         0.00|              0.00|            59|                59|                  1.00|                  0.00|                       0.02|                       0.00|                0.00|                    0.00|                0.00|                    0.00|        normal.|\n",
            "|       0|          tcp|   http|  SF|      212|     1940|   0|             0|     0|  0|                0|        1|              0|         0|           0|       0|                 0|         0|               0|                0|            0|             0|    1|        2|       0.00|           0.00|       0.00|           0.00|         1.00|         0.00|              1.00|             1|                69|                  1.00|                  0.00|                       1.00|                       0.04|                0.00|                    0.00|                0.00|                    0.00|        normal.|\n",
            "|       0|          tcp|   http|  SF|      159|     4087|   0|             0|     0|  0|                0|        1|              0|         0|           0|       0|                 0|         0|               0|                0|            0|             0|    5|        5|       0.00|           0.00|       0.00|           0.00|         1.00|         0.00|              0.00|            11|                79|                  1.00|                  0.00|                       0.09|                       0.04|                0.00|                    0.00|                0.00|                    0.00|        normal.|\n",
            "|       0|          tcp|   http|  SF|      210|      151|   0|             0|     0|  0|                0|        1|              0|         0|           0|       0|                 0|         0|               0|                0|            0|             0|    8|        8|       0.00|           0.00|       0.00|           0.00|         1.00|         0.00|              0.00|             8|                89|                  1.00|                  0.00|                       0.12|                       0.04|                0.00|                    0.00|                0.00|                    0.00|        normal.|\n",
            "|       0|          tcp|   http|  SF|      212|      786|   0|             0|     0|  1|                0|        1|              0|         0|           0|       0|                 0|         0|               0|                0|            0|             0|    8|        8|       0.00|           0.00|       0.00|           0.00|         1.00|         0.00|              0.00|             8|                99|                  1.00|                  0.00|                       0.12|                       0.05|                0.00|                    0.00|                0.00|                    0.00|        normal.|\n",
            "+--------+-------------+-------+----+---------+---------+----+--------------+------+---+-----------------+---------+---------------+----------+------------+--------+------------------+----------+----------------+-----------------+-------------+--------------+-----+---------+-----------+---------------+-----------+---------------+-------------+-------------+------------------+--------------+------------------+----------------------+----------------------+---------------------------+---------------------------+--------------------+------------------------+--------------------+------------------------+---------------+\n",
            "only showing top 10 rows\n",
            "\n"
          ]
        }
      ]
    },
    {
      "cell_type": "markdown",
      "metadata": {
        "id": "numerous-montreal"
      },
      "source": [
        "#### What is the count of each protocol type?\n",
        "\n",
        "Hint: apply `groupby` on protocol_type and count the records"
      ],
      "id": "numerous-montreal"
    },
    {
      "cell_type": "code",
      "metadata": {
        "id": "unusual-arizona",
        "outputId": "0926ad9f-e6b1-4ef6-e5c0-4df3caa72a2f",
        "colab": {
          "base_uri": "https://localhost:8080/"
        }
      },
      "source": [
        "# YOUR CODE HERE\n",
        "\n",
        "from pyspark.sql import SparkSession\n",
        "from pyspark.sql.functions import col, count\n",
        "from pyspark.sql.types import StructType, StructField, StringType\n",
        "\n",
        "# Start a Spark session\n",
        "spark = SparkSession.builder.appName(\"KDD_Cup_Analysis\").getOrCreate()\n",
        "\n",
        "# Access SparkContext\n",
        "sc = spark.sparkContext\n",
        "\n",
        "# Load dataset files\n",
        "names_file_path = \"kddcup.names\"\n",
        "data_file_path = \"kddcup.data_10_percent.gz\"\n",
        "\n",
        "# Read the kddcup.names file as an RDD\n",
        "names_rdd = sc.textFile(names_file_path)\n",
        "\n",
        "# Convert RDD to a list for processing\n",
        "names_list = names_rdd.collect()\n",
        "\n",
        "# Extract feature names by removing types (after the colon)\n",
        "feature_names = [line.split(\":\")[0] for line in names_list[1:]]  # Skipping first row\n",
        "\n",
        "# Append 'intrusion_types' column name at the end to align with the data\n",
        "feature_names.append(\"intrusion_types\")\n",
        "\n",
        "# Read the data file as an RDD\n",
        "data_rdd = sc.textFile(data_file_path)\n",
        "\n",
        "# Convert each row into a list by splitting with a comma\n",
        "csv_rdd = data_rdd.map(lambda row: row.split(\",\"))\n",
        "\n",
        "# Define schema for DataFrame\n",
        "schema = StructType([StructField(name, StringType(), True) for name in feature_names])\n",
        "\n",
        "# Create DataFrame from the RDD\n",
        "df = spark.createDataFrame(csv_rdd, schema=schema)\n",
        "\n",
        "# Group by 'protocol_type' and count occurrences\n",
        "protocol_counts = df.groupBy(\"protocol_type\").count()\n",
        "\n",
        "# Show results\n",
        "protocol_counts.show()\n",
        "\n",
        "\n",
        "\n"
      ],
      "id": "unusual-arizona",
      "execution_count": 8,
      "outputs": [
        {
          "output_type": "stream",
          "name": "stdout",
          "text": [
            "+-------------+------+\n",
            "|protocol_type| count|\n",
            "+-------------+------+\n",
            "|          tcp|190065|\n",
            "|          udp| 20354|\n",
            "|         icmp|283602|\n",
            "+-------------+------+\n",
            "\n"
          ]
        }
      ]
    },
    {
      "cell_type": "markdown",
      "metadata": {
        "id": "liable-edgar"
      },
      "source": [
        "#### Register the DataFrame as a temporary table and extract the data using queries\n",
        "\n",
        "Hint: [registerTempTable](https://spark.apache.org/docs/latest/api/python/reference/pyspark.sql/api/pyspark.sql.DataFrame.registerTempTable.html)"
      ],
      "id": "liable-edgar"
    },
    {
      "cell_type": "code",
      "metadata": {
        "id": "_NA8e0kTefVr",
        "outputId": "e7671cd8-e755-42cb-9b41-ff147c37b183",
        "colab": {
          "base_uri": "https://localhost:8080/"
        }
      },
      "source": [
        "# YOUR CODE HERE\n",
        "from pyspark.sql import SparkSession\n",
        "from pyspark.sql.functions import col, count\n",
        "from pyspark.sql.types import StructType, StructField, StringType\n",
        "\n",
        "# Start a Spark session\n",
        "spark = SparkSession.builder.appName(\"KDD_Cup_Analysis\").getOrCreate()\n",
        "\n",
        "# Load dataset files\n",
        "names_file_path = \"./kddcup.names\"\n",
        "data_file_path = \"./kddcup.data_10_percent.gz\"\n",
        "\n",
        "# Read feature names from kddcup.names\n",
        "names_rdd = spark.sparkContext.textFile(names_file_path)\n",
        "names_list = names_rdd.collect()\n",
        "\n",
        "# Extract feature names and align columns\n",
        "feature_names = [line.split(\":\")[0] for line in names_list[1:]]  # Skip first row\n",
        "feature_names.append(\"intrusion_types\")  # Move intrusion type to last column\n",
        "\n",
        "# Read the data file as an RDD\n",
        "data_rdd = spark.sparkContext.textFile(data_file_path)\n",
        "\n",
        "# Convert each row into a list by splitting with a comma\n",
        "csv_rdd = data_rdd.map(lambda row: row.split(\",\"))\n",
        "\n",
        "# Define schema using extracted feature names\n",
        "schema = StructType([StructField(name, StringType(), True) for name in feature_names])\n",
        "\n",
        "# Create a DataFrame from RDD\n",
        "df = spark.createDataFrame(csv_rdd, schema=schema)\n",
        "\n",
        "# ✅ Register the DataFrame as a temporary SQL table\n",
        "df.createOrReplaceTempView(\"kdd_data\")\n",
        "\n",
        "# ✅ Example SQL Queries\n",
        "\n",
        "# 1️⃣ Fetch the top 10 records\n",
        "query_1 = spark.sql(\"SELECT * FROM kdd_data LIMIT 10\")\n",
        "query_1.show()\n",
        "\n",
        "# 2️⃣ Count occurrences of each protocol type\n",
        "query_2 = spark.sql(\"SELECT protocol_type, COUNT(*) as count FROM kdd_data GROUP BY protocol_type\")\n",
        "query_2.show()\n",
        "\n",
        "# 3️⃣ Count the number of normal vs attack interactions\n",
        "query_3 = spark.sql(\"SELECT intrusion_types, COUNT(*) as count FROM kdd_data GROUP BY intrusion_types\")\n",
        "query_3.show()\n",
        "\n",
        "# 4️⃣ Fetch records where duration > 1000\n",
        "# ✅ Verify the column names in the DataFrame\n",
        "df.printSchema()\n",
        "\n",
        "# ✅ Fetch records where duration > 1000 using the correct column name\n",
        "query_4 = spark.sql(\"SELECT * FROM kdd_data WHERE duration > 1000 LIMIT 10\")\n",
        "query_4.show()\n",
        "\n"
      ],
      "id": "_NA8e0kTefVr",
      "execution_count": 11,
      "outputs": [
        {
          "output_type": "stream",
          "name": "stdout",
          "text": [
            "+--------+-------------+-------+----+---------+---------+----+--------------+------+---+-----------------+---------+---------------+----------+------------+--------+------------------+----------+----------------+-----------------+-------------+--------------+-----+---------+-----------+---------------+-----------+---------------+-------------+-------------+------------------+--------------+------------------+----------------------+----------------------+---------------------------+---------------------------+--------------------+------------------------+--------------------+------------------------+---------------+\n",
            "|duration|protocol_type|service|flag|src_bytes|dst_bytes|land|wrong_fragment|urgent|hot|num_failed_logins|logged_in|num_compromised|root_shell|su_attempted|num_root|num_file_creations|num_shells|num_access_files|num_outbound_cmds|is_host_login|is_guest_login|count|srv_count|serror_rate|srv_serror_rate|rerror_rate|srv_rerror_rate|same_srv_rate|diff_srv_rate|srv_diff_host_rate|dst_host_count|dst_host_srv_count|dst_host_same_srv_rate|dst_host_diff_srv_rate|dst_host_same_src_port_rate|dst_host_srv_diff_host_rate|dst_host_serror_rate|dst_host_srv_serror_rate|dst_host_rerror_rate|dst_host_srv_rerror_rate|intrusion_types|\n",
            "+--------+-------------+-------+----+---------+---------+----+--------------+------+---+-----------------+---------+---------------+----------+------------+--------+------------------+----------+----------------+-----------------+-------------+--------------+-----+---------+-----------+---------------+-----------+---------------+-------------+-------------+------------------+--------------+------------------+----------------------+----------------------+---------------------------+---------------------------+--------------------+------------------------+--------------------+------------------------+---------------+\n",
            "|       0|          tcp|   http|  SF|      181|     5450|   0|             0|     0|  0|                0|        1|              0|         0|           0|       0|                 0|         0|               0|                0|            0|             0|    8|        8|       0.00|           0.00|       0.00|           0.00|         1.00|         0.00|              0.00|             9|                 9|                  1.00|                  0.00|                       0.11|                       0.00|                0.00|                    0.00|                0.00|                    0.00|        normal.|\n",
            "|       0|          tcp|   http|  SF|      239|      486|   0|             0|     0|  0|                0|        1|              0|         0|           0|       0|                 0|         0|               0|                0|            0|             0|    8|        8|       0.00|           0.00|       0.00|           0.00|         1.00|         0.00|              0.00|            19|                19|                  1.00|                  0.00|                       0.05|                       0.00|                0.00|                    0.00|                0.00|                    0.00|        normal.|\n",
            "|       0|          tcp|   http|  SF|      235|     1337|   0|             0|     0|  0|                0|        1|              0|         0|           0|       0|                 0|         0|               0|                0|            0|             0|    8|        8|       0.00|           0.00|       0.00|           0.00|         1.00|         0.00|              0.00|            29|                29|                  1.00|                  0.00|                       0.03|                       0.00|                0.00|                    0.00|                0.00|                    0.00|        normal.|\n",
            "|       0|          tcp|   http|  SF|      219|     1337|   0|             0|     0|  0|                0|        1|              0|         0|           0|       0|                 0|         0|               0|                0|            0|             0|    6|        6|       0.00|           0.00|       0.00|           0.00|         1.00|         0.00|              0.00|            39|                39|                  1.00|                  0.00|                       0.03|                       0.00|                0.00|                    0.00|                0.00|                    0.00|        normal.|\n",
            "|       0|          tcp|   http|  SF|      217|     2032|   0|             0|     0|  0|                0|        1|              0|         0|           0|       0|                 0|         0|               0|                0|            0|             0|    6|        6|       0.00|           0.00|       0.00|           0.00|         1.00|         0.00|              0.00|            49|                49|                  1.00|                  0.00|                       0.02|                       0.00|                0.00|                    0.00|                0.00|                    0.00|        normal.|\n",
            "|       0|          tcp|   http|  SF|      217|     2032|   0|             0|     0|  0|                0|        1|              0|         0|           0|       0|                 0|         0|               0|                0|            0|             0|    6|        6|       0.00|           0.00|       0.00|           0.00|         1.00|         0.00|              0.00|            59|                59|                  1.00|                  0.00|                       0.02|                       0.00|                0.00|                    0.00|                0.00|                    0.00|        normal.|\n",
            "|       0|          tcp|   http|  SF|      212|     1940|   0|             0|     0|  0|                0|        1|              0|         0|           0|       0|                 0|         0|               0|                0|            0|             0|    1|        2|       0.00|           0.00|       0.00|           0.00|         1.00|         0.00|              1.00|             1|                69|                  1.00|                  0.00|                       1.00|                       0.04|                0.00|                    0.00|                0.00|                    0.00|        normal.|\n",
            "|       0|          tcp|   http|  SF|      159|     4087|   0|             0|     0|  0|                0|        1|              0|         0|           0|       0|                 0|         0|               0|                0|            0|             0|    5|        5|       0.00|           0.00|       0.00|           0.00|         1.00|         0.00|              0.00|            11|                79|                  1.00|                  0.00|                       0.09|                       0.04|                0.00|                    0.00|                0.00|                    0.00|        normal.|\n",
            "|       0|          tcp|   http|  SF|      210|      151|   0|             0|     0|  0|                0|        1|              0|         0|           0|       0|                 0|         0|               0|                0|            0|             0|    8|        8|       0.00|           0.00|       0.00|           0.00|         1.00|         0.00|              0.00|             8|                89|                  1.00|                  0.00|                       0.12|                       0.04|                0.00|                    0.00|                0.00|                    0.00|        normal.|\n",
            "|       0|          tcp|   http|  SF|      212|      786|   0|             0|     0|  1|                0|        1|              0|         0|           0|       0|                 0|         0|               0|                0|            0|             0|    8|        8|       0.00|           0.00|       0.00|           0.00|         1.00|         0.00|              0.00|             8|                99|                  1.00|                  0.00|                       0.12|                       0.05|                0.00|                    0.00|                0.00|                    0.00|        normal.|\n",
            "+--------+-------------+-------+----+---------+---------+----+--------------+------+---+-----------------+---------+---------------+----------+------------+--------+------------------+----------+----------------+-----------------+-------------+--------------+-----+---------+-----------+---------------+-----------+---------------+-------------+-------------+------------------+--------------+------------------+----------------------+----------------------+---------------------------+---------------------------+--------------------+------------------------+--------------------+------------------------+---------------+\n",
            "\n",
            "+-------------+------+\n",
            "|protocol_type| count|\n",
            "+-------------+------+\n",
            "|          tcp|190065|\n",
            "|          udp| 20354|\n",
            "|         icmp|283602|\n",
            "+-------------+------+\n",
            "\n",
            "+----------------+------+\n",
            "| intrusion_types| count|\n",
            "+----------------+------+\n",
            "|    warezmaster.|    20|\n",
            "|          smurf.|280790|\n",
            "|            pod.|   264|\n",
            "|           imap.|    12|\n",
            "|           nmap.|   231|\n",
            "|   guess_passwd.|    53|\n",
            "|        ipsweep.|  1247|\n",
            "|      portsweep.|  1040|\n",
            "|          satan.|  1589|\n",
            "|           land.|    21|\n",
            "|     loadmodule.|     9|\n",
            "|      ftp_write.|     8|\n",
            "|buffer_overflow.|    30|\n",
            "|        rootkit.|    10|\n",
            "|    warezclient.|  1020|\n",
            "|       teardrop.|   979|\n",
            "|           perl.|     3|\n",
            "|            phf.|     4|\n",
            "|       multihop.|     7|\n",
            "|        neptune.|107201|\n",
            "+----------------+------+\n",
            "only showing top 20 rows\n",
            "\n",
            "root\n",
            " |-- duration: string (nullable = true)\n",
            " |-- protocol_type: string (nullable = true)\n",
            " |-- service: string (nullable = true)\n",
            " |-- flag: string (nullable = true)\n",
            " |-- src_bytes: string (nullable = true)\n",
            " |-- dst_bytes: string (nullable = true)\n",
            " |-- land: string (nullable = true)\n",
            " |-- wrong_fragment: string (nullable = true)\n",
            " |-- urgent: string (nullable = true)\n",
            " |-- hot: string (nullable = true)\n",
            " |-- num_failed_logins: string (nullable = true)\n",
            " |-- logged_in: string (nullable = true)\n",
            " |-- num_compromised: string (nullable = true)\n",
            " |-- root_shell: string (nullable = true)\n",
            " |-- su_attempted: string (nullable = true)\n",
            " |-- num_root: string (nullable = true)\n",
            " |-- num_file_creations: string (nullable = true)\n",
            " |-- num_shells: string (nullable = true)\n",
            " |-- num_access_files: string (nullable = true)\n",
            " |-- num_outbound_cmds: string (nullable = true)\n",
            " |-- is_host_login: string (nullable = true)\n",
            " |-- is_guest_login: string (nullable = true)\n",
            " |-- count: string (nullable = true)\n",
            " |-- srv_count: string (nullable = true)\n",
            " |-- serror_rate: string (nullable = true)\n",
            " |-- srv_serror_rate: string (nullable = true)\n",
            " |-- rerror_rate: string (nullable = true)\n",
            " |-- srv_rerror_rate: string (nullable = true)\n",
            " |-- same_srv_rate: string (nullable = true)\n",
            " |-- diff_srv_rate: string (nullable = true)\n",
            " |-- srv_diff_host_rate: string (nullable = true)\n",
            " |-- dst_host_count: string (nullable = true)\n",
            " |-- dst_host_srv_count: string (nullable = true)\n",
            " |-- dst_host_same_srv_rate: string (nullable = true)\n",
            " |-- dst_host_diff_srv_rate: string (nullable = true)\n",
            " |-- dst_host_same_src_port_rate: string (nullable = true)\n",
            " |-- dst_host_srv_diff_host_rate: string (nullable = true)\n",
            " |-- dst_host_serror_rate: string (nullable = true)\n",
            " |-- dst_host_srv_serror_rate: string (nullable = true)\n",
            " |-- dst_host_rerror_rate: string (nullable = true)\n",
            " |-- dst_host_srv_rerror_rate: string (nullable = true)\n",
            " |-- intrusion_types: string (nullable = true)\n",
            "\n",
            "+--------+-------------+--------+----+---------+---------+----+--------------+------+---+-----------------+---------+---------------+----------+------------+--------+------------------+----------+----------------+-----------------+-------------+--------------+-----+---------+-----------+---------------+-----------+---------------+-------------+-------------+------------------+--------------+------------------+----------------------+----------------------+---------------------------+---------------------------+--------------------+------------------------+--------------------+------------------------+---------------+\n",
            "|duration|protocol_type| service|flag|src_bytes|dst_bytes|land|wrong_fragment|urgent|hot|num_failed_logins|logged_in|num_compromised|root_shell|su_attempted|num_root|num_file_creations|num_shells|num_access_files|num_outbound_cmds|is_host_login|is_guest_login|count|srv_count|serror_rate|srv_serror_rate|rerror_rate|srv_rerror_rate|same_srv_rate|diff_srv_rate|srv_diff_host_rate|dst_host_count|dst_host_srv_count|dst_host_same_srv_rate|dst_host_diff_srv_rate|dst_host_same_src_port_rate|dst_host_srv_diff_host_rate|dst_host_serror_rate|dst_host_srv_serror_rate|dst_host_rerror_rate|dst_host_srv_rerror_rate|intrusion_types|\n",
            "+--------+-------------+--------+----+---------+---------+----+--------------+------+---+-----------------+---------+---------------+----------+------------+--------+------------------+----------+----------------+-----------------+-------------+--------------+-----+---------+-----------+---------------+-----------+---------------+-------------+-------------+------------------+--------------+------------------+----------------------+----------------------+---------------------------+---------------------------+--------------------+------------------------+--------------------+------------------------+---------------+\n",
            "|   12454|          tcp|  telnet|  SF|      432|    21181|   0|             0|     0|  0|                0|        1|              2|         0|           0|       2|                 0|         0|               0|                0|            0|             0|    1|        1|       0.00|           0.00|       0.00|           0.00|         1.00|         0.00|              0.00|            10|                 4|                  0.40|                  0.20|                       0.10|                       0.00|                0.00|                    0.00|                0.10|                    0.25|        normal.|\n",
            "|   10774|          tcp|  telnet|  SF|       75|      919|   0|             0|     0|  0|                0|        1|              0|         0|           0|       0|                 0|         0|               0|                0|            0|             0|    1|        1|       0.00|           0.00|       0.00|           0.00|         1.00|         0.00|              0.00|            65|                19|                  0.28|                  0.05|                       0.02|                       0.11|                0.25|                    0.84|                0.00|                    0.00|        normal.|\n",
            "|    1023|          udp|   ntp_u|  SF|       48|       48|   0|             0|     0|  0|                0|        0|              0|         0|           0|       0|                 0|         0|               0|                0|            0|             0|    1|        1|       0.00|           0.00|       0.00|           0.00|         1.00|         0.00|              0.00|            12|                12|                  1.00|                  0.00|                       1.00|                       0.00|                0.00|                    0.00|                0.00|                    0.00|        normal.|\n",
            "|    6087|          udp|domain_u|  SF|       46|       33|   0|             0|     0|  0|                0|        0|              0|         0|           0|       0|                 0|         0|               0|                0|            0|             0|    1|        1|       0.00|           0.00|       0.00|           0.00|         1.00|         0.00|              0.00|           165|                97|                  0.59|                  0.01|                       0.56|                       0.00|                0.00|                    0.00|                0.00|                    0.00|        normal.|\n",
            "|   13368|          tcp|  telnet|  SF|     2987|    58843|   0|             0|     0|  1|                0|        1|              2|         1|           0|       2|                15|         0|               0|                0|            0|             0|    1|        1|       0.00|           0.00|       0.00|           0.00|         1.00|         0.00|              0.00|           127|                11|                  0.08|                  0.57|                       0.01|                       0.18|                0.01|                    0.09|                0.54|                    0.18|        normal.|\n",
            "|    3029|          udp|domain_u|  SF|       17|       17|   0|             0|     0|  0|                0|        0|              0|         0|           0|       0|                 0|         0|               0|                0|            0|             0|    2|        2|       0.00|           0.00|       0.00|           0.00|         1.00|         0.00|              0.00|           255|               187|                  0.73|                  0.01|                       0.09|                       0.00|                0.00|                    0.00|                0.00|                    0.00|        normal.|\n",
            "|    2096|          udp|domain_u|  SF|       17|       46|   0|             0|     0|  0|                0|        0|              0|         0|           0|       0|                 0|         0|               0|                0|            0|             0|    1|        1|       0.00|           0.00|       0.00|           0.00|         1.00|         0.00|              0.00|           255|               172|                  0.67|                  0.01|                       0.11|                       0.00|                0.00|                    0.00|                0.00|                    0.00|        normal.|\n",
            "|    3030|          udp|domain_u|  SF|       17|       17|   0|             0|     0|  0|                0|        0|              0|         0|           0|       0|                 0|         0|               0|                0|            0|             0|    2|        2|       0.00|           0.00|       0.00|           0.00|         1.00|         0.00|              0.00|           255|               242|                  0.95|                  0.01|                       0.02|                       0.00|                0.00|                    0.00|                0.00|                    0.00|        normal.|\n",
            "|    3030|          udp|domain_u|  SF|       17|       17|   0|             0|     0|  0|                0|        0|              0|         0|           0|       0|                 0|         0|               0|                0|            0|             0|    1|        2|       0.00|           0.00|       0.00|           0.00|         1.00|         0.00|              1.00|           255|               223|                  0.87|                  0.01|                       0.04|                       0.00|                0.00|                    0.00|                0.00|                    0.00|        normal.|\n",
            "|    3030|          udp|domain_u|  SF|       17|       17|   0|             0|     0|  0|                0|        0|              0|         0|           0|       0|                 0|         0|               0|                0|            0|             0|    2|        2|       0.00|           0.00|       0.00|           0.00|         1.00|         0.00|              0.00|           255|               205|                  0.80|                  0.01|                       0.06|                       0.00|                0.00|                    0.00|                0.00|                    0.00|        normal.|\n",
            "+--------+-------------+--------+----+---------+---------+----+--------------+------+---+-----------------+---------+---------------+----------+------------+--------+------------------+----------+----------------+-----------------+-------------+--------------+-----+---------+-----------+---------------+-----------+---------------+-------------+-------------+------------------+--------------+------------------+----------------------+----------------------+---------------------------+---------------------------+--------------------+------------------------+--------------------+------------------------+---------------+\n",
            "\n"
          ]
        }
      ]
    },
    {
      "cell_type": "markdown",
      "metadata": {
        "id": "PWOzPDAveLmd"
      },
      "source": [
        "* query to extract the label and their frequencies\n",
        "\n",
        " Hint: `SQLContext.sql(query)`"
      ],
      "id": "PWOzPDAveLmd"
    },
    {
      "cell_type": "markdown",
      "source": [],
      "metadata": {
        "id": "zMNVecE1-DWG"
      },
      "id": "zMNVecE1-DWG"
    },
    {
      "cell_type": "code",
      "metadata": {
        "id": "thirty-automation",
        "outputId": "522a93d2-e489-419b-c21f-58838f45f4a6",
        "colab": {
          "base_uri": "https://localhost:8080/"
        }
      },
      "source": [
        "# YOUR CODE HERE\n",
        "\n",
        "# ✅ Query to count the frequency of each intrusion type (label)\n",
        "query_label_freq = spark.sql(\"\"\"\n",
        "    SELECT intrusion_types AS label, COUNT(*) AS frequency\n",
        "    FROM kdd_data\n",
        "    GROUP BY intrusion_types\n",
        "    ORDER BY frequency DESC\n",
        "\"\"\")\n",
        "\n",
        "# ✅ Show results\n",
        "query_label_freq.show()\n"
      ],
      "id": "thirty-automation",
      "execution_count": 12,
      "outputs": [
        {
          "output_type": "stream",
          "name": "stdout",
          "text": [
            "+----------------+---------+\n",
            "|           label|frequency|\n",
            "+----------------+---------+\n",
            "|          smurf.|   280790|\n",
            "|        neptune.|   107201|\n",
            "|         normal.|    97278|\n",
            "|           back.|     2203|\n",
            "|          satan.|     1589|\n",
            "|        ipsweep.|     1247|\n",
            "|      portsweep.|     1040|\n",
            "|    warezclient.|     1020|\n",
            "|       teardrop.|      979|\n",
            "|            pod.|      264|\n",
            "|           nmap.|      231|\n",
            "|   guess_passwd.|       53|\n",
            "|buffer_overflow.|       30|\n",
            "|           land.|       21|\n",
            "|    warezmaster.|       20|\n",
            "|           imap.|       12|\n",
            "|        rootkit.|       10|\n",
            "|     loadmodule.|        9|\n",
            "|      ftp_write.|        8|\n",
            "|       multihop.|        7|\n",
            "+----------------+---------+\n",
            "only showing top 20 rows\n",
            "\n"
          ]
        }
      ]
    },
    {
      "cell_type": "markdown",
      "metadata": {
        "id": "dQ4d2Y8SeP48"
      },
      "source": [
        "* select the distinct protocol types with their count of transactions which are not normal"
      ],
      "id": "dQ4d2Y8SeP48"
    },
    {
      "cell_type": "code",
      "metadata": {
        "id": "respiratory-parking",
        "outputId": "42b8c65a-07d4-48a0-a347-32520388b675",
        "colab": {
          "base_uri": "https://localhost:8080/"
        }
      },
      "source": [
        "# YOUR CODE HERE\n",
        "\n",
        "# ✅ Query to count transactions per protocol type (excluding 'normal' interactions)\n",
        "query_protocol_not_normal = spark.sql(\"\"\"\n",
        "    SELECT protocol_type, COUNT(*) AS transaction_count\n",
        "    FROM kdd_data\n",
        "    WHERE intrusion_types != 'normal.'\n",
        "    GROUP BY protocol_type\n",
        "    ORDER BY transaction_count DESC\n",
        "\"\"\")\n",
        "\n",
        "# ✅ Show results\n",
        "query_protocol_not_normal.show()\n"
      ],
      "id": "respiratory-parking",
      "execution_count": 13,
      "outputs": [
        {
          "output_type": "stream",
          "name": "stdout",
          "text": [
            "+-------------+-----------------+\n",
            "|protocol_type|transaction_count|\n",
            "+-------------+-----------------+\n",
            "|         icmp|           282314|\n",
            "|          tcp|           113252|\n",
            "|          udp|             1177|\n",
            "+-------------+-----------------+\n",
            "\n"
          ]
        }
      ]
    },
    {
      "cell_type": "markdown",
      "metadata": {
        "id": "AGUDJ92yeSBa"
      },
      "source": [
        "* select count of transactions in each protocol type that lasts more than 1 second (duration > 1000), with no data transfer from destination (dst_bytes == 0)"
      ],
      "id": "AGUDJ92yeSBa"
    },
    {
      "cell_type": "code",
      "metadata": {
        "id": "conventional-driving",
        "outputId": "6be8277e-56b6-4120-dc22-7452e52d5241",
        "colab": {
          "base_uri": "https://localhost:8080/"
        }
      },
      "source": [
        "# YOUR CODE HERE\n",
        "\n",
        "# ✅ Query to count transactions per protocol type meeting the conditions\n",
        "query_protocol_duration = spark.sql(\"\"\"\n",
        "    SELECT protocol_type, COUNT(*) AS transaction_count\n",
        "    FROM kdd_data\n",
        "    WHERE duration > 1000 AND dst_bytes = 0\n",
        "    GROUP BY protocol_type\n",
        "    ORDER BY transaction_count DESC\n",
        "\"\"\")\n",
        "\n",
        "# ✅ Show results\n",
        "query_protocol_duration.show()\n"
      ],
      "id": "conventional-driving",
      "execution_count": 14,
      "outputs": [
        {
          "output_type": "stream",
          "name": "stdout",
          "text": [
            "+-------------+-----------------+\n",
            "|protocol_type|transaction_count|\n",
            "+-------------+-----------------+\n",
            "|          tcp|              139|\n",
            "+-------------+-----------------+\n",
            "\n"
          ]
        }
      ]
    },
    {
      "cell_type": "markdown",
      "metadata": {
        "id": "likely-gambling"
      },
      "source": [
        "### Find the highly correlated columns (2 points)\n",
        "\n",
        "* identify the columns which are not integer type and remove those columns\n",
        "* apply correlation function on the data (Hint: `Statistics.corr()`)\n",
        "* collect the names of the columns on which correlation is applied\n",
        "* create a dataframe with correlation matrix with index and columns as names\n",
        "* get the highly correlated features by considering a correlation value greater than 0.8\n",
        "\n",
        "    Hint: `np.triu()` , `pd.mask()`"
      ],
      "id": "likely-gambling"
    },
    {
      "cell_type": "code",
      "metadata": {
        "id": "cooked-promise"
      },
      "source": [
        "# YOUR CODE HERE\n",
        "import numpy as np\n",
        "import pandas as pd\n",
        "from pyspark.mllib.stat import Statistics\n",
        "from pyspark.mllib.linalg import Vectors\n",
        "from pyspark.sql.functions import col"
      ],
      "id": "cooked-promise",
      "execution_count": 15,
      "outputs": []
    },
    {
      "cell_type": "code",
      "metadata": {
        "id": "polish-claim"
      },
      "source": [
        "# eliminating names of columns having string type\n",
        "# YOUR CODE HERE\n",
        "# ✅ 1️⃣ Remove non-integer columns\n",
        "numeric_columns = [f.name for f in df.schema.fields if f.dataType.simpleString() == \"int\"]"
      ],
      "id": "polish-claim",
      "execution_count": 16,
      "outputs": []
    },
    {
      "cell_type": "code",
      "metadata": {
        "id": "european-aaron"
      },
      "source": [
        "# creating a dataframe with correlation matrix\n",
        "# YOUR CODE HERE\n",
        "# ✅ 2️⃣ Select only numeric columns\n",
        "numeric_df = df.select([col(c) for c in numeric_columns])"
      ],
      "id": "european-aaron",
      "execution_count": 17,
      "outputs": []
    },
    {
      "cell_type": "code",
      "metadata": {
        "id": "skilled-domestic"
      },
      "source": [
        "#  fill the null values with 0\n",
        "# YOUR CODE HERE\n",
        "# ✅ 3️⃣ Convert DataFrame to an RDD of vectors\n",
        "features_rdd = numeric_df.rdd.map(lambda row: Vectors.dense([float(c) for c in row]))"
      ],
      "id": "skilled-domestic",
      "execution_count": 18,
      "outputs": []
    },
    {
      "cell_type": "code",
      "metadata": {
        "id": "approved-dublin",
        "outputId": "930dc240-3fc1-4b41-b245-b1d661baec6d",
        "colab": {
          "base_uri": "https://localhost:8080/"
        }
      },
      "source": [
        "import numpy as np\n",
        "import pandas as pd\n",
        "from pyspark.mllib.stat import Statistics\n",
        "from pyspark.mllib.linalg import Vectors\n",
        "from pyspark.sql.functions import col\n",
        "\n",
        "# ✅ 1️⃣ Convert all columns (except categorical) to float\n",
        "for col_name in df.columns:\n",
        "    df = df.withColumn(col_name, col(col_name).cast(\"double\"))  # Correctly indented\n",
        "\n",
        "# ✅ 2️⃣ Select Numeric Columns\n",
        "numeric_columns = [f.name for f in df.schema.fields if f.dataType.simpleString() in [\"int\", \"double\"]]\n",
        "\n",
        "# ✅ 3️⃣ Ensure there are numeric columns\n",
        "if not numeric_columns:\n",
        "    raise ValueError(\"Error: No numeric columns available for correlation calculation!\")\n",
        "\n",
        "# ✅ 4️⃣ Select only numeric columns\n",
        "numeric_df = df.select([col(c) for c in numeric_columns])\n",
        "\n",
        "# ✅ 5️⃣ Convert DataFrame to an RDD of vectors\n",
        "features_rdd = numeric_df.rdd.map(lambda row: Vectors.dense([c if c is not None else 0 for c in row]))\n",
        "\n",
        "# ✅ 6️⃣ Compute Correlation Matrix\n",
        "correlation_matrix = Statistics.corr(features_rdd, method=\"pearson\")\n",
        "\n",
        "# ✅ 7️⃣ Convert to Pandas DataFrame\n",
        "corr_df = pd.DataFrame(correlation_matrix, columns=numeric_columns, index=numeric_columns)\n",
        "\n",
        "# ✅ 8️⃣ Create a boolean mask (upper triangular)\n",
        "mask = np.triu(np.ones(corr_df.shape, dtype=bool), k=1)\n",
        "\n",
        "# ✅ 9️⃣ Use `where(mask)` to filter high correlations\n",
        "high_corr_features = corr_df.where(mask).stack().reset_index()\n",
        "high_corr_features.columns = ['Feature1', 'Feature2', 'Correlation']\n",
        "high_corr_features = high_corr_features[high_corr_features['Correlation'] > 0.8]\n",
        "\n",
        "# ✅ 10️⃣ Display results\n",
        "print(high_corr_features)  # Print as table\n",
        "high_corr_features.to_csv(\"highly_correlated_features.csv\", index=False)  # Save as CSV\n",
        "print(\"File saved as 'highly_correlated_features.csv'\")\n"
      ],
      "id": "approved-dublin",
      "execution_count": 27,
      "outputs": [
        {
          "output_type": "stream",
          "name": "stdout",
          "text": [
            "                 Feature1                     Feature2  Correlation\n",
            "204                   hot               is_guest_login     0.843572\n",
            "281       num_compromised                     num_root     0.993828\n",
            "459                 count                    srv_count     0.943667\n",
            "471                 count  dst_host_same_src_port_rate     0.860579\n",
            "488             srv_count  dst_host_same_src_port_rate     0.944926\n",
            "494           serror_rate              srv_serror_rate     0.998362\n",
            "506           serror_rate         dst_host_serror_rate     0.998673\n",
            "507           serror_rate     dst_host_srv_serror_rate     0.997849\n",
            "521       srv_serror_rate         dst_host_serror_rate     0.997835\n",
            "522       srv_serror_rate     dst_host_srv_serror_rate     0.999304\n",
            "525           rerror_rate              srv_rerror_rate     0.994731\n",
            "537           rerror_rate         dst_host_rerror_rate     0.986995\n",
            "538           rerror_rate     dst_host_srv_rerror_rate     0.985200\n",
            "550       srv_rerror_rate         dst_host_rerror_rate     0.982166\n",
            "551       srv_rerror_rate     dst_host_srv_rerror_rate     0.986571\n",
            "555         same_srv_rate           dst_host_srv_count     0.898955\n",
            "556         same_srv_rate       dst_host_same_srv_rate     0.927808\n",
            "594    dst_host_srv_count       dst_host_same_srv_rate     0.973685\n",
            "624  dst_host_serror_rate     dst_host_srv_serror_rate     0.998156\n",
            "629  dst_host_rerror_rate     dst_host_srv_rerror_rate     0.984804\n",
            "File saved as 'highly_correlated_features.csv'\n"
          ]
        }
      ]
    },
    {
      "cell_type": "markdown",
      "metadata": {
        "id": "working-accident"
      },
      "source": [
        "### Analysis report (1 points)\n",
        "\n",
        "* Find the ratio of attacked transactions vs normal transactions\n",
        "\n",
        "    Hint: encode instrusion_type column by replacing normal with 1 and all other with 0\n",
        "\n",
        "* Describe the statistics of attacked and normal transactions\n",
        "    \n",
        "    Hint: Min, Max, Mean\n",
        "    \n",
        "* Select any two features that influence the intrusion_type and visualize the scatter plot to see the separation of normal and attacked"
      ],
      "id": "working-accident"
    },
    {
      "cell_type": "code",
      "metadata": {
        "id": "greatest-pressing",
        "outputId": "227344a7-1b99-4407-f700-4c46e3278ee9",
        "colab": {
          "base_uri": "https://localhost:8080/",
          "height": 913
        }
      },
      "source": [
        "# YOUR CODE HERE\n",
        "\n",
        "from pyspark.sql import SparkSession\n",
        "from pyspark.sql.functions import when, col, min, max, mean\n",
        "import matplotlib.pyplot as plt\n",
        "import seaborn as sns\n",
        "\n",
        "# ✅ 1️⃣ Start Spark Session\n",
        "spark = SparkSession.builder.appName(\"KDD_Cup_Analysis\").getOrCreate()\n",
        "\n",
        "# ✅ 2️⃣ Load Dataset Efficiently with PySpark\n",
        "data_file_path = \"./kddcup.data_10_percent.gz\"\n",
        "df_spark = spark.read.csv(data_file_path, header=False, inferSchema=True)\n",
        "\n",
        "# ✅ 3️⃣ Extract Feature Names from `kddcup.names`\n",
        "names_file_path = \"./kddcup.names\"\n",
        "with open(names_file_path, \"r\") as f:\n",
        "    feature_names = [line.split(\":\")[0] for line in f.readlines()[1:]]  # Skip first row\n",
        "\n",
        "feature_names.append(\"intrusion_types\")  # Add last column name\n",
        "df_spark = df_spark.toDF(*feature_names)  # Assign column names\n",
        "\n",
        "# ✅ 4️⃣ Encode `intrusion_types` (1 = Normal, 0 = Attack)\n",
        "df_spark = df_spark.withColumn(\"intrusion_label\", when(col(\"intrusion_types\") == \"normal.\", 1).otherwise(0))\n",
        "\n",
        "# ✅ 5️⃣ Compute Normal vs Attack Ratio\n",
        "normal_count = df_spark.filter(col(\"intrusion_label\") == 1).count()\n",
        "attack_count = df_spark.filter(col(\"intrusion_label\") == 0).count()\n",
        "attack_ratio = attack_count / (normal_count + attack_count)\n",
        "\n",
        "# ✅ 6️⃣ Describe Statistics for Normal & Attack Transactions\n",
        "stats_df_spark = df_spark.groupBy(\"intrusion_label\").agg(\n",
        "    min(\"duration\").alias(\"duration_min\"),\n",
        "    max(\"duration\").alias(\"duration_max\"),\n",
        "    mean(\"duration\").alias(\"duration_mean\"),\n",
        "    min(\"src_bytes\").alias(\"src_bytes_min\"),\n",
        "    max(\"src_bytes\").alias(\"src_bytes_max\"),\n",
        "    mean(\"src_bytes\").alias(\"src_bytes_mean\"),\n",
        "    min(\"dst_bytes\").alias(\"dst_bytes_min\"),\n",
        "    max(\"dst_bytes\").alias(\"dst_bytes_max\"),\n",
        "    mean(\"dst_bytes\").alias(\"dst_bytes_mean\")\n",
        ")\n",
        "\n",
        "# Convert to Pandas for Display\n",
        "stats_df = stats_df_spark.toPandas()\n",
        "\n",
        "# ✅ 7️⃣ Select Two Influential Features for Visualization\n",
        "feature_x = \"src_bytes\"\n",
        "feature_y = \"dst_bytes\"\n",
        "\n",
        "# Convert DataFrame for Visualization (Sample 5000 Rows for Efficiency)\n",
        "df_sample = df_spark.select(feature_x, feature_y, \"intrusion_label\").limit(5000).toPandas()\n",
        "\n",
        "# ✅ 8️⃣ Scatter Plot for Feature Separation\n",
        "plt.figure(figsize=(10, 6))\n",
        "sns.scatterplot(data=df_sample, x=feature_x, y=feature_y, hue=\"intrusion_label\", palette={1: \"blue\", 0: \"red\"})\n",
        "plt.title(f\"Scatter Plot: {feature_x} vs {feature_y} (Normal vs Attack)\")\n",
        "plt.legend(title=\"Intrusion Type\", labels=[\"Attack\", \"Normal\"])\n",
        "plt.xlabel(feature_x)\n",
        "plt.ylabel(feature_y)\n",
        "plt.show()\n",
        "\n",
        "# ✅ 9️⃣ Display Statistics DataFrame\n",
        "import ace_tools as tools\n",
        "tools.display_dataframe_to_user(name=\"Attack vs Normal Transaction Statistics\", dataframe=stats_df)\n"
      ],
      "id": "greatest-pressing",
      "execution_count": 29,
      "outputs": [
        {
          "output_type": "display_data",
          "data": {
            "text/plain": [
              "<Figure size 1000x600 with 1 Axes>"
            ],
            "image/png": "[encoded data removed]"
          },
          "metadata": {}
        },
        {
          "output_type": "error",
          "ename": "ModuleNotFoundError",
          "evalue": "No module named 'ace_tools'",
          "traceback": [
            "\u001b[0;31m---------------------------------------------------------------------------\u001b[0m",
            "\u001b[0;31mModuleNotFoundError\u001b[0m                       Traceback (most recent call last)",
            "\u001b[0;32m<ipython-input-29-f4b92b6319b0>\u001b[0m in \u001b[0;36m<cell line: 0>\u001b[0;34m()\u001b[0m\n\u001b[1;32m     62\u001b[0m \u001b[0;34m\u001b[0m\u001b[0m\n\u001b[1;32m     63\u001b[0m \u001b[0;31m# ✅ 9️⃣ Display Statistics DataFrame\u001b[0m\u001b[0;34m\u001b[0m\u001b[0;34m\u001b[0m\u001b[0m\n\u001b[0;32m---> 64\u001b[0;31m \u001b[0;32mimport\u001b[0m \u001b[0mace_tools\u001b[0m \u001b[0;32mas\u001b[0m \u001b[0mtools\u001b[0m\u001b[0;34m\u001b[0m\u001b[0;34m\u001b[0m\u001b[0m\n\u001b[0m\u001b[1;32m     65\u001b[0m \u001b[0mtools\u001b[0m\u001b[0;34m.\u001b[0m\u001b[0mdisplay_dataframe_to_user\u001b[0m\u001b[0;34m(\u001b[0m\u001b[0mname\u001b[0m\u001b[0;34m=\u001b[0m\u001b[0;34m\"Attack vs Normal Transaction Statistics\"\u001b[0m\u001b[0;34m,\u001b[0m \u001b[0mdataframe\u001b[0m\u001b[0;34m=\u001b[0m\u001b[0mstats_df\u001b[0m\u001b[0;34m)\u001b[0m\u001b[0;34m\u001b[0m\u001b[0;34m\u001b[0m\u001b[0m\n",
            "\u001b[0;31mModuleNotFoundError\u001b[0m: No module named 'ace_tools'",
            "",
            "\u001b[0;31m---------------------------------------------------------------------------\u001b[0;32m\nNOTE: If your import is failing due to a missing package, you can\nmanually install dependencies using either !pip or !apt.\n\nTo view examples of installing some common dependencies, click the\n\"Open Examples\" button below.\n\u001b[0;31m---------------------------------------------------------------------------\u001b[0m\n"
          ],
          "errorDetails": {
            "actions": [
              {
                "action": "open_url",
                "actionText": "Open Examples",
                "url": "/notebooks/snippets/importing_libraries.ipynb"
              }
            ]
          }
        }
      ]
    },
    {
      "cell_type": "code",
      "metadata": {
        "id": "dimensional-inspiration",
        "outputId": "3a1d9f67-f8d3-45c7-f3c5-cbc6f14b2e31",
        "colab": {
          "base_uri": "https://localhost:8080/",
          "height": 703
        }
      },
      "source": [
        "# YOUR CODE HERE\n",
        "from pyspark.sql import SparkSession\n",
        "from pyspark.sql.functions import when, col, min, max, mean\n",
        "import matplotlib.pyplot as plt\n",
        "import seaborn as sns\n",
        "\n",
        "# ✅ 1️⃣ Start Spark Session\n",
        "spark = SparkSession.builder.appName(\"KDD_Cup_Analysis\").getOrCreate()\n",
        "\n",
        "# ✅ 2️⃣ Load Dataset Efficiently with PySpark\n",
        "data_file_path = \"./kddcup.data_10_percent.gz\"\n",
        "df_spark = spark.read.csv(data_file_path, header=False, inferSchema=True)\n",
        "\n",
        "# ✅ 3️⃣ Extract Feature Names from `kddcup.names`\n",
        "names_file_path = \"./kddcup.names\"\n",
        "with open(names_file_path, \"r\") as f:\n",
        "    feature_names = [line.split(\":\")[0] for line in f.readlines()[1:]]  # Skip first row\n",
        "\n",
        "feature_names.append(\"intrusion_types\")  # Add last column name\n",
        "df_spark = df_spark.toDF(*feature_names)  # Assign column names\n",
        "\n",
        "# ✅ 4️⃣ Encode `intrusion_types` (1 = Normal, 0 = Attack)\n",
        "df_spark = df_spark.withColumn(\"intrusion_label\", when(col(\"intrusion_types\") == \"normal.\", 1).otherwise(0))\n",
        "\n",
        "# ✅ 5️⃣ Compute Normal vs Attack Ratio\n",
        "normal_count = df_spark.filter(col(\"intrusion_label\") == 1).count()\n",
        "attack_count = df_spark.filter(col(\"intrusion_label\") == 0).count()\n",
        "attack_ratio = attack_count / (normal_count + attack_count)\n",
        "\n",
        "# ✅ 6️⃣ Describe Statistics for Normal & Attack Transactions\n",
        "stats_df_spark = df_spark.groupBy(\"intrusion_label\").agg(\n",
        "    min(\"duration\").alias(\"duration_min\"),\n",
        "    max(\"duration\").alias(\"duration_max\"),\n",
        "    mean(\"duration\").alias(\"duration_mean\"),\n",
        "    min(\"src_bytes\").alias(\"src_bytes_min\"),\n",
        "    max(\"src_bytes\").alias(\"src_bytes_max\"),\n",
        "    mean(\"src_bytes\").alias(\"src_bytes_mean\"),\n",
        "    min(\"dst_bytes\").alias(\"dst_bytes_min\"),\n",
        "    max(\"dst_bytes\").alias(\"dst_bytes_max\"),\n",
        "    mean(\"dst_bytes\").alias(\"dst_bytes_mean\")\n",
        ")\n",
        "\n",
        "# Convert to Pandas for Display\n",
        "stats_df = stats_df_spark.toPandas()\n",
        "\n",
        "# ✅ 7️⃣ Select Two Influential Features for Visualization\n",
        "feature_x = \"src_bytes\"\n",
        "feature_y = \"dst_bytes\"\n",
        "\n",
        "# Convert DataFrame for Visualization (Sample 5000 Rows for Efficiency)\n",
        "df_sample = df_spark.select(feature_x, feature_y, \"intrusion_label\").limit(5000).toPandas()\n",
        "\n",
        "# ✅ 8️⃣ Scatter Plot for Feature Separation\n",
        "plt.figure(figsize=(10, 6))\n",
        "sns.scatterplot(data=df_sample, x=feature_x, y=feature_y, hue=\"intrusion_label\", palette={1: \"blue\", 0: \"red\"})\n",
        "plt.title(f\"Scatter Plot: {feature_x} vs {feature_y} (Normal vs Attack)\")\n",
        "plt.legend(title=\"Intrusion Type\", labels=[\"Attack\", \"Normal\"])\n",
        "plt.xlabel(feature_x)\n",
        "plt.ylabel(feature_y)\n",
        "plt.show()\n",
        "\n",
        "# ✅ 9️⃣ Display Statistics DataFrame\n",
        "print(stats_df)  # Print as table\n",
        "stats_df.to_csv(\"attack_vs_normal_stats.csv\", index=False)  # Save as CSV\n",
        "print(\"File saved as 'attack_vs_normal_stats.csv'\")\n"
      ],
      "id": "dimensional-inspiration",
      "execution_count": 31,
      "outputs": [
        {
          "output_type": "display_data",
          "data": {
            "text/plain": [
              "<Figure size 1000x600 with 1 Axes>"
            ],
            "image/png": "[encoded data removed]"
          },
          "metadata": {}
        },
        {
          "output_type": "stream",
          "name": "stdout",
          "text": [
            "   intrusion_label  duration_min  duration_max  duration_mean  src_bytes_min  \\\n",
            "0                1             0         58329     216.657322              0   \n",
            "1                0             0         42448       6.620891              0   \n",
            "\n",
            "   src_bytes_max  src_bytes_mean  dst_bytes_min  dst_bytes_max  dst_bytes_mean  \n",
            "0        2194619     1157.047524              0        5134218     3384.651000  \n",
            "1      693375640     3483.765952              0        5155468      251.601609  \n",
            "File saved as 'attack_vs_normal_stats.csv'\n"
          ]
        }
      ]
    },
    {
      "cell_type": "code",
      "metadata": {
        "id": "csNSaN2oaNYS"
      },
      "source": [
        "# YOUR CODE HERE"
      ],
      "id": "csNSaN2oaNYS",
      "execution_count": null,
      "outputs": []
    }
  ]
}