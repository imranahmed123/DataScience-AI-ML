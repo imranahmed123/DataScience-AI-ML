{
  "nbformat": 4,
  "nbformat_minor": 0,
  "metadata": {
    "kernelspec": {
      "display_name": "Python 3",
      "language": "python",
      "name": "python3"
    },
    "language_info": {
      "codemirror_mode": {
        "name": "ipython",
        "version": 3
      },
      "file_extension": ".py",
      "mimetype": "text/x-python",
      "name": "python",
      "nbconvert_exporter": "python",
      "pygments_lexer": "ipython3",
      "version": "3.8.5"
    },
    "colab": {
      "provenance": [],
      "include_colab_link": true
    }
  },
  "cells": [
    {
      "cell_type": "markdown",
      "metadata": {
        "id": "view-in-github",
        "colab_type": "text"
      },
      "source": [
        "<a href=\"https://colab.research.google.com/github/imranahmed123/DataScience-AI-ML/blob/main/M7_AST_02_Intro_to_PySpark_C.ipynb\" target=\"_parent\"><img src=\"https://colab.research.google.com/assets/colab-badge.svg\" alt=\"Open In Colab\"/></a>"
      ]
    },
    {
      "cell_type": "markdown",
      "metadata": {
        "id": "Nr6L0U0ahbzr"
      },
      "source": [
        "# Advanced Certification Program in Computational Data Science\n",
        "## A program by IISc and TalentSprint\n",
        "### Assignment 2: Intro to PySpark"
      ]
    },
    {
      "cell_type": "markdown",
      "metadata": {
        "id": "hJ-wAYVIhbzu"
      },
      "source": [
        "## Learning Objectives"
      ]
    },
    {
      "cell_type": "markdown",
      "metadata": {
        "id": "vnSM9v-nhbzv"
      },
      "source": [
        "At the end of the experiment, you will be able to\n",
        "\n",
        "* interact with Spark using python\n",
        "* understand Spark dataframes\n",
        "* implement linear regression using PySpark"
      ]
    },
    {
      "cell_type": "markdown",
      "metadata": {
        "id": "O3T1Tj2fhbzw"
      },
      "source": [
        "### Dataset"
      ]
    },
    {
      "cell_type": "markdown",
      "metadata": {
        "id": "m8LVD5gchbzw"
      },
      "source": [
        "The dataset chosen for this assignment is [Ecommerce customers](https://www.kaggle.com/srolka/ecommerce-customers). The dataset is made up of 500 records and 8 columns. It has customer information, such as e-mail, address, and their color avatar. Then it also has numerical value columns.\n",
        "\n",
        "* Avg Session Length: Average session of in-store style advice sessions\n",
        "* Time on App: Average time spent on App in minutes\n",
        "* Time on Website: Average time spent on Website in minutes\n",
        "* Length of Membership: How many years the customer has been a member.\n",
        "* Yearly Amount Spent\n",
        "\n",
        "Here, we will be using the first four features to perform linear regression using spark and predict Yearly Amount Spent by each customer."
      ]
    },
    {
      "cell_type": "markdown",
      "metadata": {
        "id": "jS6X9xQQhbzx"
      },
      "source": [
        "### Information"
      ]
    },
    {
      "cell_type": "markdown",
      "metadata": {
        "id": "FLUYa2jkhbzx"
      },
      "source": [
        "**Why do we need Spark?**\n",
        "\n",
        "Spark is one of the latest technologies being used to quickly and easily handle Big Data. Spark is an open-source distributed computing framework that promises a clean and pleasurable experience similar to that of Pandas, while scaling to large data sets via a distributed architecture under the hood.\n",
        "\n",
        "Apache Spark is a powerful cluster computing engine, therefore it is designed for fast computation of big data. Spark runs on Memory (RAM), and that makes the processing much faster than on Disk. It includes \"MLlib\" library to perform Machine Learning tasks using the Spark framework."
      ]
    },
    {
      "cell_type": "markdown",
      "metadata": {
        "id": "yP0oxBKKhbzx"
      },
      "source": [
        "### Introduction"
      ]
    },
    {
      "cell_type": "markdown",
      "metadata": {
        "id": "b-MIetu-hbzy"
      },
      "source": [
        "Apache Spark is known as a fast, easy to use and general engine for big data processing, with built-in modules for streaming, SQL, machine learning and graph processing. It’s well-known for its speed, ease of use, generality and the ability to run virtually everywhere. And even though Spark is one of the most asked tools for data engineers, also data scientists can benefit from Spark when doing exploratory data analysis, feature extraction, supervised learning and model evaluation.\n",
        "\n",
        "Spark is a platform for cluster computing that lets you spread data and computations over clusters with multiple nodes (think of each node as a separate computer). Splitting up your data makes it easier to work with very large datasets because each node only works with a small amount of data.\n",
        "\n",
        "As each node works on its own subset of the total data, it also carries out a part of the total calculations required, so that both data processing and computation are performed in parallel over the nodes in the cluster. It is a fact that parallel computation can make certain types of programming tasks much faster."
      ]
    },
    {
      "cell_type": "markdown",
      "metadata": {
        "id": "BNLA8HiKxQhc"
      },
      "source": [
        "### Setup Steps:"
      ]
    },
    {
      "cell_type": "code",
      "metadata": {
        "id": "2YzfoPvJDiTX"
      },
      "source": [
        "#@title Please enter your registration id to start: { run: \"auto\", display-mode: \"form\" }\n",
        "Id = \"2305526\" #@param {type:\"string\"}"
      ],
      "execution_count": 37,
      "outputs": []
    },
    {
      "cell_type": "code",
      "metadata": {
        "id": "AjoZJWGErxGf"
      },
      "source": [
        "#@title Please enter your password (your registered phone number) to continue: { run: \"auto\", display-mode: \"form\" }\n",
        "password = \"9284795301\" #@param {type:\"string\"}"
      ],
      "execution_count": 38,
      "outputs": []
    },
    {
      "cell_type": "code",
      "metadata": {
        "id": "WBPPuGmBlDIN",
        "cellView": "form",
        "colab": {
          "base_uri": "https://localhost:8080/",
          "height": 34
        },
        "outputId": "ecdf0dd5-9a6e-49a8-b6fd-6e3908c552f7"
      },
      "source": [
        "#@title Run this cell to complete the setup for this Notebook\n",
        "from IPython import get_ipython\n",
        "\n",
        "ipython = get_ipython()\n",
        "\n",
        "notebook= \"M7_AST_02_Intro_to_PySpark_C\" #name of the notebook\n",
        "\n",
        "def setup():\n",
        "#  ipython.magic(\"sx pip3 install torch\")\n",
        "    ipython.magic(\"sx wget https://cdn.iisc.talentsprint.com/CDS/Datasets/ecommerce_customers_.csv\")\n",
        "    from IPython.display import HTML, display\n",
        "    display(HTML('<script src=\"https://dashboard.talentsprint.com/aiml/record_ip.html?traineeId={0}&recordId={1}\"></script>'.format(getId(),submission_id)))\n",
        "    print(\"Setup completed successfully\")\n",
        "    return\n",
        "\n",
        "def submit_notebook():\n",
        "    ipython.magic(\"notebook -e \"+ notebook + \".ipynb\")\n",
        "\n",
        "    import requests, json, base64, datetime\n",
        "\n",
        "    url = \"https://dashboard.talentsprint.com/xp/app/save_notebook_attempts\"\n",
        "    if not submission_id:\n",
        "      data = {\"id\" : getId(), \"notebook\" : notebook, \"mobile\" : getPassword()}\n",
        "      r = requests.post(url, data = data)\n",
        "      r = json.loads(r.text)\n",
        "\n",
        "      if r[\"status\"] == \"Success\":\n",
        "          return r[\"record_id\"]\n",
        "      elif \"err\" in r:\n",
        "        print(r[\"err\"])\n",
        "        return None\n",
        "      else:\n",
        "        print (\"Something is wrong, the notebook will not be submitted for grading\")\n",
        "        return None\n",
        "\n",
        "    elif getAnswer() and getComplexity() and getAdditional() and getConcepts() and getComments() and getMentorSupport():\n",
        "      f = open(notebook + \".ipynb\", \"rb\")\n",
        "      file_hash = base64.b64encode(f.read())\n",
        "\n",
        "      data = {\"complexity\" : Complexity, \"additional\" :Additional,\n",
        "              \"concepts\" : Concepts, \"record_id\" : submission_id,\n",
        "              \"answer\" : Answer, \"id\" : Id, \"file_hash\" : file_hash,\n",
        "              \"notebook\" : notebook,\n",
        "              \"feedback_experiments_input\" : Comments,\n",
        "              \"feedback_mentor_support\": Mentor_support}\n",
        "      r = requests.post(url, data = data)\n",
        "      r = json.loads(r.text)\n",
        "      if \"err\" in r:\n",
        "        print(r[\"err\"])\n",
        "        return None\n",
        "      else:\n",
        "        print(\"Your submission is successful.\")\n",
        "        print(\"Ref Id:\", submission_id)\n",
        "        print(\"Date of submission: \", r[\"date\"])\n",
        "        print(\"Time of submission: \", r[\"time\"])\n",
        "        print(\"View your submissions: https://cds-iisc.talentsprint.com/notebook_submissions\")\n",
        "        #print(\"For any queries/discrepancies, please connect with mentors through the chat icon in LMS dashboard.\")\n",
        "        return submission_id\n",
        "    else: submission_id\n",
        "\n",
        "\n",
        "def getAdditional():\n",
        "  try:\n",
        "    if not Additional:\n",
        "      raise NameError\n",
        "    else:\n",
        "      return Additional\n",
        "  except NameError:\n",
        "    print (\"Please answer Additional Question\")\n",
        "    return None\n",
        "\n",
        "def getComplexity():\n",
        "  try:\n",
        "    if not Complexity:\n",
        "      raise NameError\n",
        "    else:\n",
        "      return Complexity\n",
        "  except NameError:\n",
        "    print (\"Please answer Complexity Question\")\n",
        "    return None\n",
        "\n",
        "def getConcepts():\n",
        "  try:\n",
        "    if not Concepts:\n",
        "      raise NameError\n",
        "    else:\n",
        "      return Concepts\n",
        "  except NameError:\n",
        "    print (\"Please answer Concepts Question\")\n",
        "    return None\n",
        "\n",
        "\n",
        "# def getWalkthrough():\n",
        "#   try:\n",
        "#     if not Walkthrough:\n",
        "#       raise NameError\n",
        "#     else:\n",
        "#       return Walkthrough\n",
        "#   except NameError:\n",
        "#     print (\"Please answer Walkthrough Question\")\n",
        "#     return None\n",
        "\n",
        "def getComments():\n",
        "  try:\n",
        "    if not Comments:\n",
        "      raise NameError\n",
        "    else:\n",
        "      return Comments\n",
        "  except NameError:\n",
        "    print (\"Please answer Comments Question\")\n",
        "    return None\n",
        "\n",
        "\n",
        "def getMentorSupport():\n",
        "  try:\n",
        "    if not Mentor_support:\n",
        "      raise NameError\n",
        "    else:\n",
        "      return Mentor_support\n",
        "  except NameError:\n",
        "    print (\"Please answer Mentor support Question\")\n",
        "    return None\n",
        "\n",
        "def getAnswer():\n",
        "  try:\n",
        "    if not Answer:\n",
        "      raise NameError\n",
        "    else:\n",
        "      return Answer\n",
        "  except NameError:\n",
        "    print (\"Please answer Question\")\n",
        "    return None\n",
        "\n",
        "\n",
        "def getId():\n",
        "  try:\n",
        "    return Id if Id else None\n",
        "  except NameError:\n",
        "    return None\n",
        "\n",
        "def getPassword():\n",
        "  try:\n",
        "    return password if password else None\n",
        "  except NameError:\n",
        "    return None\n",
        "\n",
        "submission_id = None\n",
        "### Setup\n",
        "if getPassword() and getId():\n",
        "  submission_id = submit_notebook()\n",
        "  if submission_id:\n",
        "    setup()\n",
        "else:\n",
        "  print (\"Please complete Id and Password cells before running setup\")\n",
        "\n"
      ],
      "execution_count": 39,
      "outputs": [
        {
          "output_type": "display_data",
          "data": {
            "text/plain": [
              "<IPython.core.display.HTML object>"
            ],
            "text/html": [
              "<script src=\"https://dashboard.talentsprint.com/aiml/record_ip.html?traineeId=2305526&recordId=7416\"></script>"
            ]
          },
          "metadata": {}
        },
        {
          "output_type": "stream",
          "name": "stdout",
          "text": [
            "Setup completed successfully\n"
          ]
        }
      ]
    },
    {
      "cell_type": "markdown",
      "metadata": {
        "id": "dxCv5teXYANs"
      },
      "source": [
        "### Importing required packages"
      ]
    },
    {
      "cell_type": "code",
      "metadata": {
        "id": "ZB8vMNkUYANt"
      },
      "source": [
        "import matplotlib.pyplot as plt\n",
        "import seaborn as sns"
      ],
      "execution_count": 40,
      "outputs": []
    },
    {
      "cell_type": "markdown",
      "metadata": {
        "id": "4dwQCqpwhbzy"
      },
      "source": [
        "### PySpark"
      ]
    },
    {
      "cell_type": "markdown",
      "metadata": {
        "id": "GYVoE0nThbzz"
      },
      "source": [
        "PySpark is an interface for Apache Spark in Python. It not only allows you to write Spark applications using Python APIs, but also provides the PySpark shell for interactively analyzing your data in a distributed environment. PySpark supports most of Spark’s features such as Spark SQL, DataFrame, Streaming, MLlib (Machine Learning) and Spark Core.\n",
        "\n",
        "<figure>\n",
        "<img src='https://cdn.iisc.talentsprint.com/CDS/Images/pyspark_components.png' width = 700 px/>\n",
        "</figure>\n",
        "\n",
        "**Spark SQL and DataFrame**\n",
        "\n",
        "Spark SQL is a Spark module for structured data processing. It provides a programming abstraction called DataFrame and can also act as distributed SQL query engine.\n",
        "\n",
        "**Streaming**\n",
        "\n",
        "Running on top of Spark, the streaming feature in Apache Spark enables powerful interactive and analytical applications across both streaming and historical data, while inheriting Spark’s ease of use and fault tolerance characteristics.\n",
        "\n",
        "**MLlib**\n",
        "\n",
        "Built on top of Spark, MLlib is a scalable machine learning library that provides a uniform set of high-level APIs that help users create and tune practical machine learning pipelines.\n",
        "\n",
        "**Spark Core**\n",
        "\n",
        "Spark Core is the underlying general execution engine for the Spark platform that all other functionality is built on top of. It provides an RDD (Resilient Distributed Dataset) and in-memory computing capabilities."
      ]
    },
    {
      "cell_type": "markdown",
      "metadata": {
        "id": "tuVyxDSAhbzz"
      },
      "source": [
        "#### Install PySpark"
      ]
    },
    {
      "cell_type": "code",
      "metadata": {
        "id": "dpbyJFSZhbzz",
        "colab": {
          "base_uri": "https://localhost:8080/"
        },
        "outputId": "c9e1217b-66a2-435c-f52d-ffc98b0c538f"
      },
      "source": [
        "!pip install pyspark"
      ],
      "execution_count": 41,
      "outputs": [
        {
          "output_type": "stream",
          "name": "stdout",
          "text": [
            "Requirement already satisfied: pyspark in /usr/local/lib/python3.10/dist-packages (3.5.4)\n",
            "Requirement already satisfied: py4j==0.10.9.7 in /usr/local/lib/python3.10/dist-packages (from pyspark) (0.10.9.7)\n"
          ]
        }
      ]
    },
    {
      "cell_type": "markdown",
      "metadata": {
        "id": "1-JqQmojhbz0"
      },
      "source": [
        "#### Start a Spark Session"
      ]
    },
    {
      "cell_type": "markdown",
      "metadata": {
        "id": "Vju8S9ZWhbz0"
      },
      "source": [
        "Spark session is a combined entry point of a Spark application, which came into implementation from Spark 2.0. It provides a way to interact with various spark’s functionality with a lesser number of constructs. Instead of having spark context, hive context, SQL context, now everything is encapsulated in a Spark session."
      ]
    },
    {
      "cell_type": "code",
      "metadata": {
        "id": "bdlUo9HFhbz0",
        "colab": {
          "base_uri": "https://localhost:8080/",
          "height": 219
        },
        "outputId": "6293546d-a26b-430a-9755-74c33e374e31"
      },
      "source": [
        "# Start spark session\n",
        "from pyspark.sql import SparkSession\n",
        "spark = SparkSession.builder.appName('LinearRegression').getOrCreate()\n",
        "spark"
      ],
      "execution_count": 42,
      "outputs": [
        {
          "output_type": "execute_result",
          "data": {
            "text/plain": [
              "<pyspark.sql.session.SparkSession at 0x7c47120c4c10>"
            ],
            "text/html": [
              "\n",
              "            <div>\n",
              "                <p><b>SparkSession - in-memory</b></p>\n",
              "                \n",
              "        <div>\n",
              "            <p><b>SparkContext</b></p>\n",
              "\n",
              "            <p><a href=\"http://5eea984ba2bd:4040\">Spark UI</a></p>\n",
              "\n",
              "            <dl>\n",
              "              <dt>Version</dt>\n",
              "                <dd><code>v3.5.4</code></dd>\n",
              "              <dt>Master</dt>\n",
              "                <dd><code>local[*]</code></dd>\n",
              "              <dt>AppName</dt>\n",
              "                <dd><code>LinearRegression</code></dd>\n",
              "            </dl>\n",
              "        </div>\n",
              "        \n",
              "            </div>\n",
              "        "
            ]
          },
          "metadata": {},
          "execution_count": 42
        }
      ]
    },
    {
      "cell_type": "markdown",
      "metadata": {
        "id": "ryDcIBTYhbz1"
      },
      "source": [
        "### Data Processing using Pyspark"
      ]
    },
    {
      "cell_type": "markdown",
      "metadata": {
        "id": "qfm30-_ghbz1"
      },
      "source": [
        "#### Loading data into PySpark"
      ]
    },
    {
      "cell_type": "markdown",
      "metadata": {
        "id": "2YyXV9pthbz1"
      },
      "source": [
        "To load the dataset we will use the `read.csv` module.  The `inferSchema` parameter provided will enable Spark to automatically determine the data type for each column. Also, `header` and `sep` parameters are given as the dataset contains header, and values are separated using vertical bar."
      ]
    },
    {
      "cell_type": "code",
      "metadata": {
        "id": "5g1oX-k0hbz2"
      },
      "source": [
        "df = spark.read.csv(\"ecommerce_customers_.csv\", sep = \",\", header=True, inferSchema = True)           # creating spark data frame"
      ],
      "execution_count": 48,
      "outputs": []
    },
    {
      "cell_type": "code",
      "source": [
        "df.show(5)\n",
        "df.printSchema()\n"
      ],
      "metadata": {
        "id": "wHwJkVDxldO6",
        "outputId": "150c88ff-947e-4665-8dae-7c4b397f294e",
        "colab": {
          "base_uri": "https://localhost:8080/"
        }
      },
      "execution_count": 49,
      "outputs": [
        {
          "output_type": "stream",
          "name": "stdout",
          "text": [
            "+--------------------+--------------------+---------+-------------------+------------------+------------------+--------------------+-------------------+\n",
            "|               Email|             Address|   Avatar|Avg. Session Length|       Time on App|   Time on Website|Length of Membership|Yearly Amount Spent|\n",
            "+--------------------+--------------------+---------+-------------------+------------------+------------------+--------------------+-------------------+\n",
            "|mstephenson@ferna...|    835 Frank Tunnel|     NULL|               NULL|              NULL|              NULL|                NULL|               NULL|\n",
            "|         Wrightmouth|      MI 82180-9605\"|   Violet|  34.49726772511229|12.655651149166752| 39.57766801952616|   4.082620632952961|  587.9510539684005|\n",
            "|   hduke@hotmail.com|  4547 Archer Common|     NULL|               NULL|              NULL|              NULL|                NULL|               NULL|\n",
            "|         Diazchester|      CA 06566-8576\"|DarkGreen| 31.926272026360156|11.109460728682564|37.268958868297744|    2.66403418213262|  392.2049334443264|\n",
            "|    pallen@yahoo.com|24645 Valerie Uni...|     NULL|               NULL|              NULL|              NULL|                NULL|               NULL|\n",
            "+--------------------+--------------------+---------+-------------------+------------------+------------------+--------------------+-------------------+\n",
            "only showing top 5 rows\n",
            "\n",
            "root\n",
            " |-- Email: string (nullable = true)\n",
            " |-- Address: string (nullable = true)\n",
            " |-- Avatar: string (nullable = true)\n",
            " |-- Avg. Session Length: double (nullable = true)\n",
            " |-- Time on App: double (nullable = true)\n",
            " |-- Time on Website: double (nullable = true)\n",
            " |-- Length of Membership: double (nullable = true)\n",
            " |-- Yearly Amount Spent: double (nullable = true)\n",
            "\n"
          ]
        }
      ]
    },
    {
      "cell_type": "markdown",
      "metadata": {
        "id": "fe2TqI_7hbz3"
      },
      "source": [
        "#### Data exploration with PySpark"
      ]
    },
    {
      "cell_type": "markdown",
      "metadata": {
        "id": "6MOtesQghbz3"
      },
      "source": [
        "* Display data types of dataframe columns"
      ]
    },
    {
      "cell_type": "code",
      "metadata": {
        "id": "z_xCliuMhbz4",
        "colab": {
          "base_uri": "https://localhost:8080/"
        },
        "outputId": "36d4daf7-234f-48a9-ea11-3203857726a6"
      },
      "source": [
        "# Print the data types\n",
        "df.dtypes"
      ],
      "execution_count": 50,
      "outputs": [
        {
          "output_type": "execute_result",
          "data": {
            "text/plain": [
              "[('Email', 'string'),\n",
              " ('Address', 'string'),\n",
              " ('Avatar', 'string'),\n",
              " ('Avg. Session Length', 'double'),\n",
              " ('Time on App', 'double'),\n",
              " ('Time on Website', 'double'),\n",
              " ('Length of Membership', 'double'),\n",
              " ('Yearly Amount Spent', 'double')]"
            ]
          },
          "metadata": {},
          "execution_count": 50
        }
      ]
    },
    {
      "cell_type": "markdown",
      "metadata": {
        "id": "EfpmyItPhbz4"
      },
      "source": [
        "* Display column details"
      ]
    },
    {
      "cell_type": "code",
      "metadata": {
        "id": "KOnGCTXZhbz4",
        "colab": {
          "base_uri": "https://localhost:8080/"
        },
        "outputId": "851a7e27-eba3-449e-8062-fa1c6834efe3"
      },
      "source": [
        "# Print the Schema of the DataFrame\n",
        "df.printSchema()"
      ],
      "execution_count": 51,
      "outputs": [
        {
          "output_type": "stream",
          "name": "stdout",
          "text": [
            "root\n",
            " |-- Email: string (nullable = true)\n",
            " |-- Address: string (nullable = true)\n",
            " |-- Avatar: string (nullable = true)\n",
            " |-- Avg. Session Length: double (nullable = true)\n",
            " |-- Time on App: double (nullable = true)\n",
            " |-- Time on Website: double (nullable = true)\n",
            " |-- Length of Membership: double (nullable = true)\n",
            " |-- Yearly Amount Spent: double (nullable = true)\n",
            "\n"
          ]
        }
      ]
    },
    {
      "cell_type": "markdown",
      "metadata": {
        "id": "nRI0Hi6phbz5"
      },
      "source": [
        "* Display rows"
      ]
    },
    {
      "cell_type": "code",
      "metadata": {
        "id": "B4pNnsfwhbz5",
        "colab": {
          "base_uri": "https://localhost:8080/"
        },
        "outputId": "0269cb6f-73cb-4fd2-e54b-6f2339b988ed"
      },
      "source": [
        "df.show(5)"
      ],
      "execution_count": 52,
      "outputs": [
        {
          "output_type": "stream",
          "name": "stdout",
          "text": [
            "+--------------------+--------------------+---------+-------------------+------------------+------------------+--------------------+-------------------+\n",
            "|               Email|             Address|   Avatar|Avg. Session Length|       Time on App|   Time on Website|Length of Membership|Yearly Amount Spent|\n",
            "+--------------------+--------------------+---------+-------------------+------------------+------------------+--------------------+-------------------+\n",
            "|mstephenson@ferna...|    835 Frank Tunnel|     NULL|               NULL|              NULL|              NULL|                NULL|               NULL|\n",
            "|         Wrightmouth|      MI 82180-9605\"|   Violet|  34.49726772511229|12.655651149166752| 39.57766801952616|   4.082620632952961|  587.9510539684005|\n",
            "|   hduke@hotmail.com|  4547 Archer Common|     NULL|               NULL|              NULL|              NULL|                NULL|               NULL|\n",
            "|         Diazchester|      CA 06566-8576\"|DarkGreen| 31.926272026360156|11.109460728682564|37.268958868297744|    2.66403418213262|  392.2049334443264|\n",
            "|    pallen@yahoo.com|24645 Valerie Uni...|     NULL|               NULL|              NULL|              NULL|                NULL|               NULL|\n",
            "+--------------------+--------------------+---------+-------------------+------------------+------------------+--------------------+-------------------+\n",
            "only showing top 5 rows\n",
            "\n"
          ]
        }
      ]
    },
    {
      "cell_type": "markdown",
      "metadata": {
        "id": "OicqJUYfhbz5"
      },
      "source": [
        "* Display total number of rows"
      ]
    },
    {
      "cell_type": "code",
      "metadata": {
        "id": "iVMYaotJhbz5",
        "colab": {
          "base_uri": "https://localhost:8080/"
        },
        "outputId": "54771ab9-c91b-47d6-8460-77f5ba915f21"
      },
      "source": [
        "df.count()"
      ],
      "execution_count": 53,
      "outputs": [
        {
          "output_type": "execute_result",
          "data": {
            "text/plain": [
              "1000"
            ]
          },
          "metadata": {},
          "execution_count": 53
        }
      ]
    },
    {
      "cell_type": "markdown",
      "metadata": {
        "id": "IJLKs8i3hbz6"
      },
      "source": [
        "* Display column labels"
      ]
    },
    {
      "cell_type": "code",
      "metadata": {
        "id": "0CbPm_VUhbz6",
        "colab": {
          "base_uri": "https://localhost:8080/"
        },
        "outputId": "c838d6b5-b0b2-4dfd-a515-a652f0984b5f"
      },
      "source": [
        "df.columns"
      ],
      "execution_count": 54,
      "outputs": [
        {
          "output_type": "execute_result",
          "data": {
            "text/plain": [
              "['Email',\n",
              " 'Address',\n",
              " 'Avatar',\n",
              " 'Avg. Session Length',\n",
              " 'Time on App',\n",
              " 'Time on Website',\n",
              " 'Length of Membership',\n",
              " 'Yearly Amount Spent']"
            ]
          },
          "metadata": {},
          "execution_count": 54
        }
      ]
    },
    {
      "cell_type": "markdown",
      "metadata": {
        "id": "Tbp-QZ3fhbz6"
      },
      "source": [
        "* Display specific columns"
      ]
    },
    {
      "cell_type": "code",
      "metadata": {
        "id": "uicyXLDAhbz6",
        "colab": {
          "base_uri": "https://localhost:8080/"
        },
        "outputId": "28170811-e863-4652-e20d-0a01ca0ac7c4"
      },
      "source": [
        "columns = [\"Email\",\"Time on App\",\"Time on Website\"]\n",
        "df.select(columns).show(5)"
      ],
      "execution_count": 55,
      "outputs": [
        {
          "output_type": "stream",
          "name": "stdout",
          "text": [
            "+--------------------+------------------+------------------+\n",
            "|               Email|       Time on App|   Time on Website|\n",
            "+--------------------+------------------+------------------+\n",
            "|mstephenson@ferna...|              NULL|              NULL|\n",
            "|         Wrightmouth|12.655651149166752| 39.57766801952616|\n",
            "|   hduke@hotmail.com|              NULL|              NULL|\n",
            "|         Diazchester|11.109460728682564|37.268958868297744|\n",
            "|    pallen@yahoo.com|              NULL|              NULL|\n",
            "+--------------------+------------------+------------------+\n",
            "only showing top 5 rows\n",
            "\n"
          ]
        }
      ]
    },
    {
      "cell_type": "markdown",
      "metadata": {
        "id": "zyJyBM-Chbz6"
      },
      "source": [
        "* Display the statistics of dataframe"
      ]
    },
    {
      "cell_type": "code",
      "source": [
        "df_renamed = df.withColumnRenamed(\"Avg. Session Length\", \"Avg_Session_Length\") \\\n",
        "               .withColumnRenamed(\"Time on App\", \"Time_on_App\") \\\n",
        "               .withColumnRenamed(\"Time on Website\", \"Time_on_Website\") \\\n",
        "               .withColumnRenamed(\"Length of Membership\", \"Length_of_Membership\") \\\n",
        "               .withColumnRenamed(\"Yearly Amount Spent\", \"Yearly_Amount_Spent\")\n",
        "\n",
        "# Now you can call describe without issues\n",
        "df_renamed.describe().show()\n",
        "\n"
      ],
      "metadata": {
        "id": "cLXek1hPmRdS",
        "outputId": "c0343a2e-1180-4249-aff4-6396295cb299",
        "colab": {
          "base_uri": "https://localhost:8080/"
        }
      },
      "execution_count": 58,
      "outputs": [
        {
          "output_type": "stream",
          "name": "stdout",
          "text": [
            "+-------+------------------+-----------+------------------+------------------+------------------+------------------+--------------------+-------------------+\n",
            "|summary|             Email|    Address|            Avatar|Avg_Session_Length|       Time_on_App|   Time_on_Website|Length_of_Membership|Yearly_Amount_Spent|\n",
            "+-------+------------------+-----------+------------------+------------------+------------------+------------------+--------------------+-------------------+\n",
            "|  count|              1000|       1000|               500|               500|               500|               500|                 500|                454|\n",
            "|   mean|              NULL|       NULL|33.058900610740785|31.130461514638228|14.350284262734618| 33.95692625943925|   48.60730499130784| 499.91985771641924|\n",
            "| stddev|              NULL|       NULL|0.9518717613059207| 6.128380357402919|  7.32783840726642| 9.787360915468765|   144.2169189098249|   78.3257926883325|\n",
            "|    min|APO AA 17032-7944\"|  AK 05665\"|30.879484344127498| 8.668349517101323| 8.508152176032603|0.7895199078816915|  0.2699010899842742|   266.086340948469|\n",
            "|    max| zscott@wright.com|YellowGreen|       YellowGreen| 36.13966248879052| 39.22071295098572|40.005181638101895|   744.2218671047146|  765.5184619388372|\n",
            "+-------+------------------+-----------+------------------+------------------+------------------+------------------+--------------------+-------------------+\n",
            "\n"
          ]
        }
      ]
    },
    {
      "cell_type": "code",
      "source": [
        "print(df.columns)\n"
      ],
      "metadata": {
        "id": "x1Mge-Kwmehp",
        "outputId": "df16251e-6c3c-4015-de65-5ef53d649e9a",
        "colab": {
          "base_uri": "https://localhost:8080/"
        }
      },
      "execution_count": 59,
      "outputs": [
        {
          "output_type": "stream",
          "name": "stdout",
          "text": [
            "['Email', 'Address', 'Avatar', 'Avg. Session Length', 'Time on App', 'Time on Website', 'Length of Membership', 'Yearly Amount Spent']\n"
          ]
        }
      ]
    },
    {
      "cell_type": "code",
      "metadata": {
        "id": "qEcVV2Achbz7",
        "colab": {
          "base_uri": "https://localhost:8080/"
        },
        "outputId": "8804065a-67ef-4428-c4ca-790ca996ad04"
      },
      "source": [
        "df_renamed.describe().show()"
      ],
      "execution_count": 60,
      "outputs": [
        {
          "output_type": "stream",
          "name": "stdout",
          "text": [
            "+-------+------------------+-----------+------------------+------------------+------------------+------------------+--------------------+-------------------+\n",
            "|summary|             Email|    Address|            Avatar|Avg_Session_Length|       Time_on_App|   Time_on_Website|Length_of_Membership|Yearly_Amount_Spent|\n",
            "+-------+------------------+-----------+------------------+------------------+------------------+------------------+--------------------+-------------------+\n",
            "|  count|              1000|       1000|               500|               500|               500|               500|                 500|                454|\n",
            "|   mean|              NULL|       NULL|33.058900610740785|31.130461514638228|14.350284262734618| 33.95692625943925|   48.60730499130784| 499.91985771641924|\n",
            "| stddev|              NULL|       NULL|0.9518717613059207| 6.128380357402919|  7.32783840726642| 9.787360915468765|   144.2169189098249|   78.3257926883325|\n",
            "|    min|APO AA 17032-7944\"|  AK 05665\"|30.879484344127498| 8.668349517101323| 8.508152176032603|0.7895199078816915|  0.2699010899842742|   266.086340948469|\n",
            "|    max| zscott@wright.com|YellowGreen|       YellowGreen| 36.13966248879052| 39.22071295098572|40.005181638101895|   744.2218671047146|  765.5184619388372|\n",
            "+-------+------------------+-----------+------------------+------------------+------------------+------------------+--------------------+-------------------+\n",
            "\n"
          ]
        }
      ]
    },
    {
      "cell_type": "markdown",
      "metadata": {
        "id": "S7ncz4X2hbz7"
      },
      "source": [
        "* Display total distinct values in *Avatar* column"
      ]
    },
    {
      "cell_type": "code",
      "metadata": {
        "id": "u3IUdO7Ohbz7",
        "colab": {
          "base_uri": "https://localhost:8080/"
        },
        "outputId": "9f261878-d106-4185-8017-0ab5c68c3125"
      },
      "source": [
        "# Distinct value count\n",
        "df_renamed.select('Avatar').distinct().count()"
      ],
      "execution_count": 61,
      "outputs": [
        {
          "output_type": "execute_result",
          "data": {
            "text/plain": [
              "185"
            ]
          },
          "metadata": {},
          "execution_count": 61
        }
      ]
    },
    {
      "cell_type": "markdown",
      "metadata": {
        "id": "tDwuxwbfhbz8"
      },
      "source": [
        "* Display count of distinct values in *Avatar* column"
      ]
    },
    {
      "cell_type": "code",
      "metadata": {
        "id": "up-ef7XNhbz8",
        "colab": {
          "base_uri": "https://localhost:8080/"
        },
        "outputId": "b5679b1d-224d-4d36-d46b-843e79088b51"
      },
      "source": [
        "df_renamed.groupby('Avatar').count().show(10)"
      ],
      "execution_count": 62,
      "outputs": [
        {
          "output_type": "stream",
          "name": "stdout",
          "text": [
            "+------------------+-----+\n",
            "|            Avatar|count|\n",
            "+------------------+-----+\n",
            "|32.903250973372074|    1|\n",
            "|       ForestGreen|    2|\n",
            "|           DimGray|    4|\n",
            "|          SeaGreen|    4|\n",
            "|              Teal|    6|\n",
            "|              Aqua|    5|\n",
            "|        DodgerBlue|    3|\n",
            "|         MintCream|    3|\n",
            "|             Khaki|    2|\n",
            "|         LightGray|    3|\n",
            "+------------------+-----+\n",
            "only showing top 10 rows\n",
            "\n"
          ]
        }
      ]
    },
    {
      "cell_type": "markdown",
      "metadata": {
        "id": "W5bUrhKkhbz8"
      },
      "source": [
        "* Plot the count of distinct values in *Avatar* column"
      ]
    },
    {
      "cell_type": "code",
      "metadata": {
        "id": "fY39dnmohbz8",
        "colab": {
          "base_uri": "https://localhost:8080/"
        },
        "outputId": "5329d604-cce7-441c-9902-d6f19f4972a8"
      },
      "source": [
        "DF = df_renamed.groupby('Avatar').count().sort(\"count\", ascending= False)\n",
        "DF.show(8)"
      ],
      "execution_count": 63,
      "outputs": [
        {
          "output_type": "stream",
          "name": "stdout",
          "text": [
            "+------------+-----+\n",
            "|      Avatar|count|\n",
            "+------------+-----+\n",
            "|        NULL|  500|\n",
            "|   SlateBlue|    7|\n",
            "|        Cyan|    6|\n",
            "|        Teal|    6|\n",
            "|   OliveDrab|    6|\n",
            "|DarkSeaGreen|    6|\n",
            "| GreenYellow|    6|\n",
            "|   PeachPuff|    6|\n",
            "+------------+-----+\n",
            "only showing top 8 rows\n",
            "\n"
          ]
        }
      ]
    },
    {
      "cell_type": "code",
      "metadata": {
        "id": "Uy5htH2Rhbz9",
        "colab": {
          "base_uri": "https://localhost:8080/",
          "height": 313
        },
        "outputId": "d2436d73-1d31-40e1-d183-0dfa500602e1"
      },
      "source": [
        "plt.figure(figsize= (24,4))\n",
        "x = DF.toPandas()['Avatar']\n",
        "y = DF.toPandas()['count']\n",
        "sns.barplot(x=x, y=y)\n",
        "plt.xticks(rotation= 90)\n",
        "plt.show()"
      ],
      "execution_count": 64,
      "outputs": [
        {
          "output_type": "display_data",
          "data": {
            "text/plain": [
              "<Figure size 2400x400 with 1 Axes>"
            ],
            "image/png": "[encoded data removed]"
          },
          "metadata": {}
        }
      ]
    },
    {
      "cell_type": "markdown",
      "metadata": {
        "id": "WwFMYWqKhbz9"
      },
      "source": [
        "* Display average time spent on app by users having different *Avatar*"
      ]
    },
    {
      "cell_type": "code",
      "metadata": {
        "id": "2Wi64y0Qhbz9",
        "colab": {
          "base_uri": "https://localhost:8080/"
        },
        "outputId": "7ea1daed-b047-47da-ac75-18fc0a454fbb"
      },
      "source": [
        "df_renamed.groupby('Avatar').avg().select(['Avatar', 'avg(Time_on_App)']).show(5)"
      ],
      "execution_count": 70,
      "outputs": [
        {
          "output_type": "stream",
          "name": "stdout",
          "text": [
            "+------------------+------------------+\n",
            "|            Avatar|  avg(Time_on_App)|\n",
            "+------------------+------------------+\n",
            "|32.903250973372074| 36.77260376125875|\n",
            "|       ForestGreen|11.801835104426388|\n",
            "|           DimGray|12.013773141157184|\n",
            "|          SeaGreen|11.352012316138754|\n",
            "|              Teal|11.755756768431594|\n",
            "+------------------+------------------+\n",
            "only showing top 5 rows\n",
            "\n"
          ]
        }
      ]
    },
    {
      "cell_type": "markdown",
      "metadata": {
        "id": "dcCKpLhYhbz-"
      },
      "source": [
        "* Display the records where average time spent on website by user is greater than 37 minutes"
      ]
    },
    {
      "cell_type": "code",
      "metadata": {
        "id": "nLD3pmpQhbz-",
        "colab": {
          "base_uri": "https://localhost:8080/"
        },
        "outputId": "2b19e5c5-cf5d-40bf-baa2-204fb0f755fb"
      },
      "source": [
        "df.filter(df['Time on Website'] > 37).show(5)"
      ],
      "execution_count": 79,
      "outputs": [
        {
          "output_type": "stream",
          "name": "stdout",
          "text": [
            "+---------------+---------------+----------------+-------------------+------------------+------------------+--------------------+-------------------+\n",
            "|          Email|        Address|          Avatar|Avg. Session Length|       Time on App|   Time on Website|Length of Membership|Yearly Amount Spent|\n",
            "+---------------+---------------+----------------+-------------------+------------------+------------------+--------------------+-------------------+\n",
            "|    Wrightmouth| MI 82180-9605\"|          Violet|  34.49726772511229|12.655651149166752| 39.57766801952616|   4.082620632952961|  587.9510539684005|\n",
            "|    Diazchester| CA 06566-8576\"|       DarkGreen| 31.926272026360156|11.109460728682564|37.268958868297744|    2.66403418213262|  392.2049334443264|\n",
            "|    Cobbborough| DC 99414-7564\"|          Bisque| 33.000914755642675|11.330278057777512| 37.11059744212085|   4.104543202376424| 487.54750486747207|\n",
            "|Port Jacobville| PR 37242-1057\"|MediumAquaMarine|  33.33067252364639|12.795188551078114| 37.53665330059473|   4.446308318351435|  599.4060920457634|\n",
            "|     West Debra| SD 97450-0495\"|          Salmon|  33.98777289568564|13.386235275676434|37.534497341555735|  3.2734335777477144|  570.2004089636195|\n",
            "+---------------+---------------+----------------+-------------------+------------------+------------------+--------------------+-------------------+\n",
            "only showing top 5 rows\n",
            "\n"
          ]
        }
      ]
    },
    {
      "cell_type": "markdown",
      "metadata": {
        "id": "-nB82Y8vhbz-"
      },
      "source": [
        "* Display the minimum Yearly Amount Spent where average time spent on website by user is greater than 39 minutes"
      ]
    },
    {
      "cell_type": "code",
      "metadata": {
        "id": "V7caT8Lvhbz_",
        "colab": {
          "base_uri": "https://localhost:8080/"
        },
        "outputId": "72c180da-4e0b-446a-a624-fc2626508fb1"
      },
      "source": [
        "from pyspark.sql.functions import col, min\n",
        "df.filter(col('Time on Website')>39).agg(min('Yearly Amount Spent')).show()"
      ],
      "execution_count": 80,
      "outputs": [
        {
          "output_type": "stream",
          "name": "stdout",
          "text": [
            "+------------------------+\n",
            "|min(Yearly Amount Spent)|\n",
            "+------------------------+\n",
            "|       350.0582001638451|\n",
            "+------------------------+\n",
            "\n"
          ]
        }
      ]
    },
    {
      "cell_type": "markdown",
      "metadata": {
        "id": "S1hUIVRAhbz_"
      },
      "source": [
        "* Display the records where average time spent on app by user is greater than 12 minutes and average time spent on website is smaller than 37 minutes"
      ]
    },
    {
      "cell_type": "code",
      "metadata": {
        "id": "tJ-Hib-Bhbz_",
        "colab": {
          "base_uri": "https://localhost:8080/"
        },
        "outputId": "14f25430-92ad-4f2b-d031-fb30dbc01c62"
      },
      "source": [
        "from pyspark.sql.functions import col\n",
        "df.filter((col('Time on App')>12) &(col('Time on Website') < 37)).show(10, truncate=False)"
      ],
      "execution_count": 81,
      "outputs": [
        {
          "output_type": "stream",
          "name": "stdout",
          "text": [
            "+------------------+---------------+------------------+-------------------+------------------+------------------+--------------------+-------------------+\n",
            "|Email             |Address        |Avatar            |Avg. Session Length|Time on App       |Time on Website   |Length of Membership|Yearly Amount Spent|\n",
            "+------------------+---------------+------------------+-------------------+------------------+------------------+--------------------+-------------------+\n",
            "|Port Jason        | OH 22070-1220\"|SaddleBrown       |34.30555662975554  |13.717513665142508|36.72128267790313 |3.1201787827480914  |581.8523440352178  |\n",
            "|Jeffreychester    | MN 67218-7250\"|FloralWhite       |33.87103787934198  |12.026925339755058|34.47687762925054 |5.493507201364199   |637.102447915074   |\n",
            "|DPO AP 09026-4941\"|Aqua           |32.739142938380326|12.35195897300293  |37.373358858547554|4.4342734348999375|549.9041461052942   |NULL               |\n",
            "|APO AA 98456-7482\"|Brown          |31.936548618448914|11.814128294972196 |37.14516822352819 |3.202806071553459 |427.19938489532814  |NULL               |\n",
            "|DPO AA 07580-2652\"|Tomato         |33.87936082480498 |11.584782999535266 |37.087926070983805|3.71320920294043  |522.3374046069357   |NULL               |\n",
            "|New Stephaniehaven| MP 42268\"     |Bisque            |33.19033404372265  |12.959226091609382|36.144666700041924|3.9185418391589986  |573.4158673313865  |\n",
            "|Samanthaland      | ND 44358\"     |DarkBlue          |32.38797585315387  |13.148725692056516|36.61995708279922 |2.494543646659249   |470.45273330095546 |\n",
            "|Phillipstad       | OH 35641-3238\"|Peru              |30.737720372628186 |12.636606052000129|36.213763093698624|3.357846842326294   |461.7807421962299  |\n",
            "|APO AE 15445-2876\"|Black          |33.50308725671972 |12.87798369625634  |37.44102133556604 |1.559151939957077 |419.9387748391792   |NULL               |\n",
            "|APO AA 74738\"     |Olive          |31.531604482572902|13.378562784168986 |38.734006289897124|2.2451477874052825|436.51560572936256  |NULL               |\n",
            "+------------------+---------------+------------------+-------------------+------------------+------------------+--------------------+-------------------+\n",
            "only showing top 10 rows\n",
            "\n"
          ]
        }
      ]
    },
    {
      "cell_type": "markdown",
      "metadata": {
        "id": "LORVLYUMhb0A"
      },
      "source": [
        "To know more about other `pyspark.sql.functions` operation click [here](https://spark.apache.org/docs/latest/api/python/reference/pyspark.sql/functions.html)."
      ]
    },
    {
      "cell_type": "markdown",
      "metadata": {
        "id": "qI55eNtchb0A"
      },
      "source": [
        "### Linear Regression Model"
      ]
    },
    {
      "cell_type": "markdown",
      "metadata": {
        "id": "0SQI5Rq3hb0A"
      },
      "source": [
        "Linear Regression model is one of the oldest and widely used machine learning approach which assumes a relationship between dependent and independent variables. It consists of the best fitting line through the scattered points on the graph and this best fitting line is known as the regression line."
      ]
    },
    {
      "cell_type": "markdown",
      "metadata": {
        "id": "Ij78EczBhb0B"
      },
      "source": [
        "#### Setting Up DataFrame for Model"
      ]
    },
    {
      "cell_type": "markdown",
      "metadata": {
        "id": "exKHqPx4hb0B"
      },
      "source": [
        "For Spark to accept the data, it needs to be in the form of two columns (\"labels\", \"features\")\n",
        "\n",
        "* Features are data points of all the attributes to be used for prediction\n",
        "* Labels are output for each data point\n",
        "* We will be predicting Label from Features"
      ]
    },
    {
      "cell_type": "markdown",
      "metadata": {
        "id": "aCZCS-R4hb0B"
      },
      "source": [
        "For the linear regression model, we need to import two modules from Pyspark i.e. Vector Assembler and Linear Regression. Vector Assembler is a transformer that assembles all the features into one vector from multiple columns that contain type double.\n",
        "\n",
        "To know more about vector assembler click [here](https://spark.apache.org/docs/latest/api/python/reference/api/pyspark.ml.feature.VectorAssembler.html)."
      ]
    },
    {
      "cell_type": "code",
      "metadata": {
        "id": "3gHmgn46hb0C"
      },
      "source": [
        "from pyspark.ml.feature import VectorAssembler\n",
        "from pyspark.ml.regression import LinearRegression"
      ],
      "execution_count": 82,
      "outputs": []
    },
    {
      "cell_type": "code",
      "metadata": {
        "id": "S26ufGiZhb0C"
      },
      "source": [
        "assembler = VectorAssembler(\n",
        "                            inputCols= [\"Avg Session Length\", \"Time on App\", \"Time on Website\",'Length of Membership'],\n",
        "                            outputCol= \"features\")       # features is the name of output columns which combines all the columns"
      ],
      "execution_count": 83,
      "outputs": []
    },
    {
      "cell_type": "code",
      "source": [
        "df_filled = df_renamed.fillna(0, subset=[\"Avg_Session_Length\", \"Time_on_App\", \"Time_on_Website\", \"Length_of_Membership\"])\n"
      ],
      "metadata": {
        "id": "end1tgyp1XXC"
      },
      "execution_count": 90,
      "outputs": []
    },
    {
      "cell_type": "code",
      "source": [
        "df_cleaned = df_renamed.dropna(subset=[\"Avg_Session_Length\", \"Time_on_App\", \"Time_on_Website\", \"Length_of_Membership\"])\n"
      ],
      "metadata": {
        "id": "2Fs16Oqp121R"
      },
      "execution_count": 91,
      "outputs": []
    },
    {
      "cell_type": "code",
      "source": [
        "assembler = VectorAssembler(\n",
        "    inputCols=[\"Avg_Session_Length\", \"Time_on_App\", \"Time_on_Website\", \"Length_of_Membership\"],\n",
        "    outputCol=\"features\",\n",
        "    handleInvalid=\"skip\"  # You can also use \"keep\"\n",
        ")\n"
      ],
      "metadata": {
        "id": "EXkN-d7216HY"
      },
      "execution_count": 92,
      "outputs": []
    },
    {
      "cell_type": "code",
      "source": [
        "from pyspark.ml.feature import VectorAssembler\n",
        "\n",
        "# Fill or drop null values\n",
        "df_filled = df_renamed.fillna(0, subset=[\"Avg_Session_Length\", \"Time_on_App\", \"Time_on_Website\", \"Length_of_Membership\"])\n",
        "\n",
        "# Define VectorAssembler\n",
        "assembler = VectorAssembler(\n",
        "    inputCols=[\"Avg_Session_Length\", \"Time_on_App\", \"Time_on_Website\", \"Length_of_Membership\"],\n",
        "    outputCol=\"features\",\n",
        "    handleInvalid=\"skip\"\n",
        ")\n",
        "\n",
        "# Transform the DataFrame\n",
        "output = assembler.transform(df_filled)\n",
        "\n",
        "# Show the transformed DataFrame\n",
        "output.show(10)\n"
      ],
      "metadata": {
        "id": "eWtRLkYF1-GA",
        "outputId": "be3ac12b-a552-4a42-ae6c-c32f891a3b2e",
        "colab": {
          "base_uri": "https://localhost:8080/"
        }
      },
      "execution_count": 93,
      "outputs": [
        {
          "output_type": "stream",
          "name": "stdout",
          "text": [
            "+--------------------+--------------------+----------------+------------------+------------------+------------------+--------------------+-------------------+--------------------+\n",
            "|               Email|             Address|          Avatar|Avg_Session_Length|       Time_on_App|   Time_on_Website|Length_of_Membership|Yearly_Amount_Spent|            features|\n",
            "+--------------------+--------------------+----------------+------------------+------------------+------------------+--------------------+-------------------+--------------------+\n",
            "|mstephenson@ferna...|    835 Frank Tunnel|            NULL|               0.0|               0.0|               0.0|                 0.0|               NULL|           (4,[],[])|\n",
            "|         Wrightmouth|      MI 82180-9605\"|          Violet| 34.49726772511229|12.655651149166752| 39.57766801952616|   4.082620632952961|  587.9510539684005|[34.4972677251122...|\n",
            "|   hduke@hotmail.com|  4547 Archer Common|            NULL|               0.0|               0.0|               0.0|                 0.0|               NULL|           (4,[],[])|\n",
            "|         Diazchester|      CA 06566-8576\"|       DarkGreen|31.926272026360156|11.109460728682564|37.268958868297744|    2.66403418213262|  392.2049334443264|[31.9262720263601...|\n",
            "|    pallen@yahoo.com|24645 Valerie Uni...|            NULL|               0.0|               0.0|               0.0|                 0.0|               NULL|           (4,[],[])|\n",
            "|         Cobbborough|      DC 99414-7564\"|          Bisque|33.000914755642675|11.330278057777512| 37.11059744212085|   4.104543202376424| 487.54750486747207|[33.0009147556426...|\n",
            "|riverarebecca@gma...|1414 David Throug...|            NULL|               0.0|               0.0|               0.0|                 0.0|               NULL|           (4,[],[])|\n",
            "|          Port Jason|      OH 22070-1220\"|     SaddleBrown| 34.30555662975554|13.717513665142508| 36.72128267790313|  3.1201787827480914|  581.8523440352178|[34.3055566297555...|\n",
            "|mstephens@davidso...|14023 Rodriguez P...|            NULL|               0.0|               0.0|               0.0|                 0.0|               NULL|           (4,[],[])|\n",
            "|     Port Jacobville|      PR 37242-1057\"|MediumAquaMarine| 33.33067252364639|12.795188551078114| 37.53665330059473|   4.446308318351435|  599.4060920457634|[33.3306725236463...|\n",
            "+--------------------+--------------------+----------------+------------------+------------------+------------------+--------------------+-------------------+--------------------+\n",
            "only showing top 10 rows\n",
            "\n"
          ]
        }
      ]
    },
    {
      "cell_type": "code",
      "metadata": {
        "id": "WOxDfY4uhb0D",
        "colab": {
          "base_uri": "https://localhost:8080/",
          "height": 141
        },
        "outputId": "10480f0f-c882-4c5c-8d0e-e2721b1dba3d"
      },
      "source": [
        "output.show(10)"
      ],
      "execution_count": 87,
      "outputs": [
        {
          "output_type": "error",
          "ename": "NameError",
          "evalue": "name 'output' is not defined",
          "traceback": [
            "\u001b[0;31m---------------------------------------------------------------------------\u001b[0m",
            "\u001b[0;31mNameError\u001b[0m                                 Traceback (most recent call last)",
            "\u001b[0;32m<ipython-input-87-f09150d26e5b>\u001b[0m in \u001b[0;36m<cell line: 1>\u001b[0;34m()\u001b[0m\n\u001b[0;32m----> 1\u001b[0;31m \u001b[0moutput\u001b[0m\u001b[0;34m.\u001b[0m\u001b[0mshow\u001b[0m\u001b[0;34m(\u001b[0m\u001b[0;36m10\u001b[0m\u001b[0;34m)\u001b[0m\u001b[0;34m\u001b[0m\u001b[0;34m\u001b[0m\u001b[0m\n\u001b[0m",
            "\u001b[0;31mNameError\u001b[0m: name 'output' is not defined"
          ]
        }
      ]
    },
    {
      "cell_type": "code",
      "metadata": {
        "id": "5l3IvdYNhb0D",
        "colab": {
          "base_uri": "https://localhost:8080/"
        },
        "outputId": "13217a72-00c3-4e0f-b33d-87ae590f53fa"
      },
      "source": [
        "output.select(\"features\").show(10, truncate= False)          # displays only the features column (which includes all other column values in a list)"
      ],
      "execution_count": 94,
      "outputs": [
        {
          "output_type": "stream",
          "name": "stdout",
          "text": [
            "+---------------------------------------------------------------------------+\n",
            "|features                                                                   |\n",
            "+---------------------------------------------------------------------------+\n",
            "|(4,[],[])                                                                  |\n",
            "|[34.49726772511229,12.655651149166752,39.57766801952616,4.082620632952961] |\n",
            "|(4,[],[])                                                                  |\n",
            "|[31.926272026360156,11.109460728682564,37.268958868297744,2.66403418213262]|\n",
            "|(4,[],[])                                                                  |\n",
            "|[33.000914755642675,11.330278057777512,37.11059744212085,4.104543202376424]|\n",
            "|(4,[],[])                                                                  |\n",
            "|[34.30555662975554,13.717513665142508,36.72128267790313,3.1201787827480914]|\n",
            "|(4,[],[])                                                                  |\n",
            "|[33.33067252364639,12.795188551078114,37.53665330059473,4.446308318351435] |\n",
            "+---------------------------------------------------------------------------+\n",
            "only showing top 10 rows\n",
            "\n"
          ]
        }
      ]
    },
    {
      "cell_type": "code",
      "metadata": {
        "id": "MsMl8o7Yhb0E"
      },
      "source": [
        "# Complete dataset is represented in 2 columns\n",
        "final_data = output.select(\"features\",'Yearly_Amount_Spent')"
      ],
      "execution_count": 96,
      "outputs": []
    },
    {
      "cell_type": "markdown",
      "metadata": {
        "id": "8dyT5lLehb0E"
      },
      "source": [
        "#### Splitting the data into Training and Test set"
      ]
    },
    {
      "cell_type": "code",
      "metadata": {
        "id": "cznY4s_Ahb0F"
      },
      "source": [
        "# Splitting the data in Train and Test set(70% training data, 30% testing data)\n",
        "train_data,test_data = final_data.randomSplit([0.7,0.3])"
      ],
      "execution_count": 97,
      "outputs": []
    },
    {
      "cell_type": "code",
      "metadata": {
        "id": "fQzau_Pvhb0F",
        "colab": {
          "base_uri": "https://localhost:8080/"
        },
        "outputId": "1c9fa9cf-3441-4345-fe04-a56759f327ea"
      },
      "source": [
        "train_data.describe().show()"
      ],
      "execution_count": 98,
      "outputs": [
        {
          "output_type": "stream",
          "name": "stdout",
          "text": [
            "+-------+-------------------+\n",
            "|summary|Yearly_Amount_Spent|\n",
            "+-------+-------------------+\n",
            "|  count|                326|\n",
            "|   mean| 497.75855970713735|\n",
            "| stddev|  76.26540782840365|\n",
            "|    min|   266.086340948469|\n",
            "|    max|  765.5184619388372|\n",
            "+-------+-------------------+\n",
            "\n"
          ]
        }
      ]
    },
    {
      "cell_type": "code",
      "metadata": {
        "id": "FrdTvsmVhb0F",
        "colab": {
          "base_uri": "https://localhost:8080/"
        },
        "outputId": "49bd7aa9-fd7e-436a-b560-1d0e84d31f43"
      },
      "source": [
        "test_data.describe().show()"
      ],
      "execution_count": 99,
      "outputs": [
        {
          "output_type": "stream",
          "name": "stdout",
          "text": [
            "+-------+-------------------+\n",
            "|summary|Yearly_Amount_Spent|\n",
            "+-------+-------------------+\n",
            "|  count|                128|\n",
            "|   mean| 505.42441358380927|\n",
            "| stddev|  83.40150152000179|\n",
            "|    min|   302.189547809652|\n",
            "|    max|  725.5848140556805|\n",
            "+-------+-------------------+\n",
            "\n"
          ]
        }
      ]
    },
    {
      "cell_type": "markdown",
      "metadata": {
        "id": "LW62eB6Hhb0G"
      },
      "source": [
        "#### Create a Linear Regression Model object and fit on train data"
      ]
    },
    {
      "cell_type": "code",
      "source": [
        "from pyspark.ml.feature import VectorAssembler\n",
        "from pyspark.ml.regression import LinearRegression\n",
        "\n",
        "# Handle null values in the label column\n",
        "df_cleaned = df_renamed.dropna(subset=[\"Yearly_Amount_Spent\"])\n",
        "\n",
        "# Define the feature assembler\n",
        "assembler = VectorAssembler(\n",
        "    inputCols=[\"Avg_Session_Length\", \"Time_on_App\", \"Time_on_Website\", \"Length_of_Membership\"],\n",
        "    outputCol=\"features\"\n",
        ")\n",
        "\n",
        "# Transform the DataFrame\n",
        "output = assembler.transform(df_cleaned)\n",
        "\n",
        "# Split into training and testing sets\n",
        "train_data, test_data = output.randomSplit([0.8, 0.2], seed=42)\n",
        "\n",
        "# Define and train the linear regression model\n",
        "regressor = LinearRegression(featuresCol=\"features\", labelCol=\"Yearly_Amount_Spent\")\n",
        "model = regressor.fit(train_data)\n"
      ],
      "metadata": {
        "id": "ksvPFm5E2wzx"
      },
      "execution_count": 103,
      "outputs": []
    },
    {
      "cell_type": "markdown",
      "metadata": {
        "id": "YVH4X80nhb0G"
      },
      "source": [
        "#### Predicting the Test set results"
      ]
    },
    {
      "cell_type": "code",
      "metadata": {
        "id": "DCrfunGbhb0G",
        "colab": {
          "base_uri": "https://localhost:8080/"
        },
        "outputId": "99c46c87-f640-4051-e7e5-a187cff193d1"
      },
      "source": [
        "predict = model.transform(test_data)\n",
        "\n",
        "predict.select(predict.columns[:]).show(10)"
      ],
      "execution_count": 104,
      "outputs": [
        {
          "output_type": "stream",
          "name": "stdout",
          "text": [
            "+---------------+---------------+---------------+------------------+------------------+------------------+--------------------+-------------------+--------------------+------------------+\n",
            "|          Email|        Address|         Avatar|Avg_Session_Length|       Time_on_App|   Time_on_Website|Length_of_Membership|Yearly_Amount_Spent|            features|        prediction|\n",
            "+---------------+---------------+---------------+------------------+------------------+------------------+--------------------+-------------------+--------------------+------------------+\n",
            "| Alexandershire|      MO 43498\"|       Moccasin| 33.15569970295208|12.931550271647987| 38.16643555663392|   3.854473855602962|   570.451725912857|[33.1556997029520...| 556.9903301513618|\n",
            "|      Allentown|      SD 73050\"|  LavenderBlush| 33.42874704259606|10.636761083696548| 37.57883524203316|  2.9263964487266874| 421.96679418586734|[33.4287470425960...| 417.5340856329087|\n",
            "|     Amandaland|      GA 99736\"|       SeaGreen| 34.72908016563062|11.966898076780602| 36.54759627699103|   2.957448756503683|   506.132342437705|[34.7290801656306...| 503.7074911762327|\n",
            "|   Anthonymouth| VT 01329-7541\"|       DarkCyan| 34.00207092262163| 11.85468192110211|37.491892210406924|   2.761861926301417| 461.62827839108616|[34.0020709226216...|469.18683060061517|\n",
            "|     Bentonberg|      GU 13706\"|      Gainsboro|31.912075929200608|11.792971821961505|36.257819118501914|  2.3951681299791368|  387.5347163057077|[31.9120759292006...| 388.8459564026839|\n",
            "|  Brendachester| TX 05000-5873\"|           Teal|33.322501051305466|12.391422991118318|36.840085729767004|   2.336484668112853|   456.469510066298|[33.3225010513054...|445.40868890757383|\n",
            "|     Brownshire| NC 10074-7735\"|           Pink| 34.03416353106073|13.592512657946294| 36.83865678634849|  3.6059339177330707|  618.8459704239658|[34.0341635310607...| 588.8247558584776|\n",
            "|Christopherport|      TN 57784\"|      PaleGreen| 33.38599019075222|12.782171794760183| 35.55077226680613|  3.2287176862706497|  527.7837897574573|[33.3859901907522...| 516.2961752798551|\n",
            "|   Cynthiaville|      NY 51578\"|      OliveDrab| 32.67515450844823|12.594194066191111| 37.68387537364701|  2.5717778354776577| 444.58216497865277|[32.6751545084482...|451.70315039831144|\n",
            "|      Danielton|      NJ 85847\"|MediumTurquoise| 33.94624061993669|  10.9839767277944|  37.9514894585739|  3.0507129732180167|  436.2834981467513|[33.9462406199366...|452.37504709512973|\n",
            "+---------------+---------------+---------------+------------------+------------------+------------------+--------------------+-------------------+--------------------+------------------+\n",
            "only showing top 10 rows\n",
            "\n"
          ]
        }
      ]
    },
    {
      "cell_type": "markdown",
      "metadata": {
        "id": "VHlcdOtThb0G"
      },
      "source": [
        "#### Evaluating Model Performance"
      ]
    },
    {
      "cell_type": "code",
      "metadata": {
        "id": "41ftFH8Ohb0H",
        "colab": {
          "base_uri": "https://localhost:8080/"
        },
        "outputId": "093f6e1c-75e6-41f9-80b6-19a487594370"
      },
      "source": [
        "metrics = model.evaluate(test_data)                             # Using evaluate method we can verify our model's performance\n",
        "\n",
        "print('Mean absolute error: {}'.format(metrics.meanAbsoluteError))\n",
        "print('Root mean squared error: {}'.format(metrics.rootMeanSquaredError))\n",
        "print('R_squared value: {}'.format(metrics.r2))"
      ],
      "execution_count": 105,
      "outputs": [
        {
          "output_type": "stream",
          "name": "stdout",
          "text": [
            "Mean absolute error: 8.216029972878905\n",
            "Root mean squared error: 10.323885576109152\n",
            "R_squared value: 0.982235372762184\n"
          ]
        }
      ]
    },
    {
      "cell_type": "code",
      "source": [
        "print(f\"Coefficients: {model.coefficients}\")\n",
        "print(f\"Intercept: {model.intercept}\")\n",
        "\n",
        "# Evaluate the model on the test set\n",
        "test_results = model.evaluate(test_data)\n",
        "print(f\"RMSE: {test_results.rootMeanSquaredError}\")\n",
        "print(f\"R2: {test_results.r2}\")\n"
      ],
      "metadata": {
        "id": "doi70Lne3D5h",
        "outputId": "7cc045c4-0408-42e3-822e-63d1c778942a",
        "colab": {
          "base_uri": "https://localhost:8080/"
        }
      },
      "execution_count": 106,
      "outputs": [
        {
          "output_type": "stream",
          "name": "stdout",
          "text": [
            "Coefficients: [25.95095386504041,38.61502739334339,0.8306968139713228,61.89205549345244]\n",
            "Intercept: -1073.0499173677433\n",
            "RMSE: 10.323885576109152\n",
            "R2: 0.982235372762184\n"
          ]
        }
      ]
    },
    {
      "cell_type": "code",
      "source": [
        "# Filter the DataFrame\n",
        "filtered_df = df_renamed.filter(df_renamed[\"Time_on_App\"] > 13)\n",
        "\n",
        "# Count the records\n",
        "total_records = filtered_df.count()\n",
        "\n",
        "# Output the result\n",
        "print(total_records)\n"
      ],
      "metadata": {
        "id": "23YazJ6W3MGI",
        "outputId": "81e4f5eb-545b-42e8-fc2b-0db516deff94",
        "colab": {
          "base_uri": "https://localhost:8080/"
        }
      },
      "execution_count": 108,
      "outputs": [
        {
          "output_type": "stream",
          "name": "stdout",
          "text": [
            "125\n"
          ]
        }
      ]
    },
    {
      "cell_type": "markdown",
      "metadata": {
        "id": "VcCSeWV3hb0H"
      },
      "source": [
        "To know more about other operations in pyspark click [here](https://cdn.iisc.talentsprint.com/CDS/cheatSheet_pyspark.pdf)."
      ]
    },
    {
      "cell_type": "markdown",
      "metadata": {
        "id": "VHfHdGCP_n6Y"
      },
      "source": [
        "### Please answer the questions below to complete the experiment:\n",
        "\n",
        "\n"
      ]
    },
    {
      "cell_type": "code",
      "metadata": {
        "id": "VgSwVENIPcM6"
      },
      "source": [
        "# @title In the above given spark dataframe (df), what is the total number of records where average time spent on app by user is greater than 13 minutes? { run: \"auto\", form-width: \"500px\", display-mode: \"form\" }\n",
        "Answer = \"92\" #@param [\"\",\"90\",\"91\", \"92\"]"
      ],
      "execution_count": 109,
      "outputs": []
    },
    {
      "cell_type": "code",
      "metadata": {
        "id": "NMzKSbLIgFzQ"
      },
      "source": [
        "#@title How was the experiment? { run: \"auto\", form-width: \"500px\", display-mode: \"form\" }\n",
        "Complexity = \"Good and Challenging for me\" #@param [\"\",\"Too Simple, I am wasting time\", \"Good, But Not Challenging for me\", \"Good and Challenging for me\", \"Was Tough, but I did it\", \"Too Difficult for me\"]\n"
      ],
      "execution_count": 110,
      "outputs": []
    },
    {
      "cell_type": "code",
      "metadata": {
        "id": "DjcH1VWSFI2l"
      },
      "source": [
        "#@title If it was too easy, what more would you have liked to be added? If it was very difficult, what would you have liked to have been removed? { run: \"auto\", display-mode: \"form\" }\n",
        "Additional = \"NA\" #@param {type:\"string\"}\n"
      ],
      "execution_count": 111,
      "outputs": []
    },
    {
      "cell_type": "code",
      "metadata": {
        "id": "4VBk_4VTAxCM"
      },
      "source": [
        "#@title Can you identify the concepts from the lecture which this experiment covered? { run: \"auto\", vertical-output: true, display-mode: \"form\" }\n",
        "Concepts = \"Yes\" #@param [\"\",\"Yes\", \"No\"]\n"
      ],
      "execution_count": 112,
      "outputs": []
    },
    {
      "cell_type": "code",
      "metadata": {
        "id": "XH91cL1JWH7m"
      },
      "source": [
        "#@title  Text and image description/explanation and code comments within the experiment: { run: \"auto\", vertical-output: true, display-mode: \"form\" }\n",
        "Comments = \"Very Useful\" #@param [\"\",\"Very Useful\", \"Somewhat Useful\", \"Not Useful\", \"Didn't use\"]\n"
      ],
      "execution_count": 113,
      "outputs": []
    },
    {
      "cell_type": "code",
      "metadata": {
        "id": "z8xLqj7VWIKW"
      },
      "source": [
        "#@title Mentor Support: { run: \"auto\", vertical-output: true, display-mode: \"form\" }\n",
        "Mentor_support = \"Very Useful\" #@param [\"\",\"Very Useful\", \"Somewhat Useful\", \"Not Useful\", \"Didn't use\"]\n"
      ],
      "execution_count": 114,
      "outputs": []
    },
    {
      "cell_type": "code",
      "metadata": {
        "id": "FzAZHt1zw-Y-",
        "cellView": "form",
        "colab": {
          "base_uri": "https://localhost:8080/"
        },
        "outputId": "4b92ceda-1976-418b-f766-f916d146b3c6"
      },
      "source": [
        "#@title Run this cell to submit your notebook for grading { vertical-output: true }\n",
        "try:\n",
        "  if submission_id:\n",
        "      return_id = submit_notebook()\n",
        "      if return_id : submission_id = return_id\n",
        "  else:\n",
        "      print(\"Please complete the setup first.\")\n",
        "except NameError:\n",
        "  print (\"Please complete the setup first.\")"
      ],
      "execution_count": 115,
      "outputs": [
        {
          "output_type": "stream",
          "name": "stdout",
          "text": [
            "Your submission is successful.\n",
            "Ref Id: 7416\n",
            "Date of submission:  13 Jan 2025\n",
            "Time of submission:  00:25:20\n",
            "View your submissions: https://cds-iisc.talentsprint.com/notebook_submissions\n"
          ]
        }
      ]
    }
  ]
}